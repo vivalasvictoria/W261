{
 "cells": [
  {
   "cell_type": "markdown",
   "metadata": {
    "toc": "true"
   },
   "source": [
    "# Table of Contents\n",
    " <p><div class=\"lev1 toc-item\"><a href=\"#MIDS---w261-Machine-Learning-At-Scale\" data-toc-modified-id=\"MIDS---w261-Machine-Learning-At-Scale-1\"><span class=\"toc-item-num\">1&nbsp;&nbsp;</span>MIDS - w261 Machine Learning At Scale</a></div><div class=\"lev2 toc-item\"><a href=\"#Assignment---HW3\" data-toc-modified-id=\"Assignment---HW3-11\"><span class=\"toc-item-num\">1.1&nbsp;&nbsp;</span>Assignment - HW3</a></div><div class=\"lev2 toc-item\"><a href=\"#INSTRUCTIONS-for-SUBMISSION\" data-toc-modified-id=\"INSTRUCTIONS-for-SUBMISSION-12\"><span class=\"toc-item-num\">1.2&nbsp;&nbsp;</span>INSTRUCTIONS for SUBMISSION</a></div><div class=\"lev2 toc-item\"><a href=\"#CONFIGURATION\" data-toc-modified-id=\"CONFIGURATION-13\"><span class=\"toc-item-num\">1.3&nbsp;&nbsp;</span>CONFIGURATION</a></div><div class=\"lev2 toc-item\"><a href=\"#DATASETS\" data-toc-modified-id=\"DATASETS-14\"><span class=\"toc-item-num\">1.4&nbsp;&nbsp;</span>DATASETS</a></div><div class=\"lev1 toc-item\"><a href=\"#HW-Problems\" data-toc-modified-id=\"HW-Problems-2\"><span class=\"toc-item-num\">2&nbsp;&nbsp;</span>HW Problems</a></div><div class=\"lev2 toc-item\"><a href=\"#HW3.0.\" data-toc-modified-id=\"HW3.0.-21\"><span class=\"toc-item-num\">2.1&nbsp;&nbsp;</span>HW3.0.</a></div><div class=\"lev2 toc-item\"><a href=\"#HW3.1-Consumer-Complaints-EDA---exploring-counters\" data-toc-modified-id=\"HW3.1-Consumer-Complaints-EDA---exploring-counters-22\"><span class=\"toc-item-num\">2.2&nbsp;&nbsp;</span>HW3.1 Consumer Complaints EDA - exploring counters</a></div><div class=\"lev3 toc-item\"><a href=\"#HW-3.2-Analyze-the-performance-of-your-Mappers,-Combiners-and-Reducers-using-Counters\" data-toc-modified-id=\"HW-3.2-Analyze-the-performance-of-your-Mappers,-Combiners-and-Reducers-using-Counters-221\"><span class=\"toc-item-num\">2.2.1&nbsp;&nbsp;</span>HW 3.2 Analyze the performance of your Mappers, Combiners and Reducers using Counters</a></div><div class=\"lev3 toc-item\"><a href=\"#3.2.A-SOLUTION\" data-toc-modified-id=\"3.2.A-SOLUTION-222\"><span class=\"toc-item-num\">2.2.2&nbsp;&nbsp;</span>3.2.A SOLUTION</a></div><div class=\"lev4 toc-item\"><a href=\"#3.2.A-EXPLANATION\" data-toc-modified-id=\"3.2.A-EXPLANATION-2221\"><span class=\"toc-item-num\">2.2.2.1&nbsp;&nbsp;</span>3.2.A EXPLANATION</a></div><div class=\"lev3 toc-item\"><a href=\"#3.2.B-SOLUTION\" data-toc-modified-id=\"3.2.B-SOLUTION-223\"><span class=\"toc-item-num\">2.2.3&nbsp;&nbsp;</span>3.2.B SOLUTION</a></div><div class=\"lev3 toc-item\"><a href=\"#3.2.C-SOLUTION\" data-toc-modified-id=\"3.2.C-SOLUTION-224\"><span class=\"toc-item-num\">2.2.4&nbsp;&nbsp;</span>3.2.C SOLUTION</a></div><div class=\"lev3 toc-item\"><a href=\"#3.2.1\" data-toc-modified-id=\"3.2.1-225\"><span class=\"toc-item-num\">2.2.5&nbsp;&nbsp;</span>3.2.1</a></div><div class=\"lev4 toc-item\"><a href=\"#START-STUDENT-CODE-HW321-(INSERT-CELLS-BELOW-AS-NEEDED)\" data-toc-modified-id=\"START-STUDENT-CODE-HW321-(INSERT-CELLS-BELOW-AS-NEEDED)-2251\"><span class=\"toc-item-num\">2.2.5.1&nbsp;&nbsp;</span>START STUDENT CODE HW321 (INSERT CELLS BELOW AS NEEDED)</a></div><div class=\"lev4 toc-item\"><a href=\"#END-STUDENT-CODE-HW321\" data-toc-modified-id=\"END-STUDENT-CODE-HW321-2252\"><span class=\"toc-item-num\">2.2.5.2&nbsp;&nbsp;</span>END STUDENT CODE HW321</a></div><div class=\"lev2 toc-item\"><a href=\"#HW3.3.-Shopping-Cart-Analysis\" data-toc-modified-id=\"HW3.3.-Shopping-Cart-Analysis-23\"><span class=\"toc-item-num\">2.3&nbsp;&nbsp;</span>HW3.3. Shopping Cart Analysis</a></div><div class=\"lev4 toc-item\"><a href=\"#START-STUDENT-CODE-HW33-(INSERT-CELLS-BELOW-AS-NEEDED)\" data-toc-modified-id=\"START-STUDENT-CODE-HW33-(INSERT-CELLS-BELOW-AS-NEEDED)-2301\"><span class=\"toc-item-num\">2.3.0.1&nbsp;&nbsp;</span>START STUDENT CODE HW33 (INSERT CELLS BELOW AS NEEDED)</a></div><div class=\"lev4 toc-item\"><a href=\"#END-STUDENT-CODE-HW33\" data-toc-modified-id=\"END-STUDENT-CODE-HW33-2302\"><span class=\"toc-item-num\">2.3.0.2&nbsp;&nbsp;</span>END STUDENT CODE HW33</a></div><div class=\"lev2 toc-item\"><a href=\"#HW3.3.1-OPTIONAL\" data-toc-modified-id=\"HW3.3.1-OPTIONAL-24\"><span class=\"toc-item-num\">2.4&nbsp;&nbsp;</span>HW3.3.1 OPTIONAL</a></div><div class=\"lev4 toc-item\"><a href=\"#START-STUDENT-CODE-HW331-(INSERT-CELLS-BELOW-AS-NEEDED)\" data-toc-modified-id=\"START-STUDENT-CODE-HW331-(INSERT-CELLS-BELOW-AS-NEEDED)-2401\"><span class=\"toc-item-num\">2.4.0.1&nbsp;&nbsp;</span>START STUDENT CODE HW331 (INSERT CELLS BELOW AS NEEDED)</a></div><div class=\"lev4 toc-item\"><a href=\"#END-STUDENT-CODE-HW331\" data-toc-modified-id=\"END-STUDENT-CODE-HW331-2402\"><span class=\"toc-item-num\">2.4.0.2&nbsp;&nbsp;</span>END STUDENT CODE HW331</a></div><div class=\"lev2 toc-item\"><a href=\"#HW3.4.-(Computationally-prohibitive-but-then-again-Hadoop-can-handle-this)-Pairs\" data-toc-modified-id=\"HW3.4.-(Computationally-prohibitive-but-then-again-Hadoop-can-handle-this)-Pairs-25\"><span class=\"toc-item-num\">2.5&nbsp;&nbsp;</span>HW3.4. (Computationally prohibitive but then again Hadoop can handle this) Pairs</a></div><div class=\"lev4 toc-item\"><a href=\"#START-STUDENT-CODE-HW34-(INSERT-CELLS-BELOW-AS-NEEDED)\" data-toc-modified-id=\"START-STUDENT-CODE-HW34-(INSERT-CELLS-BELOW-AS-NEEDED)-2501\"><span class=\"toc-item-num\">2.5.0.1&nbsp;&nbsp;</span>START STUDENT CODE HW34 (INSERT CELLS BELOW AS NEEDED)</a></div><div class=\"lev4 toc-item\"><a href=\"#END-STUDENT-CODE-HW34\" data-toc-modified-id=\"END-STUDENT-CODE-HW34-2502\"><span class=\"toc-item-num\">2.5.0.2&nbsp;&nbsp;</span>END STUDENT CODE HW34</a></div><div class=\"lev2 toc-item\"><a href=\"#HW3.5:-Stripes\" data-toc-modified-id=\"HW3.5:-Stripes-26\"><span class=\"toc-item-num\">2.6&nbsp;&nbsp;</span>HW3.5: Stripes</a></div><div class=\"lev4 toc-item\"><a href=\"#START-STUDENT-CODE-HW35-(INSERT-CELLS-BELOW-AS-NEEDED)\" data-toc-modified-id=\"START-STUDENT-CODE-HW35-(INSERT-CELLS-BELOW-AS-NEEDED)-2601\"><span class=\"toc-item-num\">2.6.0.1&nbsp;&nbsp;</span>START STUDENT CODE HW35 (INSERT CELLS BELOW AS NEEDED)</a></div><div class=\"lev4 toc-item\"><a href=\"#END-STUDENT-CODE-HW35\" data-toc-modified-id=\"END-STUDENT-CODE-HW35-2602\"><span class=\"toc-item-num\">2.6.0.2&nbsp;&nbsp;</span>END STUDENT CODE HW35</a></div><div class=\"lev1 toc-item\"><a href=\"#OPTIONAL\" data-toc-modified-id=\"OPTIONAL-3\"><span class=\"toc-item-num\">3&nbsp;&nbsp;</span>OPTIONAL</a></div><div class=\"lev2 toc-item\"><a href=\"#HW3.6-Computing-Relative-Frequencies-on-100K-WikiPedia-pages-(93Meg)\" data-toc-modified-id=\"HW3.6-Computing-Relative-Frequencies-on-100K-WikiPedia-pages-(93Meg)-31\"><span class=\"toc-item-num\">3.1&nbsp;&nbsp;</span>HW3.6 Computing Relative Frequencies on 100K WikiPedia pages (93Meg)</a></div><div class=\"lev2 toc-item\"><a href=\"#HW3.7-Apriori-Algorithm\" data-toc-modified-id=\"HW3.7-Apriori-Algorithm-32\"><span class=\"toc-item-num\">3.2&nbsp;&nbsp;</span>HW3.7 Apriori Algorithm</a></div><div class=\"lev2 toc-item\"><a href=\"#HW3.8.-Shopping-Cart-Analysis\" data-toc-modified-id=\"HW3.8.-Shopping-Cart-Analysis-33\"><span class=\"toc-item-num\">3.3&nbsp;&nbsp;</span>HW3.8. Shopping Cart Analysis</a></div><div class=\"lev2 toc-item\"><a href=\"#HW3.8.1\" data-toc-modified-id=\"HW3.8.1-34\"><span class=\"toc-item-num\">3.4&nbsp;&nbsp;</span>HW3.8.1</a></div><div class=\"lev1 toc-item\"><a href=\"#END-OF-HOMEWORK\" data-toc-modified-id=\"END-OF-HOMEWORK-4\"><span class=\"toc-item-num\">4&nbsp;&nbsp;</span>END OF HOMEWORK</a></div>"
   ]
  },
  {
   "cell_type": "markdown",
   "metadata": {},
   "source": [
    "# MIDS - w261 Machine Learning At Scale\n",
    "__Course Lead:__ Dr James G. Shanahan (__email__ Jimi via  James.Shanahan _AT_ gmail.com)\n",
    "\n",
    "## Assignment - HW3\n",
    "\n",
    "\n",
    "---\n",
    "__Name:__  Victoria Baker   \n",
    "__Class:__ MIDS w261 (Section 2)     \n",
    "__Email:__  victoria.baker@iSchool.Berkeley.edu     \n",
    "__StudentId__  3032501083    __End of StudentId__     \n",
    "\n",
    "__NOTE:__ please replace `1234567` with your student id above      \n",
    "\n",
    "## INSTRUCTIONS for SUBMISSION\n",
    "\n",
    "This homework can be completed locally on your computer. __Please submit your notebook to your classroom github repository 24 hours prior to the next live session.__ "
   ]
  },
  {
   "cell_type": "markdown",
   "metadata": {},
   "source": [
    "## CONFIGURATION\n",
    "Before starting your homework, run the following cells to confirm your setup."
   ]
  },
  {
   "cell_type": "code",
   "execution_count": 1,
   "metadata": {
    "collapsed": true
   },
   "outputs": [],
   "source": [
    "# general imports\n",
    "import os\n",
    "import re\n",
    "import sys\n",
    "import time\n",
    "import random\n",
    "import numpy as np\n",
    "import pandas as pd\n",
    "import matplotlib.pyplot as plt\n",
    "\n",
    "# tell matplotlib not to open a new window\n",
    "%matplotlib inline\n",
    "\n",
    "# automatically reload modules \n",
    "%reload_ext autoreload\n",
    "%autoreload 2"
   ]
  },
  {
   "cell_type": "code",
   "execution_count": 2,
   "metadata": {
    "collapsed": false
   },
   "outputs": [
    {
     "name": "stdout",
     "output_type": "stream",
     "text": [
      "Python Version: 2.7.13 \n",
      "HDFS filesystem running at: \n",
      "\t hdfs://quickstart.cloudera:8020\n"
     ]
    }
   ],
   "source": [
    "# print some configuration details for future replicability.\n",
    "print 'Python Version: %s' % (sys.version.split('|')[0])\n",
    "hdfs_conf = !hdfs getconf -confKey fs.defaultFS ### UNCOMMENT ON DOCKER\n",
    "#hdfs_conf = !hdfs getconf -confKey fs.default.name ### UNCOMMENT ON ALTISCALE\n",
    "print 'HDFS filesystem running at: \\n\\t %s' % (hdfs_conf[0])"
   ]
  },
  {
   "cell_type": "code",
   "execution_count": 3,
   "metadata": {
    "collapsed": false
   },
   "outputs": [
    {
     "data": {
      "text/plain": [
       "'/media/notebooks'"
      ]
     },
     "execution_count": 3,
     "metadata": {},
     "output_type": "execute_result"
    }
   ],
   "source": [
    "# create an HDFS directory for this assignment\n",
    "!hdfs dfs -mkdir hw3\n",
    "os.getcwd() "
   ]
  },
  {
   "cell_type": "markdown",
   "metadata": {},
   "source": [
    "__[OPTIONAL]:__ Save yourself some typing by defining global variables for paths we'll reuse frequently (like the hadoop-streaming jar file and the HDFS directory for your output)."
   ]
  },
  {
   "cell_type": "code",
   "execution_count": 4,
   "metadata": {
    "collapsed": true
   },
   "outputs": [],
   "source": [
    "JAR_FILE = \"/usr/lib/hadoop-0.20-mapreduce/contrib/streaming/hadoop-streaming-2.6.0-mr1-cdh5.7.0.jar\" # eg. /usr/lib/hadoop-mapreduce/hadoop-streaming.jar\n",
    "HDFS_DIR = \"/user/root/hw3\" # eg. /user/root/hw3 \n",
    "HOME_DIR = os.getcwd() "
   ]
  },
  {
   "cell_type": "markdown",
   "metadata": {},
   "source": [
    "__[OPTIONAL]:__ Fix chrome formatting. _The cell below implements a quick hack based on [this stackoverflow thread](http://stackoverflow.com/questions/34277967/chrome-rendering-mathjax-equations-with-a-trailing-vertical-line) to fix [this known issue](https://github.com/mathjax/MathJax/issues/1300) with Mathjax formatting in Chrome (a rounding issue adds a border to the right of mathjax markup)._"
   ]
  },
  {
   "cell_type": "code",
   "execution_count": 3,
   "metadata": {
    "collapsed": false
   },
   "outputs": [
    {
     "data": {
      "application/javascript": [
       "$('.math>span').css(\"border-left-color\",\"transparent\")"
      ],
      "text/plain": [
       "<IPython.core.display.Javascript object>"
      ]
     },
     "metadata": {},
     "output_type": "display_data"
    }
   ],
   "source": [
    "%%javascript\n",
    "$('.math>span').css(\"border-left-color\",\"transparent\")"
   ]
  },
  {
   "cell_type": "markdown",
   "metadata": {},
   "source": [
    "## DATASETS\n",
    "For this homework we be using a few different datasets. These include:\n",
    "* __The Consumer Complaints Dataset [available here](https://www.dropbox.com/s/vbalm3yva2rr86m/Consumer_Complaints.csv?dl=0) -__ _consists of diverse consumer complaints which have been reported across the United States regarding various types of loans. We'll use this in HW 3.1 to learn about Hadoop Counters and then in HW 3.2 where we count words and compute relative frequencies._\n",
    "\n",
    "* __The Product Purchase Dataset [available here](https://www.dropbox.com/s/zlfyiwa70poqg74/ProductPurchaseData.txt?dl=0) -__ _consists of data about products sold online and customer browsing behavior. We'll use this data in 3.3 to perform a shopping cart analysis._\n",
    "\n",
    "Follow the directions below to load/create each of these datasets. You may want to familiarize yourself with their contents before proceeding to the homework questions."
   ]
  },
  {
   "cell_type": "markdown",
   "metadata": {},
   "source": [
    "__`Consumer_Complaints.csv`__  \n",
    "The dataset consists of records of the form:  \n",
    ">Complaint ID,Product,Sub-product,Issue,Sub-issue,State,ZIP code,Submitted via,Date received,Date sent to company,Company,Company response,Timely response?,Consumer disputed?\n",
    "\n",
    "Download the csv file to your current directory using the dropbox link provided above. You can do this manually or with `curl` or `wget` as we did in HW2. Then use the following cell to put the data into HDFS."
   ]
  },
  {
   "cell_type": "code",
   "execution_count": 3,
   "metadata": {
    "collapsed": false
   },
   "outputs": [
    {
     "name": "stdout",
     "output_type": "stream",
     "text": [
      "--2017-09-22 01:43:07--  https://www.dropbox.com/s/vbalm3yva2rr86m/Consumer_Complaints.csv\n",
      "Resolving www.dropbox.com... 162.125.3.1, 2620:100:6018:1::a27d:301\n",
      "Connecting to www.dropbox.com|162.125.3.1|:443... connected.\n",
      "HTTP request sent, awaiting response... 302 Found\n",
      "Location: https://dl.dropboxusercontent.com/content_link/5DD752XVvhGNN4U0SL0sedrwJ2qxL2CHdalLfqBpxYtgP1eYUfniAhfyyWmrUNmr/file [following]\n",
      "--2017-09-22 01:43:08--  https://dl.dropboxusercontent.com/content_link/5DD752XVvhGNN4U0SL0sedrwJ2qxL2CHdalLfqBpxYtgP1eYUfniAhfyyWmrUNmr/file\n",
      "Resolving dl.dropboxusercontent.com... 162.125.3.6, 2620:100:6018:6::a27d:306\n",
      "Connecting to dl.dropboxusercontent.com|162.125.3.6|:443... connected.\n",
      "HTTP request sent, awaiting response... 200 OK\n",
      "Length: 50906486 (49M) [text/csv]\n",
      "Saving to: `Consumer_Complaints.csv'\n",
      "\n",
      "100%[======================================>] 50,906,486  10.9M/s   in 4.7s    \n",
      "\n",
      "2017-09-22 01:43:14 (10.3 MB/s) - `Consumer_Complaints.csv' saved [50906486/50906486]\n",
      "\n",
      "Complaint ID,Product,Sub-product,Issue,Sub-issue,State,ZIP code,Submitted via,Date received,Date sent to company,Company,Company response,Timely response?,Consumer disputed?\n",
      "1114245,Debt collection,Medical,Disclosure verification of debt,Not given enough info to verify debt,FL,32219,Web,11/13/2014,11/13/2014,\"Choice Recovery, Inc.\",Closed with explanation,Yes,\n"
     ]
    }
   ],
   "source": [
    "# take a look at the first two lines\n",
    "#!curl 'https://www.dropbox.com/s/vbalm3yva2rr86m/Consumer_Complaints.csv' -o Consumer_Complaints.csv\n",
    "!wget https://www.dropbox.com/s/vbalm3yva2rr86m/Consumer_Complaints.csv\n",
    "!head -n 2 Consumer_Complaints.csv"
   ]
  },
  {
   "cell_type": "code",
   "execution_count": 4,
   "metadata": {
    "collapsed": true
   },
   "outputs": [],
   "source": [
    "# Put the data into HDFS - adjust path or filename as needed\n",
    "!hdfs dfs -put Consumer_Complaints.csv Consumer_Complaints.csv"
   ]
  },
  {
   "cell_type": "markdown",
   "metadata": {},
   "source": [
    "__`ProductPurchaseData.txt`__  \n",
    "Notes about the data format:\n",
    "> Each line in this dataset represents a browsing session of a customer. On each line, each string of 8 characters represents the id of an item browsed during that session. For example:  \n",
    "`FRO11987 ELE17451 ELE89019 SNA90258 GRO99222`  \n",
    "> would represent a single customer's browsing session in which they viewed 5 products.  \n",
    "\n",
    "Download the csv file to your current directory using the dropbox link provided above. You can do this manually or with `curl` or `wget` as we did in HW2. Take a look at the first few lines of the file, then use the following cell to put the data into HDFS."
   ]
  },
  {
   "cell_type": "code",
   "execution_count": 5,
   "metadata": {
    "collapsed": false
   },
   "outputs": [
    {
     "name": "stdout",
     "output_type": "stream",
     "text": [
      "--2017-09-22 01:43:51--  https://www.dropbox.com/s/zlfyiwa70poqg74/ProductPurchaseData.txt\n",
      "Resolving www.dropbox.com... 162.125.3.1, 2620:100:6018:1::a27d:301\n",
      "Connecting to www.dropbox.com|162.125.3.1|:443... connected.\n",
      "HTTP request sent, awaiting response... 302 Found\n",
      "Location: https://dl.dropboxusercontent.com/content_link/RUhJ9Ns7HgUZsug9uBas0i5V21Dtm14PnRnUbdr6WoGfg9TV9mRBZ2tE20VPhVGi/file [following]\n",
      "--2017-09-22 01:43:51--  https://dl.dropboxusercontent.com/content_link/RUhJ9Ns7HgUZsug9uBas0i5V21Dtm14PnRnUbdr6WoGfg9TV9mRBZ2tE20VPhVGi/file\n",
      "Resolving dl.dropboxusercontent.com... 162.125.3.6, 2620:100:6018:6:ffff:ffff:a27d:306\n",
      "Connecting to dl.dropboxusercontent.com|162.125.3.6|:443... connected.\n",
      "HTTP request sent, awaiting response... 200 OK\n",
      "Length: 3458517 (3.3M) [text/plain]\n",
      "Saving to: `ProductPurchaseData.txt'\n",
      "\n",
      "100%[======================================>] 3,458,517   4.83M/s   in 0.7s    \n",
      "\n",
      "2017-09-22 01:43:52 (4.83 MB/s) - `ProductPurchaseData.txt' saved [3458517/3458517]\n",
      "\n",
      "FRO11987 ELE17451 ELE89019 SNA90258 GRO99222 \n",
      "GRO99222 GRO12298 FRO12685 ELE91550 SNA11465 ELE26917 ELE52966 FRO90334 SNA30755 ELE17451 FRO84225 SNA80192 \n",
      "ELE17451 GRO73461 DAI22896 SNA99873 FRO86643 \n",
      "ELE17451 ELE37798 FRO86643 GRO56989 ELE23393 SNA11465 \n",
      "ELE17451 SNA69641 FRO86643 FRO78087 SNA11465 GRO39357 ELE28573 ELE11375 DAI54444 \n"
     ]
    }
   ],
   "source": [
    "# Take a peak at the data\n",
    "!wget https://www.dropbox.com/s/zlfyiwa70poqg74/ProductPurchaseData.txt\n",
    "!head -n 5 ProductPurchaseData.txt"
   ]
  },
  {
   "cell_type": "code",
   "execution_count": 6,
   "metadata": {
    "collapsed": true
   },
   "outputs": [],
   "source": [
    "# Put the data into HDFS - adjust path or filename if needed\n",
    "!hdfs dfs -put ProductPurchaseData.txt ProductPurchaseData.txt"
   ]
  },
  {
   "cell_type": "markdown",
   "metadata": {},
   "source": [
    "---\n",
    "# HW Problems\n",
    "\n",
    "## HW3.0.\n",
    "1. How do you merge  two sorted  lists/arrays of records of the form [key, value]?\n",
    "1. Where is this  used in Hadoop MapReduce? [Hint within the shuffle]\n",
    "1. What is  a combiner function in the context of Hadoop? \n",
    "1. Give an example where it can be used and justify why it should be used in the context of this problem.\n",
    "1. What is the Hadoop shuffle?"
   ]
  },
  {
   "cell_type": "code",
   "execution_count": null,
   "metadata": {
    "collapsed": true
   },
   "outputs": [],
   "source": [
    "# START STUDENT RESPONSE HW3.0"
   ]
  },
  {
   "cell_type": "markdown",
   "metadata": {},
   "source": [
    "#### How do you merge two sorted lists/arrays of records of the form [key, value]?\n",
    "\n",
    "You can merge two sorted lists/arrays of records by passing the list(s) sorted by key to the reducer, and then use the reducer (or a combiner) to combine duplicate records from multiple arrays that will produce the final result."
   ]
  },
  {
   "cell_type": "markdown",
   "metadata": {
    "collapsed": true
   },
   "source": [
    "#### Where is this used in Hadoop MapReduce? \n",
    "\n",
    "MapReduce guarantees that the input to every reducer is sorted by key. The shuffle is the system that performs the sort and transfers sorted map outputs to the reducers. "
   ]
  },
  {
   "cell_type": "markdown",
   "metadata": {
    "collapsed": true
   },
   "source": [
    "#### What is a combiner function in the context of Hadoop? \n",
    "\n",
    "A combiner function is essentially an optional reducing step that does not reduce all inputs coming from the mapper. It combines a subset of the key/value mapper output before going on to the reducing step. It cannot be assumed that the combiner will run since MapReduce may skip it entirely if the data doesn't need to be spilled to disk. So, the combiner can be used for optimization between mapping and reducing steps. "
   ]
  },
  {
   "cell_type": "markdown",
   "metadata": {
    "collapsed": true
   },
   "source": [
    "#### Give an example where it can be used and justify why it should be used in the context of this problem.\n",
    "\n",
    "A combiner is useful when you have a very simple mapper that is outputting a lot of data that could be optimized by aggregating some of the output before it goes to the reducer. In this assignment, I believe the Pairs problem is an excellent candidate to benefit from using a combiner. The mapper is simple; it just outputs a pair of values and 1. However, since it's greatly increasing the data by creating all these tuples from a single line of data, the amount of data going into the reducer could be greatly reduced if we went ahead and added some of it up before it gets there. Since we can cut down the amount of data going into the reducer and the output of the combiner will match the input, it's a perfect match for a combiner.\n",
    " "
   ]
  },
  {
   "cell_type": "markdown",
   "metadata": {
    "collapsed": true
   },
   "source": [
    "#### What is the Hadoop shuffle?\n",
    "The shuffle phase in Hadoop is where data from the mapper is prepared and moved to the reducer tasks. After data goes through the mapper, the results are sorted by key, partitioned (if applicable), and then written to memory. "
   ]
  },
  {
   "cell_type": "code",
   "execution_count": null,
   "metadata": {
    "collapsed": true
   },
   "outputs": [],
   "source": [
    "# END STUDENT RESPONSE HW3.0"
   ]
  },
  {
   "cell_type": "markdown",
   "metadata": {},
   "source": [
    "\n",
    "## HW3.1 Consumer Complaints EDA - exploring counters\n",
    "Notes about Counters:\n",
    ">Counters are lightweight objects in Hadoop that allow you to keep track of system progress in both the map and reduce stages of processing. By default, Hadoop defines a number of standard counters in \"groups\"; these show up in the jobtracker webapp, giving you information such as \"Map input records\", \"Map output records\", etc. \n",
    "\n",
    ">While processing information/data using MapReduce job, it is a challenge to monitor the progress of parallel threads running across nodes of distributed clusters. Moreover, it is also complicated to distinguish between the data that has been processed and the data which is yet to be processed. The MapReduce Framework also offers a provision of user-defined Counters, which can be effectively utilized to monitor the progress of data across nodes of distributed clusters.\n",
    "\n",
    "In this homework problem, we'll use Hadoop Counters to identify the number of complaints pertaining to debt collection, mortgage and other categories (all other categories get lumped into this one) in the consumer complaints dataset (__`Consumer_Complaints.csv`__). Basically, your goal is to produce the distribution of the Product column in this dataset using counters (limited to 3 counters here).\n",
    "\n",
    "Hadoop offers Job Tracker, an UI tool to determine the status and statistics of all jobs. Using the job tracker UI, developers can view the Counters that have been created. Screenshot your job tracker UI as your job completes and include it here. Make sure that your user defined counters are visible."
   ]
  },
  {
   "cell_type": "code",
   "execution_count": 7,
   "metadata": {
    "collapsed": false
   },
   "outputs": [
    {
     "name": "stdout",
     "output_type": "stream",
     "text": [
      "-rw-r--r--   1 root supergroup   50906486 2017-09-22 01:43 Consumer_Complaints.csv\r\n"
     ]
    }
   ],
   "source": [
    "# Confirm the data location in HDFS - adjust path as needed\n",
    "!hdfs dfs -ls |grep Consumer*"
   ]
  },
  {
   "cell_type": "code",
   "execution_count": 8,
   "metadata": {
    "collapsed": false
   },
   "outputs": [
    {
     "name": "stdout",
     "output_type": "stream",
     "text": [
      "Writing complaintCountsMapper.py\n"
     ]
    }
   ],
   "source": [
    "%%writefile complaintCountsMapper.py\n",
    "#!/usr/bin/env python\n",
    "import sys\n",
    "\n",
    "# START STUDENT CODE HW31MAPPER\n",
    "for line in sys.stdin:\n",
    "    words = line.split(\",\")\n",
    "    if(words[1] == \"Debt collection\" or words[1] == \"Mortgage\"):\n",
    "        string = \"reporter:counter:Products,\"+str(words[1])+\",1\\n\"\n",
    "    else:\n",
    "        string = \"reporter:counter:Products,Other,1\\n\"\n",
    "    sys.stderr.write(string)\n",
    "    \n",
    "#sys.stderr.write(\"reporter:counter:Mapper Counters,Complaints,1\\n\")\n",
    "#sys.stderr.write(\"reporter:counter:Mapper Counters,Complaints,1\\n\")\n",
    "\n",
    "# END STUDENT CODE HW31MAPPER"
   ]
  },
  {
   "cell_type": "code",
   "execution_count": 9,
   "metadata": {
    "collapsed": false
   },
   "outputs": [
    {
     "name": "stdout",
     "output_type": "stream",
     "text": [
      "Writing complaintCountsReducer.py\n"
     ]
    }
   ],
   "source": [
    "%%writefile complaintCountsReducer.py\n",
    "#!/usr/bin/env python\n",
    "# START STUDENT CODE HW31REDUCER\n",
    "import sys\n",
    "for line in sys.stdin:\n",
    "    print line\n",
    "# END STUDENT CODE HW31REDUCER"
   ]
  },
  {
   "cell_type": "code",
   "execution_count": 11,
   "metadata": {
    "collapsed": false
   },
   "outputs": [
    {
     "name": "stdout",
     "output_type": "stream",
     "text": [
      "Deleted Consumer_Complaints.csv\n",
      "rm: `31results-output': No such file or directory\n",
      "packageJobJar: [] [/usr/jars/hadoop-streaming-2.6.0-cdh5.7.0.jar] /tmp/streamjob5954397224695481558.jar tmpDir=null\n",
      "17/09/22 01:49:46 INFO client.RMProxy: Connecting to ResourceManager at /0.0.0.0:8032\n",
      "17/09/22 01:49:46 INFO client.RMProxy: Connecting to ResourceManager at /0.0.0.0:8032\n",
      "17/09/22 01:49:47 INFO mapred.FileInputFormat: Total input paths to process : 1\n",
      "17/09/22 01:49:47 INFO mapreduce.JobSubmitter: number of splits:2\n",
      "17/09/22 01:49:47 INFO mapreduce.JobSubmitter: Submitting tokens for job: job_1506044050794_0002\n",
      "17/09/22 01:49:47 INFO impl.YarnClientImpl: Submitted application application_1506044050794_0002\n",
      "17/09/22 01:49:47 INFO mapreduce.Job: The url to track the job: http://quickstart.cloudera:8088/proxy/application_1506044050794_0002/\n",
      "17/09/22 01:49:47 INFO mapreduce.Job: Running job: job_1506044050794_0002\n",
      "17/09/22 01:49:54 INFO mapreduce.Job: Job job_1506044050794_0002 running in uber mode : false\n",
      "17/09/22 01:49:54 INFO mapreduce.Job:  map 0% reduce 0%\n",
      "17/09/22 01:50:02 INFO mapreduce.Job:  map 50% reduce 0%\n",
      "17/09/22 01:50:03 INFO mapreduce.Job:  map 100% reduce 0%\n",
      "17/09/22 01:50:09 INFO mapreduce.Job:  map 100% reduce 33%\n",
      "17/09/22 01:50:11 INFO mapreduce.Job:  map 100% reduce 67%\n",
      "17/09/22 01:50:12 INFO mapreduce.Job:  map 100% reduce 100%\n",
      "17/09/22 01:50:12 INFO mapreduce.Job: Job job_1506044050794_0002 completed successfully\n",
      "17/09/22 01:50:12 INFO mapreduce.Job: Counters: 52\n",
      "\tFile System Counters\n",
      "\t\tFILE: Number of bytes read=18\n",
      "\t\tFILE: Number of bytes written=585825\n",
      "\t\tFILE: Number of read operations=0\n",
      "\t\tFILE: Number of large read operations=0\n",
      "\t\tFILE: Number of write operations=0\n",
      "\t\tHDFS: Number of bytes read=50910816\n",
      "\t\tHDFS: Number of bytes written=0\n",
      "\t\tHDFS: Number of read operations=15\n",
      "\t\tHDFS: Number of large read operations=0\n",
      "\t\tHDFS: Number of write operations=6\n",
      "\tJob Counters \n",
      "\t\tLaunched map tasks=2\n",
      "\t\tLaunched reduce tasks=3\n",
      "\t\tData-local map tasks=2\n",
      "\t\tTotal time spent by all maps in occupied slots (ms)=11538\n",
      "\t\tTotal time spent by all reduces in occupied slots (ms)=15896\n",
      "\t\tTotal time spent by all map tasks (ms)=11538\n",
      "\t\tTotal time spent by all reduce tasks (ms)=15896\n",
      "\t\tTotal vcore-seconds taken by all map tasks=11538\n",
      "\t\tTotal vcore-seconds taken by all reduce tasks=15896\n",
      "\t\tTotal megabyte-seconds taken by all map tasks=11814912\n",
      "\t\tTotal megabyte-seconds taken by all reduce tasks=16277504\n",
      "\tMap-Reduce Framework\n",
      "\t\tMap input records=312913\n",
      "\t\tMap output records=0\n",
      "\t\tMap output bytes=0\n",
      "\t\tMap output materialized bytes=36\n",
      "\t\tInput split bytes=234\n",
      "\t\tCombine input records=0\n",
      "\t\tCombine output records=0\n",
      "\t\tReduce input groups=0\n",
      "\t\tReduce shuffle bytes=36\n",
      "\t\tReduce input records=0\n",
      "\t\tReduce output records=0\n",
      "\t\tSpilled Records=0\n",
      "\t\tShuffled Maps =6\n",
      "\t\tFailed Shuffles=0\n",
      "\t\tMerged Map outputs=6\n",
      "\t\tGC time elapsed (ms)=229\n",
      "\t\tCPU time spent (ms)=4460\n",
      "\t\tPhysical memory (bytes) snapshot=1172602880\n",
      "\t\tVirtual memory (bytes) snapshot=6836391936\n",
      "\t\tTotal committed heap usage (bytes)=1055391744\n",
      "\tProducts\n",
      "\t\tDebt collection=44372\n",
      "\t\tMortgage=125752\n",
      "\t\tOther=142789\n",
      "\tShuffle Errors\n",
      "\t\tBAD_ID=0\n",
      "\t\tCONNECTION=0\n",
      "\t\tIO_ERROR=0\n",
      "\t\tWRONG_LENGTH=0\n",
      "\t\tWRONG_MAP=0\n",
      "\t\tWRONG_REDUCE=0\n",
      "\tFile Input Format Counters \n",
      "\t\tBytes Read=50910582\n",
      "\tFile Output Format Counters \n",
      "\t\tBytes Written=0\n",
      "17/09/22 01:50:12 INFO streaming.StreamJob: Output directory: 31results-output\n"
     ]
    }
   ],
   "source": [
    "# Hadoop command\n",
    "# START STUDENT CODE HW31HADOOP\n",
    "!hdfs dfs -rm  Consumer_Complaints.csv \n",
    "!hdfs dfs -copyFromLocal Consumer_Complaints.csv\n",
    "!hdfs dfs -rm -r 31results-output\n",
    "\n",
    "##################### IMPORTANT ########################################################################\n",
    "# Make sure you have the correct paths to the jar file as wel as the input and output files!!\n",
    "# make sure to include the -files option. Do ***** NOT ****** put spaces between the file paths!\n",
    "########################################################################################################\n",
    "\n",
    "!hadoop jar /usr/lib/hadoop-0.20-mapreduce/contrib/streaming/hadoop-streaming-2.6.0-mr1-cdh5.7.0.jar \\\n",
    "  -files complaintCountsMapper.py,complaintCountsReducer.py \\\n",
    "  -mapper complaintCountsMapper.py \\\n",
    "  -reducer complaintCountsReducer.py \\\n",
    "  -input Consumer_Complaints.csv \\\n",
    "  -output 31results-output  \\\n",
    "  -numReduceTasks 3\n",
    "# END STUDENT CODE HW31HADOOP"
   ]
  },
  {
   "cell_type": "code",
   "execution_count": 17,
   "metadata": {
    "collapsed": false
   },
   "outputs": [],
   "source": [
    "# take a look at your results\n",
    "!hdfs dfs -cat 31results-output/part-0000* > 31results-output.txt\n",
    "!head 31results-output.txt"
   ]
  },
  {
   "cell_type": "markdown",
   "metadata": {},
   "source": [
    "<a name=\"3.2\"></a>\n",
    "### HW 3.2 Analyze the performance of your Mappers, Combiners and Reducers using Counters\n",
    "\n",
    "For this brief study the Input file will be one record (the next line only):    \n",
    "`foo foo quux labs foo bar quux`\n",
    "\n",
    "\n",
    "__3.2.A__     \n",
    "Perform a word count analysis of this single record dataset using a Mapper and Reducer based WordCount (i.e., no combiners are used here) using user defined Counters to count up how many times the mapper and reducer are called. What is the value of your user defined Mapper Counter, and Reducer Counter after completing this word count job. The answer  should be 2 and 1 respectively. Please explain.\n",
    "\n",
    "__3.2.B__   \n",
    "Please use mulitple mappers and reducers for these jobs (at least 2 mappers and 2 reducers).\n",
    "Perform a word count analysis of the Issue column of the Consumer Complaints  Dataset using a Mapper and Reducer based WordCount (i.e., no combiners used anywhere)  using user defined Counters to count up how many time the mapper and reducer are called. What is the value of your user defined Mapper Counter, and Reducer Counter after completing your word count job. \n",
    "\n",
    "__3.2.C__     \n",
    "Perform a word count analysis of the Issue column of the Consumer Complaints  Dataset using a Mapper, Reducer, and standalone combiner (i.e., not an in-memory combiner) based WordCount using user defined Counters to count up how many time the mapper, combiner, reducer are called. What is the value of your user defined Mapper Counter, and Reducer Counter after completing your word count job. \n",
    "\n",
    "Using a single reducer: \n",
    "- What are the top 50 most frequent terms in your word count analysis?    \n",
    "- Present the top 50 terms and their frequency and their relative frequency. If there are ties please sort the tokens in alphanumeric/string order.    \n",
    "- Present bottom 10 tokens (least frequent items). \n",
    "\n",
    "__NOTE:__ You can use: `WORD_RE = re.compile(r\"[\\w']+\")` to tokenize."
   ]
  },
  {
   "cell_type": "markdown",
   "metadata": {},
   "source": [
    "### 3.2.A SOLUTION"
   ]
  },
  {
   "cell_type": "code",
   "execution_count": 223,
   "metadata": {
    "collapsed": false
   },
   "outputs": [
    {
     "name": "stdout",
     "output_type": "stream",
     "text": [
      "Overwriting file32.txt\n"
     ]
    }
   ],
   "source": [
    "%%writefile file32.txt\n",
    "foo foo quux labs foo bar quux"
   ]
  },
  {
   "cell_type": "code",
   "execution_count": 224,
   "metadata": {
    "collapsed": false
   },
   "outputs": [
    {
     "name": "stdout",
     "output_type": "stream",
     "text": [
      "Overwriting mapper3.2.A.py\n"
     ]
    }
   ],
   "source": [
    "%%writefile mapper3.2.A.py\n",
    "#!/usr/bin/env python\n",
    "# START STUDENT CODE HW32AMAPPER\n",
    "import sys\n",
    "sys.stderr.write(\"reporter:counter:HW3.2.A Mapper Counters,Calls,1\\n\")\n",
    "\n",
    "for line in sys.stdin:\n",
    "    for word in line.split():\n",
    "        print '%s\\t%s' % (word, 1)\n",
    "\n",
    "# END STUDENT CODE HW32AMAPPER"
   ]
  },
  {
   "cell_type": "code",
   "execution_count": 225,
   "metadata": {
    "collapsed": false
   },
   "outputs": [
    {
     "name": "stdout",
     "output_type": "stream",
     "text": [
      "Overwriting reducer3.2.A.py\n"
     ]
    }
   ],
   "source": [
    "%%writefile reducer3.2.A.py\n",
    "#!/usr/bin/env python\n",
    "# START STUDENT CODE HW32AREDUCER\n",
    "import sys\n",
    "\n",
    "cur_key = None\n",
    "cur_count = 0\n",
    "\n",
    "sys.stderr.write(\"reporter:counter:HW3.2.A Reducer Counters,Calls,1\\n\")\n",
    "\n",
    "for line in sys.stdin:\n",
    "    key, value = line.split()\n",
    "    if key == cur_key:\n",
    "        cur_count += int(value)\n",
    "    else:\n",
    "        if cur_key:\n",
    "            print '%s\\t%s' % (cur_key, cur_count)\n",
    "        cur_key = key\n",
    "        cur_count = int(value)\n",
    "\n",
    "print '%s\\t%s' % (cur_key, cur_count)\n",
    "\n",
    "# END STUDENT CODE HW32AREDUCER"
   ]
  },
  {
   "cell_type": "code",
   "execution_count": 226,
   "metadata": {
    "collapsed": false
   },
   "outputs": [
    {
     "name": "stdout",
     "output_type": "stream",
     "text": [
      "Deleted file32.txt\n",
      "Deleted 32A_results-output\n",
      "packageJobJar: [] [/usr/jars/hadoop-streaming-2.6.0-cdh5.7.0.jar] /tmp/streamjob1722394551857293894.jar tmpDir=null\n",
      "17/09/20 05:58:22 INFO client.RMProxy: Connecting to ResourceManager at /0.0.0.0:8032\n",
      "17/09/20 05:58:22 INFO client.RMProxy: Connecting to ResourceManager at /0.0.0.0:8032\n",
      "17/09/20 05:58:23 INFO mapred.FileInputFormat: Total input paths to process : 1\n",
      "17/09/20 05:58:23 INFO mapreduce.JobSubmitter: number of splits:2\n",
      "17/09/20 05:58:23 INFO mapreduce.JobSubmitter: Submitting tokens for job: job_1505856639673_0080\n",
      "17/09/20 05:58:23 INFO impl.YarnClientImpl: Submitted application application_1505856639673_0080\n",
      "17/09/20 05:58:23 INFO mapreduce.Job: The url to track the job: http://quickstart.cloudera:8088/proxy/application_1505856639673_0080/\n",
      "17/09/20 05:58:23 INFO mapreduce.Job: Running job: job_1505856639673_0080\n",
      "17/09/20 05:58:31 INFO mapreduce.Job: Job job_1505856639673_0080 running in uber mode : false\n",
      "17/09/20 05:58:31 INFO mapreduce.Job:  map 0% reduce 0%\n",
      "17/09/20 05:58:37 INFO mapreduce.Job:  map 50% reduce 0%\n",
      "17/09/20 05:58:38 INFO mapreduce.Job:  map 100% reduce 0%\n",
      "17/09/20 05:58:43 INFO mapreduce.Job:  map 100% reduce 100%\n",
      "17/09/20 05:58:43 INFO mapreduce.Job: Job job_1505856639673_0080 completed successfully\n",
      "17/09/20 05:58:43 INFO mapreduce.Job: Counters: 51\n",
      "\tFile System Counters\n",
      "\t\tFILE: Number of bytes read=65\n",
      "\t\tFILE: Number of bytes written=351252\n",
      "\t\tFILE: Number of read operations=0\n",
      "\t\tFILE: Number of large read operations=0\n",
      "\t\tFILE: Number of write operations=0\n",
      "\t\tHDFS: Number of bytes read=253\n",
      "\t\tHDFS: Number of bytes written=26\n",
      "\t\tHDFS: Number of read operations=9\n",
      "\t\tHDFS: Number of large read operations=0\n",
      "\t\tHDFS: Number of write operations=2\n",
      "\tJob Counters \n",
      "\t\tLaunched map tasks=2\n",
      "\t\tLaunched reduce tasks=1\n",
      "\t\tData-local map tasks=2\n",
      "\t\tTotal time spent by all maps in occupied slots (ms)=8540\n",
      "\t\tTotal time spent by all reduces in occupied slots (ms)=3217\n",
      "\t\tTotal time spent by all map tasks (ms)=8540\n",
      "\t\tTotal time spent by all reduce tasks (ms)=3217\n",
      "\t\tTotal vcore-seconds taken by all map tasks=8540\n",
      "\t\tTotal vcore-seconds taken by all reduce tasks=3217\n",
      "\t\tTotal megabyte-seconds taken by all map tasks=8744960\n",
      "\t\tTotal megabyte-seconds taken by all reduce tasks=3294208\n",
      "\tMap-Reduce Framework\n",
      "\t\tMap input records=1\n",
      "\t\tMap output records=7\n",
      "\t\tMap output bytes=45\n",
      "\t\tMap output materialized bytes=71\n",
      "\t\tInput split bytes=208\n",
      "\t\tCombine input records=0\n",
      "\t\tCombine output records=0\n",
      "\t\tReduce input groups=4\n",
      "\t\tReduce shuffle bytes=71\n",
      "\t\tReduce input records=7\n",
      "\t\tReduce output records=4\n",
      "\t\tSpilled Records=14\n",
      "\t\tShuffled Maps =2\n",
      "\t\tFailed Shuffles=0\n",
      "\t\tMerged Map outputs=2\n",
      "\t\tGC time elapsed (ms)=110\n",
      "\t\tCPU time spent (ms)=1580\n",
      "\t\tPhysical memory (bytes) snapshot=735158272\n",
      "\t\tVirtual memory (bytes) snapshot=4090953728\n",
      "\t\tTotal committed heap usage (bytes)=727711744\n",
      "\tHW3.2.A Mapper Counters\n",
      "\t\tCalls=2\n",
      "\tHW3.2.A Reducer Counters\n",
      "\t\tCalls=1\n",
      "\tShuffle Errors\n",
      "\t\tBAD_ID=0\n",
      "\t\tCONNECTION=0\n",
      "\t\tIO_ERROR=0\n",
      "\t\tWRONG_LENGTH=0\n",
      "\t\tWRONG_MAP=0\n",
      "\t\tWRONG_REDUCE=0\n",
      "\tFile Input Format Counters \n",
      "\t\tBytes Read=45\n",
      "\tFile Output Format Counters \n",
      "\t\tBytes Written=26\n",
      "17/09/20 05:58:43 INFO streaming.StreamJob: Output directory: 32A_results-output\n"
     ]
    }
   ],
   "source": [
    "# Hadoop command\n",
    "# START STUDENT CODE HW32AHADOOP\n",
    "!hdfs dfs -rm file32.txt\n",
    "!hdfs dfs -copyFromLocal file32.txt\n",
    "!hdfs dfs -rm -r 32A_results-output\n",
    "\n",
    "##################### IMPORTANT ########################################################################\n",
    "# Make sure you have the correct paths to the jar file as wel as the input and output files!!\n",
    "# make sure to include the -files option. Do ***** NOT ****** put spaces between the file paths!\n",
    "########################################################################################################\n",
    "\n",
    "!hadoop jar /usr/lib/hadoop-0.20-mapreduce/contrib/streaming/hadoop-streaming-2.6.0-mr1-cdh5.7.0.jar \\\n",
    "  -files reducer3.2.A.py,mapper3.2.A.py \\\n",
    "  -mapper mapper3.2.A.py \\\n",
    "  -reducer reducer3.2.A.py \\\n",
    "  -input file32.txt \\\n",
    "  -output 32A_results-output  \\\n",
    "  -numReduceTasks 1\n",
    "# END STUDENT CODE HW32AHADOOP"
   ]
  },
  {
   "cell_type": "code",
   "execution_count": 12,
   "metadata": {
    "collapsed": true
   },
   "outputs": [],
   "source": [
    "# INSERT SCREENSHOT OF JOB TRACKER UI COUNTERS"
   ]
  },
  {
   "cell_type": "markdown",
   "metadata": {
    "collapsed": true
   },
   "source": [
    "#### 3.2.A EXPLANATION\n",
    "Screenshot of counters:\n",
    "![3.2.A Counters Screenshot](3.2.A counters.PNG)"
   ]
  },
  {
   "cell_type": "markdown",
   "metadata": {},
   "source": [
    "### 3.2.B SOLUTION"
   ]
  },
  {
   "cell_type": "code",
   "execution_count": 56,
   "metadata": {
    "collapsed": false
   },
   "outputs": [
    {
     "name": "stdout",
     "output_type": "stream",
     "text": [
      "Writing mapper3.2.B.py\n"
     ]
    }
   ],
   "source": [
    "%%writefile mapper3.2.B.py\n",
    "#!/usr/bin/env python\n",
    "# START STUDENT CODE HW32BMAPPER\n",
    "\n",
    "import sys\n",
    "\n",
    "sys.stderr.write(\"reporter:counter:HW3.2.B Mapper Counters,Calls,1\\n\")\n",
    "for line in sys.stdin:\n",
    "    words = line.split(\",\")\n",
    "    string = \"reporter:counter:Issue,\"+str(words[3])+\",1\\n\"\n",
    "    sys.stderr.write(string)\n",
    "\n",
    "# END STUDENT CODE HW32BMAPPER"
   ]
  },
  {
   "cell_type": "code",
   "execution_count": 57,
   "metadata": {
    "collapsed": false
   },
   "outputs": [
    {
     "name": "stdout",
     "output_type": "stream",
     "text": [
      "Writing reducer3.2.B.py\n"
     ]
    }
   ],
   "source": [
    "%%writefile reducer3.2.B.py\n",
    "#!/usr/bin/env python\n",
    "# START STUDENT CODE HW32BREDUCER\n",
    "\n",
    "import sys\n",
    "\n",
    "sys.stderr.write(\"reporter:counter:HW3.2.B Reducer Counters,Calls,1\\n\")\n",
    "\n",
    "for line in sys.stdin:\n",
    "    print line\n",
    "\n",
    "# END STUDENT CODE HW32BREDUCER"
   ]
  },
  {
   "cell_type": "code",
   "execution_count": 58,
   "metadata": {
    "collapsed": false
   },
   "outputs": [
    {
     "name": "stdout",
     "output_type": "stream",
     "text": [
      "Deleted Consumer_Complaints.csv\n",
      "rm: `32B_results-output': No such file or directory\n",
      "packageJobJar: [] [/usr/jars/hadoop-streaming-2.6.0-cdh5.7.0.jar] /tmp/streamjob4670470746376106722.jar tmpDir=null\n",
      "17/09/22 06:12:01 INFO client.RMProxy: Connecting to ResourceManager at /0.0.0.0:8032\n",
      "17/09/22 06:12:01 INFO client.RMProxy: Connecting to ResourceManager at /0.0.0.0:8032\n",
      "17/09/22 06:12:02 INFO mapred.FileInputFormat: Total input paths to process : 1\n",
      "17/09/22 06:12:02 INFO mapreduce.JobSubmitter: number of splits:2\n",
      "17/09/22 06:12:02 INFO mapreduce.JobSubmitter: Submitting tokens for job: job_1506044050794_0016\n",
      "17/09/22 06:12:02 INFO impl.YarnClientImpl: Submitted application application_1506044050794_0016\n",
      "17/09/22 06:12:02 INFO mapreduce.Job: The url to track the job: http://quickstart.cloudera:8088/proxy/application_1506044050794_0016/\n",
      "17/09/22 06:12:02 INFO mapreduce.Job: Running job: job_1506044050794_0016\n",
      "17/09/22 06:12:08 INFO mapreduce.Job: Job job_1506044050794_0016 running in uber mode : false\n",
      "17/09/22 06:12:08 INFO mapreduce.Job:  map 0% reduce 0%\n",
      "17/09/22 06:12:17 INFO mapreduce.Job:  map 50% reduce 0%\n",
      "17/09/22 06:12:18 INFO mapreduce.Job:  map 100% reduce 0%\n",
      "17/09/22 06:12:23 INFO mapreduce.Job:  map 100% reduce 100%\n",
      "17/09/22 06:12:23 INFO mapreduce.Job: Job job_1506044050794_0016 completed successfully\n",
      "17/09/22 06:12:23 INFO mapreduce.Job: Counters: 131\n",
      "\tFile System Counters\n",
      "\t\tFILE: Number of bytes read=6\n",
      "\t\tFILE: Number of bytes written=351173\n",
      "\t\tFILE: Number of read operations=0\n",
      "\t\tFILE: Number of large read operations=0\n",
      "\t\tFILE: Number of write operations=0\n",
      "\t\tHDFS: Number of bytes read=50910816\n",
      "\t\tHDFS: Number of bytes written=0\n",
      "\t\tHDFS: Number of read operations=9\n",
      "\t\tHDFS: Number of large read operations=0\n",
      "\t\tHDFS: Number of write operations=2\n",
      "\tJob Counters \n",
      "\t\tLaunched map tasks=2\n",
      "\t\tLaunched reduce tasks=1\n",
      "\t\tData-local map tasks=2\n",
      "\t\tTotal time spent by all maps in occupied slots (ms)=11981\n",
      "\t\tTotal time spent by all reduces in occupied slots (ms)=2843\n",
      "\t\tTotal time spent by all map tasks (ms)=11981\n",
      "\t\tTotal time spent by all reduce tasks (ms)=2843\n",
      "\t\tTotal vcore-seconds taken by all map tasks=11981\n",
      "\t\tTotal vcore-seconds taken by all reduce tasks=2843\n",
      "\t\tTotal megabyte-seconds taken by all map tasks=12268544\n",
      "\t\tTotal megabyte-seconds taken by all reduce tasks=2911232\n",
      "\tMap-Reduce Framework\n",
      "\t\tMap input records=312913\n",
      "\t\tMap output records=0\n",
      "\t\tMap output bytes=0\n",
      "\t\tMap output materialized bytes=12\n",
      "\t\tInput split bytes=234\n",
      "\t\tCombine input records=0\n",
      "\t\tCombine output records=0\n",
      "\t\tReduce input groups=0\n",
      "\t\tReduce shuffle bytes=12\n",
      "\t\tReduce input records=0\n",
      "\t\tReduce output records=0\n",
      "\t\tSpilled Records=0\n",
      "\t\tShuffled Maps =2\n",
      "\t\tFailed Shuffles=0\n",
      "\t\tMerged Map outputs=2\n",
      "\t\tGC time elapsed (ms)=179\n",
      "\t\tCPU time spent (ms)=3750\n",
      "\t\tPhysical memory (bytes) snapshot=846356480\n",
      "\t\tVirtual memory (bytes) snapshot=4090220544\n",
      "\t\tTotal committed heap usage (bytes)=725090304\n",
      "\tHW3.2.B Mapper Counters\n",
      "\t\tCalls=2\n",
      "\tIssue\n",
      "\t\t=4\n",
      "\t\t health club=12545\n",
      "\t\t\"Account opening=16205\n",
      "\t\t\"Application=8625\n",
      "\t\t\"Loan modification=70487\n",
      "\t\t\"Loan servicing=36767\n",
      "\t\t\"Making/receiving payments=3226\n",
      "\t\tAPR or interest rate=3431\n",
      "\t\tAccount terms and changes=350\n",
      "\t\tAdvertising and marketing=1193\n",
      "\t\tApplication processing delay=243\n",
      "\t\tApplied for loan/did not receive money=139\n",
      "\t\tArbitration=168\n",
      "\t\tBalance transfer=502\n",
      "\t\tBalance transfer fee=95\n",
      "\t\tBankruptcy=222\n",
      "\t\tBilling disputes=6938\n",
      "\t\tBilling statement=1220\n",
      "\t\tCan't contact lender=221\n",
      "\t\tCan't repay my loan=1647\n",
      "\t\tCan't stop charges to bank account=131\n",
      "\t\tCash advance=136\n",
      "\t\tCash advance fee=104\n",
      "\t\tCharged bank acct wrong day or amt=71\n",
      "\t\tCharged fees or interest I didn't expect=807\n",
      "\t\tClosing/Cancelling account=2795\n",
      "\t\tCollection debt dispute=904\n",
      "\t\tCollection practices=1003\n",
      "\t\tCommunication tactics=6920\n",
      "\t\tCont'd attempts collect debt not owed=11848\n",
      "\t\tConvenience checks=75\n",
      "\t\tCredit card protection / Debt protection=1343\n",
      "\t\tCredit decision / Underwriting=2774\n",
      "\t\tCredit determination=1490\n",
      "\t\tCredit line increase/decrease=1149\n",
      "\t\tCredit monitoring or identity protection=1453\n",
      "\t\tCredit reporting=1701\n",
      "\t\tCredit reporting company's investigation=4858\n",
      "\t\tCustomer service / Customer relations=1367\n",
      "\t\tDealing with my lender or servicer=1944\n",
      "\t\tDelinquent account=1061\n",
      "\t\tDeposits and withdrawals=10555\n",
      "\t\tDisclosure verification of debt=5214\n",
      "\t\tFalse statements or representation=2508\n",
      "\t\tForbearance / Workout plans=350\n",
      "\t\tFraud or scam=566\n",
      "\t\tGetting a loan=291\n",
      "\t\tIdentity theft / Fraud / Embezzlement=3276\n",
      "\t\tImproper contact or sharing of info=2832\n",
      "\t\tImproper use of my credit report=1477\n",
      "\t\tIncorrect information on credit report=29069\n",
      "\t\tIncorrect/missing disclosures or info=64\n",
      "\t\tIssue=1\n",
      "\t\tLate fee=1797\n",
      "\t\tManaging the line of credit=446\n",
      "\t\tManaging the loan or lease=4560\n",
      "\t\tMoney was not available when promised=274\n",
      "\t\tOther=6273\n",
      "\t\tOther fee=1075\n",
      "\t\tOther service issues=151\n",
      "\t\tOther transaction issues=387\n",
      "\t\tOverlimit fee=127\n",
      "\t\tPayment to acct not credited=92\n",
      "\t\tPayoff process=1155\n",
      "\t\tPrivacy=240\n",
      "\t\tProblems caused by my funds being low=5663\n",
      "\t\tProblems when you are unable to pay=3821\n",
      "\t\tReceived a loan I didn't apply for=118\n",
      "\t\tRepaying your loan=3844\n",
      "\t\tRewards=1002\n",
      "\t\tSale of account=139\n",
      "\t\tSettlement process and costs=4350\n",
      "\t\tShopping for a line of credit=137\n",
      "\t\tShopping for a loan or lease=535\n",
      "\t\tTaking out the loan or lease=1242\n",
      "\t\tTaking/threatening an illegal action=2505\n",
      "\t\tTransaction issue=1098\n",
      "\t\tUnable to get credit report/credit score=4357\n",
      "\t\tUnsolicited issuance of credit card=640\n",
      "\t\tUsing a debit or ATM card=2422\n",
      "\t\tWrong amount charged or received=98\n",
      "\tShuffle Errors\n",
      "\t\tBAD_ID=0\n",
      "\t\tCONNECTION=0\n",
      "\t\tIO_ERROR=0\n",
      "\t\tWRONG_LENGTH=0\n",
      "\t\tWRONG_MAP=0\n",
      "\t\tWRONG_REDUCE=0\n",
      "\tFile Input Format Counters \n",
      "\t\tBytes Read=50910582\n",
      "\tFile Output Format Counters \n",
      "\t\tBytes Written=0\n",
      "17/09/22 06:12:23 INFO streaming.StreamJob: Output directory: 32B_results-output\n"
     ]
    }
   ],
   "source": [
    "# Hadoop command\n",
    "# START STUDENT CODE HW32BHADOOP\n",
    "!hdfs dfs -rm  Consumer_Complaints.csv \n",
    "!hdfs dfs -copyFromLocal Consumer_Complaints.csv\n",
    "!hdfs dfs -rm -r 32B_results-output\n",
    "\n",
    "##################### IMPORTANT ########################################################################\n",
    "# Make sure you have the correct paths to the jar file as wel as the input and output files!!\n",
    "# make sure to include the -files option. Do ***** NOT ****** put spaces between the file paths!\n",
    "########################################################################################################\n",
    "\n",
    "!hadoop jar /usr/lib/hadoop-0.20-mapreduce/contrib/streaming/hadoop-streaming-2.6.0-mr1-cdh5.7.0.jar \\\n",
    "  -files reducer3.2.B.py,mapper3.2.B.py \\\n",
    "  -mapper mapper3.2.B.py \\\n",
    "  -reducer reducer3.2.B.py \\\n",
    "  -input Consumer_Complaints.csv  \\\n",
    "  -output 32B_results-output  \\\n",
    "  -numReduceTasks 1\n",
    "# END STUDENT CODE HW32BHADOOP"
   ]
  },
  {
   "cell_type": "code",
   "execution_count": 117,
   "metadata": {
    "collapsed": true
   },
   "outputs": [],
   "source": [
    "# 3.2.B OUTPUT/ANSWER\n",
    "!hdfs dfs -cat 32B_results-output/part-0000* > 32B_results-output.txt\n",
    "!head 32B_results-output.txt"
   ]
  },
  {
   "cell_type": "markdown",
   "metadata": {
    "collapsed": true
   },
   "source": [
    "#### 3.2.B EXPLANATION\n",
    "Screenshot of counters:\n",
    "![3.2.B Counters Screenshot](3.2.B1.PNG)\n",
    "![3.2.B Counters Screenshot](3.2.B2.PNG)\n",
    "![3.2.B Counters Screenshot](3.2.B3.PNG)\n",
    "![3.2.B Counters Screenshot](3.2.B4.PNG)\n",
    "![3.2.B Counters Screenshot](3.2.B5.PNG)"
   ]
  },
  {
   "cell_type": "markdown",
   "metadata": {},
   "source": [
    "### 3.2.C SOLUTION"
   ]
  },
  {
   "cell_type": "markdown",
   "metadata": {},
   "source": [
    "Perform a word count analysis of the Issue column of the Consumer Complaints Dataset using a Mapper, Reducer, and standalone combiner (i.e., not an in-memory combiner) based WordCount using user defined Counters to count up how many time the mapper, combiner, reducer are called. What is the value of your user defined Mapper Counter, and Reducer Counter after completing your word count job. \n",
    "\n",
    "Using a single reducer: \n",
    "•What are the top 50 most frequent terms in your word count analysis? \n",
    "•Present the top 50 terms and their frequency and their relative frequency. If there are ties please sort the tokens in alphanumeric/string order. \n",
    "•Present bottom 10 tokens (least frequent items). \n"
   ]
  },
  {
   "cell_type": "code",
   "execution_count": 188,
   "metadata": {
    "collapsed": false
   },
   "outputs": [
    {
     "name": "stdout",
     "output_type": "stream",
     "text": [
      "Overwriting mapper3.2.C.py\n"
     ]
    }
   ],
   "source": [
    "%%writefile mapper3.2.C.py\n",
    "#!/usr/bin/env python\n",
    "# START STUDENT CODE HW32C MAPPER\n",
    "\n",
    "import sys\n",
    "import re\n",
    "\n",
    "sys.stderr.write(\"reporter:counter:HW3.2.C Mapper Counters,Calls,1\\n\")\n",
    "for line in sys.stdin:\n",
    "    cols = line.split(\",\")\n",
    "    issue = cols[3]\n",
    "    issue = issue.strip()\n",
    "    words = issue.split(\" \")\n",
    "    for w in words:\n",
    "        w = w.lower()\n",
    "        w = w.replace('\"','')\n",
    "        if(w):\n",
    "            print w, \"\\t\", 1\n",
    "            print \"**total\", \"\\t\", 1\n",
    "\n",
    "# END STUDENT CODE HW32C MAPPER"
   ]
  },
  {
   "cell_type": "code",
   "execution_count": 189,
   "metadata": {
    "collapsed": false
   },
   "outputs": [
    {
     "name": "stdout",
     "output_type": "stream",
     "text": [
      "Overwriting combiner3.2.C.py\n"
     ]
    }
   ],
   "source": [
    "%%writefile combiner3.2.C.py\n",
    "#!/usr/bin/env python\n",
    "# START STUDENT CODE HW32C COMBINER\n",
    "import sys\n",
    "import re\n",
    "\n",
    "cur_key = None\n",
    "cur_count = 0\n",
    "\n",
    "sys.stderr.write(\"reporter:counter:HW3.2.C Combiner Counters,Calls,1\\n\")\n",
    "for line in sys.stdin:\n",
    "    key, value = line.split(\"\\t\",1)\n",
    "    if key == cur_key:\n",
    "        cur_count += int(value)\n",
    "    else:\n",
    "        if cur_key:\n",
    "            print '%s\\t%s' % (cur_key, cur_count)\n",
    "        cur_key = key\n",
    "        cur_count = int(value)\n",
    "\n",
    "print '%s\\t%s' % (cur_key, cur_count)\n",
    "\n",
    "# END STUDENT CODE HW32C COMBINER"
   ]
  },
  {
   "cell_type": "code",
   "execution_count": 210,
   "metadata": {
    "collapsed": false
   },
   "outputs": [
    {
     "name": "stdout",
     "output_type": "stream",
     "text": [
      "Overwriting reducer3.2.C.py\n"
     ]
    }
   ],
   "source": [
    "%%writefile reducer3.2.C.py\n",
    "#!/usr/bin/env python\n",
    "# START STUDENT CODE HW32C REDUCER\n",
    "import sys\n",
    "import re\n",
    "\n",
    "total = 0\n",
    "cur_key = None\n",
    "cur_count = 0\n",
    "\n",
    "sys.stderr.write(\"reporter:counter:HW3.2.C Reducer Counters,Calls,1\\n\")\n",
    "\n",
    "for line in sys.stdin:\n",
    "    key, value = line.split(\"\\t\",1)\n",
    "    if(key.strip() == \"**total\"):\n",
    "        total += int(value)\n",
    "    elif key == cur_key:\n",
    "        cur_count += int(value)\n",
    "    else:\n",
    "        if cur_key:\n",
    "            print cur_key, '\\t', cur_count, '\\t', (float(cur_count)/float(total))\n",
    "        cur_key = key\n",
    "        cur_count = int(value)\n",
    "\n",
    "print cur_key, '\\t', cur_count, '\\t', (float(cur_count)/float(total))\n",
    "\n",
    "# END STUDENT CODE HW32C REDUCER"
   ]
  },
  {
   "cell_type": "code",
   "execution_count": 219,
   "metadata": {
    "collapsed": false
   },
   "outputs": [
    {
     "name": "stdout",
     "output_type": "stream",
     "text": [
      "Deleted Consumer_Complaints.csv\n",
      "Deleted 32C_results-output\n",
      "Deleted 32ordered_results-output\n",
      "packageJobJar: [] [/usr/jars/hadoop-streaming-2.6.0-cdh5.7.0.jar] /tmp/streamjob1336983237479641698.jar tmpDir=null\n",
      "17/09/20 05:45:58 INFO client.RMProxy: Connecting to ResourceManager at /0.0.0.0:8032\n",
      "17/09/20 05:45:59 INFO client.RMProxy: Connecting to ResourceManager at /0.0.0.0:8032\n",
      "17/09/20 05:45:59 INFO mapred.FileInputFormat: Total input paths to process : 1\n",
      "17/09/20 05:45:59 INFO mapreduce.JobSubmitter: number of splits:2\n",
      "17/09/20 05:46:00 INFO mapreduce.JobSubmitter: Submitting tokens for job: job_1505856639673_0078\n",
      "17/09/20 05:46:00 INFO impl.YarnClientImpl: Submitted application application_1505856639673_0078\n",
      "17/09/20 05:46:00 INFO mapreduce.Job: The url to track the job: http://quickstart.cloudera:8088/proxy/application_1505856639673_0078/\n",
      "17/09/20 05:46:00 INFO mapreduce.Job: Running job: job_1505856639673_0078\n",
      "17/09/20 05:46:06 INFO mapreduce.Job: Job job_1505856639673_0078 running in uber mode : false\n",
      "17/09/20 05:46:06 INFO mapreduce.Job:  map 0% reduce 0%\n",
      "17/09/20 05:46:16 INFO mapreduce.Job:  map 50% reduce 0%\n",
      "17/09/20 05:46:17 INFO mapreduce.Job:  map 100% reduce 0%\n",
      "17/09/20 05:46:22 INFO mapreduce.Job:  map 100% reduce 100%\n",
      "17/09/20 05:46:22 INFO mapreduce.Job: Job job_1505856639673_0078 completed successfully\n",
      "17/09/20 05:46:23 INFO mapreduce.Job: Counters: 52\n",
      "\tFile System Counters\n",
      "\t\tFILE: Number of bytes read=4843\n",
      "\t\tFILE: Number of bytes written=362791\n",
      "\t\tFILE: Number of read operations=0\n",
      "\t\tFILE: Number of large read operations=0\n",
      "\t\tFILE: Number of write operations=0\n",
      "\t\tHDFS: Number of bytes read=50910816\n",
      "\t\tHDFS: Number of bytes written=5497\n",
      "\t\tHDFS: Number of read operations=9\n",
      "\t\tHDFS: Number of large read operations=0\n",
      "\t\tHDFS: Number of write operations=2\n",
      "\tJob Counters \n",
      "\t\tLaunched map tasks=2\n",
      "\t\tLaunched reduce tasks=1\n",
      "\t\tData-local map tasks=2\n",
      "\t\tTotal time spent by all maps in occupied slots (ms)=17082\n",
      "\t\tTotal time spent by all reduces in occupied slots (ms)=3311\n",
      "\t\tTotal time spent by all map tasks (ms)=17082\n",
      "\t\tTotal time spent by all reduce tasks (ms)=3311\n",
      "\t\tTotal vcore-seconds taken by all map tasks=17082\n",
      "\t\tTotal vcore-seconds taken by all reduce tasks=3311\n",
      "\t\tTotal megabyte-seconds taken by all map tasks=17491968\n",
      "\t\tTotal megabyte-seconds taken by all reduce tasks=3390464\n",
      "\tMap-Reduce Framework\n",
      "\t\tMap input records=312913\n",
      "\t\tMap output records=1957268\n",
      "\t\tMap output bytes=21037191\n",
      "\t\tMap output materialized bytes=4849\n",
      "\t\tInput split bytes=234\n",
      "\t\tCombine input records=1957268\n",
      "\t\tCombine output records=313\n",
      "\t\tReduce input groups=169\n",
      "\t\tReduce shuffle bytes=4849\n",
      "\t\tReduce input records=313\n",
      "\t\tReduce output records=168\n",
      "\t\tSpilled Records=626\n",
      "\t\tShuffled Maps =2\n",
      "\t\tFailed Shuffles=0\n",
      "\t\tMerged Map outputs=2\n",
      "\t\tGC time elapsed (ms)=117\n",
      "\t\tCPU time spent (ms)=5470\n",
      "\t\tPhysical memory (bytes) snapshot=756731904\n",
      "\t\tVirtual memory (bytes) snapshot=4105039872\n",
      "\t\tTotal committed heap usage (bytes)=785383424\n",
      "\tHW3.2.C Combiner Counters\n",
      "\t\tCalls=2\n",
      "\tHW3.2.C Mapper Counters\n",
      "\t\tCalls=2\n",
      "\tHW3.2.C Reducer Counters\n",
      "\t\tCalls=1\n",
      "\tShuffle Errors\n",
      "\t\tBAD_ID=0\n",
      "\t\tCONNECTION=0\n",
      "\t\tIO_ERROR=0\n",
      "\t\tWRONG_LENGTH=0\n",
      "\t\tWRONG_MAP=0\n",
      "\t\tWRONG_REDUCE=0\n",
      "\tFile Input Format Counters \n",
      "\t\tBytes Read=50910582\n",
      "\tFile Output Format Counters \n",
      "\t\tBytes Written=5497\n",
      "17/09/20 05:46:23 INFO streaming.StreamJob: Output directory: 32C_results-output\n",
      "packageJobJar: [] [/usr/jars/hadoop-streaming-2.6.0-cdh5.7.0.jar] /tmp/streamjob7551969158089179123.jar tmpDir=null\n",
      "17/09/20 05:46:25 INFO client.RMProxy: Connecting to ResourceManager at /0.0.0.0:8032\n",
      "17/09/20 05:46:25 INFO client.RMProxy: Connecting to ResourceManager at /0.0.0.0:8032\n",
      "17/09/20 05:46:26 INFO mapred.FileInputFormat: Total input paths to process : 1\n",
      "17/09/20 05:46:26 INFO mapreduce.JobSubmitter: number of splits:2\n",
      "17/09/20 05:46:26 INFO Configuration.deprecation: mapred.output.key.comparator.class is deprecated. Instead, use mapreduce.job.output.key.comparator.class\n",
      "17/09/20 05:46:26 INFO mapreduce.JobSubmitter: Submitting tokens for job: job_1505856639673_0079\n",
      "17/09/20 05:46:27 INFO impl.YarnClientImpl: Submitted application application_1505856639673_0079\n",
      "17/09/20 05:46:27 INFO mapreduce.Job: The url to track the job: http://quickstart.cloudera:8088/proxy/application_1505856639673_0079/\n",
      "17/09/20 05:46:27 INFO mapreduce.Job: Running job: job_1505856639673_0079\n",
      "17/09/20 05:46:33 INFO mapreduce.Job: Job job_1505856639673_0079 running in uber mode : false\n",
      "17/09/20 05:46:33 INFO mapreduce.Job:  map 0% reduce 0%\n",
      "17/09/20 05:46:39 INFO mapreduce.Job:  map 50% reduce 0%\n",
      "17/09/20 05:46:40 INFO mapreduce.Job:  map 100% reduce 0%\n",
      "17/09/20 05:46:45 INFO mapreduce.Job:  map 100% reduce 100%\n",
      "17/09/20 05:46:45 INFO mapreduce.Job: Job job_1505856639673_0079 completed successfully\n",
      "17/09/20 05:46:45 INFO mapreduce.Job: Counters: 49\n",
      "\tFile System Counters\n",
      "\t\tFILE: Number of bytes read=6007\n",
      "\t\tFILE: Number of bytes written=360382\n",
      "\t\tFILE: Number of read operations=0\n",
      "\t\tFILE: Number of large read operations=0\n",
      "\t\tFILE: Number of write operations=0\n",
      "\t\tHDFS: Number of bytes read=8492\n",
      "\t\tHDFS: Number of bytes written=5665\n",
      "\t\tHDFS: Number of read operations=9\n",
      "\t\tHDFS: Number of large read operations=0\n",
      "\t\tHDFS: Number of write operations=2\n",
      "\tJob Counters \n",
      "\t\tLaunched map tasks=2\n",
      "\t\tLaunched reduce tasks=1\n",
      "\t\tData-local map tasks=2\n",
      "\t\tTotal time spent by all maps in occupied slots (ms)=8748\n",
      "\t\tTotal time spent by all reduces in occupied slots (ms)=3101\n",
      "\t\tTotal time spent by all map tasks (ms)=8748\n",
      "\t\tTotal time spent by all reduce tasks (ms)=3101\n",
      "\t\tTotal vcore-seconds taken by all map tasks=8748\n",
      "\t\tTotal vcore-seconds taken by all reduce tasks=3101\n",
      "\t\tTotal megabyte-seconds taken by all map tasks=8957952\n",
      "\t\tTotal megabyte-seconds taken by all reduce tasks=3175424\n",
      "\tMap-Reduce Framework\n",
      "\t\tMap input records=168\n",
      "\t\tMap output records=168\n",
      "\t\tMap output bytes=5665\n",
      "\t\tMap output materialized bytes=6013\n",
      "\t\tInput split bytes=246\n",
      "\t\tCombine input records=0\n",
      "\t\tCombine output records=0\n",
      "\t\tReduce input groups=168\n",
      "\t\tReduce shuffle bytes=6013\n",
      "\t\tReduce input records=168\n",
      "\t\tReduce output records=168\n",
      "\t\tSpilled Records=336\n",
      "\t\tShuffled Maps =2\n",
      "\t\tFailed Shuffles=0\n",
      "\t\tMerged Map outputs=2\n",
      "\t\tGC time elapsed (ms)=109\n",
      "\t\tCPU time spent (ms)=1740\n",
      "\t\tPhysical memory (bytes) snapshot=742719488\n",
      "\t\tVirtual memory (bytes) snapshot=4095074304\n",
      "\t\tTotal committed heap usage (bytes)=725090304\n",
      "\tShuffle Errors\n",
      "\t\tBAD_ID=0\n",
      "\t\tCONNECTION=0\n",
      "\t\tIO_ERROR=0\n",
      "\t\tWRONG_LENGTH=0\n",
      "\t\tWRONG_MAP=0\n",
      "\t\tWRONG_REDUCE=0\n",
      "\tFile Input Format Counters \n",
      "\t\tBytes Read=8246\n",
      "\tFile Output Format Counters \n",
      "\t\tBytes Written=5665\n",
      "17/09/20 05:46:45 INFO streaming.StreamJob: Output directory: 32ordered_results-output\n"
     ]
    }
   ],
   "source": [
    "# Hadoop command\n",
    "# START STUDENT CODE HW32CHADOOP\n",
    "\n",
    "!hdfs dfs -rm  Consumer_Complaints.csv \n",
    "!hdfs dfs -copyFromLocal Consumer_Complaints.csv\n",
    "!hdfs dfs -rm -r 32C_results-output\n",
    "!hdfs dfs -rm -r 32ordered_results-output\n",
    "\n",
    "##################### IMPORTANT ########################################################################\n",
    "# Make sure you have the correct paths to the jar file as wel as the input and output files!!\n",
    "# make sure to include the -files option. Do ***** NOT ****** put spaces between the file paths!\n",
    "########################################################################################################\n",
    "\n",
    "!hadoop jar /usr/lib/hadoop-0.20-mapreduce/contrib/streaming/hadoop-streaming-2.6.0-mr1-cdh5.7.0.jar \\\n",
    "  -files reducer3.2.C.py,mapper3.2.C.py,combiner3.2.C.py \\\n",
    "  -mapper mapper3.2.C.py \\\n",
    "  -combiner combiner3.2.C.py \\\n",
    "  -reducer reducer3.2.C.py \\\n",
    "  -input Consumer_Complaints.csv  \\\n",
    "  -output 32C_results-output  \\\n",
    "  -numReduceTasks 1\n",
    "\n",
    "!hadoop jar /usr/lib/hadoop-0.20-mapreduce/contrib/streaming/hadoop-streaming-2.6.0-mr1-cdh5.7.0.jar \\\n",
    "  -D mapred.output.key.comparator.class=org.apache.hadoop.mapred.lib.KeyFieldBasedComparator \\\n",
    "  -D stream.map.output.field.separator=\"\\t\" \\\n",
    "  -D mapreduce.partition.keycomparator.options=\"-k2,2nr -k1,1\" \\\n",
    "  -mapper /bin/cat \\\n",
    "  -reducer /bin/cat \\\n",
    "  -input 32C_results-output \\\n",
    "  -output 32ordered_results-output  \\\n",
    "  -numReduceTasks 1\n",
    "\n",
    "# END STUDENT CODE HW32CHADOOP"
   ]
  },
  {
   "cell_type": "code",
   "execution_count": 218,
   "metadata": {
    "collapsed": false
   },
   "outputs": [
    {
     "name": "stdout",
     "output_type": "stream",
     "text": [
      "loan  \t119491 \t0.122099783985\t\r\n",
      "modification  \t70487 \t0.0720259054968\t\r\n",
      "credit  \t50894 \t0.052005141861\t\r\n",
      "servicing  \t36767 \t0.0375697145204\t\r\n",
      "report  \t30546 \t0.0312128947083\t\r\n",
      "on  \t29069 \t0.0297036481463\t\r\n",
      "information  \t29069 \t0.0297036481463\t\r\n",
      "incorrect  \t29069 \t0.0297036481463\t\r\n",
      "or  \t22533 \t0.0230249511053\t\r\n",
      "account  \t20681 \t0.021132517366\t\r\n"
     ]
    }
   ],
   "source": [
    "# 3.2.C OUTPUT/ANSWER\n",
    "#top 10\n",
    "!hdfs dfs -cat 32ordered_results-output/part-0000* > 32ordered_results-output.txt\n",
    "!head 32ordered_results-output.txt"
   ]
  },
  {
   "cell_type": "code",
   "execution_count": 222,
   "metadata": {
    "collapsed": false
   },
   "outputs": [
    {
     "name": "stdout",
     "output_type": "stream",
     "text": [
      "apply  \t118 \t0.000120576231768\t\r\n",
      "amount  \t98 \t0.000100139582316\t\r\n",
      "credited  \t92 \t9.40085874801e-05\t\r\n",
      "payment  \t92 \t9.40085874801e-05\t\r\n",
      "checks  \t75 \t7.66374354457e-05\t\r\n",
      "convenience  \t75 \t7.66374354457e-05\t\r\n",
      "amt  \t71 \t7.25501055553e-05\t\r\n",
      "day  \t71 \t7.25501055553e-05\t\r\n",
      "disclosures  \t64 \t6.5397278247e-05\t\r\n",
      "incorrect/missing  \t64 \t6.5397278247e-05\t\r\n"
     ]
    }
   ],
   "source": [
    "# 3.2.C OUTPUT/ANSWER\n",
    "#bottom 10\n",
    "!hdfs dfs -cat 32ordered_results-output/part-0000* > 32ordered_results-output.txt\n",
    "!tail 32ordered_results-output.txt"
   ]
  },
  {
   "cell_type": "markdown",
   "metadata": {},
   "source": [
    "Screenshot of Counters:"
   ]
  },
  {
   "cell_type": "markdown",
   "metadata": {
    "collapsed": true
   },
   "source": [
    "![3.2.C Counters Screenshot](3.2.C counters.PNG)"
   ]
  },
  {
   "cell_type": "markdown",
   "metadata": {},
   "source": [
    "<a name=\"3.2.1\"></a>\n",
    "### 3.2.1  \n",
    "Using **2 reducers**: What are the top **50 most frequent terms** in your word count analysis? \n",
    "\n",
    "Present the top 50 terms and their frequency and their relative frequency. Present the top 50 terms and their frequency and their relative frequency. If there are ties please sort the tokens in alphanumeric/string order. Present bottom 10 tokens (least frequent items). Please **use a combiner.**"
   ]
  },
  {
   "cell_type": "markdown",
   "metadata": {},
   "source": [
    "#### START STUDENT CODE HW321 (INSERT CELLS BELOW AS NEEDED)"
   ]
  },
  {
   "cell_type": "code",
   "execution_count": 36,
   "metadata": {
    "collapsed": false
   },
   "outputs": [
    {
     "name": "stdout",
     "output_type": "stream",
     "text": [
      "Overwriting mapper3.2.1.py\n"
     ]
    }
   ],
   "source": [
    "%%writefile mapper3.2.1.py\n",
    "#!/usr/bin/env python\n",
    "# START STUDENT CODE HW321 MAPPER\n",
    "\n",
    "import sys\n",
    "import re\n",
    "\n",
    "def partition_function(word):\n",
    "    assert len(word) > 0\n",
    "    return word[0]\n",
    "\n",
    "sys.stderr.write(\"reporter:counter:HW3.2.C Mapper Counters,Calls,1\\n\")\n",
    "for line in sys.stdin:\n",
    "    cols = line.split(\",\")\n",
    "    issue = cols[3]\n",
    "    issue = issue.strip()\n",
    "    words = issue.split(\" \")\n",
    "    for w in words:\n",
    "        if(w):\n",
    "            partno = partition_function(w)\n",
    "            if partno.lower() <= 'h':\n",
    "                partno = \"A\"\n",
    "            elif partno.lower() <= 'p':\n",
    "                partno = \"B\"\n",
    "            else:\n",
    "                partno = \"C\"\n",
    "            w = w.lower()\n",
    "            w = w.replace('\"','')\n",
    "            print partno, \"\\t\", w, \"\\t\", 1\n",
    "\n",
    "for x in range(3):\n",
    "    if(x == 0):\n",
    "        print \"A\", \"\\t\", \"**total\", \"\\t\", 1\n",
    "    if(x == 1):\n",
    "        print \"B\", \"\\t\", \"**total\", \"\\t\", 1\n",
    "    if(x == 2):\n",
    "        print \"C\", \"\\t\", \"**total\", \"\\t\", 1\n",
    "\n",
    "# END STUDENT CODE HW321 MAPPER"
   ]
  },
  {
   "cell_type": "code",
   "execution_count": 41,
   "metadata": {
    "collapsed": false
   },
   "outputs": [
    {
     "name": "stdout",
     "output_type": "stream",
     "text": [
      "Overwriting combiner3.2.1.py\n"
     ]
    }
   ],
   "source": [
    "%%writefile combiner3.2.1.py\n",
    "#!/usr/bin/env python\n",
    "# START STUDENT CODE HW321 COMBINER\n",
    "import sys\n",
    "import re\n",
    "\n",
    "cur_key = None\n",
    "cur_count = 0\n",
    "cur_partkey = None\n",
    "\n",
    "sys.stderr.write(\"reporter:counter:HW3.2.C Combiner Counters,Calls,1\\n\")\n",
    "for line in sys.stdin:\n",
    "    partkey, key, value = line.split(\"\\t\",2)\n",
    "    if key == cur_key:\n",
    "        cur_count += int(value)\n",
    "    else:\n",
    "        if cur_key:\n",
    "            print '%s\\t%s\\t%s' % (cur_partkey, cur_key, cur_count)\n",
    "        cur_key = key\n",
    "        cur_count = int(value)\n",
    "        cur_partkey = partkey\n",
    "\n",
    "print '%s\\t%s\\t%s' % (cur_partkey, cur_key, cur_count)\n",
    "\n",
    "# END STUDENT CODE HW321 COMBINER"
   ]
  },
  {
   "cell_type": "code",
   "execution_count": 47,
   "metadata": {
    "collapsed": false
   },
   "outputs": [
    {
     "name": "stdout",
     "output_type": "stream",
     "text": [
      "Overwriting reducer3.2.1.py\n"
     ]
    }
   ],
   "source": [
    "%%writefile reducer3.2.1.py\n",
    "#!/usr/bin/env python\n",
    "# START STUDENT CODE HW32C REDUCER\n",
    "import sys\n",
    "import re\n",
    "from collections import defaultdict\n",
    "\n",
    "total = 0\n",
    "cur_key = None\n",
    "cur_count = 0\n",
    "words = defaultdict(int)\n",
    "\n",
    "sys.stderr.write(\"reporter:counter:HW3.2.C Reducer Counters,Calls,1\\n\")\n",
    "\n",
    "for line in sys.stdin:\n",
    "    partkey, key, value = line.split(\"\\t\",2)\n",
    "    if(key.strip() == \"**total\"):\n",
    "        total += int(value)\n",
    "    elif key == cur_key:\n",
    "        cur_count += int(value)\n",
    "    else:\n",
    "        if cur_key:\n",
    "            words[cur_key] += cur_count\n",
    "            #print cur_key, '\\t', cur_count, '\\t', (float(cur_count)/float(total))\n",
    "        cur_key = key\n",
    "        cur_count = int(value)\n",
    "\n",
    "words[cur_key] += cur_count\n",
    "#print cur_key, '\\t', cur_count, '\\t', (float(cur_count)/float(total))\n",
    "\n",
    "for key in sorted(words):\n",
    "    print key, '\\t', words[key], '\\t', (float(words[key])/float(total))\n",
    "\n",
    "# END STUDENT CODE HW32C REDUCER"
   ]
  },
  {
   "cell_type": "code",
   "execution_count": 53,
   "metadata": {
    "collapsed": false
   },
   "outputs": [
    {
     "name": "stdout",
     "output_type": "stream",
     "text": [
      "Deleted Consumer_Complaints.csv\n",
      "Deleted 321_results-output\n",
      "packageJobJar: [] [/usr/jars/hadoop-streaming-2.6.0-cdh5.7.0.jar] /tmp/streamjob3607602195618378176.jar tmpDir=null\n",
      "17/09/22 05:50:52 INFO client.RMProxy: Connecting to ResourceManager at /0.0.0.0:8032\n",
      "17/09/22 05:50:53 INFO client.RMProxy: Connecting to ResourceManager at /0.0.0.0:8032\n",
      "17/09/22 05:50:53 INFO mapred.FileInputFormat: Total input paths to process : 1\n",
      "17/09/22 05:50:53 INFO mapreduce.JobSubmitter: number of splits:2\n",
      "17/09/22 05:50:54 INFO mapreduce.JobSubmitter: Submitting tokens for job: job_1506044050794_0014\n",
      "17/09/22 05:50:54 INFO impl.YarnClientImpl: Submitted application application_1506044050794_0014\n",
      "17/09/22 05:50:54 INFO mapreduce.Job: The url to track the job: http://quickstart.cloudera:8088/proxy/application_1506044050794_0014/\n",
      "17/09/22 05:50:54 INFO mapreduce.Job: Running job: job_1506044050794_0014\n",
      "17/09/22 05:51:00 INFO mapreduce.Job: Job job_1506044050794_0014 running in uber mode : false\n",
      "17/09/22 05:51:00 INFO mapreduce.Job:  map 0% reduce 0%\n",
      "17/09/22 05:51:10 INFO mapreduce.Job:  map 50% reduce 0%\n",
      "17/09/22 05:51:11 INFO mapreduce.Job:  map 100% reduce 0%\n",
      "17/09/22 05:51:20 INFO mapreduce.Job:  map 100% reduce 33%\n",
      "17/09/22 05:51:21 INFO mapreduce.Job:  map 100% reduce 67%\n",
      "17/09/22 05:51:23 INFO mapreduce.Job:  map 100% reduce 100%\n",
      "17/09/22 05:51:23 INFO mapreduce.Job: Job job_1506044050794_0014 completed successfully\n",
      "17/09/22 05:51:23 INFO mapreduce.Job: Counters: 52\n",
      "\tFile System Counters\n",
      "\t\tFILE: Number of bytes read=5309077\n",
      "\t\tFILE: Number of bytes written=11210753\n",
      "\t\tFILE: Number of read operations=0\n",
      "\t\tFILE: Number of large read operations=0\n",
      "\t\tFILE: Number of write operations=0\n",
      "\t\tHDFS: Number of bytes read=50910816\n",
      "\t\tHDFS: Number of bytes written=3739\n",
      "\t\tHDFS: Number of read operations=15\n",
      "\t\tHDFS: Number of large read operations=0\n",
      "\t\tHDFS: Number of write operations=6\n",
      "\tJob Counters \n",
      "\t\tLaunched map tasks=2\n",
      "\t\tLaunched reduce tasks=3\n",
      "\t\tData-local map tasks=2\n",
      "\t\tTotal time spent by all maps in occupied slots (ms)=16996\n",
      "\t\tTotal time spent by all reduces in occupied slots (ms)=23058\n",
      "\t\tTotal time spent by all map tasks (ms)=16996\n",
      "\t\tTotal time spent by all reduce tasks (ms)=23058\n",
      "\t\tTotal vcore-seconds taken by all map tasks=16996\n",
      "\t\tTotal vcore-seconds taken by all reduce tasks=23058\n",
      "\t\tTotal megabyte-seconds taken by all map tasks=17403904\n",
      "\t\tTotal megabyte-seconds taken by all reduce tasks=23611392\n",
      "\tMap-Reduce Framework\n",
      "\t\tMap input records=312913\n",
      "\t\tMap output records=978640\n",
      "\t\tMap output bytes=14186843\n",
      "\t\tMap output materialized bytes=5309095\n",
      "\t\tInput split bytes=234\n",
      "\t\tCombine input records=978640\n",
      "\t\tCombine output records=336240\n",
      "\t\tReduce input groups=9\n",
      "\t\tReduce shuffle bytes=5309095\n",
      "\t\tReduce input records=336240\n",
      "\t\tReduce output records=169\n",
      "\t\tSpilled Records=672480\n",
      "\t\tShuffled Maps =6\n",
      "\t\tFailed Shuffles=0\n",
      "\t\tMerged Map outputs=6\n",
      "\t\tGC time elapsed (ms)=281\n",
      "\t\tCPU time spent (ms)=10950\n",
      "\t\tPhysical memory (bytes) snapshot=1362677760\n",
      "\t\tVirtual memory (bytes) snapshot=6832107520\n",
      "\t\tTotal committed heap usage (bytes)=1402470400\n",
      "\tHW3.2.C Combiner Counters\n",
      "\t\tCalls=6\n",
      "\tHW3.2.C Mapper Counters\n",
      "\t\tCalls=2\n",
      "\tHW3.2.C Reducer Counters\n",
      "\t\tCalls=3\n",
      "\tShuffle Errors\n",
      "\t\tBAD_ID=0\n",
      "\t\tCONNECTION=0\n",
      "\t\tIO_ERROR=0\n",
      "\t\tWRONG_LENGTH=0\n",
      "\t\tWRONG_MAP=0\n",
      "\t\tWRONG_REDUCE=0\n",
      "\tFile Input Format Counters \n",
      "\t\tBytes Read=50910582\n",
      "\tFile Output Format Counters \n",
      "\t\tBytes Written=3739\n",
      "17/09/22 05:51:23 INFO streaming.StreamJob: Output directory: 321_results-output\n",
      "packageJobJar: [] [/usr/jars/hadoop-streaming-2.6.0-cdh5.7.0.jar] /tmp/streamjob2963771853153494244.jar tmpDir=null\n",
      "17/09/22 05:51:26 INFO client.RMProxy: Connecting to ResourceManager at /0.0.0.0:8032\n",
      "17/09/22 05:51:26 INFO client.RMProxy: Connecting to ResourceManager at /0.0.0.0:8032\n",
      "17/09/22 05:51:27 INFO mapred.FileInputFormat: Total input paths to process : 3\n",
      "17/09/22 05:51:27 INFO mapreduce.JobSubmitter: number of splits:3\n",
      "17/09/22 05:51:27 INFO Configuration.deprecation: mapred.output.key.comparator.class is deprecated. Instead, use mapreduce.job.output.key.comparator.class\n",
      "17/09/22 05:51:27 INFO mapreduce.JobSubmitter: Submitting tokens for job: job_1506044050794_0015\n",
      "17/09/22 05:51:27 INFO impl.YarnClientImpl: Submitted application application_1506044050794_0015\n",
      "17/09/22 05:51:27 INFO mapreduce.Job: The url to track the job: http://quickstart.cloudera:8088/proxy/application_1506044050794_0015/\n",
      "17/09/22 05:51:27 INFO mapreduce.Job: Running job: job_1506044050794_0015\n",
      "17/09/22 05:51:33 INFO mapreduce.Job: Job job_1506044050794_0015 running in uber mode : false\n",
      "17/09/22 05:51:33 INFO mapreduce.Job:  map 0% reduce 0%\n",
      "17/09/22 05:51:42 INFO mapreduce.Job:  map 67% reduce 0%\n",
      "17/09/22 05:51:43 INFO mapreduce.Job:  map 100% reduce 0%\n",
      "17/09/22 05:51:47 INFO mapreduce.Job:  map 100% reduce 100%\n",
      "17/09/22 05:51:47 INFO mapreduce.Job: Job job_1506044050794_0015 completed successfully\n",
      "17/09/22 05:51:47 INFO mapreduce.Job: Counters: 49\n",
      "\tFile System Counters\n",
      "\t\tFILE: Number of bytes read=4252\n",
      "\t\tFILE: Number of bytes written=472997\n",
      "\t\tFILE: Number of read operations=0\n",
      "\t\tFILE: Number of large read operations=0\n",
      "\t\tFILE: Number of write operations=0\n",
      "\t\tHDFS: Number of bytes read=4108\n",
      "\t\tHDFS: Number of bytes written=3908\n",
      "\t\tHDFS: Number of read operations=12\n",
      "\t\tHDFS: Number of large read operations=0\n",
      "\t\tHDFS: Number of write operations=2\n",
      "\tJob Counters \n",
      "\t\tLaunched map tasks=3\n",
      "\t\tLaunched reduce tasks=1\n",
      "\t\tData-local map tasks=3\n",
      "\t\tTotal time spent by all maps in occupied slots (ms)=17502\n",
      "\t\tTotal time spent by all reduces in occupied slots (ms)=3140\n",
      "\t\tTotal time spent by all map tasks (ms)=17502\n",
      "\t\tTotal time spent by all reduce tasks (ms)=3140\n",
      "\t\tTotal vcore-seconds taken by all map tasks=17502\n",
      "\t\tTotal vcore-seconds taken by all reduce tasks=3140\n",
      "\t\tTotal megabyte-seconds taken by all map tasks=17922048\n",
      "\t\tTotal megabyte-seconds taken by all reduce tasks=3215360\n",
      "\tMap-Reduce Framework\n",
      "\t\tMap input records=169\n",
      "\t\tMap output records=169\n",
      "\t\tMap output bytes=3908\n",
      "\t\tMap output materialized bytes=4264\n",
      "\t\tInput split bytes=369\n",
      "\t\tCombine input records=0\n",
      "\t\tCombine output records=0\n",
      "\t\tReduce input groups=169\n",
      "\t\tReduce shuffle bytes=4264\n",
      "\t\tReduce input records=169\n",
      "\t\tReduce output records=169\n",
      "\t\tSpilled Records=338\n",
      "\t\tShuffled Maps =3\n",
      "\t\tFailed Shuffles=0\n",
      "\t\tMerged Map outputs=3\n",
      "\t\tGC time elapsed (ms)=175\n",
      "\t\tCPU time spent (ms)=1990\n",
      "\t\tPhysical memory (bytes) snapshot=973971456\n",
      "\t\tVirtual memory (bytes) snapshot=5440053248\n",
      "\t\tTotal committed heap usage (bytes)=909639680\n",
      "\tShuffle Errors\n",
      "\t\tBAD_ID=0\n",
      "\t\tCONNECTION=0\n",
      "\t\tIO_ERROR=0\n",
      "\t\tWRONG_LENGTH=0\n",
      "\t\tWRONG_MAP=0\n",
      "\t\tWRONG_REDUCE=0\n",
      "\tFile Input Format Counters \n",
      "\t\tBytes Read=3739\n",
      "\tFile Output Format Counters \n",
      "\t\tBytes Written=3908\n",
      "17/09/22 05:51:47 INFO streaming.StreamJob: Output directory: 321_sorted-results-output\n"
     ]
    }
   ],
   "source": [
    "# Hadoop command\n",
    "# START STUDENT CODE HW321HADOOP\n",
    "\n",
    "!hdfs dfs -rm  Consumer_Complaints.csv \n",
    "!hdfs dfs -copyFromLocal Consumer_Complaints.csv\n",
    "!hdfs dfs -rm -r 321_results-output\n",
    "!hdfs dfs -rm -r 321_sorted-results-output\n",
    "\n",
    "##################### IMPORTANT ########################################################################\n",
    "# Make sure you have the correct paths to the jar file as wel as the input and output files!!\n",
    "# make sure to include the -files option. Do ***** NOT ****** put spaces between the file paths!\n",
    "########################################################################################################\n",
    "\n",
    "!hadoop jar /usr/lib/hadoop-0.20-mapreduce/contrib/streaming/hadoop-streaming-2.6.0-mr1-cdh5.7.0.jar \\\n",
    "  -D stream.num.map.output.key.fields=3 \\\n",
    "  -D stream.map.output.field.separator=\"\\t\" \\\n",
    "  -D mapreduce.partition.keypartitioner.options=-k1,1 \\\n",
    "  -D mapreduce.job.output.key.comparator.class=org.apache.hadoop.mapred.lib.KeyFieldBasedComparator \\\n",
    "  -D mapreduce.partition.keycomparator.options=\"-k1,1 -k2,2nr -k3,3\" \\\n",
    "  -files reducer3.2.1.py,mapper3.2.1.py,combiner3.2.1.py \\\n",
    "  -mapper mapper3.2.1.py \\\n",
    "  -reducer reducer3.2.1.py \\\n",
    "  -combiner combiner3.2.1.py \\\n",
    "  -input Consumer_Complaints.csv  \\\n",
    "  -output 321_results-output  \\\n",
    "  -numReduceTasks 3\n",
    "\n",
    "!hadoop jar /usr/lib/hadoop-0.20-mapreduce/contrib/streaming/hadoop-streaming-2.6.0-mr1-cdh5.7.0.jar \\\n",
    "  -D mapred.output.key.comparator.class=org.apache.hadoop.mapred.lib.KeyFieldBasedComparator \\\n",
    "  -D stream.map.output.field.separator=\"\\t\" \\\n",
    "  -D mapreduce.partition.keycomparator.options=\"-k3,3nr\" \\\n",
    "  -mapper /bin/cat \\\n",
    "  -reducer /bin/cat \\\n",
    "  -input 321_results-output \\\n",
    "  -output 321_sorted-results-output  \\\n",
    "  -numReduceTasks 1\n",
    "\n",
    "\n",
    "# END STUDENT CODE HW321HADOOP"
   ]
  },
  {
   "cell_type": "code",
   "execution_count": 54,
   "metadata": {
    "collapsed": false
   },
   "outputs": [
    {
     "name": "stdout",
     "output_type": "stream",
     "text": [
      "loan  \t107254 \t53627.0\t\r\n",
      "modification  \t70487 \t35243.5\t\r\n",
      "credit  \t50894 \t25447.0\t\r\n",
      "servicing  \t36767 \t18383.5\t\r\n",
      "report  \t30546 \t15273.0\t\r\n",
      "incorrect  \t29069 \t14534.5\t\r\n",
      "on  \t29069 \t14534.5\t\r\n",
      "information  \t29069 \t14534.5\t\r\n",
      "or  \t22533 \t11266.5\t\r\n",
      "account  \t20681 \t10340.5\t\r\n",
      "debt  \t19309 \t9654.5\t\r\n",
      "and  \t16448 \t8224.0\t\r\n",
      "opening  \t16205 \t8102.5\t\r\n",
      "health  \t12545 \t6272.5\t\r\n",
      "club  \t12545 \t6272.5\t\r\n",
      "/  \t12386 \t6193.0\t\r\n",
      "not  \t12353 \t6176.5\t\r\n",
      "loan  \t12237 \t6118.5\t\r\n",
      "owed  \t11848 \t5924.0\t\r\n",
      "attempts  \t11848 \t5924.0\t\r\n",
      "collect  \t11848 \t5924.0\t\r\n",
      "cont'd  \t11848 \t5924.0\t\r\n",
      "of  \t10885 \t5442.5\t\r\n",
      "my  \t10731 \t5365.5\t\r\n",
      "withdrawals  \t10555 \t5277.5\t\r\n",
      "deposits  \t10555 \t5277.5\t\r\n",
      "problems  \t9484 \t4742.0\t\r\n",
      "application  \t8868 \t4434.0\t\r\n",
      "to  \t8401 \t4200.5\t\r\n",
      "unable  \t8178 \t4089.0\t\r\n",
      "billing  \t8158 \t4079.0\t\r\n",
      "other  \t7886 \t3943.0\t\r\n",
      "disputes  \t6938 \t3469.0\t\r\n",
      "tactics  \t6920 \t3460.0\t\r\n",
      "communication  \t6920 \t3460.0\t\r\n",
      "reporting  \t6559 \t3279.5\t\r\n",
      "lease  \t6337 \t3168.5\t\r\n",
      "the  \t6248 \t3124.0\t\r\n",
      "low  \t5663 \t2831.5\t\r\n",
      "being  \t5663 \t2831.5\t\r\n",
      "caused  \t5663 \t2831.5\t\r\n",
      "funds  \t5663 \t2831.5\t\r\n",
      "by  \t5663 \t2831.5\t\r\n",
      "process  \t5505 \t2752.5\t\r\n",
      "disclosure  \t5214 \t2607.0\t\r\n",
      "verification  \t5214 \t2607.0\t\r\n",
      "managing  \t5006 \t2503.0\t\r\n",
      "investigation  \t4858 \t2429.0\t\r\n",
      "company's  \t4858 \t2429.0\t\r\n",
      "identity  \t4729 \t2364.5\t\r\n"
     ]
    }
   ],
   "source": [
    "!hdfs dfs -cat 321_sorted-results-output/part-* | head -n50"
   ]
  },
  {
   "cell_type": "code",
   "execution_count": 55,
   "metadata": {
    "collapsed": false
   },
   "outputs": [
    {
     "name": "stdout",
     "output_type": "stream",
     "text": [
      "apply  \t118 \t59.0\t\r\n",
      "amount  \t98 \t49.0\t\r\n",
      "payment  \t92 \t46.0\t\r\n",
      "credited  \t92 \t46.0\t\r\n",
      "checks  \t75 \t37.5\t\r\n",
      "convenience  \t75 \t37.5\t\r\n",
      "amt  \t71 \t35.5\t\r\n",
      "day  \t71 \t35.5\t\r\n",
      "incorrect/missing  \t64 \t32.0\t\r\n",
      "disclosures  \t64 \t32.0\t\r\n"
     ]
    }
   ],
   "source": [
    "!hdfs dfs -cat 321_sorted-results-output/part-0000* > 321_sorted-results-output.txt\n",
    "!tail 321_sorted-results-output.txt"
   ]
  },
  {
   "cell_type": "markdown",
   "metadata": {},
   "source": [
    "#### END STUDENT CODE HW321"
   ]
  },
  {
   "cell_type": "markdown",
   "metadata": {},
   "source": [
    "## HW3.3. Shopping Cart Analysis\n",
    "Product Recommendations: \n",
    ">The action or practice of selling additional products or services to existing customers is called cross-selling. Giving a product recommendation is one example of cross-selling that are frequently used by online retailers. One simple method to give product recommendations is to recommend products that are frequently browsed together by the customers.\n",
    "\t\n",
    "For this homework question you will perform some exploratory data analysis on the online browsing behavior dataset `ProductPurchaseData.txt` in preparation for performing product recommendations later. Use Hadoop MapReduce for your EDA. Consider answering the following questions: \n",
    "* How many unique items are available from this supplier?\n",
    "* What is the largest basket?\n",
    "* What are the top 50 most frequently purchased items? their frequency? their relative frequency? (break ties by sorting in alphabetical order\n",
    "\n",
    "NOTE: Use a single reducer for all jobs in this section."
   ]
  },
  {
   "cell_type": "markdown",
   "metadata": {},
   "source": [
    "#### START STUDENT CODE HW33 (INSERT CELLS BELOW AS NEEDED)"
   ]
  },
  {
   "cell_type": "code",
   "execution_count": 19,
   "metadata": {
    "collapsed": false
   },
   "outputs": [
    {
     "name": "stdout",
     "output_type": "stream",
     "text": [
      "Writing mapper3.3a.py\n"
     ]
    }
   ],
   "source": [
    "%%writefile mapper3.3a.py\n",
    "#!/usr/bin/env python\n",
    "# START STUDENT CODE HW3.3a MAPPER\n",
    "import sys\n",
    "import re\n",
    "from collections import defaultdict\n",
    "\n",
    "wordCounts=defaultdict(int)\n",
    "\n",
    "for line in sys.stdin:\n",
    "    for word in line.split():\n",
    "        wordCounts[word] += 1\n",
    "\n",
    "for key in sorted(wordCounts):\n",
    "    print key, '\\t', wordCounts[key]\n",
    "\n",
    "# END STUDENT CODE HW3.3a MAPPER"
   ]
  },
  {
   "cell_type": "code",
   "execution_count": 23,
   "metadata": {
    "collapsed": false
   },
   "outputs": [
    {
     "name": "stdout",
     "output_type": "stream",
     "text": [
      "Overwriting reducer3.3a.py\n"
     ]
    }
   ],
   "source": [
    "%%writefile reducer3.3a.py\n",
    "#!/usr/bin/env python\n",
    "# START STUDENT CODE HW3.3a\n",
    "import sys\n",
    "from collections import defaultdict\n",
    "\n",
    "prev_key = None\n",
    "cur_count = 0\n",
    "wordCounts=defaultdict(int)\n",
    "vocab_count=0\n",
    "\n",
    "for line in sys.stdin:\n",
    "    line = line.strip()\n",
    "    word, count = line.split('\\t')\n",
    "    wordCounts[word] += int(count)\n",
    "\n",
    "for key in sorted(wordCounts):\n",
    "    vocab_count += 1\n",
    "    \n",
    "print vocab_count\n",
    "# END STUDENT CODE HW3.3a REDUCER"
   ]
  },
  {
   "cell_type": "code",
   "execution_count": 25,
   "metadata": {
    "collapsed": false
   },
   "outputs": [
    {
     "name": "stdout",
     "output_type": "stream",
     "text": [
      "Deleted ProductPurchaseData.txt\n",
      "Deleted 33a-results-output\n",
      "packageJobJar: [] [/usr/jars/hadoop-streaming-2.6.0-cdh5.7.0.jar] /tmp/streamjob5815456957769028467.jar tmpDir=null\n",
      "17/09/19 00:29:33 INFO client.RMProxy: Connecting to ResourceManager at /0.0.0.0:8032\n",
      "17/09/19 00:29:33 INFO client.RMProxy: Connecting to ResourceManager at /0.0.0.0:8032\n",
      "17/09/19 00:29:34 INFO mapred.FileInputFormat: Total input paths to process : 1\n",
      "17/09/19 00:29:34 INFO mapreduce.JobSubmitter: number of splits:2\n",
      "17/09/19 00:29:34 INFO mapreduce.JobSubmitter: Submitting tokens for job: job_1505779970054_0005\n",
      "17/09/19 00:29:35 INFO impl.YarnClientImpl: Submitted application application_1505779970054_0005\n",
      "17/09/19 00:29:35 INFO mapreduce.Job: The url to track the job: http://quickstart.cloudera:8088/proxy/application_1505779970054_0005/\n",
      "17/09/19 00:29:35 INFO mapreduce.Job: Running job: job_1505779970054_0005\n",
      "17/09/19 00:29:41 INFO mapreduce.Job: Job job_1505779970054_0005 running in uber mode : false\n",
      "17/09/19 00:29:41 INFO mapreduce.Job:  map 0% reduce 0%\n",
      "17/09/19 00:29:48 INFO mapreduce.Job:  map 50% reduce 0%\n",
      "17/09/19 00:29:49 INFO mapreduce.Job:  map 100% reduce 0%\n",
      "17/09/19 00:29:53 INFO mapreduce.Job:  map 100% reduce 100%\n",
      "17/09/19 00:29:54 INFO mapreduce.Job: Job job_1505779970054_0005 completed successfully\n",
      "17/09/19 00:29:54 INFO mapreduce.Job: Counters: 49\n",
      "\tFile System Counters\n",
      "\t\tFILE: Number of bytes read=253678\n",
      "\t\tFILE: Number of bytes written=858487\n",
      "\t\tFILE: Number of read operations=0\n",
      "\t\tFILE: Number of large read operations=0\n",
      "\t\tFILE: Number of write operations=0\n",
      "\t\tHDFS: Number of bytes read=3462847\n",
      "\t\tHDFS: Number of bytes written=7\n",
      "\t\tHDFS: Number of read operations=9\n",
      "\t\tHDFS: Number of large read operations=0\n",
      "\t\tHDFS: Number of write operations=2\n",
      "\tJob Counters \n",
      "\t\tLaunched map tasks=2\n",
      "\t\tLaunched reduce tasks=1\n",
      "\t\tData-local map tasks=2\n",
      "\t\tTotal time spent by all maps in occupied slots (ms)=9411\n",
      "\t\tTotal time spent by all reduces in occupied slots (ms)=3425\n",
      "\t\tTotal time spent by all map tasks (ms)=9411\n",
      "\t\tTotal time spent by all reduce tasks (ms)=3425\n",
      "\t\tTotal vcore-seconds taken by all map tasks=9411\n",
      "\t\tTotal vcore-seconds taken by all reduce tasks=3425\n",
      "\t\tTotal megabyte-seconds taken by all map tasks=9636864\n",
      "\t\tTotal megabyte-seconds taken by all reduce tasks=3507200\n",
      "\tMap-Reduce Framework\n",
      "\t\tMap input records=31101\n",
      "\t\tMap output records=17745\n",
      "\t\tMap output bytes=218182\n",
      "\t\tMap output materialized bytes=253684\n",
      "\t\tInput split bytes=234\n",
      "\t\tCombine input records=0\n",
      "\t\tCombine output records=0\n",
      "\t\tReduce input groups=12592\n",
      "\t\tReduce shuffle bytes=253684\n",
      "\t\tReduce input records=17745\n",
      "\t\tReduce output records=1\n",
      "\t\tSpilled Records=35490\n",
      "\t\tShuffled Maps =2\n",
      "\t\tFailed Shuffles=0\n",
      "\t\tMerged Map outputs=2\n",
      "\t\tGC time elapsed (ms)=113\n",
      "\t\tCPU time spent (ms)=3060\n",
      "\t\tPhysical memory (bytes) snapshot=741875712\n",
      "\t\tVirtual memory (bytes) snapshot=4087709696\n",
      "\t\tTotal committed heap usage (bytes)=728236032\n",
      "\tShuffle Errors\n",
      "\t\tBAD_ID=0\n",
      "\t\tCONNECTION=0\n",
      "\t\tIO_ERROR=0\n",
      "\t\tWRONG_LENGTH=0\n",
      "\t\tWRONG_MAP=0\n",
      "\t\tWRONG_REDUCE=0\n",
      "\tFile Input Format Counters \n",
      "\t\tBytes Read=3462613\n",
      "\tFile Output Format Counters \n",
      "\t\tBytes Written=7\n",
      "17/09/19 00:29:54 INFO streaming.StreamJob: Output directory: 33a-results-output\n"
     ]
    }
   ],
   "source": [
    "# START STUDENT CODE HW33a HADOOP\n",
    "!hdfs dfs -rm ProductPurchaseData.txt\n",
    "!hdfs dfs -copyFromLocal ProductPurchaseData.txt \n",
    "!hdfs dfs -rm -r 33a-results-output\n",
    "\n",
    "##################### IMPORTANT ########################################################################\n",
    "# Make sure you have the correct paths to the jar file as wel as the input and output files!!\n",
    "# make sure to include the -files option. Do ***** NOT ****** put spaces between the file paths!\n",
    "########################################################################################################\n",
    "\n",
    "!hadoop jar /usr/lib/hadoop-0.20-mapreduce/contrib/streaming/hadoop-streaming-2.6.0-mr1-cdh5.7.0.jar \\\n",
    "  -files reducer3.3a.py,mapper3.3a.py \\\n",
    "  -mapper mapper3.3a.py \\\n",
    "  -reducer reducer3.3a.py \\\n",
    "  -input ProductPurchaseData.txt  \\\n",
    "  -output 33a-results-output  \\\n",
    "  -numReduceTasks 1\n",
    "# END STUDENT CODE HW211HADOOP"
   ]
  },
  {
   "cell_type": "code",
   "execution_count": 26,
   "metadata": {
    "collapsed": false
   },
   "outputs": [
    {
     "name": "stdout",
     "output_type": "stream",
     "text": [
      "12592\t\r\n"
     ]
    }
   ],
   "source": [
    "!hdfs dfs -cat 33a-results-output/part-0000* > 33a-results-output.txt\n",
    "!head 33a-results-output.txt"
   ]
  },
  {
   "cell_type": "markdown",
   "metadata": {},
   "source": [
    "There are 12,592 unique items from this supplier."
   ]
  },
  {
   "cell_type": "code",
   "execution_count": 70,
   "metadata": {
    "collapsed": false
   },
   "outputs": [
    {
     "name": "stdout",
     "output_type": "stream",
     "text": [
      "Overwriting mapper3.3b.py\n"
     ]
    }
   ],
   "source": [
    "%%writefile mapper3.3b.py\n",
    "#!/usr/bin/env python\n",
    "# START STUDENT CODE HW3.3b MAPPER\n",
    "import sys\n",
    "import re\n",
    "from collections import defaultdict\n",
    "\n",
    "wordCounts=defaultdict(int)\n",
    "lineNum = 1\n",
    "\n",
    "for line in sys.stdin:\n",
    "    for word in line.split():\n",
    "        wordCounts[lineNum] += 1\n",
    "    lineNum += 1\n",
    "\n",
    "for key in sorted(wordCounts):\n",
    "    print key, '\\t', wordCounts[key]\n",
    "\n",
    "# END STUDENT CODE HW3.3b MAPPER"
   ]
  },
  {
   "cell_type": "code",
   "execution_count": 71,
   "metadata": {
    "collapsed": false
   },
   "outputs": [
    {
     "name": "stdout",
     "output_type": "stream",
     "text": [
      "Overwriting reducer3.3b.py\n"
     ]
    }
   ],
   "source": [
    "%%writefile reducer3.3b.py\n",
    "#!/usr/bin/env python\n",
    "# START STUDENT CODE HW3.3b\n",
    "import sys\n",
    "from collections import defaultdict\n",
    "\n",
    "maxCount = 0\n",
    "cur_basket = None\n",
    "\n",
    "\n",
    "for line in sys.stdin:\n",
    "    line = line.strip()\n",
    "    basket, count = line.split(\"\\t\",1)\n",
    "    if(count > maxCount):\n",
    "        maxCount = count\n",
    "        cur_basket = basket\n",
    "    \n",
    "print \"Max Basket: \", cur_basket\n",
    "print \"Item Count: \", maxCount\n",
    "# END STUDENT CODE HW3.3b REDUCER"
   ]
  },
  {
   "cell_type": "code",
   "execution_count": 74,
   "metadata": {
    "collapsed": false
   },
   "outputs": [
    {
     "name": "stdout",
     "output_type": "stream",
     "text": [
      "Deleted ProductPurchaseData.txt\n",
      "Deleted 33b-results-output\n",
      "17/09/22 06:37:55 INFO Configuration.deprecation: mapred.output.key.comparator.class is deprecated. Instead, use mapreduce.job.output.key.comparator.class\n",
      "packageJobJar: [] [/usr/jars/hadoop-streaming-2.6.0-cdh5.7.0.jar] /tmp/streamjob1749417633100939526.jar tmpDir=null\n",
      "17/09/22 06:37:56 INFO client.RMProxy: Connecting to ResourceManager at /0.0.0.0:8032\n",
      "17/09/22 06:37:56 INFO client.RMProxy: Connecting to ResourceManager at /0.0.0.0:8032\n",
      "17/09/22 06:37:57 INFO mapred.FileInputFormat: Total input paths to process : 1\n",
      "17/09/22 06:37:57 INFO mapreduce.JobSubmitter: number of splits:2\n",
      "17/09/22 06:37:57 INFO mapreduce.JobSubmitter: Submitting tokens for job: job_1506044050794_0022\n",
      "17/09/22 06:37:57 INFO impl.YarnClientImpl: Submitted application application_1506044050794_0022\n",
      "17/09/22 06:37:57 INFO mapreduce.Job: The url to track the job: http://quickstart.cloudera:8088/proxy/application_1506044050794_0022/\n",
      "17/09/22 06:37:57 INFO mapreduce.Job: Running job: job_1506044050794_0022\n",
      "17/09/22 06:38:03 INFO mapreduce.Job: Job job_1506044050794_0022 running in uber mode : false\n",
      "17/09/22 06:38:03 INFO mapreduce.Job:  map 0% reduce 0%\n",
      "17/09/22 06:38:11 INFO mapreduce.Job:  map 50% reduce 0%\n",
      "17/09/22 06:38:12 INFO mapreduce.Job:  map 100% reduce 0%\n",
      "17/09/22 06:38:17 INFO mapreduce.Job:  map 100% reduce 100%\n",
      "17/09/22 06:38:17 INFO mapreduce.Job: Job job_1506044050794_0022 completed successfully\n",
      "17/09/22 06:38:17 INFO mapreduce.Job: Counters: 49\n",
      "\tFile System Counters\n",
      "\t\tFILE: Number of bytes read=371510\n",
      "\t\tFILE: Number of bytes written=1095555\n",
      "\t\tFILE: Number of read operations=0\n",
      "\t\tFILE: Number of large read operations=0\n",
      "\t\tFILE: Number of write operations=0\n",
      "\t\tHDFS: Number of bytes read=3462847\n",
      "\t\tHDFS: Number of bytes written=309302\n",
      "\t\tHDFS: Number of read operations=9\n",
      "\t\tHDFS: Number of large read operations=0\n",
      "\t\tHDFS: Number of write operations=2\n",
      "\tJob Counters \n",
      "\t\tLaunched map tasks=2\n",
      "\t\tLaunched reduce tasks=1\n",
      "\t\tData-local map tasks=2\n",
      "\t\tTotal time spent by all maps in occupied slots (ms)=9506\n",
      "\t\tTotal time spent by all reduces in occupied slots (ms)=3528\n",
      "\t\tTotal time spent by all map tasks (ms)=9506\n",
      "\t\tTotal time spent by all reduce tasks (ms)=3528\n",
      "\t\tTotal vcore-seconds taken by all map tasks=9506\n",
      "\t\tTotal vcore-seconds taken by all reduce tasks=3528\n",
      "\t\tTotal megabyte-seconds taken by all map tasks=9734144\n",
      "\t\tTotal megabyte-seconds taken by all reduce tasks=3612672\n",
      "\tMap-Reduce Framework\n",
      "\t\tMap input records=31101\n",
      "\t\tMap output records=31101\n",
      "\t\tMap output bytes=309302\n",
      "\t\tMap output materialized bytes=371516\n",
      "\t\tInput split bytes=234\n",
      "\t\tCombine input records=0\n",
      "\t\tCombine output records=0\n",
      "\t\tReduce input groups=31101\n",
      "\t\tReduce shuffle bytes=371516\n",
      "\t\tReduce input records=31101\n",
      "\t\tReduce output records=31101\n",
      "\t\tSpilled Records=62202\n",
      "\t\tShuffled Maps =2\n",
      "\t\tFailed Shuffles=0\n",
      "\t\tMerged Map outputs=2\n",
      "\t\tGC time elapsed (ms)=111\n",
      "\t\tCPU time spent (ms)=3770\n",
      "\t\tPhysical memory (bytes) snapshot=765251584\n",
      "\t\tVirtual memory (bytes) snapshot=4084146176\n",
      "\t\tTotal committed heap usage (bytes)=725090304\n",
      "\tShuffle Errors\n",
      "\t\tBAD_ID=0\n",
      "\t\tCONNECTION=0\n",
      "\t\tIO_ERROR=0\n",
      "\t\tWRONG_LENGTH=0\n",
      "\t\tWRONG_MAP=0\n",
      "\t\tWRONG_REDUCE=0\n",
      "\tFile Input Format Counters \n",
      "\t\tBytes Read=3462613\n",
      "\tFile Output Format Counters \n",
      "\t\tBytes Written=309302\n",
      "17/09/22 06:38:17 INFO streaming.StreamJob: Output directory: 33b-results-output\n"
     ]
    }
   ],
   "source": [
    "# START STUDENT CODE HW33a HADOOP\n",
    "!hdfs dfs -rm ProductPurchaseData.txt\n",
    "!hdfs dfs -copyFromLocal ProductPurchaseData.txt \n",
    "!hdfs dfs -rm -r 33b-results-output\n",
    "\n",
    "##################### IMPORTANT ########################################################################\n",
    "# Make sure you have the correct paths to the jar file as wel as the input and output files!!\n",
    "# make sure to include the -files option. Do ***** NOT ****** put spaces between the file paths!\n",
    "########################################################################################################\n",
    "\n",
    "!hadoop jar /usr/lib/hadoop-0.20-mapreduce/contrib/streaming/hadoop-streaming-2.6.0-mr1-cdh5.7.0.jar \\\n",
    "  -D mapred.output.key.comparator.class=org.apache.hadoop.mapred.lib.KeyFieldBasedComparator \\\n",
    "  -D stream.map.output.field.separator=\"\\t\" \\\n",
    "  -D mapreduce.partition.keycomparator.options=\"-k2,2nr\" \\\n",
    "  -files reducer3.3b.py,mapper3.3b.py \\\n",
    "  -mapper mapper3.3b.py \\\n",
    "  -reducer /bin/cat \\\n",
    "  -input ProductPurchaseData.txt  \\\n",
    "  -output 33b-results-output  \\\n",
    "  -numReduceTasks 1\n",
    "# END STUDENT CODE HW211HADOOP"
   ]
  },
  {
   "cell_type": "code",
   "execution_count": 75,
   "metadata": {
    "collapsed": false
   },
   "outputs": [
    {
     "name": "stdout",
     "output_type": "stream",
     "text": [
      "7034 \t37\t\r\n",
      "6914 \t37\t\r\n",
      "6857 \t36\t\r\n",
      "6894 \t36\t\r\n",
      "4943 \t36\t\r\n",
      "6819 \t36\t\r\n",
      "10947 \t36\t\r\n",
      "7647 \t35\t\r\n",
      "11226 \t35\t\r\n",
      "12774 \t35\t\r\n"
     ]
    }
   ],
   "source": [
    "!hdfs dfs -cat 33b-results-output/part-0000* > 33b-results-output.txt\n",
    "!head 33b-results-output.txt"
   ]
  },
  {
   "cell_type": "markdown",
   "metadata": {},
   "source": [
    "The largest basket has 37 items. "
   ]
  },
  {
   "cell_type": "code",
   "execution_count": 41,
   "metadata": {
    "collapsed": false
   },
   "outputs": [
    {
     "name": "stdout",
     "output_type": "stream",
     "text": [
      "Writing mapper3.3c.py\n"
     ]
    }
   ],
   "source": [
    "%%writefile mapper3.3c.py\n",
    "#!/usr/bin/env python\n",
    "# START STUDENT CODE HW32C MAPPER\n",
    "\n",
    "import sys\n",
    "import re\n",
    "from collections import defaultdict\n",
    "\n",
    "wordCounts=defaultdict(int)\n",
    "\n",
    "for line in sys.stdin:\n",
    "    for word in line.split():\n",
    "        wordCounts[word] += 1\n",
    "\n",
    "for key in sorted(wordCounts):\n",
    "    print key, '\\t', wordCounts[key]\n",
    "\n",
    "# END STUDENT CODE HW32C MAPPER"
   ]
  },
  {
   "cell_type": "code",
   "execution_count": 126,
   "metadata": {
    "collapsed": false
   },
   "outputs": [
    {
     "name": "stdout",
     "output_type": "stream",
     "text": [
      "Overwriting reducer3.3c.py\n"
     ]
    }
   ],
   "source": [
    "%%writefile reducer3.3c.py\n",
    "#!/usr/bin/env python\n",
    "# START STUDENT CODE HW32C REDUCER\n",
    "import sys\n",
    "import re\n",
    "from collections import defaultdict\n",
    "\n",
    "cur_key = 0\n",
    "total = 0\n",
    "wordCounts=defaultdict(int)\n",
    "\n",
    "for line in sys.stdin:\n",
    "    key, value = line.split(\"\\t\",1)\n",
    "    wordCounts[key] += int(value)\n",
    "    total += int(value)\n",
    "\n",
    "for key in sorted(wordCounts):\n",
    "    print key, \"\\t\", wordCounts[key], \"\\t\", total\n",
    "\n",
    "\n",
    "# END STUDENT CODE HW32C REDUCER"
   ]
  },
  {
   "cell_type": "code",
   "execution_count": 127,
   "metadata": {
    "collapsed": false
   },
   "outputs": [
    {
     "name": "stdout",
     "output_type": "stream",
     "text": [
      "Deleted ProductPurchaseData.txt\n",
      "Deleted 33c-results-output\n",
      "packageJobJar: [] [/usr/jars/hadoop-streaming-2.6.0-cdh5.7.0.jar] /tmp/streamjob4890980214733055397.jar tmpDir=null\n",
      "17/09/19 02:23:13 INFO client.RMProxy: Connecting to ResourceManager at /0.0.0.0:8032\n",
      "17/09/19 02:23:13 INFO client.RMProxy: Connecting to ResourceManager at /0.0.0.0:8032\n",
      "17/09/19 02:23:14 INFO mapred.FileInputFormat: Total input paths to process : 1\n",
      "17/09/19 02:23:14 INFO mapreduce.JobSubmitter: number of splits:2\n",
      "17/09/19 02:23:14 INFO mapreduce.JobSubmitter: Submitting tokens for job: job_1505779970054_0033\n",
      "17/09/19 02:23:14 INFO impl.YarnClientImpl: Submitted application application_1505779970054_0033\n",
      "17/09/19 02:23:14 INFO mapreduce.Job: The url to track the job: http://quickstart.cloudera:8088/proxy/application_1505779970054_0033/\n",
      "17/09/19 02:23:14 INFO mapreduce.Job: Running job: job_1505779970054_0033\n",
      "17/09/19 02:23:19 INFO mapreduce.Job: Job job_1505779970054_0033 running in uber mode : false\n",
      "17/09/19 02:23:19 INFO mapreduce.Job:  map 0% reduce 0%\n",
      "17/09/19 02:23:25 INFO mapreduce.Job:  map 50% reduce 0%\n",
      "17/09/19 02:23:26 INFO mapreduce.Job:  map 100% reduce 0%\n",
      "17/09/19 02:23:30 INFO mapreduce.Job:  map 100% reduce 100%\n",
      "17/09/19 02:23:30 INFO mapreduce.Job: Job job_1505779970054_0033 completed successfully\n",
      "17/09/19 02:23:31 INFO mapreduce.Job: Counters: 49\n",
      "\tFile System Counters\n",
      "\t\tFILE: Number of bytes read=253678\n",
      "\t\tFILE: Number of bytes written=858487\n",
      "\t\tFILE: Number of read operations=0\n",
      "\t\tFILE: Number of large read operations=0\n",
      "\t\tFILE: Number of write operations=0\n",
      "\t\tHDFS: Number of bytes read=3462847\n",
      "\t\tHDFS: Number of bytes written=268578\n",
      "\t\tHDFS: Number of read operations=9\n",
      "\t\tHDFS: Number of large read operations=0\n",
      "\t\tHDFS: Number of write operations=2\n",
      "\tJob Counters \n",
      "\t\tLaunched map tasks=2\n",
      "\t\tLaunched reduce tasks=1\n",
      "\t\tData-local map tasks=2\n",
      "\t\tTotal time spent by all maps in occupied slots (ms)=7557\n",
      "\t\tTotal time spent by all reduces in occupied slots (ms)=2874\n",
      "\t\tTotal time spent by all map tasks (ms)=7557\n",
      "\t\tTotal time spent by all reduce tasks (ms)=2874\n",
      "\t\tTotal vcore-seconds taken by all map tasks=7557\n",
      "\t\tTotal vcore-seconds taken by all reduce tasks=2874\n",
      "\t\tTotal megabyte-seconds taken by all map tasks=7738368\n",
      "\t\tTotal megabyte-seconds taken by all reduce tasks=2942976\n",
      "\tMap-Reduce Framework\n",
      "\t\tMap input records=31101\n",
      "\t\tMap output records=17745\n",
      "\t\tMap output bytes=218182\n",
      "\t\tMap output materialized bytes=253684\n",
      "\t\tInput split bytes=234\n",
      "\t\tCombine input records=0\n",
      "\t\tCombine output records=0\n",
      "\t\tReduce input groups=12592\n",
      "\t\tReduce shuffle bytes=253684\n",
      "\t\tReduce input records=17745\n",
      "\t\tReduce output records=12592\n",
      "\t\tSpilled Records=35490\n",
      "\t\tShuffled Maps =2\n",
      "\t\tFailed Shuffles=0\n",
      "\t\tMerged Map outputs=2\n",
      "\t\tGC time elapsed (ms)=106\n",
      "\t\tCPU time spent (ms)=2560\n",
      "\t\tPhysical memory (bytes) snapshot=735981568\n",
      "\t\tVirtual memory (bytes) snapshot=4067385344\n",
      "\t\tTotal committed heap usage (bytes)=671612928\n",
      "\tShuffle Errors\n",
      "\t\tBAD_ID=0\n",
      "\t\tCONNECTION=0\n",
      "\t\tIO_ERROR=0\n",
      "\t\tWRONG_LENGTH=0\n",
      "\t\tWRONG_MAP=0\n",
      "\t\tWRONG_REDUCE=0\n",
      "\tFile Input Format Counters \n",
      "\t\tBytes Read=3462613\n",
      "\tFile Output Format Counters \n",
      "\t\tBytes Written=268578\n",
      "17/09/19 02:23:31 INFO streaming.StreamJob: Output directory: 33c-results-output\n"
     ]
    }
   ],
   "source": [
    "# START STUDENT CODE HW33a HADOOP\n",
    "!hdfs dfs -rm ProductPurchaseData.txt\n",
    "!hdfs dfs -copyFromLocal ProductPurchaseData.txt \n",
    "!hdfs dfs -rm -r 33c-results-output\n",
    "\n",
    "##################### IMPORTANT ########################################################################\n",
    "# Make sure you have the correct paths to the jar file as wel as the input and output files!!\n",
    "# make sure to include the -files option. Do ***** NOT ****** put spaces between the file paths!\n",
    "########################################################################################################\n",
    "\n",
    "!hadoop jar /usr/lib/hadoop-0.20-mapreduce/contrib/streaming/hadoop-streaming-2.6.0-mr1-cdh5.7.0.jar \\\n",
    "  -files reducer3.3c.py,mapper3.3c.py \\\n",
    "  -mapper mapper3.3c.py \\\n",
    "  -reducer reducer3.3c.py \\\n",
    "  -input ProductPurchaseData.txt  \\\n",
    "  -output 33c-results-output  \\\n",
    "  -numReduceTasks 1\n",
    "# END STUDENT CODE HW211HADOOP"
   ]
  },
  {
   "cell_type": "code",
   "execution_count": 128,
   "metadata": {
    "collapsed": false
   },
   "outputs": [
    {
     "name": "stdout",
     "output_type": "stream",
     "text": [
      "DAI11153  \t8 \t380824\r\n",
      "DAI11223  \t155 \t380824\r\n",
      "DAI11238  \t3 \t380824\r\n",
      "DAI11257  \t1 \t380824\r\n",
      "DAI11261  \t6 \t380824\r\n",
      "DAI11273  \t1 \t380824\r\n",
      "DAI11290  \t5 \t380824\r\n",
      "DAI11299  \t2 \t380824\r\n",
      "DAI11375  \t1 \t380824\r\n",
      "DAI11462  \t8 \t380824\r\n"
     ]
    }
   ],
   "source": [
    "!hdfs dfs -cat 33c-results-output/part-0000* > 33c-results-output.txt\n",
    "!head 33c-results-output.txt"
   ]
  },
  {
   "cell_type": "markdown",
   "metadata": {},
   "source": [
    "#### END STUDENT CODE HW33"
   ]
  },
  {
   "cell_type": "markdown",
   "metadata": {},
   "source": [
    "<a name=\"3.3.1\"></a>\n",
    "## HW3.3.1 OPTIONAL \n",
    "Using 2 reducers:  Report your findings such as number of unique products; largest basket; report the top 50 most frequently purchased items,  their frequency,  and their relative frequency (break ties by sorting the products alphabetical order) etc. using Hadoop Map-Reduce. "
   ]
  },
  {
   "cell_type": "markdown",
   "metadata": {},
   "source": [
    "#### START STUDENT CODE HW331 (INSERT CELLS BELOW AS NEEDED)"
   ]
  },
  {
   "cell_type": "markdown",
   "metadata": {},
   "source": [
    "#### END STUDENT CODE HW331"
   ]
  },
  {
   "cell_type": "markdown",
   "metadata": {},
   "source": [
    "## HW3.4. (Computationally prohibitive but then again Hadoop can handle this) Pairs\n",
    "\n",
    "Suppose we want to recommend new products to the customer based on the products they\n",
    "have already browsed on the online website. Write a map-reduce program \n",
    "to find products which are frequently browsed together. Fix the support count (cooccurence count) to s = 100 \n",
    "(i.e. product pairs need to occur together at least 100 times to be considered frequent) \n",
    "and find pairs of items (sometimes referred to itemsets of size 2 in association rule mining) that have a support count of 100 or more.\n",
    "\n",
    "List the top 50 product pairs with corresponding support count (aka frequency), and support (aka relative frequency) in decreasing order of support  for frequent (100>count) itemsets of size 2. \n",
    "\n",
    "The relative frequency of a bigram (AKA itemset of size 2) $(w_i, w_j)$ relative to its first word $w_i$ is the number of occurrences of the pair $(w_i, w_j)$ related to the number of occurrences of the word $w_i$. For instance, if the word \"euro\" followed by the word \"crisis\" occurs 10 times and the word \"euro\" occurs 20 times in total, we say that the frequency of the pair (\"euro\",\"crisis\") is $\\frac{10}{20}$ = 0.5.\n",
    "\n",
    "$$ f(B|A) = \\frac{count(A,B)}{count(A)} = \\frac{count(A,B)}{\\sum_{B'} count(A,B')}$$\n",
    "\n",
    "\n",
    "Use the Pairs pattern (lecture 3)  to  extract these frequent itemsets of size 2. Feel free to use combiners if they bring value. Instrument your code with counters for count the number of times your mapper, combiner, and reducers are called.  \n",
    "\n",
    "Please output records of the following form for the top 50 pairs (itemsets of size 2): \n",
    "\n",
    "      item1, item2, support count, support\n",
    "\n",
    "\n",
    "\n",
    "Fix the ordering of the pairs lexicographically (left to right), and break ties in support (between pairs, if any exist) by taking the first ones in lexicographically increasing order. \n",
    "\n",
    "Report  the compute time for the Pairs job. Describe the computational setup used (E.g., single computer; dual core; linux, number of mappers, number of reducers)\n",
    "Instrument your mapper, combiner, and reducer to count how many times each is called using Counters and report these counts."
   ]
  },
  {
   "cell_type": "markdown",
   "metadata": {},
   "source": [
    "#### START STUDENT CODE HW34 (INSERT CELLS BELOW AS NEEDED)"
   ]
  },
  {
   "cell_type": "code",
   "execution_count": 93,
   "metadata": {
    "collapsed": false
   },
   "outputs": [
    {
     "name": "stdout",
     "output_type": "stream",
     "text": [
      "Writing mapper3.4.py\n"
     ]
    }
   ],
   "source": [
    "%%writefile mapper3.4.py\n",
    "#!/usr/bin/env python\n",
    "# START STUDENT CODE HW34 MAPPER\n",
    "#NO COMBINING -- 3.4\n",
    "\n",
    "import sys\n",
    "\n",
    "sys.stderr.write(\"reporter:counter:HW3.4 Mapper Counters,Calls,1\\n\")\n",
    "\n",
    "for line in sys.stdin:\n",
    "    prods = line.split()\n",
    "    prods = sorted(prods)\n",
    "    #take the line, split into pairs\n",
    "    for x in range(len(prods)):\n",
    "        print prods[x], '\\t', 1\n",
    "        #create tuple\n",
    "        for y in range(x, len(prods)):\n",
    "            if(prods[x] != prods[y]):\n",
    "                string = prods[x] + \",\" + prods[y]\n",
    "                #add to dict\n",
    "                print string, '\\t', 1\n",
    "\n",
    "# END STUDENT CODE HW34 MAPPER"
   ]
  },
  {
   "cell_type": "code",
   "execution_count": 94,
   "metadata": {
    "collapsed": false
   },
   "outputs": [
    {
     "name": "stdout",
     "output_type": "stream",
     "text": [
      "Writing combiner3.4.py\n"
     ]
    }
   ],
   "source": [
    "%%writefile combiner3.4.py\n",
    "#!/usr/bin/env python\n",
    "# START STUDENT CODE HW34 COMBINER\n",
    "\n",
    "import sys\n",
    "from collections import defaultdict\n",
    "\n",
    "sys.stderr.write(\"reporter:counter:HW3.4 Combiner Counters,Calls,1\\n\")\n",
    "\n",
    "cur_key = 0\n",
    "cur_count = 0\n",
    "\n",
    "for line in sys.stdin:\n",
    "    key, value = line.split(\"\\t\", 1)\n",
    "    if(cur_key == key):\n",
    "            cur_count += int(value)\n",
    "    else:\n",
    "        if cur_key:\n",
    "            print '%s\\t%s' % (cur_key, cur_count)\n",
    "        cur_key = key\n",
    "        cur_count = int(value)\n",
    "print '%s\\t%s' % (cur_key, cur_count)\n",
    "\n",
    "# END STUDENT CODE HW34 COMBINER"
   ]
  },
  {
   "cell_type": "code",
   "execution_count": 106,
   "metadata": {
    "collapsed": false
   },
   "outputs": [
    {
     "name": "stdout",
     "output_type": "stream",
     "text": [
      "Overwriting reducer3.4.py\n"
     ]
    }
   ],
   "source": [
    "%%writefile reducer3.4.py\n",
    "#!/usr/bin/env python\n",
    "\n",
    "##see how previous thing outputs, if it sorts it right then you can stream it all and not have to store any values\n",
    "##like, check if key has comma, if not it's the start of a new letter\n",
    "#store that value as word frequency\n",
    "#then the next however many will be pair frequencies\n",
    "#print key, count, wordfrequency/count\n",
    "\n",
    "import sys\n",
    "\n",
    "sys.stderr.write(\"reporter:counter:HW3.4 Reducer Counters,Calls,1\\n\")\n",
    "\n",
    "cur_key = None\n",
    "cur_pair = 0\n",
    "cur_count = 0\n",
    "s = 100\n",
    "\n",
    "for line in sys.stdin:\n",
    "    key, value = line.split(\"\\t\", 1)\n",
    "    if(\",\" not in key and key == cur_key):\n",
    "        #add to product total\n",
    "        cur_count += int(value)\n",
    "    elif(key == cur_key):\n",
    "        cur_pair += int(value)\n",
    "    else:\n",
    "        if(cur_key):\n",
    "            if(cur_pair >= s):\n",
    "                print cur_key, '\\t', cur_pair, '\\t', float(cur_pair)/float(cur_count)\n",
    "        cur_key = key\n",
    "        if(\",\" not in key):\n",
    "            #it's a new item, set count back to 0 and \n",
    "            cur_count = int(value)\n",
    "            cur_pair = 0\n",
    "        else:\n",
    "            cur_pair = int(value)\n",
    "\n",
    "if(cur_pair >= s):\n",
    "    print cur_key, '\\t', cur_pair, '\\t', float(cur_pair)/float(cur_count)\n",
    "\n",
    "# END STUDENT CODE HW34 REDUCER"
   ]
  },
  {
   "cell_type": "code",
   "execution_count": 108,
   "metadata": {
    "collapsed": false
   },
   "outputs": [
    {
     "name": "stdout",
     "output_type": "stream",
     "text": [
      "Deleted ProductPurchaseData.txt\n",
      "Deleted 34temp_results-output\n",
      "Deleted 34_results-output\n",
      "packageJobJar: [] [/usr/jars/hadoop-streaming-2.6.0-cdh5.7.0.jar] /tmp/streamjob6121954329941816876.jar tmpDir=null\n",
      "17/09/20 03:24:57 INFO client.RMProxy: Connecting to ResourceManager at /0.0.0.0:8032\n",
      "17/09/20 03:24:57 INFO client.RMProxy: Connecting to ResourceManager at /0.0.0.0:8032\n",
      "17/09/20 03:24:57 INFO mapred.FileInputFormat: Total input paths to process : 1\n",
      "17/09/20 03:24:57 INFO mapreduce.JobSubmitter: number of splits:2\n",
      "17/09/20 03:24:58 INFO mapreduce.JobSubmitter: Submitting tokens for job: job_1505856639673_0037\n",
      "17/09/20 03:24:58 INFO impl.YarnClientImpl: Submitted application application_1505856639673_0037\n",
      "17/09/20 03:24:58 INFO mapreduce.Job: The url to track the job: http://quickstart.cloudera:8088/proxy/application_1505856639673_0037/\n",
      "17/09/20 03:24:58 INFO mapreduce.Job: Running job: job_1505856639673_0037\n",
      "17/09/20 03:25:04 INFO mapreduce.Job: Job job_1505856639673_0037 running in uber mode : false\n",
      "17/09/20 03:25:04 INFO mapreduce.Job:  map 0% reduce 0%\n",
      "17/09/20 03:25:15 INFO mapreduce.Job:  map 33% reduce 0%\n",
      "17/09/20 03:25:16 INFO mapreduce.Job:  map 50% reduce 0%\n",
      "17/09/20 03:25:17 INFO mapreduce.Job:  map 83% reduce 0%\n",
      "17/09/20 03:25:18 INFO mapreduce.Job:  map 100% reduce 0%\n",
      "17/09/20 03:25:25 INFO mapreduce.Job:  map 100% reduce 100%\n",
      "17/09/20 03:25:26 INFO mapreduce.Job: Job job_1505856639673_0037 completed successfully\n",
      "17/09/20 03:25:26 INFO mapreduce.Job: Counters: 52\n",
      "\tFile System Counters\n",
      "\t\tFILE: Number of bytes read=23904536\n",
      "\t\tFILE: Number of bytes written=48162087\n",
      "\t\tFILE: Number of read operations=0\n",
      "\t\tFILE: Number of large read operations=0\n",
      "\t\tFILE: Number of write operations=0\n",
      "\t\tHDFS: Number of bytes read=3462847\n",
      "\t\tHDFS: Number of bytes written=54005\n",
      "\t\tHDFS: Number of read operations=9\n",
      "\t\tHDFS: Number of large read operations=0\n",
      "\t\tHDFS: Number of write operations=2\n",
      "\tJob Counters \n",
      "\t\tLaunched map tasks=2\n",
      "\t\tLaunched reduce tasks=1\n",
      "\t\tData-local map tasks=2\n",
      "\t\tTotal time spent by all maps in occupied slots (ms)=21083\n",
      "\t\tTotal time spent by all reduces in occupied slots (ms)=6546\n",
      "\t\tTotal time spent by all map tasks (ms)=21083\n",
      "\t\tTotal time spent by all reduce tasks (ms)=6546\n",
      "\t\tTotal vcore-seconds taken by all map tasks=21083\n",
      "\t\tTotal vcore-seconds taken by all reduce tasks=6546\n",
      "\t\tTotal megabyte-seconds taken by all map tasks=21588992\n",
      "\t\tTotal megabyte-seconds taken by all reduce tasks=6703104\n",
      "\tMap-Reduce Framework\n",
      "\t\tMap input records=31101\n",
      "\t\tMap output records=2914878\n",
      "\t\tMap output bytes=57785022\n",
      "\t\tMap output materialized bytes=23904542\n",
      "\t\tInput split bytes=234\n",
      "\t\tCombine input records=2914878\n",
      "\t\tCombine output records=1044452\n",
      "\t\tReduce input groups=889687\n",
      "\t\tReduce shuffle bytes=23904542\n",
      "\t\tReduce input records=1044452\n",
      "\t\tReduce output records=1334\n",
      "\t\tSpilled Records=2088904\n",
      "\t\tShuffled Maps =2\n",
      "\t\tFailed Shuffles=0\n",
      "\t\tMerged Map outputs=2\n",
      "\t\tGC time elapsed (ms)=114\n",
      "\t\tCPU time spent (ms)=11890\n",
      "\t\tPhysical memory (bytes) snapshot=791060480\n",
      "\t\tVirtual memory (bytes) snapshot=4087283712\n",
      "\t\tTotal committed heap usage (bytes)=844103680\n",
      "\tHW3.4 Combiner Counters\n",
      "\t\tCalls=2\n",
      "\tHW3.4 Mapper Counters\n",
      "\t\tCalls=2\n",
      "\tHW3.4 Reducer Counters\n",
      "\t\tCalls=1\n",
      "\tShuffle Errors\n",
      "\t\tBAD_ID=0\n",
      "\t\tCONNECTION=0\n",
      "\t\tIO_ERROR=0\n",
      "\t\tWRONG_LENGTH=0\n",
      "\t\tWRONG_MAP=0\n",
      "\t\tWRONG_REDUCE=0\n",
      "\tFile Input Format Counters \n",
      "\t\tBytes Read=3462613\n",
      "\tFile Output Format Counters \n",
      "\t\tBytes Written=54005\n",
      "17/09/20 03:25:26 INFO streaming.StreamJob: Output directory: 34temp_results-output\n",
      "packageJobJar: [] [/usr/jars/hadoop-streaming-2.6.0-cdh5.7.0.jar] /tmp/streamjob559478482280433314.jar tmpDir=null\n",
      "17/09/20 03:25:29 INFO client.RMProxy: Connecting to ResourceManager at /0.0.0.0:8032\n",
      "17/09/20 03:25:30 INFO client.RMProxy: Connecting to ResourceManager at /0.0.0.0:8032\n",
      "17/09/20 03:25:30 INFO mapred.FileInputFormat: Total input paths to process : 1\n",
      "17/09/20 03:25:30 INFO mapreduce.JobSubmitter: number of splits:2\n",
      "17/09/20 03:25:30 INFO Configuration.deprecation: mapred.output.key.comparator.class is deprecated. Instead, use mapreduce.job.output.key.comparator.class\n",
      "17/09/20 03:25:30 INFO mapreduce.JobSubmitter: Submitting tokens for job: job_1505856639673_0038\n",
      "17/09/20 03:25:31 INFO impl.YarnClientImpl: Submitted application application_1505856639673_0038\n",
      "17/09/20 03:25:31 INFO mapreduce.Job: The url to track the job: http://quickstart.cloudera:8088/proxy/application_1505856639673_0038/\n",
      "17/09/20 03:25:31 INFO mapreduce.Job: Running job: job_1505856639673_0038\n",
      "17/09/20 03:25:37 INFO mapreduce.Job: Job job_1505856639673_0038 running in uber mode : false\n",
      "17/09/20 03:25:37 INFO mapreduce.Job:  map 0% reduce 0%\n",
      "17/09/20 03:25:43 INFO mapreduce.Job:  map 50% reduce 0%\n",
      "17/09/20 03:25:44 INFO mapreduce.Job:  map 100% reduce 0%\n",
      "17/09/20 03:25:49 INFO mapreduce.Job:  map 100% reduce 100%\n",
      "17/09/20 03:25:49 INFO mapreduce.Job: Job job_1505856639673_0038 completed successfully\n",
      "17/09/20 03:25:49 INFO mapreduce.Job: Counters: 49\n",
      "\tFile System Counters\n",
      "\t\tFILE: Number of bytes read=58013\n",
      "\t\tFILE: Number of bytes written=464361\n",
      "\t\tFILE: Number of read operations=0\n",
      "\t\tFILE: Number of large read operations=0\n",
      "\t\tFILE: Number of write operations=0\n",
      "\t\tHDFS: Number of bytes read=58353\n",
      "\t\tHDFS: Number of bytes written=55339\n",
      "\t\tHDFS: Number of read operations=9\n",
      "\t\tHDFS: Number of large read operations=0\n",
      "\t\tHDFS: Number of write operations=2\n",
      "\tJob Counters \n",
      "\t\tLaunched map tasks=2\n",
      "\t\tLaunched reduce tasks=1\n",
      "\t\tData-local map tasks=2\n",
      "\t\tTotal time spent by all maps in occupied slots (ms)=8230\n",
      "\t\tTotal time spent by all reduces in occupied slots (ms)=3039\n",
      "\t\tTotal time spent by all map tasks (ms)=8230\n",
      "\t\tTotal time spent by all reduce tasks (ms)=3039\n",
      "\t\tTotal vcore-seconds taken by all map tasks=8230\n",
      "\t\tTotal vcore-seconds taken by all reduce tasks=3039\n",
      "\t\tTotal megabyte-seconds taken by all map tasks=8427520\n",
      "\t\tTotal megabyte-seconds taken by all reduce tasks=3111936\n",
      "\tMap-Reduce Framework\n",
      "\t\tMap input records=1334\n",
      "\t\tMap output records=1334\n",
      "\t\tMap output bytes=55339\n",
      "\t\tMap output materialized bytes=58019\n",
      "\t\tInput split bytes=252\n",
      "\t\tCombine input records=0\n",
      "\t\tCombine output records=0\n",
      "\t\tReduce input groups=1334\n",
      "\t\tReduce shuffle bytes=58019\n",
      "\t\tReduce input records=1334\n",
      "\t\tReduce output records=1334\n",
      "\t\tSpilled Records=2668\n",
      "\t\tShuffled Maps =2\n",
      "\t\tFailed Shuffles=0\n",
      "\t\tMerged Map outputs=2\n",
      "\t\tGC time elapsed (ms)=89\n",
      "\t\tCPU time spent (ms)=1830\n",
      "\t\tPhysical memory (bytes) snapshot=716599296\n",
      "\t\tVirtual memory (bytes) snapshot=4087648256\n",
      "\t\tTotal committed heap usage (bytes)=673710080\n",
      "\tShuffle Errors\n",
      "\t\tBAD_ID=0\n",
      "\t\tCONNECTION=0\n",
      "\t\tIO_ERROR=0\n",
      "\t\tWRONG_LENGTH=0\n",
      "\t\tWRONG_MAP=0\n",
      "\t\tWRONG_REDUCE=0\n",
      "\tFile Input Format Counters \n",
      "\t\tBytes Read=58101\n",
      "\tFile Output Format Counters \n",
      "\t\tBytes Written=55339\n",
      "17/09/20 03:25:49 INFO streaming.StreamJob: Output directory: 34_results-output\n"
     ]
    }
   ],
   "source": [
    "# Hadoop command\n",
    "# START STUDENT CODE HW32BHADOOP\n",
    "!hdfs dfs -rm  ProductPurchaseData.txt \n",
    "!hdfs dfs -copyFromLocal ProductPurchaseData.txt\n",
    "!hdfs dfs -rm -r 34temp_results-output\n",
    "!hdfs dfs -rm -r 34_results-output\n",
    "\n",
    "##################### IMPORTANT ########################################################################\n",
    "# Make sure you have the correct paths to the jar file as wel as the input and output files!!\n",
    "# make sure to include the -files option. Do ***** NOT ****** put spaces between the file paths!\n",
    "########################################################################################################\n",
    "\n",
    "!hadoop jar /usr/lib/hadoop-0.20-mapreduce/contrib/streaming/hadoop-streaming-2.6.0-mr1-cdh5.7.0.jar \\\n",
    "  -files reducer3.4.py,mapper3.4.py,combiner3.4.py \\\n",
    "  -mapper mapper3.4.py \\\n",
    "  -combiner combiner3.4.py \\\n",
    "  -reducer reducer3.4.py \\\n",
    "  -input ProductPurchaseData.txt  \\\n",
    "  -output 34temp_results-output  \\\n",
    "  -numReduceTasks 1\n",
    "    \n",
    "!hadoop jar /usr/lib/hadoop-0.20-mapreduce/contrib/streaming/hadoop-streaming-2.6.0-mr1-cdh5.7.0.jar \\\n",
    "  -D mapred.output.key.comparator.class=org.apache.hadoop.mapred.lib.KeyFieldBasedComparator \\\n",
    "  -D stream.map.output.field.separator=\"\\t\" \\\n",
    "  -D mapreduce.partition.keycomparator.options=\"-k3,3nr\" \\\n",
    "  -mapper /bin/cat \\\n",
    "  -reducer /bin/cat \\\n",
    "  -input 34temp_results-output \\\n",
    "  -output 34_results-output  \\\n",
    "  -numReduceTasks 1\n",
    "# END STUDENT CODE HW32BHADOOP"
   ]
  },
  {
   "cell_type": "code",
   "execution_count": 111,
   "metadata": {
    "collapsed": false
   },
   "outputs": [
    {
     "name": "stdout",
     "output_type": "stream",
     "text": [
      "DAI93865,FRO40251  \t208 \t1.0\t\r\n",
      "ELE12951,FRO40251  \t105 \t0.990566037736\t\r\n",
      "DAI88079,FRO40251  \t446 \t0.986725663717\t\r\n",
      "DAI43868,SNA82528  \t288 \t0.972972972973\t\r\n",
      "DAI23334,DAI62779  \t273 \t0.954545454545\t\r\n",
      "DAI53152,FRO40251  \t140 \t0.717948717949\t\r\n",
      "ELE55848,GRO32086  \t105 \t0.709459459459\t\r\n",
      "DAI37288,ELE32164  \t117 \t0.646408839779\t\r\n",
      "ELE32244,ELE66600  \t219 \t0.640350877193\t\r\n",
      "FRO73056,GRO44993  \t438 \t0.601648351648\t\r\n",
      "DAI46755,FRO81176  \t148 \t0.580392156863\t\r\n",
      "ELE88583,SNA24799  \t190 \t0.579268292683\t\r\n",
      "DAI16732,FRO78087  \t106 \t0.566844919786\t\r\n",
      "DAI43223,ELE32164  \t711 \t0.551162790698\t\r\n",
      "DAI55148,DAI62779  \t526 \t0.539487179487\t\r\n",
      "ELE20847,FRO40251  \t434 \t0.530562347188\t\r\n",
      "SNA30533,SNA96271  \t169 \t0.509036144578\t\r\n",
      "ELE20847,SNA80324  \t410 \t0.501222493888\t\r\n",
      "DAI23334,ELE92920  \t143 \t0.5\t\r\n",
      "DAI42083,DAI92600  \t256 \t0.490421455939\t\r\n",
      "DAI83031,DAI94679  \t141 \t0.474747474747\t\r\n",
      "DAI75645,FRO40251  \t1254 \t0.458333333333\t\r\n",
      "DAI88088,ELE38289  \t180 \t0.456852791878\t\r\n",
      "ELE28189,FRO17734  \t164 \t0.454293628809\t\r\n",
      "ELE78169,GRO94758  \t252 \t0.451612903226\t\r\n",
      "ELE25077,GRO89004  \t215 \t0.449790794979\t\r\n",
      "ELE69552,FRO19221  \t136 \t0.448844884488\t\r\n",
      "FRO47962,GRO73461  \t137 \t0.447712418301\t\r\n",
      "SNA53220,SNA93860  \t254 \t0.437931034483\t\r\n",
      "DAI22534,DAI62779  \t123 \t0.428571428571\t\r\n",
      "ELE30182,SNA24799  \t114 \t0.416058394161\t\r\n",
      "FRO92469,SNA80324  \t352 \t0.414605418139\t\r\n",
      "DAI75645,SNA80324  \t1130 \t0.413011695906\t\r\n",
      "FRO74605,GRO73461  \t105 \t0.402298850575\t\r\n",
      "DAI43223,GRO59710  \t512 \t0.396899224806\t\r\n",
      "ELE24630,ELE26917  \t127 \t0.395638629283\t\r\n",
      "FRO61354,SNA80324  \t176 \t0.391111111111\t\r\n",
      "GRO85051,SNA80324  \t471 \t0.387973640857\t\r\n",
      "SNA31619,SNA96271  \t109 \t0.387900355872\t\r\n",
      "DAI70456,ELE37770  \t165 \t0.386416861827\t\r\n",
      "FRO64631,SNA99873  \t130 \t0.381231671554\t\r\n",
      "DAI18527,SNA44451  \t102 \t0.380597014925\t\r\n",
      "ELE92920,SNA18336  \t455 \t0.380116959064\t\r\n",
      "SNA74022,SNA96271  \t107 \t0.374125874126\t\r\n",
      "ELE37770,ELE74482  \t235 \t0.373015873016\t\r\n",
      "ELE78169,SNA45677  \t206 \t0.36917562724\t\r\n",
      "DAI22240,ELE37048  \t219 \t0.366834170854\t\r\n",
      "ELE30933,GRO73461  \t119 \t0.363914373089\t\r\n",
      "FRO40251,SNA80324  \t1412 \t0.363823756764\t\r\n",
      "GRO69543,GRO73461  \t320 \t0.362811791383\t\r\n"
     ]
    }
   ],
   "source": [
    "!hdfs dfs -cat 34_results-output/part-0000* > 34_results-output.txt\n",
    "!head -50 34_results-output.txt"
   ]
  },
  {
   "cell_type": "markdown",
   "metadata": {},
   "source": [
    "#### END STUDENT CODE HW34"
   ]
  },
  {
   "cell_type": "markdown",
   "metadata": {},
   "source": [
    "<a name=\"3.5\"></a>\n",
    "## HW3.5: Stripes\n",
    "Repeat 3.4 using the stripes design pattern for finding cooccuring pairs.\n",
    "\n",
    "Report  the compute times for stripes job versus the Pairs job. Describe the computational setup used (E.g., single computer; dual core; linux, number of mappers, number of reducers)\n",
    "\n",
    "Instrument your mapper, combiner, and reducer to count how many times each is called using Counters and report these counts. Discuss the differences in these counts between the Pairs and Stripes jobs\n"
   ]
  },
  {
   "cell_type": "markdown",
   "metadata": {},
   "source": [
    "#### START STUDENT CODE HW35 (INSERT CELLS BELOW AS NEEDED)"
   ]
  },
  {
   "cell_type": "code",
   "execution_count": 112,
   "metadata": {
    "collapsed": false
   },
   "outputs": [
    {
     "name": "stdout",
     "output_type": "stream",
     "text": [
      "Overwriting mapper3.5.py\n"
     ]
    }
   ],
   "source": [
    "%%writefile mapper3.5.py\n",
    "#!/usr/bin/env python\n",
    "# START STUDENT CODE HW35 MAPPER\n",
    "\n",
    "import sys\n",
    "from collections import defaultdict\n",
    "\n",
    "tuples = defaultdict(lambda : defaultdict(int))\n",
    "wordCount = defaultdict(int)\n",
    "\n",
    "sys.stderr.write(\"reporter:counter:HW3.5 Mapper Counters,Calls,1\\n\")\n",
    "\n",
    "for line in sys.stdin:\n",
    "    prods = line.split()\n",
    "    prods = sorted(prods)\n",
    "    #take the line, split into pairs\n",
    "    for x in range(len(prods)):\n",
    "        tuples[prods[x]][\"*\"] += 1\n",
    "        #create tuple\n",
    "        for y in range(x, len(prods)):\n",
    "            if(prods[x] != prods[y]):\n",
    "                #add to dict\n",
    "                tuples[prods[x]][prods[y]] += 1\n",
    "for key in sorted(tuples):\n",
    "    stripe = key + '\\t'\n",
    "    for x in sorted(tuples[key]):\n",
    "        stripe = stripe + str(x) + \":\" + str(tuples[key][x]) + \", \"\n",
    "    print stripe\n",
    "\n",
    "# END STUDENT CODE HW35 MAPPER"
   ]
  },
  {
   "cell_type": "code",
   "execution_count": 113,
   "metadata": {
    "collapsed": false
   },
   "outputs": [
    {
     "name": "stdout",
     "output_type": "stream",
     "text": [
      "Overwriting reducer3.5.py\n"
     ]
    }
   ],
   "source": [
    "%%writefile reducer3.5.py\n",
    "#!/usr/bin/env python\n",
    "# START STUDENT CODE HW32BREDUCER\n",
    "\n",
    "import sys\n",
    "from collections import defaultdict\n",
    "\n",
    "sys.stderr.write(\"reporter:counter:HW3.5 Reducer Counters,Calls,1\\n\")\n",
    "\n",
    "tuples = defaultdict(lambda : defaultdict(int))\n",
    "s = 100\n",
    "\n",
    "for line in sys.stdin:\n",
    "    #separate key and stripe\n",
    "    key, stripe = line.split(\"\\t\", 1)\n",
    "    pairs = stripe.split(\",\")\n",
    "    del pairs[-1]\n",
    "    for p in pairs:\n",
    "        #may need to remove last element since there's a comma at the end of the stripe\n",
    "        word, count = p.split(\":\",1)\n",
    "        tuples[key][word] += int(count)\n",
    "        \n",
    "for x in sorted(tuples):\n",
    "    for y in sorted(tuples[x]):\n",
    "        if(y != \"*\" and tuples[x][y] >= s):\n",
    "            tup = str(x) + \",\" + str(y)\n",
    "            print tup, '\\t', tuples[x][y], '\\t', (float(tuples[x][y])/float(tuples[x][\"*\"]))\n",
    "\n",
    "        \n",
    "#print tup, '\\t', tuples[cur_key][word], '\\t', (float(tuples[cur_key][word])/float(tuples[cur_key][\"*\"]))\n",
    "# END STUDENT CODE HW32BREDUCER"
   ]
  },
  {
   "cell_type": "code",
   "execution_count": 114,
   "metadata": {
    "collapsed": false
   },
   "outputs": [
    {
     "name": "stdout",
     "output_type": "stream",
     "text": [
      "Deleted ProductPurchaseData.txt\n",
      "Deleted 35test_results-output\n",
      "Deleted 35_results-output\n",
      "packageJobJar: [] [/usr/jars/hadoop-streaming-2.6.0-cdh5.7.0.jar] /tmp/streamjob7460723779756994403.jar tmpDir=null\n",
      "17/09/20 03:31:55 INFO client.RMProxy: Connecting to ResourceManager at /0.0.0.0:8032\n",
      "17/09/20 03:31:55 INFO client.RMProxy: Connecting to ResourceManager at /0.0.0.0:8032\n",
      "17/09/20 03:31:56 INFO mapred.FileInputFormat: Total input paths to process : 1\n",
      "17/09/20 03:31:56 INFO mapreduce.JobSubmitter: number of splits:2\n",
      "17/09/20 03:31:56 INFO mapreduce.JobSubmitter: Submitting tokens for job: job_1505856639673_0039\n",
      "17/09/20 03:31:56 INFO impl.YarnClientImpl: Submitted application application_1505856639673_0039\n",
      "17/09/20 03:31:56 INFO mapreduce.Job: The url to track the job: http://quickstart.cloudera:8088/proxy/application_1505856639673_0039/\n",
      "17/09/20 03:31:56 INFO mapreduce.Job: Running job: job_1505856639673_0039\n",
      "17/09/20 03:32:03 INFO mapreduce.Job: Job job_1505856639673_0039 running in uber mode : false\n",
      "17/09/20 03:32:03 INFO mapreduce.Job:  map 0% reduce 0%\n",
      "17/09/20 03:32:11 INFO mapreduce.Job:  map 50% reduce 0%\n",
      "17/09/20 03:32:12 INFO mapreduce.Job:  map 100% reduce 0%\n",
      "17/09/20 03:32:19 INFO mapreduce.Job:  map 100% reduce 100%\n",
      "17/09/20 03:32:19 INFO mapreduce.Job: Job job_1505856639673_0039 completed successfully\n",
      "17/09/20 03:32:19 INFO mapreduce.Job: Counters: 51\n",
      "\tFile System Counters\n",
      "\t\tFILE: Number of bytes read=12697634\n",
      "\t\tFILE: Number of bytes written=25746378\n",
      "\t\tFILE: Number of read operations=0\n",
      "\t\tFILE: Number of large read operations=0\n",
      "\t\tFILE: Number of write operations=0\n",
      "\t\tHDFS: Number of bytes read=3462847\n",
      "\t\tHDFS: Number of bytes written=54005\n",
      "\t\tHDFS: Number of read operations=9\n",
      "\t\tHDFS: Number of large read operations=0\n",
      "\t\tHDFS: Number of write operations=2\n",
      "\tJob Counters \n",
      "\t\tLaunched map tasks=2\n",
      "\t\tLaunched reduce tasks=1\n",
      "\t\tData-local map tasks=2\n",
      "\t\tTotal time spent by all maps in occupied slots (ms)=12202\n",
      "\t\tTotal time spent by all reduces in occupied slots (ms)=5162\n",
      "\t\tTotal time spent by all map tasks (ms)=12202\n",
      "\t\tTotal time spent by all reduce tasks (ms)=5162\n",
      "\t\tTotal vcore-seconds taken by all map tasks=12202\n",
      "\t\tTotal vcore-seconds taken by all reduce tasks=5162\n",
      "\t\tTotal megabyte-seconds taken by all map tasks=12494848\n",
      "\t\tTotal megabyte-seconds taken by all reduce tasks=5285888\n",
      "\tMap-Reduce Framework\n",
      "\t\tMap input records=31101\n",
      "\t\tMap output records=17745\n",
      "\t\tMap output bytes=12645318\n",
      "\t\tMap output materialized bytes=12697640\n",
      "\t\tInput split bytes=234\n",
      "\t\tCombine input records=0\n",
      "\t\tCombine output records=0\n",
      "\t\tReduce input groups=12592\n",
      "\t\tReduce shuffle bytes=12697640\n",
      "\t\tReduce input records=17745\n",
      "\t\tReduce output records=1334\n",
      "\t\tSpilled Records=35490\n",
      "\t\tShuffled Maps =2\n",
      "\t\tFailed Shuffles=0\n",
      "\t\tMerged Map outputs=2\n",
      "\t\tGC time elapsed (ms)=108\n",
      "\t\tCPU time spent (ms)=2910\n",
      "\t\tPhysical memory (bytes) snapshot=714973184\n",
      "\t\tVirtual memory (bytes) snapshot=4095356928\n",
      "\t\tTotal committed heap usage (bytes)=730857472\n",
      "\tHW3.5 Mapper Counters\n",
      "\t\tCalls=2\n",
      "\tHW3.5 Reducer Counters\n",
      "\t\tCalls=1\n",
      "\tShuffle Errors\n",
      "\t\tBAD_ID=0\n",
      "\t\tCONNECTION=0\n",
      "\t\tIO_ERROR=0\n",
      "\t\tWRONG_LENGTH=0\n",
      "\t\tWRONG_MAP=0\n",
      "\t\tWRONG_REDUCE=0\n",
      "\tFile Input Format Counters \n",
      "\t\tBytes Read=3462613\n",
      "\tFile Output Format Counters \n",
      "\t\tBytes Written=54005\n",
      "17/09/20 03:32:19 INFO streaming.StreamJob: Output directory: 35test_results-output\n",
      "packageJobJar: [] [/usr/jars/hadoop-streaming-2.6.0-cdh5.7.0.jar] /tmp/streamjob4779643509312077987.jar tmpDir=null\n",
      "17/09/20 03:32:21 INFO client.RMProxy: Connecting to ResourceManager at /0.0.0.0:8032\n",
      "17/09/20 03:32:22 INFO client.RMProxy: Connecting to ResourceManager at /0.0.0.0:8032\n",
      "17/09/20 03:32:22 INFO mapred.FileInputFormat: Total input paths to process : 1\n",
      "17/09/20 03:32:22 INFO mapreduce.JobSubmitter: number of splits:2\n",
      "17/09/20 03:32:22 INFO Configuration.deprecation: mapred.output.key.comparator.class is deprecated. Instead, use mapreduce.job.output.key.comparator.class\n",
      "17/09/20 03:32:22 INFO mapreduce.JobSubmitter: Submitting tokens for job: job_1505856639673_0040\n",
      "17/09/20 03:32:23 INFO impl.YarnClientImpl: Submitted application application_1505856639673_0040\n",
      "17/09/20 03:32:23 INFO mapreduce.Job: The url to track the job: http://quickstart.cloudera:8088/proxy/application_1505856639673_0040/\n",
      "17/09/20 03:32:23 INFO mapreduce.Job: Running job: job_1505856639673_0040\n",
      "17/09/20 03:32:29 INFO mapreduce.Job: Job job_1505856639673_0040 running in uber mode : false\n",
      "17/09/20 03:32:29 INFO mapreduce.Job:  map 0% reduce 0%\n",
      "17/09/20 03:32:35 INFO mapreduce.Job:  map 50% reduce 0%\n",
      "17/09/20 03:32:36 INFO mapreduce.Job:  map 100% reduce 0%\n",
      "17/09/20 03:32:40 INFO mapreduce.Job:  map 100% reduce 100%\n",
      "17/09/20 03:32:40 INFO mapreduce.Job: Job job_1505856639673_0040 completed successfully\n",
      "17/09/20 03:32:40 INFO mapreduce.Job: Counters: 49\n",
      "\tFile System Counters\n",
      "\t\tFILE: Number of bytes read=58013\n",
      "\t\tFILE: Number of bytes written=464364\n",
      "\t\tFILE: Number of read operations=0\n",
      "\t\tFILE: Number of large read operations=0\n",
      "\t\tFILE: Number of write operations=0\n",
      "\t\tHDFS: Number of bytes read=58353\n",
      "\t\tHDFS: Number of bytes written=55339\n",
      "\t\tHDFS: Number of read operations=9\n",
      "\t\tHDFS: Number of large read operations=0\n",
      "\t\tHDFS: Number of write operations=2\n",
      "\tJob Counters \n",
      "\t\tLaunched map tasks=2\n",
      "\t\tLaunched reduce tasks=1\n",
      "\t\tData-local map tasks=2\n",
      "\t\tTotal time spent by all maps in occupied slots (ms)=7278\n",
      "\t\tTotal time spent by all reduces in occupied slots (ms)=3104\n",
      "\t\tTotal time spent by all map tasks (ms)=7278\n",
      "\t\tTotal time spent by all reduce tasks (ms)=3104\n",
      "\t\tTotal vcore-seconds taken by all map tasks=7278\n",
      "\t\tTotal vcore-seconds taken by all reduce tasks=3104\n",
      "\t\tTotal megabyte-seconds taken by all map tasks=7452672\n",
      "\t\tTotal megabyte-seconds taken by all reduce tasks=3178496\n",
      "\tMap-Reduce Framework\n",
      "\t\tMap input records=1334\n",
      "\t\tMap output records=1334\n",
      "\t\tMap output bytes=55339\n",
      "\t\tMap output materialized bytes=58019\n",
      "\t\tInput split bytes=252\n",
      "\t\tCombine input records=0\n",
      "\t\tCombine output records=0\n",
      "\t\tReduce input groups=1334\n",
      "\t\tReduce shuffle bytes=58019\n",
      "\t\tReduce input records=1334\n",
      "\t\tReduce output records=1334\n",
      "\t\tSpilled Records=2668\n",
      "\t\tShuffled Maps =2\n",
      "\t\tFailed Shuffles=0\n",
      "\t\tMerged Map outputs=2\n",
      "\t\tGC time elapsed (ms)=77\n",
      "\t\tCPU time spent (ms)=1850\n",
      "\t\tPhysical memory (bytes) snapshot=737546240\n",
      "\t\tVirtual memory (bytes) snapshot=4097257472\n",
      "\t\tTotal committed heap usage (bytes)=668467200\n",
      "\tShuffle Errors\n",
      "\t\tBAD_ID=0\n",
      "\t\tCONNECTION=0\n",
      "\t\tIO_ERROR=0\n",
      "\t\tWRONG_LENGTH=0\n",
      "\t\tWRONG_MAP=0\n",
      "\t\tWRONG_REDUCE=0\n",
      "\tFile Input Format Counters \n",
      "\t\tBytes Read=58101\n",
      "\tFile Output Format Counters \n",
      "\t\tBytes Written=55339\n",
      "17/09/20 03:32:40 INFO streaming.StreamJob: Output directory: 35_results-output\n"
     ]
    }
   ],
   "source": [
    "!hdfs dfs -rm  ProductPurchaseData.txt \n",
    "!hdfs dfs -copyFromLocal ProductPurchaseData.txt\n",
    "!hdfs dfs -rm -r 35test_results-output\n",
    "!hdfs dfs -rm -r 35_results-output\n",
    "\n",
    "##################### IMPORTANT ########################################################################\n",
    "# Make sure you have the correct paths to the jar file as wel as the input and output files!!\n",
    "# make sure to include the -files option. Do ***** NOT ****** put spaces between the file paths!\n",
    "########################################################################################################\n",
    "\n",
    "!hadoop jar /usr/lib/hadoop-0.20-mapreduce/contrib/streaming/hadoop-streaming-2.6.0-mr1-cdh5.7.0.jar \\\n",
    "  -files reducer3.5.py,mapper3.5.py \\\n",
    "  -mapper mapper3.5.py \\\n",
    "  -reducer reducer3.5.py \\\n",
    "  -input ProductPurchaseData.txt \\\n",
    "  -output 35test_results-output  \\\n",
    "  -numReduceTasks 1\n",
    "    \n",
    "!hadoop jar /usr/lib/hadoop-0.20-mapreduce/contrib/streaming/hadoop-streaming-2.6.0-mr1-cdh5.7.0.jar \\\n",
    "  -D mapred.output.key.comparator.class=org.apache.hadoop.mapred.lib.KeyFieldBasedComparator \\\n",
    "  -D stream.map.output.field.separator=\"\\t\" \\\n",
    "  -D mapreduce.partition.keycomparator.options=\"-k3,3nr\" \\\n",
    "  -mapper /bin/cat \\\n",
    "  -reducer /bin/cat \\\n",
    "  -input 35test_results-output \\\n",
    "  -output 35_results-output  \\\n",
    "  -numReduceTasks 1"
   ]
  },
  {
   "cell_type": "code",
   "execution_count": 115,
   "metadata": {
    "collapsed": false
   },
   "outputs": [
    {
     "name": "stdout",
     "output_type": "stream",
     "text": [
      "DAI93865, FRO40251 \t208 \t1.0\t\r\n",
      "ELE12951, FRO40251 \t105 \t0.990566037736\t\r\n",
      "DAI88079, FRO40251 \t446 \t0.986725663717\t\r\n",
      "DAI43868, SNA82528 \t288 \t0.972972972973\t\r\n",
      "DAI23334, DAI62779 \t273 \t0.954545454545\t\r\n",
      "DAI53152, FRO40251 \t140 \t0.717948717949\t\r\n",
      "ELE55848, GRO32086 \t105 \t0.709459459459\t\r\n",
      "DAI37288, ELE32164 \t117 \t0.646408839779\t\r\n",
      "ELE32244, ELE66600 \t219 \t0.640350877193\t\r\n",
      "FRO73056, GRO44993 \t438 \t0.601648351648\t\r\n",
      "DAI46755, FRO81176 \t148 \t0.580392156863\t\r\n",
      "ELE88583, SNA24799 \t190 \t0.579268292683\t\r\n",
      "DAI16732, FRO78087 \t106 \t0.566844919786\t\r\n",
      "DAI43223, ELE32164 \t711 \t0.551162790698\t\r\n",
      "DAI55148, DAI62779 \t526 \t0.539487179487\t\r\n",
      "ELE20847, FRO40251 \t434 \t0.530562347188\t\r\n",
      "SNA30533, SNA96271 \t169 \t0.509036144578\t\r\n",
      "ELE20847, SNA80324 \t410 \t0.501222493888\t\r\n",
      "DAI23334, ELE92920 \t143 \t0.5\t\r\n",
      "DAI42083, DAI92600 \t256 \t0.490421455939\t\r\n",
      "DAI83031, DAI94679 \t141 \t0.474747474747\t\r\n",
      "DAI75645, FRO40251 \t1254 \t0.458333333333\t\r\n",
      "DAI88088, ELE38289 \t180 \t0.456852791878\t\r\n",
      "ELE28189, FRO17734 \t164 \t0.454293628809\t\r\n",
      "ELE78169, GRO94758 \t252 \t0.451612903226\t\r\n",
      "ELE25077, GRO89004 \t215 \t0.449790794979\t\r\n",
      "ELE69552, FRO19221 \t136 \t0.448844884488\t\r\n",
      "FRO47962, GRO73461 \t137 \t0.447712418301\t\r\n",
      "SNA53220, SNA93860 \t254 \t0.437931034483\t\r\n",
      "DAI22534, DAI62779 \t123 \t0.428571428571\t\r\n",
      "ELE30182, SNA24799 \t114 \t0.416058394161\t\r\n",
      "FRO92469, SNA80324 \t352 \t0.414605418139\t\r\n",
      "DAI75645, SNA80324 \t1130 \t0.413011695906\t\r\n",
      "FRO74605, GRO73461 \t105 \t0.402298850575\t\r\n",
      "DAI43223, GRO59710 \t512 \t0.396899224806\t\r\n",
      "ELE24630, ELE26917 \t127 \t0.395638629283\t\r\n",
      "FRO61354, SNA80324 \t176 \t0.391111111111\t\r\n",
      "GRO85051, SNA80324 \t471 \t0.387973640857\t\r\n",
      "SNA31619, SNA96271 \t109 \t0.387900355872\t\r\n",
      "DAI70456, ELE37770 \t165 \t0.386416861827\t\r\n",
      "FRO64631, SNA99873 \t130 \t0.381231671554\t\r\n",
      "DAI18527, SNA44451 \t102 \t0.380597014925\t\r\n",
      "ELE92920, SNA18336 \t455 \t0.380116959064\t\r\n",
      "SNA74022, SNA96271 \t107 \t0.374125874126\t\r\n",
      "ELE37770, ELE74482 \t235 \t0.373015873016\t\r\n",
      "ELE78169, SNA45677 \t206 \t0.36917562724\t\r\n",
      "DAI22240, ELE37048 \t219 \t0.366834170854\t\r\n",
      "ELE30933, GRO73461 \t119 \t0.363914373089\t\r\n",
      "FRO40251, SNA80324 \t1412 \t0.363823756764\t\r\n",
      "GRO69543, GRO73461 \t320 \t0.362811791383\t\r\n"
     ]
    }
   ],
   "source": [
    "!hdfs dfs -cat 35_results-output/part-0000* > 35_results-output.txt\n",
    "!head -50 35_results-output.txt"
   ]
  },
  {
   "cell_type": "markdown",
   "metadata": {
    "collapsed": true
   },
   "source": [
    "All of the jobs in the pairs and stripes problems were ran on a single computer; 4 cores, linux (Docker), 2 mappers; 1 reducer.\n",
    "The stripes job ran in about 18 seconds. It seemed to be a lot different than typical MR jobs that we've implemented thus far. Since the pairs job ran in only 17 seconds, it doesn't seem that the more complicated stripes implementation was worth the effort since it didn't improve performance. \n",
    "For the pairs implementation, the mapper and combiner were called twice each, and the reducer once. I didn't choose to use a combiner for the stripes implementation, so the mapper was called twice there and the reducer once. "
   ]
  },
  {
   "cell_type": "code",
   "execution_count": null,
   "metadata": {
    "collapsed": true
   },
   "outputs": [],
   "source": []
  },
  {
   "cell_type": "markdown",
   "metadata": {},
   "source": [
    "#### END STUDENT CODE HW35"
   ]
  },
  {
   "cell_type": "markdown",
   "metadata": {},
   "source": [
    "# OPTIONAL\n",
    "QUESTIONS  BELOW THIS LINE ARE OPTIONAL"
   ]
  },
  {
   "cell_type": "markdown",
   "metadata": {},
   "source": [
    "<a name=\"3.6\"></a>\n",
    "## HW3.6 Computing Relative Frequencies on 100K WikiPedia pages (93Meg)\n",
    "\n",
    "Dataset description\n",
    "For this assignment you will explore a set of 100,000 Wikipedia documents:\n",
    "\n",
    "https://www.dropbox.com/s/n5lfbnztclo93ej/wikitext_100k.txt?dl=0\n",
    "s3://cs9223/wikitext_100k.txt, or\n",
    "https://s3.amazonaws.com/cs9223/wikitext_100k.txt\n",
    "Each line in this file consists of the plain text extracted from a Wikipedia document.\n",
    "\n",
    "Task\n",
    "Compute the relative frequencies of each word that occurs in the documents in wikitext_100k.txt and output the top 100 word pairs sorted by decreasing order of relative frequency.\n",
    "\n",
    "Recall that the relative frequency (RF) of word B given word A is defined as follows:\n",
    "\n",
    "   f(B|A) = Count(A, B) / Count (A)   =  Count(A, B) / sum_B'(Count (A, B')\n",
    "\n",
    "where count(A,B) is the number of times A and B co-occur within a window of two words (co-occurrence window size of two) in a document and count(A) the number of times A occurs with anything else. Intuitively, given a document collection, the relative frequency captures the proportion of time the word B appears in the same document as A. (See Section 3.3, in Data-Intensive Text Processing with MapReduce).\n",
    "\n",
    "In the async lecture you learned different approaches to do this, and in this assignment, you will implement them:\n",
    "\n",
    "a.\tWrite a mapreduce program which uses the Stripes approach and writes its output in a file named rfstripes.txt \n",
    "\n",
    "b.\tWrite a mapreduce program which uses the Pairs approach and writes its output in a file named rfpairs.txt\n",
    "\n",
    "c.\tCompare the performance of the two approaches and output the relative performance to a file named rfcomp.txt. Compute the relative performance as follows: (running time for Pairs/ running time for Stripes). Also include an analysis comparing the communication costs for the two approaches. Instrument your mapper and reduces for counters where necessary to aid with your analysis.\n",
    "\n",
    "NOTE: please limit your analysis to the top 100 word pairs sorted by decreasing order of relative frequency for each word (tokens with all alphabetical letters).\n",
    "\n",
    "Please include markdown cell named rf.txt that describes the following:\n",
    "\n",
    "the input/output format in each Hadoop task, i.e., the keys for the mappers and reducers\n",
    "the Hadoop cluster settings you used, i.e., number of mappers and reducers\n",
    "the running time for each approach: pairs and stripes\n",
    "\n",
    "You can write your program using Python or MrJob (with Hadoop streaming) and you should run it on AWS. It is a good idea to develop and test your program on a local machine  before deploying on AWS. Remember your notebook, needs to have all the commands you used to run each Mapreduce job (i.e., pairs and stripes) -- include the Hadoop streaming commands you used to run your jobs.\n",
    "\n",
    "In addition the All the following files should be compressed in one ZIP file and submitted. The ZIP file should contain:\n",
    "\n",
    "\n",
    "A.\tThe result files: rfstripes.txt, rfpairs.txt, rfcomp.txt\n",
    "\n",
    "Prior to working with Hadoop, the corpus should first be preprocessed as follows:\n",
    "perform tokenization (whitespace and all non-alphabetic characters) and stopword removal  using standard tools from the Lucene search engine. All tokens should  then be replaced\n",
    "with unique integers for a more efficient encoding. \n",
    "\n",
    "\n",
    "== Preliminary information for the remaing HW problems===\n",
    "\n",
    "Much of this homework beyond this point will focus on the Apriori algorithm for frequent itemset  mining and the additional step for extracting association rules from these frequent itemsets.\n",
    "Please acquaint yourself with the background information (below)\n",
    "before approaching the remaining  assignments.\n",
    "\n",
    "=== Apriori background information ===\n",
    "\n",
    "Some background material for the  Apriori algorithm is located at:\n",
    "\n",
    " - Slides in Live Session #3\n",
    " - https://en.wikipedia.org/wiki/Apriori_algorithm\n",
    " - https://www.dropbox.com/s/k2zm4otych279z2/Apriori-good-slides.pdf?dl=0\n",
    " - http://snap.stanford.edu/class/cs246-2014/slides/02-assocrules.pdf\n",
    "\n",
    "Association Rules are frequently used for Market Basket Analysis (MBA) by retailers to\n",
    "understand the purchase behavior of their customers. This information can be then used for\n",
    "many different purposes such as cross-selling and up-selling of products, sales promotions,\n",
    "loyalty programs, store design, discount plans and many others.\n",
    "Evaluation of item sets: Once you have found the frequent itemsets of a dataset, you need\n",
    "to choose a subset of them as your recommendations. Commonly used metrics for measuring\n",
    "significance and interest for selecting rules for recommendations are: confidence; lift; and conviction."
   ]
  },
  {
   "cell_type": "markdown",
   "metadata": {},
   "source": [
    "<a name=\"3.7\"></a>\n",
    "## HW3.7 Apriori Algorithm\n",
    "What is the Apriori algorithm? Describe an example use in your domain of expertise and what kind of . Define confidence and lift.\n",
    "\n",
    "NOTE:\n",
    "For the remaining homework use the online browsing behavior dataset located at (same dataset as used above): \n",
    "\n",
    "       https://www.dropbox.com/s/zlfyiwa70poqg74/ProductPurchaseData.txt?dl=0\n",
    "\n",
    "Each line in this dataset represents a browsing session of a customer. \n",
    "On each line, each string of 8 characters represents the id of an item browsed during that session. \n",
    "The items are separated by spaces.\n",
    "\n",
    "Here are the first few lines of the ProductPurchaseData \n",
    "FRO11987 ELE17451 ELE89019 SNA90258 GRO99222 \n",
    "GRO99222 GRO12298 FRO12685 ELE91550 SNA11465 ELE26917 ELE52966 FRO90334 SNA30755 ELE17451 FRO84225 SNA80192 \n",
    "ELE17451 GRO73461 DAI22896 SNA99873 FRO86643 \n",
    "ELE17451 ELE37798 FRO86643 GRO56989 ELE23393 SNA11465 \n",
    "ELE17451 SNA69641 FRO86643 FRO78087 SNA11465 GRO39357 ELE28573 ELE11375 DAI54444 "
   ]
  },
  {
   "cell_type": "markdown",
   "metadata": {},
   "source": [
    "<a name=\"3.8\"></a>\n",
    "## HW3.8. Shopping Cart Analysis\n",
    "Product Recommendations: The action or practice of selling additional products or services \n",
    "to existing customers is called cross-selling. Giving product recommendation is \n",
    "one of the examples of cross-selling that are frequently used by online retailers. \n",
    "One simple method to give product recommendations is to recommend products that are frequently\n",
    "browsed together by the customers.\n",
    "\n",
    "Suppose we want to recommend new products to the customer based on the products they\n",
    "have already browsed on the online website. Write a program using the A-priori algorithm\n",
    "to find products which are frequently browsed together. Fix the support to s = 100 \n",
    "(i.e. product sets need to occur together at least 100 times to be considered frequent) \n",
    "and find itemsets of size 2 and 3.\n",
    "\n",
    "Then extract association rules from these frequent items. \n",
    "\n",
    "A rule is of the form: \n",
    "\n",
    "(item1, item5) ⇒ item2.\n",
    "\n",
    "List the top 10 discovered rules in descreasing order of confidence in the following format\n",
    " \n",
    "(item1, item5) ⇒ item2, supportCount ,support, confidence"
   ]
  },
  {
   "cell_type": "markdown",
   "metadata": {},
   "source": [
    "<a name=\"3.8.1\"></a>\n",
    "## HW3.8.1\n",
    "\n",
    "Benchmark your results using the pyFIM implementation of the Apriori algorithm\n",
    "(Apriori - Association Rule Induction / Frequent Item Set Mining implemented by Christian Borgelt). \n",
    "You can download pyFIM from here: \n",
    "\n",
    "http://www.borgelt.net/pyfim.html\n",
    "\n",
    "Comment on the results from both implementations (your Hadoop MapReduce of apriori versus pyFIM) \n",
    "in terms of results and execution times."
   ]
  },
  {
   "cell_type": "code",
   "execution_count": 3,
   "metadata": {
    "collapsed": false
   },
   "outputs": [
    {
     "name": "stdout",
     "output_type": "stream",
     "text": [
      "(1, 1)\n",
      "(1, 2)\n",
      "(1, 3)\n",
      "(2, 1)\n",
      "(2, 2)\n",
      "(2, 3)\n",
      "(3, 1)\n",
      "(3, 2)\n",
      "(3, 3)\n",
      "(1, 1)\n",
      "(1, 2)\n",
      "(1, 3)\n",
      "(2, 1)\n",
      "(2, 2)\n",
      "(2, 3)\n",
      "(3, 1)\n",
      "(3, 2)\n",
      "(3, 3)\n",
      "(1, 1)\n",
      "(1, 2)\n",
      "(1, 3)\n",
      "(2, 1)\n",
      "(2, 2)\n",
      "(2, 3)\n",
      "(3, 1)\n",
      "(3, 2)\n",
      "(3, 3)\n",
      "(1, 1)\n",
      "(1, 2)\n",
      "(1, 3)\n",
      "(2, 1)\n",
      "(2, 2)\n",
      "(2, 3)\n",
      "(3, 1)\n",
      "(3, 2)\n",
      "(3, 3)\n"
     ]
    }
   ],
   "source": [
    "import itertools\n",
    "\n",
    "stuff = [a,b,c,d]\n",
    "for L in range(0, len(stuff)+1):\n",
    "    for subset in itertools.product(stuff, stuff):\n",
    "        print(subset)"
   ]
  },
  {
   "cell_type": "code",
   "execution_count": null,
   "metadata": {
    "collapsed": true
   },
   "outputs": [],
   "source": []
  },
  {
   "cell_type": "code",
   "execution_count": 23,
   "metadata": {
    "collapsed": false
   },
   "outputs": [
    {
     "name": "stdout",
     "output_type": "stream",
     "text": [
      "a , b \t2\n",
      "a , c \t1\n",
      "a , d \t1\n",
      "b , c \t2\n",
      "b , d \t2\n",
      "c , d \t1\n",
      "* \t5\n",
      "a \t1\n",
      "b \t2\n",
      "c \t1\n",
      "d \t1\n",
      "defaultdict(<type 'int'>, {'a': 1, 'c': 1, '*': 5, 'b': 2, 'd': 1})\n"
     ]
    }
   ],
   "source": [
    "from collections import defaultdict\n",
    "tuples = defaultdict(int)\n",
    "wordCount = defaultdict(int)\n",
    "\n",
    "prods = ['a','b','b','c','d']\n",
    "#take the line, split into pairs\n",
    "for x in range(len(prods)):\n",
    "    wordCount[prods[x]] += 1\n",
    "    wordCount[\"*\"] += 1\n",
    "    #create tuple\n",
    "    for y in range(x, len(prods)):\n",
    "        if(prods[x] != prods[y]):\n",
    "            string = prods[x] + \" , \" + prods[y]\n",
    "            #add to dict\n",
    "            tuples[string] += 1\n",
    "\n",
    "for key in sorted(tuples):\n",
    "    items = key.split(\",\",1)\n",
    "    print key, '\\t', tuples[key]\n",
    "for key in sorted(wordCount):\n",
    "    print key, '\\t', wordCount[key]\n",
    "    \n",
    "#print \"**total\", wordCount[\"*\"]\n",
    "print wordCount"
   ]
  },
  {
   "cell_type": "code",
   "execution_count": 28,
   "metadata": {
    "collapsed": false
   },
   "outputs": [
    {
     "name": "stdout",
     "output_type": "stream",
     "text": [
      "a\t*:1, b:2, c:1, d:1, \n",
      "b\t*:2, a:2, c:2, d:2, \n",
      "c\t*:1, a:1, b:2, d:1, \n",
      "d\t*:1, a:1, b:2, c:1, \n"
     ]
    }
   ],
   "source": [
    "tuples = defaultdict(lambda : defaultdict(int))\n",
    "wordCount = defaultdict(int)\n",
    "\n",
    "prods = ['a','b','b','c','d']\n",
    "\n",
    "for x in range(len(prods)):\n",
    "        tuples[prods[x]][\"*\"] += 1\n",
    "        #create tuple\n",
    "        for y in range(len(prods)):\n",
    "            if(prods[x] != prods[y]):\n",
    "                #add to dict\n",
    "                tuples[prods[x]][prods[y]] += 1\n",
    "for key in sorted(tuples):\n",
    "    stripe = key + '\\t'\n",
    "    for x in sorted(tuples[key]):\n",
    "        stripe = stripe + str(x) + \":\" + str(tuples[key][x]) + \", \"\n",
    "    print stripe"
   ]
  },
  {
   "cell_type": "code",
   "execution_count": null,
   "metadata": {
    "collapsed": true
   },
   "outputs": [],
   "source": [
    "%%writefile mapper3.4.py\n",
    "#!/usr/bin/env python\n",
    "# START STUDENT CODE HW32BMAPPER\n",
    "\n",
    "import sys\n",
    "from collections import defaultdict\n",
    "\n",
    "tuples=defaultdict(int)\n",
    "wordCount = defaultdict(int)\n",
    "\n",
    "prods = ['a','b','b','c','d']\n",
    "\n",
    "for x in range(len(prods)):\n",
    "    wordCount[prods[x]] += 1\n",
    "    wordCount[\"*\"] += 1\n",
    "    #create tuple\n",
    "    for y in range(x, len(prods)):\n",
    "        if(prods[x] != prods[y]):\n",
    "            string = prods[x] + \",\" + prods[y]\n",
    "            #add to dict\n",
    "            tuples[string] += 1\n",
    "        \n",
    "for key in sorted(tuples):\n",
    "    items = key.split(\",\",1)\n",
    "    print key, '\\t', tuples[key]\n",
    "for key in sorted(wordCount):\n",
    "    print key, '\\t', wordCount[key]\n",
    "\n",
    "# END STUDENT CODE HW32BMAPPER"
   ]
  },
  {
   "cell_type": "code",
   "execution_count": null,
   "metadata": {
    "collapsed": true
   },
   "outputs": [],
   "source": [
    "%%writefile reducer3.4.py\n",
    "#!/usr/bin/env python\n",
    "# START STUDENT CODE HW32BREDUCER\n",
    "\n",
    "import sys\n",
    "from collections import defaultdict\n",
    "\n",
    "sys.stderr.write(\"reporter:counter:HW3.2.B Reducer Counters,Calls,1\\n\")\n",
    "\n",
    "cur_key = 0\n",
    "cur_count = 0\n",
    "cur_comboCount = 0\n",
    "tuples = defaultdict(int)\n",
    "itemCount = defaultdict(int)\n",
    "\n",
    "for line in sys.stdin:\n",
    "    key, count = line.split(\"\\t\", 1)\n",
    "    if(\",\" not in key):\n",
    "        #it's a single item count\n",
    "        itemCount[key] += int(count)\n",
    "    else:\n",
    "        #it's a pair count\n",
    "        tuples[key] += int(count)\n",
    "\n",
    "for key in sorted(tuples):\n",
    "    if(tuples[key] > 100):\n",
    "        items = key.split(\",\",1)\n",
    "        print key, '\\t', wordCount[items[0]], '\\t', tuples[key], '\\t', (float(tuples[key])/float(wordCount[items[0]])) \n",
    "\n",
    "\n",
    "# END STUDENT CODE HW32BREDUCER"
   ]
  },
  {
   "cell_type": "markdown",
   "metadata": {},
   "source": [
    "NO COMBINING, 3.4"
   ]
  },
  {
   "cell_type": "code",
   "execution_count": null,
   "metadata": {
    "collapsed": true
   },
   "outputs": [],
   "source": [
    "%%writefile mapper3.4.py\n",
    "#!/usr/bin/env python\n",
    "# START STUDENT CODE HW32BMAPPER\n",
    "#NO COMBINING -- 3.4\n",
    "\n",
    "import sys\n",
    "\n",
    "sys.stderr.write(\"reporter:counter:HW3.2.B Mapper Counters,Calls,1\\n\")\n",
    "\n",
    "for line in sys.stdin:\n",
    "    prods = line.split()\n",
    "    prods = sorted(prods)\n",
    "    #take the line, split into pairs\n",
    "    for x in range(len(prods)):\n",
    "        print prods[x], '\\t', 1\n",
    "        #create tuple\n",
    "        for y in range(x, len(prods)):\n",
    "            if(prods[x] != prods[y]):\n",
    "                string = prods[x] + \",\" + prods[y]\n",
    "                #add to dict\n",
    "                print string, '\\t', 1\n",
    "\n",
    "# END STUDENT CODE HW32BMAPPER"
   ]
  },
  {
   "cell_type": "code",
   "execution_count": null,
   "metadata": {
    "collapsed": true
   },
   "outputs": [],
   "source": [
    "%%writefile reducer3.4.py\n",
    "#!/usr/bin/env python\n",
    "# START STUDENT CODE HW32BREDUCER\n",
    "\n",
    "import sys\n",
    "from collections import defaultdict\n",
    "\n",
    "sys.stderr.write(\"reporter:counter:HW3.2.B Reducer1 Counters,Calls,1\\n\")\n",
    "\n",
    "cur_key = 0\n",
    "cur_count = 0\n",
    "\n",
    "for line in sys.stdin:\n",
    "    key, value = line.split(\"\\t\", 1)\n",
    "    if(cur_key == key):\n",
    "            cur_count += int(value)\n",
    "    else:\n",
    "        if cur_key:\n",
    "            print '%s\\t%s' % (cur_key, cur_count)\n",
    "        cur_key = key\n",
    "        cur_count = int(value)\n",
    "print '%s\\t%s' % (cur_key, cur_count)\n",
    "\n",
    "# END STUDENT CODE HW32BREDUCER"
   ]
  },
  {
   "cell_type": "code",
   "execution_count": null,
   "metadata": {
    "collapsed": true
   },
   "outputs": [],
   "source": [
    "%%writefile reducer3.4.py\n",
    "#!/usr/bin/env python\n",
    "\n",
    "##see how previous thing outputs, if it sorts it right then you can stream it all and not have to store any values\n",
    "##like, check if key has comma, if not it's the start of a new letter\n",
    "#store that value as word frequency\n",
    "#then the next however many will be pair frequencies\n",
    "#print key, count, wordfrequency/count\n",
    "\n",
    "import sys\n",
    "from collections import defaultdict\n",
    "\n",
    "sys.stderr.write(\"reporter:counter:HW3.2.B Reducer2 Counters,Calls,1\\n\")\n",
    "\n",
    "cur_key = 0\n",
    "cur_count = 0\n",
    "\n",
    "for line in sys.stdin:\n",
    "    key, value = line.split(\"\\t\", 1)\n",
    "    if(cur_key == key):\n",
    "            cur_count += int(value)\n",
    "    else:\n",
    "        if cur_key:\n",
    "            print '%s\\t%s' % (cur_key, cur_count)\n",
    "        cur_key = key\n",
    "        cur_count = int(value)\n",
    "print '%s\\t%s' % (cur_key, cur_count)\n",
    "\n",
    "# END STUDENT CODE HW32BREDUCER"
   ]
  },
  {
   "cell_type": "markdown",
   "metadata": {},
   "source": [
    "NO COMBINING -- 3.5"
   ]
  },
  {
   "cell_type": "code",
   "execution_count": null,
   "metadata": {
    "collapsed": true
   },
   "outputs": [],
   "source": [
    "%%writefile mapper3.5.py\n",
    "#!/usr/bin/env python\n",
    "# START STUDENT CODE HW32BMAPPER\n",
    "#NO COMBINING -- 3.5\n",
    "\n",
    "import sys\n",
    "\n",
    "sys.stderr.write(\"reporter:counter:HW3.5.B Mapper Counters,Calls,1\\n\")\n",
    "\n",
    "for line in sys.stdin:\n",
    "    prods = line.split()\n",
    "    prods = sorted(prods)\n",
    "    #take the line, split into pairs\n",
    "    for x in range(len(prods)):\n",
    "        print prods[x], '\\t', 1\n",
    "        #create tuple\n",
    "        for y in range(x, len(prods)):\n",
    "            if(prods[x] != prods[y]):\n",
    "                string = prods[x] + \",\" + prods[y]\n",
    "                #add to dict\n",
    "                print string, '\\t', 1\n",
    "\n",
    "# END STUDENT CODE HW32BMAPPER"
   ]
  },
  {
   "cell_type": "code",
   "execution_count": 46,
   "metadata": {
    "collapsed": false
   },
   "outputs": [
    {
     "name": "stdout",
     "output_type": "stream",
     "text": [
      "Overwriting mapper3.5.py\n"
     ]
    }
   ],
   "source": [
    "%%writefile mapper3.5.py\n",
    "#!/usr/bin/env python\n",
    "# START STUDENT CODE HW35 MAPPER\n",
    "\n",
    "import sys\n",
    "from collections import defaultdict\n",
    "\n",
    "tuples = defaultdict(lambda : defaultdict(int))\n",
    "wordCount = defaultdict(int)\n",
    "\n",
    "sys.stderr.write(\"reporter:counter:HW3.5 Mapper Counters,Calls,1\\n\")\n",
    "\n",
    "for line in sys.stdin:\n",
    "    prods = line.split()\n",
    "    prods = sorted(prods)\n",
    "    #take the line, split into pairs\n",
    "    for x in range(len(prods)):\n",
    "        tuples[prods[x]][\"*\"] += 1\n",
    "        #create tuple\n",
    "        for y in range(x, len(prods)):\n",
    "            if(prods[x] != prods[y]):\n",
    "                #add to dict\n",
    "                tuples[prods[x]][prods[y]] += 1\n",
    "for key in sorted(tuples):\n",
    "    stripe = key + '\\t'\n",
    "    for x in sorted(tuples[key]):\n",
    "        stripe = stripe + str(x) + \":\" + str(tuples[key][x]) + \", \"\n",
    "    print stripe\n",
    "\n",
    "# END STUDENT CODE HW35 MAPPER"
   ]
  },
  {
   "cell_type": "code",
   "execution_count": 34,
   "metadata": {
    "collapsed": false
   },
   "outputs": [
    {
     "name": "stdout",
     "output_type": "stream",
     "text": [
      "Overwriting combiner3.5.py\n"
     ]
    }
   ],
   "source": [
    "%%writefile combiner3.5.py\n",
    "#!/usr/bin/env python\n",
    "# START STUDENT CODE HW35 MAPPER\n",
    "\n",
    "import sys\n",
    "from collections import defaultdict\n",
    "\n",
    "tuples = defaultdict(lambda : defaultdict(int))\n",
    "cur_key = None\n",
    "\n",
    "sys.stderr.write(\"reporter:counter:HW3.5 Combiner Counters,Calls,1\\n\")\n",
    "\n",
    "for line in sys.stdin:\n",
    "    key, stripe = line.split(\"\\t\", 1)\n",
    "    pairs = stripe.split(\",\")\n",
    "    #removing last blank element since stripe ends with comma\n",
    "    del pairs[-1]\n",
    "    for p in pairs:\n",
    "        word, count = p.split(\":\",1)\n",
    "        tuples[key][word] += int(count)\n",
    "\n",
    "for key in sorted(tuples):\n",
    "    stripe = key + '\\t'\n",
    "    for x in sorted(tuples[key]):\n",
    "        stripe = stripe + str(x) + \":\" + str(tuples[key][x]) + \", \"\n",
    "    print stripe\n",
    "\n",
    "# END STUDENT CODE HW35 MAPPER"
   ]
  },
  {
   "cell_type": "code",
   "execution_count": 92,
   "metadata": {
    "collapsed": false
   },
   "outputs": [
    {
     "name": "stdout",
     "output_type": "stream",
     "text": [
      "Overwriting reducer3.5.py\n"
     ]
    }
   ],
   "source": [
    "%%writefile reducer3.5.py\n",
    "#!/usr/bin/env python\n",
    "# START STUDENT CODE HW32BREDUCER\n",
    "\n",
    "import sys\n",
    "from collections import defaultdict\n",
    "\n",
    "sys.stderr.write(\"reporter:counter:HW3.5 Reducer Counters,Calls,1\\n\")\n",
    "\n",
    "tuples = defaultdict(lambda : defaultdict(int))\n",
    "s = 100\n",
    "\n",
    "for line in sys.stdin:\n",
    "    #separate key and stripe\n",
    "    key, stripe = line.split(\"\\t\", 1)\n",
    "    pairs = stripe.split(\",\")\n",
    "    del pairs[-1]\n",
    "    for p in pairs:\n",
    "        #may need to remove last element since there's a comma at the end of the stripe\n",
    "        word, count = p.split(\":\",1)\n",
    "        tuples[key][word] += int(count)\n",
    "        \n",
    "for x in sorted(tuples):\n",
    "    for y in sorted(tuples[x]):\n",
    "        if(y != \"*\" and tuples[x][y] >= s):\n",
    "            tup = str(x) + \",\" + str(y)\n",
    "            print tup, '\\t', tuples[x][y], '\\t', (float(tuples[x][y])/float(tuples[x][\"*\"]))\n",
    "\n",
    "        \n",
    "#print tup, '\\t', tuples[cur_key][word], '\\t', (float(tuples[cur_key][word])/float(tuples[cur_key][\"*\"]))\n",
    "# END STUDENT CODE HW32BREDUCER"
   ]
  },
  {
   "cell_type": "code",
   "execution_count": 90,
   "metadata": {
    "collapsed": false
   },
   "outputs": [
    {
     "name": "stdout",
     "output_type": "stream",
     "text": [
      "Deleted ProductPurchaseData.txt\n",
      "Deleted 35test_results-output\n",
      "Deleted 35_results-output\n",
      "packageJobJar: [] [/usr/jars/hadoop-streaming-2.6.0-cdh5.7.0.jar] /tmp/streamjob2568754656466126693.jar tmpDir=null\n",
      "17/09/20 01:50:26 INFO client.RMProxy: Connecting to ResourceManager at /0.0.0.0:8032\n",
      "17/09/20 01:50:26 INFO client.RMProxy: Connecting to ResourceManager at /0.0.0.0:8032\n",
      "17/09/20 01:50:26 INFO mapred.FileInputFormat: Total input paths to process : 1\n",
      "17/09/20 01:50:26 INFO mapreduce.JobSubmitter: number of splits:2\n",
      "17/09/20 01:50:27 INFO mapreduce.JobSubmitter: Submitting tokens for job: job_1505856639673_0030\n",
      "17/09/20 01:50:27 INFO impl.YarnClientImpl: Submitted application application_1505856639673_0030\n",
      "17/09/20 01:50:27 INFO mapreduce.Job: The url to track the job: http://quickstart.cloudera:8088/proxy/application_1505856639673_0030/\n",
      "17/09/20 01:50:27 INFO mapreduce.Job: Running job: job_1505856639673_0030\n",
      "17/09/20 01:50:33 INFO mapreduce.Job: Job job_1505856639673_0030 running in uber mode : false\n",
      "17/09/20 01:50:33 INFO mapreduce.Job:  map 0% reduce 0%\n",
      "17/09/20 01:50:41 INFO mapreduce.Job:  map 100% reduce 0%\n",
      "17/09/20 01:50:48 INFO mapreduce.Job:  map 100% reduce 100%\n",
      "17/09/20 01:50:49 INFO mapreduce.Job: Job job_1505856639673_0030 completed successfully\n",
      "17/09/20 01:50:50 INFO mapreduce.Job: Counters: 51\n",
      "\tFile System Counters\n",
      "\t\tFILE: Number of bytes read=12697634\n",
      "\t\tFILE: Number of bytes written=25746378\n",
      "\t\tFILE: Number of read operations=0\n",
      "\t\tFILE: Number of large read operations=0\n",
      "\t\tFILE: Number of write operations=0\n",
      "\t\tHDFS: Number of bytes read=3462847\n",
      "\t\tHDFS: Number of bytes written=54005\n",
      "\t\tHDFS: Number of read operations=9\n",
      "\t\tHDFS: Number of large read operations=0\n",
      "\t\tHDFS: Number of write operations=2\n",
      "\tJob Counters \n",
      "\t\tLaunched map tasks=2\n",
      "\t\tLaunched reduce tasks=1\n",
      "\t\tData-local map tasks=2\n",
      "\t\tTotal time spent by all maps in occupied slots (ms)=12189\n",
      "\t\tTotal time spent by all reduces in occupied slots (ms)=5051\n",
      "\t\tTotal time spent by all map tasks (ms)=12189\n",
      "\t\tTotal time spent by all reduce tasks (ms)=5051\n",
      "\t\tTotal vcore-seconds taken by all map tasks=12189\n",
      "\t\tTotal vcore-seconds taken by all reduce tasks=5051\n",
      "\t\tTotal megabyte-seconds taken by all map tasks=12481536\n",
      "\t\tTotal megabyte-seconds taken by all reduce tasks=5172224\n",
      "\tMap-Reduce Framework\n",
      "\t\tMap input records=31101\n",
      "\t\tMap output records=17745\n",
      "\t\tMap output bytes=12645318\n",
      "\t\tMap output materialized bytes=12697640\n",
      "\t\tInput split bytes=234\n",
      "\t\tCombine input records=0\n",
      "\t\tCombine output records=0\n",
      "\t\tReduce input groups=12592\n",
      "\t\tReduce shuffle bytes=12697640\n",
      "\t\tReduce input records=17745\n",
      "\t\tReduce output records=1334\n",
      "\t\tSpilled Records=35490\n",
      "\t\tShuffled Maps =2\n",
      "\t\tFailed Shuffles=0\n",
      "\t\tMerged Map outputs=2\n",
      "\t\tGC time elapsed (ms)=97\n",
      "\t\tCPU time spent (ms)=2880\n",
      "\t\tPhysical memory (bytes) snapshot=739627008\n",
      "\t\tVirtual memory (bytes) snapshot=4082659328\n",
      "\t\tTotal committed heap usage (bytes)=668467200\n",
      "\tHW3.2.B Reducer Counters\n",
      "\t\tCalls=1\n",
      "\tHW3.5 Mapper Counters\n",
      "\t\tCalls=2\n",
      "\tShuffle Errors\n",
      "\t\tBAD_ID=0\n",
      "\t\tCONNECTION=0\n",
      "\t\tIO_ERROR=0\n",
      "\t\tWRONG_LENGTH=0\n",
      "\t\tWRONG_MAP=0\n",
      "\t\tWRONG_REDUCE=0\n",
      "\tFile Input Format Counters \n",
      "\t\tBytes Read=3462613\n",
      "\tFile Output Format Counters \n",
      "\t\tBytes Written=54005\n",
      "17/09/20 01:50:50 INFO streaming.StreamJob: Output directory: 35test_results-output\n",
      "packageJobJar: [] [/usr/jars/hadoop-streaming-2.6.0-cdh5.7.0.jar] /tmp/streamjob885888464475475700.jar tmpDir=null\n",
      "17/09/20 01:50:52 INFO client.RMProxy: Connecting to ResourceManager at /0.0.0.0:8032\n",
      "17/09/20 01:50:52 INFO client.RMProxy: Connecting to ResourceManager at /0.0.0.0:8032\n",
      "17/09/20 01:50:53 INFO mapred.FileInputFormat: Total input paths to process : 1\n",
      "17/09/20 01:50:53 INFO mapreduce.JobSubmitter: number of splits:2\n",
      "17/09/20 01:50:53 INFO Configuration.deprecation: mapred.output.key.comparator.class is deprecated. Instead, use mapreduce.job.output.key.comparator.class\n",
      "17/09/20 01:50:53 INFO mapreduce.JobSubmitter: Submitting tokens for job: job_1505856639673_0031\n",
      "17/09/20 01:50:53 INFO impl.YarnClientImpl: Submitted application application_1505856639673_0031\n",
      "17/09/20 01:50:53 INFO mapreduce.Job: The url to track the job: http://quickstart.cloudera:8088/proxy/application_1505856639673_0031/\n",
      "17/09/20 01:50:53 INFO mapreduce.Job: Running job: job_1505856639673_0031\n",
      "17/09/20 01:50:59 INFO mapreduce.Job: Job job_1505856639673_0031 running in uber mode : false\n",
      "17/09/20 01:50:59 INFO mapreduce.Job:  map 0% reduce 0%\n",
      "17/09/20 01:51:06 INFO mapreduce.Job:  map 100% reduce 0%\n",
      "17/09/20 01:51:11 INFO mapreduce.Job:  map 100% reduce 100%\n",
      "17/09/20 01:51:12 INFO mapreduce.Job: Job job_1505856639673_0031 completed successfully\n",
      "17/09/20 01:51:12 INFO mapreduce.Job: Counters: 49\n",
      "\tFile System Counters\n",
      "\t\tFILE: Number of bytes read=58013\n",
      "\t\tFILE: Number of bytes written=464361\n",
      "\t\tFILE: Number of read operations=0\n",
      "\t\tFILE: Number of large read operations=0\n",
      "\t\tFILE: Number of write operations=0\n",
      "\t\tHDFS: Number of bytes read=58353\n",
      "\t\tHDFS: Number of bytes written=55339\n",
      "\t\tHDFS: Number of read operations=9\n",
      "\t\tHDFS: Number of large read operations=0\n",
      "\t\tHDFS: Number of write operations=2\n",
      "\tJob Counters \n",
      "\t\tLaunched map tasks=2\n",
      "\t\tLaunched reduce tasks=1\n",
      "\t\tData-local map tasks=2\n",
      "\t\tTotal time spent by all maps in occupied slots (ms)=8910\n",
      "\t\tTotal time spent by all reduces in occupied slots (ms)=3129\n",
      "\t\tTotal time spent by all map tasks (ms)=8910\n",
      "\t\tTotal time spent by all reduce tasks (ms)=3129\n",
      "\t\tTotal vcore-seconds taken by all map tasks=8910\n",
      "\t\tTotal vcore-seconds taken by all reduce tasks=3129\n",
      "\t\tTotal megabyte-seconds taken by all map tasks=9123840\n",
      "\t\tTotal megabyte-seconds taken by all reduce tasks=3204096\n",
      "\tMap-Reduce Framework\n",
      "\t\tMap input records=1334\n",
      "\t\tMap output records=1334\n",
      "\t\tMap output bytes=55339\n",
      "\t\tMap output materialized bytes=58019\n",
      "\t\tInput split bytes=252\n",
      "\t\tCombine input records=0\n",
      "\t\tCombine output records=0\n",
      "\t\tReduce input groups=1334\n",
      "\t\tReduce shuffle bytes=58019\n",
      "\t\tReduce input records=1334\n",
      "\t\tReduce output records=1334\n",
      "\t\tSpilled Records=2668\n",
      "\t\tShuffled Maps =2\n",
      "\t\tFailed Shuffles=0\n",
      "\t\tMerged Map outputs=2\n",
      "\t\tGC time elapsed (ms)=85\n",
      "\t\tCPU time spent (ms)=1730\n",
      "\t\tPhysical memory (bytes) snapshot=731000832\n",
      "\t\tVirtual memory (bytes) snapshot=4097839104\n",
      "\t\tTotal committed heap usage (bytes)=673185792\n",
      "\tShuffle Errors\n",
      "\t\tBAD_ID=0\n",
      "\t\tCONNECTION=0\n",
      "\t\tIO_ERROR=0\n",
      "\t\tWRONG_LENGTH=0\n",
      "\t\tWRONG_MAP=0\n",
      "\t\tWRONG_REDUCE=0\n",
      "\tFile Input Format Counters \n",
      "\t\tBytes Read=58101\n",
      "\tFile Output Format Counters \n",
      "\t\tBytes Written=55339\n",
      "17/09/20 01:51:12 INFO streaming.StreamJob: Output directory: 35_results-output\n"
     ]
    }
   ],
   "source": [
    "!hdfs dfs -rm  ProductPurchaseData.txt \n",
    "!hdfs dfs -copyFromLocal ProductPurchaseData.txt\n",
    "!hdfs dfs -rm -r 35test_results-output\n",
    "!hdfs dfs -rm -r 35_results-output\n",
    "\n",
    "##################### IMPORTANT ########################################################################\n",
    "# Make sure you have the correct paths to the jar file as wel as the input and output files!!\n",
    "# make sure to include the -files option. Do ***** NOT ****** put spaces between the file paths!\n",
    "########################################################################################################\n",
    "\n",
    "!hadoop jar /usr/lib/hadoop-0.20-mapreduce/contrib/streaming/hadoop-streaming-2.6.0-mr1-cdh5.7.0.jar \\\n",
    "  -files reducer3.5.py,mapper3.5.py \\\n",
    "  -mapper mapper3.5.py \\\n",
    "  -reducer reducer3.5.py \\\n",
    "  -input ProductPurchaseData.txt \\\n",
    "  -output 35test_results-output  \\\n",
    "  -numReduceTasks 1\n",
    "    \n",
    "!hadoop jar /usr/lib/hadoop-0.20-mapreduce/contrib/streaming/hadoop-streaming-2.6.0-mr1-cdh5.7.0.jar \\\n",
    "  -D mapred.output.key.comparator.class=org.apache.hadoop.mapred.lib.KeyFieldBasedComparator \\\n",
    "  -D stream.map.output.field.separator=\"\\t\" \\\n",
    "  -D mapreduce.partition.keycomparator.options=\"-k3,3nr\" \\\n",
    "  -mapper /bin/cat \\\n",
    "  -reducer /bin/cat \\\n",
    "  -input 35test_results-output \\\n",
    "  -output 35_results-output  \\\n",
    "  -numReduceTasks 1"
   ]
  },
  {
   "cell_type": "code",
   "execution_count": 110,
   "metadata": {
    "collapsed": false
   },
   "outputs": [
    {
     "name": "stdout",
     "output_type": "stream",
     "text": [
      "DAI93865, FRO40251 \t208 \t1.0\t\r\n",
      "ELE12951, FRO40251 \t105 \t0.990566037736\t\r\n",
      "DAI88079, FRO40251 \t446 \t0.986725663717\t\r\n",
      "DAI43868, SNA82528 \t288 \t0.972972972973\t\r\n",
      "DAI23334, DAI62779 \t273 \t0.954545454545\t\r\n",
      "DAI53152, FRO40251 \t140 \t0.717948717949\t\r\n",
      "ELE55848, GRO32086 \t105 \t0.709459459459\t\r\n",
      "DAI37288, ELE32164 \t117 \t0.646408839779\t\r\n",
      "ELE32244, ELE66600 \t219 \t0.640350877193\t\r\n",
      "FRO73056, GRO44993 \t438 \t0.601648351648\t\r\n",
      "DAI46755, FRO81176 \t148 \t0.580392156863\t\r\n",
      "ELE88583, SNA24799 \t190 \t0.579268292683\t\r\n",
      "DAI16732, FRO78087 \t106 \t0.566844919786\t\r\n",
      "DAI43223, ELE32164 \t711 \t0.551162790698\t\r\n",
      "DAI55148, DAI62779 \t526 \t0.539487179487\t\r\n",
      "ELE20847, FRO40251 \t434 \t0.530562347188\t\r\n",
      "SNA30533, SNA96271 \t169 \t0.509036144578\t\r\n",
      "ELE20847, SNA80324 \t410 \t0.501222493888\t\r\n",
      "DAI23334, ELE92920 \t143 \t0.5\t\r\n",
      "DAI42083, DAI92600 \t256 \t0.490421455939\t\r\n",
      "DAI83031, DAI94679 \t141 \t0.474747474747\t\r\n",
      "DAI75645, FRO40251 \t1254 \t0.458333333333\t\r\n",
      "DAI88088, ELE38289 \t180 \t0.456852791878\t\r\n",
      "ELE28189, FRO17734 \t164 \t0.454293628809\t\r\n",
      "ELE78169, GRO94758 \t252 \t0.451612903226\t\r\n",
      "ELE25077, GRO89004 \t215 \t0.449790794979\t\r\n",
      "ELE69552, FRO19221 \t136 \t0.448844884488\t\r\n",
      "FRO47962, GRO73461 \t137 \t0.447712418301\t\r\n",
      "SNA53220, SNA93860 \t254 \t0.437931034483\t\r\n",
      "DAI22534, DAI62779 \t123 \t0.428571428571\t\r\n",
      "ELE30182, SNA24799 \t114 \t0.416058394161\t\r\n",
      "FRO92469, SNA80324 \t352 \t0.414605418139\t\r\n",
      "DAI75645, SNA80324 \t1130 \t0.413011695906\t\r\n",
      "FRO74605, GRO73461 \t105 \t0.402298850575\t\r\n",
      "DAI43223, GRO59710 \t512 \t0.396899224806\t\r\n",
      "ELE24630, ELE26917 \t127 \t0.395638629283\t\r\n",
      "FRO61354, SNA80324 \t176 \t0.391111111111\t\r\n",
      "GRO85051, SNA80324 \t471 \t0.387973640857\t\r\n",
      "SNA31619, SNA96271 \t109 \t0.387900355872\t\r\n",
      "DAI70456, ELE37770 \t165 \t0.386416861827\t\r\n",
      "FRO64631, SNA99873 \t130 \t0.381231671554\t\r\n",
      "DAI18527, SNA44451 \t102 \t0.380597014925\t\r\n",
      "ELE92920, SNA18336 \t455 \t0.380116959064\t\r\n",
      "SNA74022, SNA96271 \t107 \t0.374125874126\t\r\n",
      "ELE37770, ELE74482 \t235 \t0.373015873016\t\r\n",
      "ELE78169, SNA45677 \t206 \t0.36917562724\t\r\n",
      "DAI22240, ELE37048 \t219 \t0.366834170854\t\r\n",
      "ELE30933, GRO73461 \t119 \t0.363914373089\t\r\n",
      "FRO40251, SNA80324 \t1412 \t0.363823756764\t\r\n",
      "GRO69543, GRO73461 \t320 \t0.362811791383\t\r\n"
     ]
    }
   ],
   "source": [
    "!hdfs dfs -cat 35_results-output/part-0000* > 35_results-output.txt\n",
    "!head -50 35_results-output.txt"
   ]
  },
  {
   "cell_type": "markdown",
   "metadata": {},
   "source": [
    "END OF HOMEWORK\n",
    "==============="
   ]
  }
 ],
 "metadata": {
  "kernelspec": {
   "display_name": "Python 2",
   "language": "python",
   "name": "python2"
  },
  "language_info": {
   "codemirror_mode": {
    "name": "ipython",
    "version": 2
   },
   "file_extension": ".py",
   "mimetype": "text/x-python",
   "name": "python",
   "nbconvert_exporter": "python",
   "pygments_lexer": "ipython2",
   "version": "2.7.13"
  },
  "toc": {
   "colors": {
    "hover_highlight": "#DAA520",
    "running_highlight": "#FF0000",
    "selected_highlight": "#FFD700"
   },
   "moveMenuLeft": true,
   "nav_menu": {
    "height": "512px",
    "width": "252px"
   },
   "navigate_menu": true,
   "number_sections": false,
   "sideBar": false,
   "threshold": 4,
   "toc_cell": true,
   "toc_position": {
    "height": "498px",
    "left": "228.69566345214844px",
    "right": "20px",
    "top": "120px",
    "width": "600px"
   },
   "toc_section_display": "none",
   "toc_window_display": true,
   "widenNotebook": false
  }
 },
 "nbformat": 4,
 "nbformat_minor": 1
}
