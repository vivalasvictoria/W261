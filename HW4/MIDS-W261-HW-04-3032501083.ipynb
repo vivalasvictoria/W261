{
 "cells": [
  {
   "cell_type": "markdown",
   "metadata": {
    "toc": "true"
   },
   "source": [
    "# Table of Contents\n",
    " <p><div class=\"lev1 toc-item\"><a href=\"#MIDS---w261-Machine-Learning-At-Scale\" data-toc-modified-id=\"MIDS---w261-Machine-Learning-At-Scale-1\"><span class=\"toc-item-num\">1&nbsp;&nbsp;</span>MIDS - w261 Machine Learning At Scale</a></div><div class=\"lev2 toc-item\"><a href=\"#Assignment---HW4\" data-toc-modified-id=\"Assignment---HW4-11\"><span class=\"toc-item-num\">1.1&nbsp;&nbsp;</span>Assignment - HW4</a></div><div class=\"lev3 toc-item\"><a href=\"#INSTRUCTIONS-for-SUBMISSION\" data-toc-modified-id=\"INSTRUCTIONS-for-SUBMISSION-111\"><span class=\"toc-item-num\">1.1.1&nbsp;&nbsp;</span>INSTRUCTIONS for SUBMISSION</a></div><div class=\"lev3 toc-item\"><a href=\"#CONFIGURATION\" data-toc-modified-id=\"CONFIGURATION-112\"><span class=\"toc-item-num\">1.1.2&nbsp;&nbsp;</span>CONFIGURATION</a></div><div class=\"lev3 toc-item\"><a href=\"#DATASETS\" data-toc-modified-id=\"DATASETS-113\"><span class=\"toc-item-num\">1.1.3&nbsp;&nbsp;</span>DATASETS</a></div><div class=\"lev1 toc-item\"><a href=\"#HW-Problems\" data-toc-modified-id=\"HW-Problems-2\"><span class=\"toc-item-num\">2&nbsp;&nbsp;</span>HW Problems</a></div><div class=\"lev2 toc-item\"><a href=\"#HW4.0\" data-toc-modified-id=\"HW4.0-21\"><span class=\"toc-item-num\">2.1&nbsp;&nbsp;</span>HW4.0</a></div><div class=\"lev2 toc-item\"><a href=\"#HW4.1\" data-toc-modified-id=\"HW4.1-22\"><span class=\"toc-item-num\">2.2&nbsp;&nbsp;</span>HW4.1</a></div><div class=\"lev2 toc-item\"><a href=\"#HW4.2----Preprocess-log-file-data\" data-toc-modified-id=\"HW4.2----Preprocess-log-file-data-23\"><span class=\"toc-item-num\">2.3&nbsp;&nbsp;</span>HW4.2  - Preprocess log file data</a></div><div class=\"lev2 toc-item\"><a href=\"#HW4.3---Find-the-most-frequent-pages\" data-toc-modified-id=\"HW4.3---Find-the-most-frequent-pages-24\"><span class=\"toc-item-num\">2.4&nbsp;&nbsp;</span>HW4.3 - Find the most frequent pages</a></div><div class=\"lev2 toc-item\"><a href=\"#HW4.4----Find-the-most-frequent-visitor\" data-toc-modified-id=\"HW4.4----Find-the-most-frequent-visitor-25\"><span class=\"toc-item-num\">2.5&nbsp;&nbsp;</span>HW4.4  - Find the most frequent visitor</a></div><div class=\"lev2 toc-item\"><a href=\"#HW4.5---Clustering-Tweet-Dataset\" data-toc-modified-id=\"HW4.5---Clustering-Tweet-Dataset-26\"><span class=\"toc-item-num\">2.6&nbsp;&nbsp;</span>HW4.5 - Clustering Tweet Dataset</a></div><div class=\"lev2 toc-item\"><a href=\"#K-Means\" data-toc-modified-id=\"K-Means-27\"><span class=\"toc-item-num\">2.7&nbsp;&nbsp;</span>K-Means</a></div><div class=\"lev2 toc-item\"><a href=\"#K-means-algorithm\" data-toc-modified-id=\"K-means-algorithm-28\"><span class=\"toc-item-num\">2.8&nbsp;&nbsp;</span>K-means algorithm</a></div><div class=\"lev2 toc-item\"><a href=\"#Calculating-purity\" data-toc-modified-id=\"Calculating-purity-29\"><span class=\"toc-item-num\">2.9&nbsp;&nbsp;</span>Calculating purity</a></div><div class=\"lev2 toc-item\"><a href=\"#HW4.6----(OPTIONAL)-Scaleable-K-MEANS++\" data-toc-modified-id=\"HW4.6----(OPTIONAL)-Scaleable-K-MEANS++-210\"><span class=\"toc-item-num\">2.10&nbsp;&nbsp;</span>HW4.6  - (OPTIONAL) Scaleable K-MEANS++</a></div><div class=\"lev3 toc-item\"><a href=\"#4.6.1-(OPTIONAL)-Apply-K-MEANS||\" data-toc-modified-id=\"4.6.1-(OPTIONAL)-Apply-K-MEANS||-2101\"><span class=\"toc-item-num\">2.10.1&nbsp;&nbsp;</span>4.6.1 (OPTIONAL) Apply K-MEANS||</a></div><div class=\"lev2 toc-item\"><a href=\"#HW4.7---(OPTIONAL)-Canopy-Clustering\" data-toc-modified-id=\"HW4.7---(OPTIONAL)-Canopy-Clustering-211\"><span class=\"toc-item-num\">2.11&nbsp;&nbsp;</span>HW4.7 - (OPTIONAL) Canopy Clustering</a></div><div class=\"lev3 toc-item\"><a href=\"#4.7.1-(OPTIONAL)-Apply-Canopy-Clustering-based-K-MEANS\" data-toc-modified-id=\"4.7.1-(OPTIONAL)-Apply-Canopy-Clustering-based-K-MEANS-2111\"><span class=\"toc-item-num\">2.11.1&nbsp;&nbsp;</span>4.7.1 (OPTIONAL) Apply Canopy Clustering based K-MEANS</a></div>"
   ]
  },
  {
   "cell_type": "markdown",
   "metadata": {},
   "source": [
    "# MIDS - w261 Machine Learning At Scale \n",
    "__Course Lead:__ Dr James G. Shanahan (__email__ Jimi via  James.Shanahan _AT_ gmail.com)\n",
    "\n",
    "## Assignment - HW4\n",
    "\n",
    "\n",
    "\n",
    "---\n",
    "__Name:__  Victoria Baker\n",
    "__Class:__ MIDS w261 (Section 2)     \n",
    "__Email:__  victoria.baker@iSchool.Berkeley.edu     \n",
    "__StudentId__  3032501083    __End of StudentId__     \n",
    "\n",
    "__NOTE:__ please replace `1234567` with your student id above      \n",
    "\n",
    "### INSTRUCTIONS for SUBMISSION\n",
    "\n",
    "This homework can be completed locally on your computer. __Please submit your notebook to your classroom github repository 24 hours prior to the next live session.__ \n",
    "\n",
    "### CONFIGURATION\n",
    "Before starting your homework run the following cells to confirm your setup."
   ]
  },
  {
   "cell_type": "code",
   "execution_count": 11,
   "metadata": {
    "collapsed": true
   },
   "outputs": [],
   "source": [
    "# general imports\n",
    "import os\n",
    "import re\n",
    "import sys\n",
    "import numpy as np\n",
    "import matplotlib.pyplot as plt\n",
    "\n",
    "# tell matplotlib not to open a new window\n",
    "%matplotlib inline\n",
    "\n",
    "# automatically reload modules \n",
    "%reload_ext autoreload\n",
    "%autoreload 2"
   ]
  },
  {
   "cell_type": "code",
   "execution_count": 103,
   "metadata": {
    "collapsed": false
   },
   "outputs": [
    {
     "name": "stdout",
     "output_type": "stream",
     "text": [
      "Collecting mrjobstep\n",
      "\u001b[31m  Could not find a version that satisfies the requirement mrjobstep (from versions: )\u001b[0m\n",
      "\u001b[31mNo matching distribution found for mrjobstep\u001b[0m\n"
     ]
    }
   ],
   "source": [
    "!pip install mrjob"
   ]
  },
  {
   "cell_type": "code",
   "execution_count": 12,
   "metadata": {
    "collapsed": false
   },
   "outputs": [
    {
     "name": "stdout",
     "output_type": "stream",
     "text": [
      "Python Version: 2.7.13 \n",
      "HDFS filesystem running at: \n",
      "\t hdfs://quickstart.cloudera:8020\n"
     ]
    }
   ],
   "source": [
    "# print some configuration details for future replicability.\n",
    "print 'Python Version: %s' % (sys.version.split('|')[0])\n",
    "hdfs_conf = !hdfs getconf -confKey fs.defaultFS ### UNCOMMENT ON DOCKER\n",
    "#hdfs_conf = !hdfs getconf -confKey fs.default.name ### UNCOMMENT ON ALTISCALE\n",
    "print 'HDFS filesystem running at: \\n\\t %s' % (hdfs_conf[0])"
   ]
  },
  {
   "cell_type": "code",
   "execution_count": null,
   "metadata": {
    "collapsed": true
   },
   "outputs": [],
   "source": [
    "# create an HDFS directory for this assignment\n",
    "!hdfs dfs -mkdir hw4"
   ]
  },
  {
   "cell_type": "markdown",
   "metadata": {},
   "source": [
    "__[OPTIONAL]:__ Save yourself some typing by defining global variables for paths we'll reuse frequently."
   ]
  },
  {
   "cell_type": "code",
   "execution_count": null,
   "metadata": {
    "collapsed": true
   },
   "outputs": [],
   "source": [
    "HDFS_DIR = \"\" # eg. /user/root/hw4 \n",
    "HOME_DIR = os.getcwd() "
   ]
  },
  {
   "cell_type": "markdown",
   "metadata": {},
   "source": [
    "__[OPTIONAL]:__ Fix chrome formatting. _The cell below implements a quick hack based on [this stackoverflow thread](http://stackoverflow.com/questions/34277967/chrome-rendering-mathjax-equations-with-a-trailing-vertical-line) to fix [this known issue](https://github.com/mathjax/MathJax/issues/1300) with Mathjax formatting in Chrome (a rounding issue adds a border to the right of mathjax markup)._"
   ]
  },
  {
   "cell_type": "code",
   "execution_count": 3,
   "metadata": {
    "collapsed": false
   },
   "outputs": [
    {
     "data": {
      "application/javascript": [
       "$('.math>span').css(\"border-left-color\",\"transparent\")"
      ],
      "text/plain": [
       "<IPython.core.display.Javascript object>"
      ]
     },
     "metadata": {},
     "output_type": "display_data"
    }
   ],
   "source": [
    "%%javascript\n",
    "$('.math>span').css(\"border-left-color\",\"transparent\")"
   ]
  },
  {
   "cell_type": "markdown",
   "metadata": {},
   "source": [
    "### DATASETS\n",
    "For this homework we be using two different datasets:\n",
    "* __Microsoft log files data__ (available from the [UC Irvine KDD Archive](https://kdd.ics.uci.edu/databases/msweb/msweb.html) at [this url](http://archive.ics.uci.edu/ml/machine-learning-databases/anonymous/) - _This data, referenced in the asynch lectures, captures which areas (Vroots) of www.microsoft.com each user visited in a one-week timeframe in Feburary 1998. We'll perform preprocessing on the data in HW 4.2 and find the most frequently visited pages and visitors in HW 4.3 and 4.4_\n",
    "* __Tweets data__ (from [this publication](https://arxiv.org/abs/1505.04342) in the Journal of Computation Science and available at [this url] - _This data, comes from a corpus of Tweets that were hand coded to reflect whether the tweet was written by a human,cyborg,robot or spammer. The data are in two files: the primary [topUsers file](https://www.dropbox.com/s/6129k2urvbvobkr/topUsers_Apr-Jul_2014_1000-words.txt?dl=0), and an auxilary [word summaries](https://www.dropbox.com/s/w4oklbsoqefou3b/topUsers_Apr-Jul_2014_1000-words_summaries.txt?dl=0) file (more details below). We'll perform a KMeans clustering analysis on this data in HW 4.5._\n",
    "\n",
    "Follow the directions below to load each of these datasets. You may want to familiarize yourself with their contents before proceeding to the homework questions.\n",
    "\n",
    "__`anonymous-msweb.data`__  \n",
    "Notes on the data format:\n",
    "> The data is in an ASCII-based sparse-data format called \"DST\". Each line of the data file starts with a letter which tells the line's type. The three line types of interest are:\n",
    "\n",
    ">__Attribute lines__:\n",
    "e.g. `A,1277,1,\"NetShow for PowerPoint\",\"/stream\"`\n",
    "Where:\n",
    "  'A' marks this as an attribute line, \n",
    "  '1277' is the attribute ID number for an area of the website (called a Vroot),\n",
    "  '1' may be ignored, \n",
    "  '\"NetShow for PowerPoint\"' is the title of the Vroot, \n",
    "  '\"/stream\"' is the URL relative to \"http://www.microsoft.com\"\n",
    "\n",
    ">__Case and Vote Lines__:\n",
    "For each user, there is a case line followed by zero or more vote lines.\n",
    "For example:\n",
    "  C,\"10164\",10164\n",
    "  V,1123,1\n",
    "  V,1009,1\n",
    "  V,1052,1\n",
    "Where:\n",
    "  'C' marks this as a case line, \n",
    "  '10164' is the case ID number of a user, \n",
    "  'V' marks the vote lines for this case, \n",
    "  '1123', 1009', 1052' are the attributes ID's of Vroots that a user visited. \n",
    "  '1' may be ignored.\n",
    "  \n",
    "Run the cells below to download and examine the file."
   ]
  },
  {
   "cell_type": "code",
   "execution_count": 3,
   "metadata": {
    "collapsed": false
   },
   "outputs": [
    {
     "name": "stdout",
     "output_type": "stream",
     "text": [
      "  % Total    % Received % Xferd  Average Speed   Time    Time     Time  Current\n",
      "                                 Dload  Upload   Total   Spent    Left  Speed\n",
      "100 1389k  100 1389k    0     0   152k      0  0:00:09  0:00:09 --:--:--  239k\n"
     ]
    }
   ],
   "source": [
    "# download the data\n",
    "!curl -L http://archive.ics.uci.edu/ml/machine-learning-databases/anonymous/anonymous-msweb.data -o anonymous-msweb.data"
   ]
  },
  {
   "cell_type": "code",
   "execution_count": 4,
   "metadata": {
    "collapsed": false
   },
   "outputs": [
    {
     "name": "stdout",
     "output_type": "stream",
     "text": [
      "I,4,\"www.microsoft.com\",\"created by getlog.pl\"\r\n",
      "T,1,\"VRoot\",0,0,\"VRoot\"\r\n",
      "N,0,\"0\"\r\n",
      "N,1,\"1\"\r\n",
      "T,2,\"Hide1\",0,0,\"Hide\"\r\n",
      "N,0,\"0\"\r\n",
      "N,1,\"1\"\r\n",
      "A,1287,1,\"International AutoRoute\",\"/autoroute\"\r\n",
      "A,1288,1,\"library\",\"/library\"\r\n",
      "A,1289,1,\"Master Chef Product Information\",\"/masterchef\"\r\n"
     ]
    }
   ],
   "source": [
    "# take a look\n",
    "!head -n 10 anonymous-msweb.data"
   ]
  },
  {
   "cell_type": "markdown",
   "metadata": {},
   "source": [
    "__`topUsers_Apr-Jul_2014_1000-words.txt`__  \n",
    "Notes about the data coding:  \n",
    "> This file consists of word frequency distributions for 1,000 twitter users. These Twitter users use language in very different ways,and were classified by hand according to the criteria:  \n",
    "\n",
    ">__0__: Human, _where only basic human-human communication is observed._  \n",
    "\n",
    ">__1__: Cyborg, _where language is primarily borrowed from other sources. (e.g., jobs listings, classifieds postings, advertisements, etc...)._  \n",
    "\n",
    "> __2__: Robot, _where language is formulaically derived from unrelated sources(e.g., weather/seismology, police/fire event logs, etc...)._  \n",
    "\n",
    ">__3__: Spammer, _where language is replicated to high multiplicity\n",
    "(e.g., celebrity obsessions, personal promotion, etc...)_\n",
    "\n",
    "Data format:\n",
    "> `USERID,CODE,TOTAL,WORD1_COUNT,WORD2_COUNT,...`  \n",
    "where   \n",
    "USERID = unique user identifier  \n",
    "CODE = 0/1/2/3 class code  \n",
    "TOTAL = sum of the word counts  \n",
    "\n",
    "Run the cells below to load and preview the data. "
   ]
  },
  {
   "cell_type": "code",
   "execution_count": 5,
   "metadata": {
    "collapsed": false
   },
   "outputs": [
    {
     "name": "stdout",
     "output_type": "stream",
     "text": [
      "  % Total    % Received % Xferd  Average Speed   Time    Time     Time  Current\n",
      "                                 Dload  Upload   Total   Spent    Left  Speed\n",
      "100 2493k  100 2493k    0     0   108k      0  0:00:22  0:00:22 --:--:--  196k\n"
     ]
    }
   ],
   "source": [
    "# download the main Twitter data\n",
    "!curl -L -O https://www.dropbox.com/s/6129k2urvbvobkr/topUsers_Apr-Jul_2014_1000-words.txt"
   ]
  },
  {
   "cell_type": "code",
   "execution_count": 6,
   "metadata": {
    "collapsed": false
   },
   "outputs": [
    {
     "name": "stdout",
     "output_type": "stream",
     "text": [
      "1180025371,2,1724608,75552,827,57603,7128,4282,45674,66811,27632,0,8,23783,2,42853,0,62335,22349,21428,19801,4125,0,0,2,1585,21118,1,1,1,16079,19676,1587,0,19695,0,0,0,0,0,0,2,20216,60,4278,0,16,46,788,2,0,0,3,0,3,0,0,111122,0,12,0,0,0,2,739,0,176,0,0,0,38,626,0,0,0,6,1584,0,19672,510,0,0,0,12,0,1675,0,0,0,0,5,2,0,0,1,9,0,0,31,0,0,2,0,0,0,0,4,64,476,0,1,0,617,0,0,15672,70315,70317,0,2997,0,0,0,665,0,0,12,0,0,0,3135,1,2,39,0,0,0,0,23,0,1,0,179,667,0,0,32,0,0,224,5,0,0,66,0,3,450,96,0,0,0,0,8,15,15,0,115,0,0,19672,0,46,15,0,0,2,0,51,0,0,0,298,0,0,5,2,165,3,0,0,46497,0,19675,0,4,0,42036,0,0,40035,84,0,103,0,2,12,1924,7,0,0,0,0,3,0,42629,197,15490,0,0,45,0,0,0,0,0,0,301,0,0,0,0,134,3300,0,422,386,0,19826,2,0,0,46,9,354,175,71,165,20338,0,109,0,1,44376,0,1370,0,0,0,0,0,0,0,0,0,0,2,0,0,4462,0,0,5,0,202,436,408,0,61,0,0,39888,74,0,19672,0,0,0,0,0,19672,19672,2,2,349,0,13,0,30,0,0,8,0,40,0,23,0,12,337,0,12,19952,26,0,0,15489,0,0,0,0,39,0,0,26,0,0,19,144,161,0,0,0,5558,0,23,1561,52,0,0,0,9,0,0,35319,0,0,68,0,0,0,0,0,0,0,8,0,0,222,463,60,0,77,0,20219,0,1,4581,0,0,0,297,0,0,0,0,0,68,0,17942,0,38,226,0,0,0,0,9,19,0,0,0,0,0,217,12,261,0,25052,263,0,0,0,1,0,59,27,14,133,76,234,24966,0,0,1,2,11,44,3,0,0,43,0,3,3,2,0,0,0,2,0,0,7,47,0,0,0,0,2,0,0,1,0,0,0,0,175,0,0,5,1,0,0,0,7,0,0,104,53,0,0,16,13,26,0,11,0,6,77,0,17,0,360,0,0,1693,0,147,0,10,0,0,0,61,1,0,0,113,0,0,1,0,305,14,23,0,42,0,0,0,1,14,2391,6,0,21,0,0,911,3,0,0,0,0,0,0,0,0,39,0,25088,0,0,0,34,134,59,35,45,1584,40,2,8,0,249,0,72,0,0,0,0,0,2,0,0,0,0,0,25,0,13,0,0,4223,30,0,0,0,0,0,0,184,1,5558,0,0,24,0,61,7,38,0,309,0,25,0,0,0,0,0,0,0,0,0,3,258,0,0,0,0,0,710,0,62,0,21,0,0,0,0,820,0,0,19672,0,1,0,0,8,74,0,0,0,87,15390,12,20216,1,0,2,10810,11,0,0,47,0,0,797,95,19826,143,0,2,772,0,0,0,117,90,0,56,1,0,0,86,382,807,0,0,0,77,0,97,0,169,282,0,0,0,0,0,0,14,1,0,0,0,0,202,825,1,10,0,803,98,0,167,113,0,263,18506,0,18521,0,243,4,88,0,46,0,0,0,0,15,0,718,1,0,0,0,0,261,0,0,0,454,3028,0,0,0,48,0,0,0,48,0,112,0,0,140,0,1,0,0,0,0,0,2701,0,0,13,0,0,178,741,0,0,1,0,0,0,0,0,352,5,0,0,42,0,0,94,0,0,0,9,0,0,0,0,2,15489,0,11,225,0,5,0,811,0,5,0,43,0,16,277,26,0,11,0,0,0,0,0,0,0,0,0,0,0,0,15489,0,0,0,0,0,0,0,0,0,0,0,95,61,9,0,70,0,28,0,0,135,0,0,0,31,12,0,0,0,0,1,0,0,1,202,0,0,0,39,0,0,125,0,0,48,0,0,24,0,13,272,48,22,0,74,0,0,0,23,0,5,0,2,21,0,0,0,69,12512,0,0,38,0,0,16,0,0,0,0,0,7,2,1,0,17,1,0,0,0,0,18,14,0,0,0,90,0,0,0,128,45,0,1,0,0,0,2,8,0,30,11,15,28,0,0,0,0,0,0,0,0,0,113,0,0,0,50,0,0,0,5,0,118,0,6,85,56,15,12,0,0,0,176,10,57,12,289,0,27,0,0,0,0,0,23,89,0,221,0,16,0,0,0,0,0,14,33,126,11,32,1,137,13,0,0,0,0,0,0,0,0,0,1,0,98,0,0,0,45,0,215,0,0,0,0,71,76,0,0,0,15,108,0,0,176,0,0,0,0,121,0,0,0,0\r\n"
     ]
    }
   ],
   "source": [
    "# take a look at the first row\n",
    "!head -n 1 topUsers_Apr-Jul_2014_1000-words.txt"
   ]
  },
  {
   "cell_type": "markdown",
   "metadata": {},
   "source": [
    "__`topUsers_Apr-Jul_2014_1000-words_summaries.txt`__\n",
    "This file contains 5 special word-frequency distributions.\n",
    "Notes about the format of this auxillary information:  \n",
    "> Row 1: Words  \n",
    "Row 2: 1000-user-wide aggregated distribution across all classes  \n",
    "Row 3-6 class-aggregated distributions for clases 0-3  "
   ]
  },
  {
   "cell_type": "code",
   "execution_count": 7,
   "metadata": {
    "collapsed": false
   },
   "outputs": [
    {
     "name": "stdout",
     "output_type": "stream",
     "text": [
      "  % Total    % Received % Xferd  Average Speed   Time    Time     Time  Current\n",
      "                                 Dload  Upload   Total   Spent    Left  Speed\n",
      "100 31952  100 31952    0     0   8130      0  0:00:03  0:00:03 --:--:-- 45450\n"
     ]
    }
   ],
   "source": [
    "# download auxillary file\n",
    "!curl -L -O https://www.dropbox.com/s/w4oklbsoqefou3b/topUsers_Apr-Jul_2014_1000-words_summaries.txt"
   ]
  },
  {
   "cell_type": "code",
   "execution_count": 8,
   "metadata": {
    "collapsed": false
   },
   "outputs": [
    {
     "name": "stdout",
     "output_type": "stream",
     "text": [
      "\"ID\",\"CODE\",\"TOTAL_WORDS\",\"http\",\"I\",\"the\",\"to\",\"you\"\r\n",
      "ALL_CODES,NA,61819567,2488393,1989622,1329663,1259298,1181631\r\n",
      "CODE,0,35130977,449927,1668694,914155,957278,916553\r\n",
      "CODE,1,11423284,1239122,28497,117272,104367,10209\r\n",
      "CODE,2,9373246,613561,42672,191091,60120,31309\r\n",
      "CODE,3,5892060,185783,249759,107145,137533,223560\r\n"
     ]
    }
   ],
   "source": [
    "# take a look at the first few columns\n",
    "!cut -d ',' -f 1-8 topUsers_Apr-Jul_2014_1000-words_summaries.txt"
   ]
  },
  {
   "cell_type": "markdown",
   "metadata": {},
   "source": [
    "# HW Problems\n"
   ]
  },
  {
   "cell_type": "markdown",
   "metadata": {},
   "source": [
    "## HW4.0 \n",
    "\n",
    "What is MrJob? How is it different to Hadoop MapReduce? \n",
    "What are the mapper_init, mapper_final(), combiner_final(), reducer_final() methods? When are they called?"
   ]
  },
  {
   "cell_type": "markdown",
   "metadata": {
    "collapsed": true
   },
   "source": [
    "#### Answers\n",
    "\n",
    "Mrjob is a Python MapReduce package that helps you write and run Hadoop Streaming jobs. MRJob uses Hadoop MapReduce, but it's specifically a Python implementation that allows Hadoop jobs to be run on EMR clusters. The function descriptions are as follows:\n",
    "\n",
    "mapper_init - This defines an action to run before the mapper processes any input. For example, you could use this function to initialize mapper-specific helpers. It's called before the mapper starts processing data.\n",
    "\n",
    "mapper_final - This defines an action to run after the mapper reaches the end of input. This is called after reading all input data. \n",
    "\n",
    "combiner_final - This defines an action to run after the combiner reaches the end of input. It's called after the combiner has processed all data.\n",
    "\n",
    "reducer_final - This defines an action to run after the reducer reaches the end of input. It's called at the end of the reducer process."
   ]
  },
  {
   "cell_type": "markdown",
   "metadata": {},
   "source": [
    "## HW4.1\n",
    "- What is serialization in the context of MrJob or Hadoop? "
   ]
  },
  {
   "cell_type": "markdown",
   "metadata": {},
   "source": [
    "MRJob assumes that all data is newline-delimited bytes. It automatically serializes and deserializes these bytes using built in protocols. In Hadoop you have to define how you serialize or deserialize data."
   ]
  },
  {
   "cell_type": "markdown",
   "metadata": {},
   "source": [
    "- When it used in these frameworks? "
   ]
  },
  {
   "cell_type": "markdown",
   "metadata": {},
   "source": [
    "MRJob automatically serializes and deserializes data going into and coming out of each task. The input/output/internal protocol will serialize/deserialize the data according to how you define it. "
   ]
  },
  {
   "cell_type": "markdown",
   "metadata": {},
   "source": [
    "- What is the default serialization mode for input and outputs for MrJob? "
   ]
  },
  {
   "cell_type": "markdown",
   "metadata": {},
   "source": [
    "The default input protocal is RawValueProtocol. The default output and internal protocols are both JSONProtocol."
   ]
  },
  {
   "cell_type": "markdown",
   "metadata": {},
   "source": [
    "## HW4.2  - Preprocess log file data\n",
    "\n",
    "For this homework question we'll work with the Microsoft log files we downloaded to `anonymous-msweb.data`. Your job is to  transform/preprocess the data on a single node (i.e., not on a cluster of nodes) from the following format:\n",
    "\n",
    ">C,\"10001\",10001   #Visitor id 10001  \n",
    "V,1000,1          #Visit by Visitor 10001 to page id 1000  \n",
    "V,1001,1          #Visit by Visitor 10001 to page id 1001  \n",
    "V,1002,1          #Visit by Visitor 10001 to page id 1002  \n",
    "C,\"10002\",10002   #Visitor id 10001  \n",
    "V  \n",
    "Note: #denotes comments  \n",
    "\n",
    "\n",
    "to the following format (V, PageID, 1, C, Visitor):\n",
    "\n",
    ">V,1000,1,C, 10001  \n",
    "V,1001,1,C, 10001  \n",
    "V,1002,1,C, 10001  \n",
    "\n",
    "Write the python code to accomplish this transformation. Save your output to a file called `anonymous-msweb-preprocessed.data`"
   ]
  },
  {
   "cell_type": "code",
   "execution_count": 91,
   "metadata": {
    "collapsed": false
   },
   "outputs": [
    {
     "name": "stdout",
     "output_type": "stream",
     "text": [
      "Overwriting transformation.py\n"
     ]
    }
   ],
   "source": [
    "%%writefile transformation.py\n",
    "import re\n",
    "import sys\n",
    "from collections import defaultdict\n",
    "\n",
    "pathToFile = sys.argv[1]\n",
    "wordCounts = defaultdict(int)\n",
    "\n",
    "def hw42(pathToFile):\n",
    "    # takes the path to the file as command line argument\n",
    "    # prints sorted tab separated list of words and counts\n",
    "    # ex) print word,'\\t',count\n",
    "    # returns sorted list of tuples of words and counts: wordList\n",
    "    # ex) wordList = [('a', 690),('abide', 2),...]\n",
    "  \n",
    "    wordList = {}\n",
    "\n",
    "    # START STUDENT CODE HW1.1\n",
    "    with open(pathToFile, 'r') as text_file:\n",
    "        lines = text_file.readlines()\n",
    "        for line in lines:\n",
    "            cols = line.split(\",\")\n",
    "            if(cols[0] == \"A\"):\n",
    "                attributeId = cols[1]\n",
    "                #col[2] can be ignored\n",
    "                VrootTitle = cols[3]\n",
    "                url = cols[4]\n",
    "                \n",
    "            if(cols[0] == \"C\"):\n",
    "                caseId = cols[1]\n",
    "                userNo = cols[2]\n",
    "            if(cols[0] == \"V\"):\n",
    "                string = \"V,\"+str(cols[1])+\",1,C,\"+str(userNo)\n",
    "                string = string.strip('\\n')\n",
    "                print(string)\n",
    "    \n",
    "    \n",
    "    #line = text_file.read().lower()\n",
    "    \n",
    "    #for word in re.findall(r'[a-z]+', text_string):\n",
    "        #wordCounts[word] += 1\n",
    "        \n",
    "    #for key in sorted(wordCounts):\n",
    "        #print key,'\\t', wordCounts[key]\n",
    "\n",
    "    # END STUDENT CODE HW1.1\n",
    "  \n",
    "    return\n",
    "\n",
    "hw42(pathToFile)\n",
    "\n",
    "#END STUDENT CODE42"
   ]
  },
  {
   "cell_type": "code",
   "execution_count": 92,
   "metadata": {
    "collapsed": false
   },
   "outputs": [],
   "source": [
    "!python transformation.py 'anonymous-msweb.data' > anonymous-msweb-preprocessed.data"
   ]
  },
  {
   "cell_type": "code",
   "execution_count": 93,
   "metadata": {
    "collapsed": false
   },
   "outputs": [
    {
     "name": "stdout",
     "output_type": "stream",
     "text": [
      "V,1000,1,C,10001\n",
      "V,1001,1,C,10001\n",
      "V,1002,1,C,10001\n",
      "V,1001,1,C,10002\n",
      "V,1003,1,C,10002\n",
      "V,1001,1,C,10003\n",
      "V,1003,1,C,10003\n",
      "V,1004,1,C,10003\n",
      "V,1005,1,C,10004\n",
      "V,1006,1,C,10005\n",
      "98654 anonymous-msweb-preprocessed.data\n"
     ]
    }
   ],
   "source": [
    "# Take a look at your results\n",
    "!head -10 anonymous-msweb-preprocessed.data\n",
    "!wc -l anonymous-msweb-preprocessed.data"
   ]
  },
  {
   "cell_type": "markdown",
   "metadata": {},
   "source": [
    "## HW4.3 - Find the most frequent pages\n",
    "\n",
    "Find the 5 most frequently visited pages using MrJob from the output of 4.2 (i.e., transfromed log file)."
   ]
  },
  {
   "cell_type": "code",
   "execution_count": 12,
   "metadata": {
    "collapsed": false
   },
   "outputs": [
    {
     "name": "stdout",
     "output_type": "stream",
     "text": [
      "Writing MostFrequentVisits.py\n"
     ]
    }
   ],
   "source": [
    "%%writefile MostFrequentVisits.py\n",
    "#!/usr/bin/env python\n",
    "#START STUDENT CODE43\n",
    "\n",
    "from mrjob.job import MRJob\n",
    "from mrjob.step import MRStep\n",
    "import re\n",
    "\n",
    " \n",
    "class MRWordFreqCount(MRJob):\n",
    "    def mapper(self, _, line):\n",
    "        words = line.split(\",\")\n",
    "        yield words[1].lower(), 1\n",
    "     \n",
    "    def combiner(self, word, counts):\n",
    "        yield word, sum(counts)\n",
    "\n",
    "    #hello, (1,1,1,1,1,1): using a combiner? NO and YEs\n",
    "    def reducer(self, word, counts):\n",
    "        yield None, (sum(counts), word)\n",
    "        \n",
    "    def reducer_final_sort_clip(self, _, page_count_pairs):\n",
    "        for (count, page) in sorted(page_count_pairs, reverse=True)[0:5]:\n",
    "            yield page, count\n",
    "        \n",
    "    def steps(self):\n",
    "        return [self.mr(\n",
    "                    mapper=self.mapper,\n",
    "                    combiner = self.combiner,\n",
    "                    reducer=self.reducer),\n",
    "                self.mr(reducer=self.reducer_final_sort_clip)\n",
    "                ]\n",
    "\n",
    "if __name__ == '__main__':\n",
    "    MRWordFreqCount.run()\n",
    "\n",
    "\n",
    "#END STUDENT CODE43"
   ]
  },
  {
   "cell_type": "code",
   "execution_count": 13,
   "metadata": {
    "collapsed": true
   },
   "outputs": [],
   "source": [
    "!chmod +x MostFrequentVisits.py"
   ]
  },
  {
   "cell_type": "code",
   "execution_count": 14,
   "metadata": {
    "collapsed": false
   },
   "outputs": [
    {
     "name": "stdout",
     "output_type": "stream",
     "text": [
      "No configs found; falling back on auto-configuration\n",
      "Creating temp directory /tmp/MostFrequentVisits.root.20170924.152746.640326\n",
      "mr() is deprecated and will be removed in v0.6.0. Use mrjob.step.MRStep directly instead.\n",
      "mr() is deprecated and will be removed in v0.6.0. Use mrjob.step.MRStep directly instead.\n",
      "Running step 1 of 2...\n",
      "mr() is deprecated and will be removed in v0.6.0. Use mrjob.step.MRStep directly instead.\n",
      "mr() is deprecated and will be removed in v0.6.0. Use mrjob.step.MRStep directly instead.\n",
      "mr() is deprecated and will be removed in v0.6.0. Use mrjob.step.MRStep directly instead.\n",
      "mr() is deprecated and will be removed in v0.6.0. Use mrjob.step.MRStep directly instead.\n",
      "mr() is deprecated and will be removed in v0.6.0. Use mrjob.step.MRStep directly instead.\n",
      "mr() is deprecated and will be removed in v0.6.0. Use mrjob.step.MRStep directly instead.\n",
      "mr() is deprecated and will be removed in v0.6.0. Use mrjob.step.MRStep directly instead.\n",
      "mr() is deprecated and will be removed in v0.6.0. Use mrjob.step.MRStep directly instead.\n",
      "mr() is deprecated and will be removed in v0.6.0. Use mrjob.step.MRStep directly instead.\n",
      "mr() is deprecated and will be removed in v0.6.0. Use mrjob.step.MRStep directly instead.\n",
      "mr() is deprecated and will be removed in v0.6.0. Use mrjob.step.MRStep directly instead.\n",
      "mr() is deprecated and will be removed in v0.6.0. Use mrjob.step.MRStep directly instead.\n",
      "mr() is deprecated and will be removed in v0.6.0. Use mrjob.step.MRStep directly instead.\n",
      "mr() is deprecated and will be removed in v0.6.0. Use mrjob.step.MRStep directly instead.\n",
      "mr() is deprecated and will be removed in v0.6.0. Use mrjob.step.MRStep directly instead.\n",
      "mr() is deprecated and will be removed in v0.6.0. Use mrjob.step.MRStep directly instead.\n",
      "mr() is deprecated and will be removed in v0.6.0. Use mrjob.step.MRStep directly instead.\n",
      "mr() is deprecated and will be removed in v0.6.0. Use mrjob.step.MRStep directly instead.\n",
      "mr() is deprecated and will be removed in v0.6.0. Use mrjob.step.MRStep directly instead.\n",
      "mr() is deprecated and will be removed in v0.6.0. Use mrjob.step.MRStep directly instead.\n",
      "mr() is deprecated and will be removed in v0.6.0. Use mrjob.step.MRStep directly instead.\n",
      "mr() is deprecated and will be removed in v0.6.0. Use mrjob.step.MRStep directly instead.\n",
      "mr() is deprecated and will be removed in v0.6.0. Use mrjob.step.MRStep directly instead.\n",
      "mr() is deprecated and will be removed in v0.6.0. Use mrjob.step.MRStep directly instead.\n",
      "Running step 2 of 2...\n",
      "mr() is deprecated and will be removed in v0.6.0. Use mrjob.step.MRStep directly instead.\n",
      "mr() is deprecated and will be removed in v0.6.0. Use mrjob.step.MRStep directly instead.\n",
      "mr() is deprecated and will be removed in v0.6.0. Use mrjob.step.MRStep directly instead.\n",
      "mr() is deprecated and will be removed in v0.6.0. Use mrjob.step.MRStep directly instead.\n",
      "Streaming final output from /tmp/MostFrequentVisits.root.20170924.152746.640326/output...\n",
      "Removing temp directory /tmp/MostFrequentVisits.root.20170924.152746.640326...\n"
     ]
    }
   ],
   "source": [
    "!python MostFrequentVisits.py anonymous-msweb-preprocessed.data > 43_sorted_output.txt"
   ]
  },
  {
   "cell_type": "code",
   "execution_count": 15,
   "metadata": {
    "collapsed": false
   },
   "outputs": [
    {
     "name": "stdout",
     "output_type": "stream",
     "text": [
      "\"1008\"\t10836\r\n",
      "\"1034\"\t9383\r\n",
      "\"1004\"\t8463\r\n",
      "\"1018\"\t5330\r\n",
      "\"1017\"\t5108\r\n"
     ]
    }
   ],
   "source": [
    "!cat 43_sorted_output.txt"
   ]
  },
  {
   "cell_type": "markdown",
   "metadata": {},
   "source": [
    "## HW4.4  - Find the most frequent visitor\n",
    "\n",
    "Find the most frequent visitor of each page using MrJob and the output of 4.2  (i.e., transfromed log file). In this output please include the webpage URL, webpageID and Visitor ID.  You may get a weird result.  HINT: The maximum visits by any visitor to any given webpage is 1."
   ]
  },
  {
   "cell_type": "code",
   "execution_count": 83,
   "metadata": {
    "collapsed": true
   },
   "outputs": [],
   "source": [
    "from IPython.display import Image, HTML"
   ]
  },
  {
   "cell_type": "code",
   "execution_count": 176,
   "metadata": {
    "collapsed": false
   },
   "outputs": [
    {
     "data": {
      "image/png": "[encoded data removed]",
      "text/plain": [
       "<IPython.core.display.Image object>"
      ]
     },
     "execution_count": 176,
     "metadata": {},
     "output_type": "execute_result"
    }
   ],
   "source": [
    "Image('ms-data.png')"
   ]
  },
  {
   "cell_type": "code",
   "execution_count": 103,
   "metadata": {
    "collapsed": true
   },
   "outputs": [],
   "source": [
    "!cp anonymous-msweb.data /tmp"
   ]
  },
  {
   "cell_type": "code",
   "execution_count": 130,
   "metadata": {
    "collapsed": false
   },
   "outputs": [
    {
     "name": "stdout",
     "output_type": "stream",
     "text": [
      "Overwriting mostFrequentVisitors.py\n"
     ]
    }
   ],
   "source": [
    "%%writefile mostFrequentVisitors.py\n",
    "#!/usr/bin/env python\n",
    "#START STUDENT CODE44\n",
    "import sys, os, re\n",
    "from mrjob.job import MRJob\n",
    "from collections import defaultdict\n",
    "\n",
    "class MRLeftJoin(MRJob):\n",
    "    def mapper(self, _, line):\n",
    "        splits = line.rstrip(\"\\n\").split(\",\")\n",
    "        for line in open(\"/tmp/anonymous-msweb.data\").readlines():\n",
    "            #A,1287,1,\"International AutoRoute\",\"/autoroute\"\n",
    "            parts = line.split(\",\")\n",
    "            if(parts[0] == 'A'):\n",
    "                if(str(parts[1]) == str(splits[1])):\n",
    "                    webpageurl = parts[4]\n",
    "                    break\n",
    "                else:\n",
    "                    webpageurl = 'no url'\n",
    "        webpageId = splits[1]\n",
    "        yield webpageId, (webpageurl, splits[4], 1)\n",
    "    \n",
    "    def reducer(self, key, value):\n",
    "        sumCount = 0\n",
    "        for webpageurl, visitorId, count in value:\n",
    "            sumCount += count\n",
    "        yield webpageId, webpageurl, visitorId, sumCount\n",
    "        \n",
    "    def steps(self):\n",
    "        return [self.mr(\n",
    "                    mapper=self.mapper,\n",
    "                    reducer=self.reducer)\n",
    "                ]\n",
    "    \n",
    "if __name__ == '__main__':\n",
    "    MRLeftJoin.run()\n",
    "\n",
    "#END STUDENT CODE44"
   ]
  },
  {
   "cell_type": "code",
   "execution_count": 131,
   "metadata": {
    "collapsed": true
   },
   "outputs": [],
   "source": [
    "!chmod +x mostFrequentVisitors.py"
   ]
  },
  {
   "cell_type": "code",
   "execution_count": null,
   "metadata": {
    "collapsed": false
   },
   "outputs": [
    {
     "name": "stdout",
     "output_type": "stream",
     "text": [
      "No configs found; falling back on auto-configuration\n",
      "Creating temp directory /tmp/mostFrequentVisitors.root.20170928.151442.592491\n",
      "mr() is deprecated and will be removed in v0.6.0. Use mrjob.step.MRStep directly instead.\n",
      "Running step 1 of 1...\n",
      "mr() is deprecated and will be removed in v0.6.0. Use mrjob.step.MRStep directly instead.\n",
      "mr() is deprecated and will be removed in v0.6.0. Use mrjob.step.MRStep directly instead.\n",
      "mr() is deprecated and will be removed in v0.6.0. Use mrjob.step.MRStep directly instead.\n",
      "mr() is deprecated and will be removed in v0.6.0. Use mrjob.step.MRStep directly instead.\n"
     ]
    }
   ],
   "source": [
    "!python mostFrequentVisitors.py anonymous-msweb-preprocessed.data > 441_sorted_output.txt"
   ]
  },
  {
   "cell_type": "code",
   "execution_count": null,
   "metadata": {
    "collapsed": false
   },
   "outputs": [],
   "source": [
    "!cat 441_sorted_output.txt"
   ]
  },
  {
   "cell_type": "markdown",
   "metadata": {},
   "source": [
    "## HW4.5 - Clustering Tweet Dataset\n",
    "\n",
    "For this question use the Tweet data in `topUsers_Apr-Jul_2014_1000-words.txt`, you will implement a 1000-dimensional K-means algorithm in MrJob on the users by their 1000-dimensional word stripes/vectors using several centroid initializations and values of K.\n",
    "\n",
    "Note that each \"point\" is a user as represented by 1000 words, and thatword-frequency distributions are generally heavy-tailed power-laws(often called Zipf distributions), and are very rare in the larger class of discrete, random distributions. For each user you will have to normalize by its \"TOTAL\" column. __Try several parameterizations and initializations__ :\n",
    "\n",
    "* (A) K=4 uniform random centroid-distributions over the 1000 words (generate 1000 random numbers and normalize the vectors)\n",
    "* (B) K=2 perturbation-centroids, randomly perturbed from the aggregated (user-wide) distribution \n",
    "* (C) K=4 perturbation-centroids, randomly perturbed from the aggregated (user-wide) distribution \n",
    "* (D) K=4 \"trained\" centroids, determined by the sums across the classes. Use use the \n",
    "(row-normalized) class-level aggregates as 'trained' starting centroids (i.e., the training is already done for you!).\n",
    "\n",
    "Note that you do not have to compute the aggregated distribution or the class-aggregated distributions, which are rows in the auxiliary file `topUsers_Apr-Jul_2014_1000-words_summaries.txt`. \n",
    "\n",
    "For (A),  we select 4 users randomly from a uniform distribution [1,...,1,000]. For (B), (C), and (D)  you will have to use data from the auxiliary file. In parts (B) and (C), you will have to perturb the 1000-user aggregate (after initially normalizing by its sum, which is also provided). So if in (B) you want to create 2 perturbations of the aggregate, startwith (1), normalize, and generate 1000 random numbers uniformly from the unit interval (0,1) twice (for two centroids), using:"
   ]
  },
  {
   "cell_type": "markdown",
   "metadata": {},
   "source": [
    "### Notes from office hours\n",
    "\n",
    "frequency of user using word, normalized--so greatest it can be is one (100%); to do this, divide all wordcounts by total wordcount\n",
    "\n",
    "a - 4 random centroids\n",
    "b/c. normal distribution \n",
    "d. get mean for each class -- use auxiliary file with sums or words; divide by total and you get a distribution that dist. is  the vector for class \n",
    "\n",
    "\n",
    "sorts in mrjob:\n",
    "1. example in slides. slide 62 and 63\n",
    "jobconf\n"
   ]
  },
  {
   "cell_type": "code",
   "execution_count": 9,
   "metadata": {
    "collapsed": true
   },
   "outputs": [],
   "source": [
    "from numpy import random\n",
    "numbers = random.sample(1000)"
   ]
  },
  {
   "cell_type": "markdown",
   "metadata": {},
   "source": [
    "Take these 1000 numbers and add them (component-wise) to the 1000-user aggregate,\n",
    "and then renormalize to obtain one of your aggregate-perturbed initial centroids."
   ]
  },
  {
   "cell_type": "code",
   "execution_count": 13,
   "metadata": {
    "collapsed": false
   },
   "outputs": [
    {
     "name": "stdout",
     "output_type": "stream",
     "text": [
      "4\n"
     ]
    }
   ],
   "source": [
    "###################################################################################\n",
    "##Geneate random initial centroids around the global aggregate\n",
    "##Part (B) and (C) of this question\n",
    "###################################################################################\n",
    "def startCentroidsBC(k):\n",
    "    counter = 0\n",
    "    for line in open(\"topUsers_Apr-Jul_2014_1000-words_summaries.txt\").readlines():\n",
    "        if counter == 2:        \n",
    "            data = re.split(\",\",line)\n",
    "            globalAggregate = [float(data[i+3])/float(data[2]) for i in range(1000)]\n",
    "        counter += 1\n",
    "    #perturb the global aggregate for the four initializations    \n",
    "    centroids = []\n",
    "    for i in range(k):\n",
    "        rndpoints = random.sample(1000)\n",
    "        peturpoints = [rndpoints[n]/10+globalAggregate[n] for n in range(1000)]\n",
    "        centroids.append(peturpoints)\n",
    "        total = 0\n",
    "        for j in range(len(centroids[i])):\n",
    "            total += centroids[i][j]\n",
    "        for j in range(len(centroids[i])):\n",
    "            centroids[i][j] = centroids[i][j]/total\n",
    "    return centroids\n",
    "\n",
    "cent = startCentroidsBC(4)\n",
    "print len(cent)"
   ]
  },
  {
   "cell_type": "markdown",
   "metadata": {},
   "source": [
    "For experiments A, B, C and D and iterate until a threshold (try 0.001) is reached.\n",
    "After convergence, print out a summary of the classes present in each cluster.\n",
    "In particular, report the composition as measured by the total\n",
    "portion of each class type (0-3) contained in each cluster,\n",
    "and discuss your findings and any differences in outcomes across parts A-D."
   ]
  },
  {
   "cell_type": "markdown",
   "metadata": {},
   "source": [
    "#### copy files to temporary mr job directory"
   ]
  },
  {
   "cell_type": "code",
   "execution_count": 54,
   "metadata": {
    "collapsed": false
   },
   "outputs": [],
   "source": [
    "!cp topUsers_Apr-Jul_2014_1000-words_summaries.txt /tmp\n",
    "!cp topUsers_Apr-Jul_2014_1000-words.txt /tmp\n",
    "!cp Centroids.txt /tmp"
   ]
  },
  {
   "cell_type": "markdown",
   "metadata": {},
   "source": [
    "#### Working example that outputs tweet id and cluster assignment\n",
    "\n",
    "Using Unit test ipynb referenced in slides"
   ]
  },
  {
   "cell_type": "code",
   "execution_count": 84,
   "metadata": {
    "collapsed": false
   },
   "outputs": [
    {
     "name": "stdout",
     "output_type": "stream",
     "text": [
      "Overwriting KMeansCluster.py\n"
     ]
    }
   ],
   "source": [
    "%%writefile KMeansCluster.py\n",
    "#!/usr/bin/env python\n",
    "#START STUDENT CODE43\n",
    "\n",
    "from mrjob.job import MRJob\n",
    "from mrjob.step import MRStep\n",
    "import re\n",
    "import numpy as np\n",
    "from numpy import random\n",
    "numbers = random.sample(1000)\n",
    "\n",
    "class KMeans(MRJob):\n",
    "    \n",
    "    def startCentroidsBC(self, k):\n",
    "        counter = 0\n",
    "        for line in open(\"/tmp/topUsers_Apr-Jul_2014_1000-words_summaries.txt\").readlines():\n",
    "            if counter == 2:        \n",
    "                data = re.split(\",\",line)\n",
    "                globalAggregate = [float(data[i+3])/float(data[2]) for i in range(1000)]\n",
    "            counter += 1\n",
    "        #perturb the global aggregate for the four initializations    \n",
    "        centroids = []\n",
    "        for i in range(k):\n",
    "            rndpoints = random.sample(1000)\n",
    "            peturpoints = [rndpoints[n]/10+globalAggregate[n] for n in range(1000)]\n",
    "            centroids.append(peturpoints)\n",
    "            total = 0\n",
    "            for j in range(len(centroids[i])):\n",
    "                total += centroids[i][j]\n",
    "            for j in range(len(centroids[i])):\n",
    "                centroids[i][j] = centroids[i][j]/total\n",
    "        return centroids\n",
    "    \n",
    "    def initialize_centroids(self):\n",
    "        self.centroids = np.random.uniform(low=0.0, high=10.0, size=(self.num_clusters, self.num_features))\n",
    "        return\n",
    "\n",
    "    def get_nearest_centroid(self, centroids, X):\n",
    "        #centroids = np.array(self.centroids)\n",
    "        self.cluster_assignments = []\n",
    "        for i in range(len(X)):\n",
    "            data_point = np.array(X[i])\n",
    "            # Calculate the distance of this data point from each centroid\n",
    "            distances = np.sqrt(np.sum(np.square(np.subtract(data_point, centroids)), axis=1))  \n",
    "            print distances\n",
    "            # Get the nearest centroid for this data point\n",
    "            nearest_centroid_index = np.argmin(distances)\n",
    "            self.cluster_assignments.append(nearest_centroid_index)\n",
    "        #print len(self.cluster_assignments)\n",
    "        return \n",
    "    \n",
    "    def calc_new_centroids(self, X):\n",
    "        sums = np.array([[0.0]*self.num_features]*self.num_clusters)\n",
    "        counts = np.array([0]*self.num_clusters)\n",
    "        for i in range(len(X)):\n",
    "            data_point = np.array(X[i])\n",
    "            sums[self.cluster_assignments[i]] += data_point\n",
    "            counts[self.cluster_assignments[i]] += 1\n",
    "        for i in range(self.num_clusters):\n",
    "            if counts[i] != 0:\n",
    "                self.centroids[i] = 1.0*sums[i]/counts[i]\n",
    "            else:\n",
    "                pass  # If no data points were assigned to the cluster, keep old centroid\n",
    "        return\n",
    "                \n",
    "    def time_to_stop(self, old_centroids, iteration):\n",
    "        flag = True\n",
    "        if iteration >= self.max_iterations:\n",
    "            flag = True\n",
    "            print 'Maximum number of iterations reached.'\n",
    "            return flag\n",
    "        old_centroids = np.array(old_centroids)\n",
    "        new_centroids = np.array(self.centroids)\n",
    "        diffs = np.absolute(np.subtract(old_centroids, new_centroids))\n",
    "        if np.amax(diffs) < 0.001:\n",
    "            flag = True\n",
    "            print 'Stopping threshold reached.  Number of iterations = %d.' %(iteration)\n",
    "        else:\n",
    "            flag = False\n",
    "        return flag\n",
    "    \n",
    "    def assign_clusters(self, X, y=None, num_clusters=1):\n",
    "        self.num_clusters = num_clusters\n",
    "        self.num_features = len(X[0])\n",
    "        # Step 0:  Initialize Centroids    \n",
    "        self.initialize_centroids()\n",
    "        # Iterate until termination criterion is reached:\n",
    "        iteration = 1\n",
    "        while(1):\n",
    "            # Keep starting centroids to check for convergence\n",
    "            old_centroids = copy.deepcopy(self.centroids[:])\n",
    "            # Step 1: Get nearest centroids\n",
    "            self.get_nearest_centroid(X)\n",
    "            # Step 2: Calculate New Centroids\n",
    "            self.calc_new_centroids(X)\n",
    "            # Check termination criteria\n",
    "            if iteration%100 == 0:\n",
    "                print 'Iteration %d complete.' %(iteration)\n",
    "            if self.time_to_stop(old_centroids, iteration):\n",
    "                break\n",
    "            # Increment number of iterations\n",
    "            iteration += 1\n",
    "        return\n",
    "    \n",
    "    def centroids(self):\n",
    "        return self.centroids\n",
    "    \n",
    "    def cluster_assignments(self):\n",
    "        return cluster_assignments\n",
    "\n",
    "\n",
    "    def mapper(self, _, line):\n",
    "        self.num_clusters = 4\n",
    "        centroids = np.array(self.startCentroidsBC(self.num_clusters))\n",
    "        words = line.split(\",\")\n",
    "        #first word is id\n",
    "        #second word is total\n",
    "        #rest is counts\n",
    "        points = np.array(words[3:])\n",
    "        points = [ int(x) for x in points ]\n",
    "        #get centroid closest to points\n",
    "        index = self.get_nearest_centroid(centroids, points)\n",
    "        yield words[0], index\n",
    "\n",
    "    def reducer(self, userid, cluster):\n",
    "        yield userid, cluster\n",
    "        \n",
    "    def steps(self):\n",
    "        return [self.mr(\n",
    "                    mapper = self.mapper,\n",
    "                    reducer=self.reducer)\n",
    "                ]\n",
    "\n",
    "if __name__ == '__main__':\n",
    "    KMeans.run()\n",
    "\n",
    "\n",
    "#END STUDENT CODE43"
   ]
  },
  {
   "cell_type": "code",
   "execution_count": 85,
   "metadata": {
    "collapsed": false
   },
   "outputs": [
    {
     "name": "stdout",
     "output_type": "stream",
     "text": [
      "No configs found; falling back on auto-configuration\n",
      "Creating temp directory /tmp/KMeansCluster.root.20170928.142842.152695\n",
      "mr() is deprecated and will be removed in v0.6.0. Use mrjob.step.MRStep directly instead.\n",
      "Running step 1 of 1...\n",
      "mr() is deprecated and will be removed in v0.6.0. Use mrjob.step.MRStep directly instead.\n",
      "mr() is deprecated and will be removed in v0.6.0. Use mrjob.step.MRStep directly instead.\n",
      "^C\n",
      "Traceback (most recent call last):\n",
      "  File \"KMeansCluster.py\", line 134, in <module>\n",
      "    KMeans.run()\n",
      "  File \"/opt/anaconda/lib/python2.7/site-packages/mrjob/job.py\", line 452, in run\n",
      "    mr_job.execute()\n",
      "  File \"/opt/anaconda/lib/python2.7/site-packages/mrjob/job.py\", line 473, in execute\n",
      "    super(MRJob, self).execute()\n",
      "  File \"/opt/anaconda/lib/python2.7/site-packages/mrjob/launch.py\", line 156, in execute\n",
      "    self.run_job()\n",
      "  File \"/opt/anaconda/lib/python2.7/site-packages/mrjob/launch.py\", line 226, in run_job\n",
      "    runner.run()\n",
      "  File \"/opt/anaconda/lib/python2.7/site-packages/mrjob/runner.py\", line 416, in run\n",
      "    self._run()\n",
      "  File \"/opt/anaconda/lib/python2.7/site-packages/mrjob/sim.py\", line 184, in _run\n",
      "    self._invoke_step(step_num, 'mapper')\n",
      "  File \"/opt/anaconda/lib/python2.7/site-packages/mrjob/sim.py\", line 271, in _invoke_step\n",
      "    working_dir, env)\n",
      "  File \"/opt/anaconda/lib/python2.7/site-packages/mrjob/inline.py\", line 154, in _run_step\n",
      "    child_instance.execute()\n",
      "  File \"/opt/anaconda/lib/python2.7/site-packages/mrjob/job.py\", line 461, in execute\n",
      "    self.run_mapper(self.options.step_num)\n",
      "  File \"/opt/anaconda/lib/python2.7/site-packages/mrjob/job.py\", line 539, in run_mapper\n",
      "    for out_key, out_value in mapper(key, value) or ():\n",
      "  File \"KMeansCluster.py\", line 121, in mapper\n",
      "    index = self.get_nearest_centroid(centroids, points)\n",
      "  File \"KMeansCluster.py\", line 44, in get_nearest_centroid\n",
      "    print distances\n",
      "  File \"/opt/anaconda/lib/python2.7/site-packages/numpy/core/numeric.py\", line 1869, in array_str\n",
      "    return array2string(a, max_line_width, precision, suppress_small, ' ', \"\", str)\n",
      "  File \"/opt/anaconda/lib/python2.7/site-packages/numpy/core/arrayprint.py\", line 447, in array2string\n",
      "    separator, prefix, formatter=formatter)\n",
      "  File \"/opt/anaconda/lib/python2.7/site-packages/numpy/core/arrayprint.py\", line 264, in _array2string\n",
      "    suppress_small),\n",
      "  File \"/opt/anaconda/lib/python2.7/site-packages/numpy/core/arrayprint.py\", line 699, in __init__\n",
      "    sign=True)\n",
      "  File \"/opt/anaconda/lib/python2.7/site-packages/numpy/core/arrayprint.py\", line 537, in __init__\n",
      "    self.fillFormat(data)\n",
      "  File \"/opt/anaconda/lib/python2.7/site-packages/numpy/core/arrayprint.py\", line 560, in fillFormat\n",
      "    self.exp_format = True\n",
      "  File \"/opt/anaconda/lib/python2.7/site-packages/numpy/core/numeric.py\", line 2973, in __exit__\n",
      "    seterr(**self.oldstate)\n",
      "  File \"/opt/anaconda/lib/python2.7/site-packages/numpy/core/numeric.py\", line 2661, in seterr\n",
      "    if under is None:\n",
      "KeyboardInterrupt\n"
     ]
    }
   ],
   "source": [
    "!python KMeansCluster.py topUsers_Apr-Jul_2014_1000-words.txt > 45_output.txt"
   ]
  },
  {
   "cell_type": "code",
   "execution_count": null,
   "metadata": {
    "collapsed": true
   },
   "outputs": [],
   "source": [
    "!cat 45_output.txt"
   ]
  },
  {
   "cell_type": "code",
   "execution_count": null,
   "metadata": {
    "collapsed": true
   },
   "outputs": [],
   "source": []
  },
  {
   "cell_type": "markdown",
   "metadata": {},
   "source": [
    "#### Final attempt\n",
    "\n",
    "I couldn't quite get this working in time. "
   ]
  },
  {
   "cell_type": "code",
   "execution_count": 50,
   "metadata": {
    "collapsed": false
   },
   "outputs": [
    {
     "name": "stdout",
     "output_type": "stream",
     "text": [
      "Overwriting Kmeans.py\n"
     ]
    }
   ],
   "source": [
    "%%writefile Kmeans.py\n",
    "import numpy as np\n",
    "from numpy import argmin, array, random\n",
    "from mrjob.job import MRJob\n",
    "from mrjob.step import MRStep\n",
    "from itertools import chain\n",
    "import os\n",
    "from collections import defaultdict\n",
    "\n",
    "def startCentroidsA(k):\n",
    "    points = random.uniform(size=[k, 1000])\n",
    "    total = np.sum(points, axis = 1)\n",
    "    centroids = np.true_divide(points.T, total).T\n",
    "    return centroids\n",
    "    \n",
    "def startCentroidsBC(k):\n",
    "    counter = 0\n",
    "    for line in open(\"/tmp/topUsers_Apr-Jul_2014_1000-words_summaries.txt\").readlines():\n",
    "        if counter == 2:        \n",
    "            data = re.split(\",\",line)\n",
    "            globalAggregate = [float(data[i+3])/float(data[2]) for i in range(1000)]\n",
    "        counter += 1\n",
    "    #perturb the global aggregate for the four initializations    \n",
    "    centroids = []\n",
    "    for i in range(k):\n",
    "        rndpoints = random.sample(1000)\n",
    "        peturpoints = [rndpoints[n]/10+globalAggregate[n] for n in range(1000)]\n",
    "        centroids.append(peturpoints)\n",
    "        total = 0\n",
    "        for j in range(len(centroids[i])):\n",
    "            total += centroids[i][j]\n",
    "        for j in range(len(centroids[i])):\n",
    "            centroids[i][j] = centroids[i][j]/total\n",
    "    return centroids\n",
    "\n",
    "def startCentroidsD(k):\n",
    "    counter = 0\n",
    "    centroids = []\n",
    "    for line in open(\"/tmp/topUsers_Apr-Jul_2014_1000-words_summaries.txt\").readlines():\n",
    "        if counter >= 2:        \n",
    "            data = re.split(\",\",line)\n",
    "            # normalize the class aggregates\n",
    "            centroids.append([float(data[i+3])/float(data[2]) for i in range(1000)])\n",
    "        counter += 1\n",
    "    return centroids\n",
    "\n",
    "def get_nearest_centroid(data_point, centroid_points):\n",
    "    centroids = np.array(centroid_points)\n",
    "    data = np.array(data_point)  \n",
    "    # Calculate the Euclidean distance between the data_point and each of the centroids\n",
    "    distances = np.sqrt(np.sum(np.square(np.subtract(data, centroids)), axis=1))  \n",
    "    # Return the index of the nearest centroid for this data point\n",
    "    nearest_centroid_index = np.argmin(distances)\n",
    "    return nearest_centroid_index\n",
    "\n",
    "def stop_criterion(centroid_points_old, centroid_points_new, T):\n",
    "    old_centroids = np.array(centroid_points_old)\n",
    "    new_centroids = np.array(centroid_points_new)\n",
    "    diffs = np.absolute(np.subtract(old_centroids, new_centroids))\n",
    "    if np.amax(diffs) < T:\n",
    "        flag = True\n",
    "        print 'Stopping threshold reached (%.3f): %.3f' %(T, np.amax(diffs))\n",
    "    else:\n",
    "        flag = False\n",
    "    return flag\n",
    "\n",
    "def dist(X, centroids):\n",
    "    centroids = np.array(centroids)\n",
    "    for i in range(len(X)):\n",
    "        data_point = np.array(X)\n",
    "        # Calculate the distance of this data point from each centroid\n",
    "        distances = np.sqrt(np.sum(np.square(np.subtract(data_point, centroids)), axis=1))              \n",
    "        # Get the nearest centroid for this data point\n",
    "        nearest_centroid_index = np.argmin(distances)\n",
    "    return nearest_centroid_index\n",
    "\n",
    "#Check whether centroids converge\n",
    "def stop_criterion(centroid_points_old, centroid_points_new,T):\n",
    "    oldvalue = list(chain(*centroid_points_old))\n",
    "    newvalue = list(chain(*centroid_points_new))\n",
    "    Diff = [abs(x-y) for x, y in zip(oldvalue, newvalue)]\n",
    "    Flag = True\n",
    "    for i in Diff:\n",
    "        if(i>T):\n",
    "            Flag = False\n",
    "            break\n",
    "    return Flag\n",
    "\n",
    "class MRKmeans(MRJob):\n",
    "    centroid_points=[]\n",
    "    k=3    \n",
    "    def steps(self):\n",
    "        return [\n",
    "            MRStep(\n",
    "                mapper_init = self.mapper_init, \n",
    "                mapper=self.mapper,\n",
    "                combiner = self.combiner,\n",
    "                reducer=self.reducer)\n",
    "               ]\n",
    "    #load centroids info from file\n",
    "    def mapper_init(self):\n",
    "        print \"Current path:\", os.path.dirname(os.path.realpath(__file__))\n",
    "        \n",
    "        self.centroid_points = [map(float,s.split('\\n')[0].split(',')) for s in open(\"Centroids.txt\").readlines()]\n",
    "        #open('Centroids.txt', 'w').close()\n",
    "        \n",
    "        print \"Centroids: \", self.centroid_points\n",
    "        \n",
    "    #load data and output the nearest centroid index and data point \n",
    "    def mapper(self, _, line):\n",
    "        words = line.split(\",\")\n",
    "        #first word is id\n",
    "        userId = words[0]\n",
    "        #second word is code\n",
    "        code = words[1]\n",
    "        #third word is total\n",
    "        total = words[2]\n",
    "        #rest is counts\n",
    "        points = np.array(words[3:])\n",
    "        #normalize counts\n",
    "        points = [ float(x)/float(total) for x in points ]\n",
    "        yield int(dist(points,self.centroid_points)), (userId,code,points,1) #instead of d's send words\n",
    "    #Combine sum of data points locally\n",
    "    def combiner(self, idx, inputdata): #takes all the word frequency collections and summing them all up\n",
    "        #start with 1000 arry, and add word counts to each entry of array \n",
    "        #should end up with k arrays of word counts\n",
    "        #output centroid index and (1000 list word frequencies, dictionary)\n",
    "        codes = defaultdict(float)\n",
    "        words = defaultdict(float)\n",
    "        for userId,code,points,n in inputdata:\n",
    "            for x in range(len(points)):\n",
    "                codes[code] += float(points[x])\n",
    "                words[x] += float(points[x])\n",
    "        yield idx,(words,codes)\n",
    "    #Aggregate sum for each cluster and then calculate the new centroids\n",
    "    def reducer(self, idx, inputdata):  #does same thing as combiner\n",
    "        #end up with dictionary of code counts, final word frequencies, and centroids\n",
    "        #average of word frequencies for each word--sum of word frequency/total words\n",
    "        codes = defaultdict(float)\n",
    "        words = defaultdict(float)\n",
    "        for points,codeCounts in inputdata:\n",
    "            for x in range(len(points)):\n",
    "                words[x] += float(points[x])\n",
    "            for x in range(len(codeCounts)):\n",
    "                codes[x] += float(codeCounts[x])\n",
    "        \n",
    "        yield idx,(words,codes)\n",
    "      \n",
    "if __name__ == '__main__':\n",
    "    MRKmeans.run()"
   ]
  },
  {
   "cell_type": "code",
   "execution_count": 51,
   "metadata": {
    "collapsed": false
   },
   "outputs": [
    {
     "name": "stdout",
     "output_type": "stream",
     "text": [
      "Iteration 0:\n",
      "Current path: /tmp/Kmeans.root.20170928.140909.699083/job_local_dir/0/mapper/0\n"
     ]
    },
    {
     "ename": "ValueError",
     "evalue": "could not convert string to float: [ 0.88933829  0.66860719  0.19337596  0.64082528  0.43655146  0.99010747",
     "output_type": "error",
     "traceback": [
      "\u001b[0;31m\u001b[0m",
      "\u001b[0;31mValueError\u001b[0mTraceback (most recent call last)",
      "\u001b[0;32m<ipython-input-51-0650a38a8e41>\u001b[0m in \u001b[0;36m<module>\u001b[0;34m()\u001b[0m\n\u001b[1;32m     20\u001b[0m     \u001b[0;32mprint\u001b[0m \u001b[0;34m\"Iteration \"\u001b[0m\u001b[0;34m+\u001b[0m\u001b[0mstr\u001b[0m\u001b[0;34m(\u001b[0m\u001b[0mi\u001b[0m\u001b[0;34m)\u001b[0m\u001b[0;34m+\u001b[0m\u001b[0;34m\":\"\u001b[0m\u001b[0;34m\u001b[0m\u001b[0m\n\u001b[1;32m     21\u001b[0m     \u001b[0;32mwith\u001b[0m \u001b[0mmr_job\u001b[0m\u001b[0;34m.\u001b[0m\u001b[0mmake_runner\u001b[0m\u001b[0;34m(\u001b[0m\u001b[0;34m)\u001b[0m \u001b[0;32mas\u001b[0m \u001b[0mrunner\u001b[0m\u001b[0;34m:\u001b[0m\u001b[0;34m\u001b[0m\u001b[0m\n\u001b[0;32m---> 22\u001b[0;31m         \u001b[0mrunner\u001b[0m\u001b[0;34m.\u001b[0m\u001b[0mrun\u001b[0m\u001b[0;34m(\u001b[0m\u001b[0;34m)\u001b[0m\u001b[0;34m\u001b[0m\u001b[0m\n\u001b[0m\u001b[1;32m     23\u001b[0m         \u001b[0;31m#MRJob bit\u001b[0m\u001b[0;34m\u001b[0m\u001b[0;34m\u001b[0m\u001b[0m\n\u001b[1;32m     24\u001b[0m         \u001b[0;32mfor\u001b[0m \u001b[0mline\u001b[0m \u001b[0;32min\u001b[0m \u001b[0mrunner\u001b[0m\u001b[0;34m.\u001b[0m\u001b[0mstream_output\u001b[0m\u001b[0;34m(\u001b[0m\u001b[0;34m)\u001b[0m\u001b[0;34m:\u001b[0m\u001b[0;34m\u001b[0m\u001b[0m\n",
      "\u001b[0;32m/opt/anaconda/lib/python2.7/site-packages/mrjob/runner.pyc\u001b[0m in \u001b[0;36mrun\u001b[0;34m(self)\u001b[0m\n\u001b[1;32m    414\u001b[0m                         ' encoding issues\\n')\n\u001b[1;32m    415\u001b[0m \u001b[0;34m\u001b[0m\u001b[0m\n\u001b[0;32m--> 416\u001b[0;31m         \u001b[0mself\u001b[0m\u001b[0;34m.\u001b[0m\u001b[0m_run\u001b[0m\u001b[0;34m(\u001b[0m\u001b[0;34m)\u001b[0m\u001b[0;34m\u001b[0m\u001b[0m\n\u001b[0m\u001b[1;32m    417\u001b[0m         \u001b[0mself\u001b[0m\u001b[0;34m.\u001b[0m\u001b[0m_ran_job\u001b[0m \u001b[0;34m=\u001b[0m \u001b[0mTrue\u001b[0m\u001b[0;34m\u001b[0m\u001b[0m\n\u001b[1;32m    418\u001b[0m \u001b[0;34m\u001b[0m\u001b[0m\n",
      "\u001b[0;32m/opt/anaconda/lib/python2.7/site-packages/mrjob/sim.pyc\u001b[0m in \u001b[0;36m_run\u001b[0;34m(self)\u001b[0m\n\u001b[1;32m    182\u001b[0m             \u001b[0mself\u001b[0m\u001b[0;34m.\u001b[0m\u001b[0m_counters\u001b[0m\u001b[0;34m.\u001b[0m\u001b[0mappend\u001b[0m\u001b[0;34m(\u001b[0m\u001b[0;34m{\u001b[0m\u001b[0;34m}\u001b[0m\u001b[0;34m)\u001b[0m\u001b[0;34m\u001b[0m\u001b[0m\n\u001b[1;32m    183\u001b[0m \u001b[0;34m\u001b[0m\u001b[0m\n\u001b[0;32m--> 184\u001b[0;31m             \u001b[0mself\u001b[0m\u001b[0;34m.\u001b[0m\u001b[0m_invoke_step\u001b[0m\u001b[0;34m(\u001b[0m\u001b[0mstep_num\u001b[0m\u001b[0;34m,\u001b[0m \u001b[0;34m'mapper'\u001b[0m\u001b[0;34m)\u001b[0m\u001b[0;34m\u001b[0m\u001b[0m\n\u001b[0m\u001b[1;32m    185\u001b[0m \u001b[0;34m\u001b[0m\u001b[0m\n\u001b[1;32m    186\u001b[0m             \u001b[0;32mif\u001b[0m \u001b[0;34m'reducer'\u001b[0m \u001b[0;32min\u001b[0m \u001b[0mstep\u001b[0m\u001b[0;34m:\u001b[0m\u001b[0;34m\u001b[0m\u001b[0m\n",
      "\u001b[0;32m/opt/anaconda/lib/python2.7/site-packages/mrjob/sim.pyc\u001b[0m in \u001b[0;36m_invoke_step\u001b[0;34m(self, step_num, step_type)\u001b[0m\n\u001b[1;32m    269\u001b[0m \u001b[0;34m\u001b[0m\u001b[0m\n\u001b[1;32m    270\u001b[0m             self._run_step(step_num, step_type, input_path, output_path,\n\u001b[0;32m--> 271\u001b[0;31m                            working_dir, env)\n\u001b[0m\u001b[1;32m    272\u001b[0m \u001b[0;34m\u001b[0m\u001b[0m\n\u001b[1;32m    273\u001b[0m             \u001b[0mself\u001b[0m\u001b[0;34m.\u001b[0m\u001b[0m_prev_outfiles\u001b[0m\u001b[0;34m.\u001b[0m\u001b[0mappend\u001b[0m\u001b[0;34m(\u001b[0m\u001b[0moutput_path\u001b[0m\u001b[0;34m)\u001b[0m\u001b[0;34m\u001b[0m\u001b[0m\n",
      "\u001b[0;32m/opt/anaconda/lib/python2.7/site-packages/mrjob/inline.pyc\u001b[0m in \u001b[0;36m_run_step\u001b[0;34m(self, step_num, step_type, input_path, output_path, working_dir, env, child_stdin)\u001b[0m\n\u001b[1;32m    152\u001b[0m                     child_instance.sandbox(stdin=child_stdin,\n\u001b[1;32m    153\u001b[0m                                            stdout=child_stdout)\n\u001b[0;32m--> 154\u001b[0;31m                     \u001b[0mchild_instance\u001b[0m\u001b[0;34m.\u001b[0m\u001b[0mexecute\u001b[0m\u001b[0;34m(\u001b[0m\u001b[0;34m)\u001b[0m\u001b[0;34m\u001b[0m\u001b[0m\n\u001b[0m\u001b[1;32m    155\u001b[0m \u001b[0;34m\u001b[0m\u001b[0m\n\u001b[1;32m    156\u001b[0m             \u001b[0;32mif\u001b[0m \u001b[0mhas_combiner\u001b[0m\u001b[0;34m:\u001b[0m\u001b[0;34m\u001b[0m\u001b[0m\n",
      "\u001b[0;32m/opt/anaconda/lib/python2.7/site-packages/mrjob/job.pyc\u001b[0m in \u001b[0;36mexecute\u001b[0;34m(self)\u001b[0m\n\u001b[1;32m    459\u001b[0m \u001b[0;34m\u001b[0m\u001b[0m\n\u001b[1;32m    460\u001b[0m         \u001b[0;32melif\u001b[0m \u001b[0mself\u001b[0m\u001b[0;34m.\u001b[0m\u001b[0moptions\u001b[0m\u001b[0;34m.\u001b[0m\u001b[0mrun_mapper\u001b[0m\u001b[0;34m:\u001b[0m\u001b[0;34m\u001b[0m\u001b[0m\n\u001b[0;32m--> 461\u001b[0;31m             \u001b[0mself\u001b[0m\u001b[0;34m.\u001b[0m\u001b[0mrun_mapper\u001b[0m\u001b[0;34m(\u001b[0m\u001b[0mself\u001b[0m\u001b[0;34m.\u001b[0m\u001b[0moptions\u001b[0m\u001b[0;34m.\u001b[0m\u001b[0mstep_num\u001b[0m\u001b[0;34m)\u001b[0m\u001b[0;34m\u001b[0m\u001b[0m\n\u001b[0m\u001b[1;32m    462\u001b[0m \u001b[0;34m\u001b[0m\u001b[0m\n\u001b[1;32m    463\u001b[0m         \u001b[0;32melif\u001b[0m \u001b[0mself\u001b[0m\u001b[0;34m.\u001b[0m\u001b[0moptions\u001b[0m\u001b[0;34m.\u001b[0m\u001b[0mrun_combiner\u001b[0m\u001b[0;34m:\u001b[0m\u001b[0;34m\u001b[0m\u001b[0m\n",
      "\u001b[0;32m/opt/anaconda/lib/python2.7/site-packages/mrjob/job.pyc\u001b[0m in \u001b[0;36mrun_mapper\u001b[0;34m(self, step_num)\u001b[0m\n\u001b[1;32m    532\u001b[0m \u001b[0;34m\u001b[0m\u001b[0m\n\u001b[1;32m    533\u001b[0m         \u001b[0;32mif\u001b[0m \u001b[0mmapper_init\u001b[0m\u001b[0;34m:\u001b[0m\u001b[0;34m\u001b[0m\u001b[0m\n\u001b[0;32m--> 534\u001b[0;31m             \u001b[0;32mfor\u001b[0m \u001b[0mout_key\u001b[0m\u001b[0;34m,\u001b[0m \u001b[0mout_value\u001b[0m \u001b[0;32min\u001b[0m \u001b[0mmapper_init\u001b[0m\u001b[0;34m(\u001b[0m\u001b[0;34m)\u001b[0m \u001b[0;32mor\u001b[0m \u001b[0;34m(\u001b[0m\u001b[0;34m)\u001b[0m\u001b[0;34m:\u001b[0m\u001b[0;34m\u001b[0m\u001b[0m\n\u001b[0m\u001b[1;32m    535\u001b[0m                 \u001b[0mwrite_line\u001b[0m\u001b[0;34m(\u001b[0m\u001b[0mout_key\u001b[0m\u001b[0;34m,\u001b[0m \u001b[0mout_value\u001b[0m\u001b[0;34m)\u001b[0m\u001b[0;34m\u001b[0m\u001b[0m\n\u001b[1;32m    536\u001b[0m \u001b[0;34m\u001b[0m\u001b[0m\n",
      "\u001b[0;32m/media/notebooks/Kmeans.pyc\u001b[0m in \u001b[0;36mmapper_init\u001b[0;34m(self)\u001b[0m\n\u001b[1;32m    101\u001b[0m         \u001b[0;32mprint\u001b[0m \u001b[0;34m\"Current path:\"\u001b[0m\u001b[0;34m,\u001b[0m \u001b[0mos\u001b[0m\u001b[0;34m.\u001b[0m\u001b[0mpath\u001b[0m\u001b[0;34m.\u001b[0m\u001b[0mdirname\u001b[0m\u001b[0;34m(\u001b[0m\u001b[0mos\u001b[0m\u001b[0;34m.\u001b[0m\u001b[0mpath\u001b[0m\u001b[0;34m.\u001b[0m\u001b[0mrealpath\u001b[0m\u001b[0;34m(\u001b[0m\u001b[0m__file__\u001b[0m\u001b[0;34m)\u001b[0m\u001b[0;34m)\u001b[0m\u001b[0;34m\u001b[0m\u001b[0m\n\u001b[1;32m    102\u001b[0m \u001b[0;34m\u001b[0m\u001b[0m\n\u001b[0;32m--> 103\u001b[0;31m         \u001b[0mself\u001b[0m\u001b[0;34m.\u001b[0m\u001b[0mcentroid_points\u001b[0m \u001b[0;34m=\u001b[0m \u001b[0;34m[\u001b[0m\u001b[0mmap\u001b[0m\u001b[0;34m(\u001b[0m\u001b[0mfloat\u001b[0m\u001b[0;34m,\u001b[0m\u001b[0ms\u001b[0m\u001b[0;34m.\u001b[0m\u001b[0msplit\u001b[0m\u001b[0;34m(\u001b[0m\u001b[0;34m'\\n'\u001b[0m\u001b[0;34m)\u001b[0m\u001b[0;34m[\u001b[0m\u001b[0;36m0\u001b[0m\u001b[0;34m]\u001b[0m\u001b[0;34m.\u001b[0m\u001b[0msplit\u001b[0m\u001b[0;34m(\u001b[0m\u001b[0;34m','\u001b[0m\u001b[0;34m)\u001b[0m\u001b[0;34m)\u001b[0m \u001b[0;32mfor\u001b[0m \u001b[0ms\u001b[0m \u001b[0;32min\u001b[0m \u001b[0mopen\u001b[0m\u001b[0;34m(\u001b[0m\u001b[0;34m\"Centroids.txt\"\u001b[0m\u001b[0;34m)\u001b[0m\u001b[0;34m.\u001b[0m\u001b[0mreadlines\u001b[0m\u001b[0;34m(\u001b[0m\u001b[0;34m)\u001b[0m\u001b[0;34m]\u001b[0m\u001b[0;34m\u001b[0m\u001b[0m\n\u001b[0m\u001b[1;32m    104\u001b[0m         \u001b[0;31m#open('Centroids.txt', 'w').close()\u001b[0m\u001b[0;34m\u001b[0m\u001b[0;34m\u001b[0m\u001b[0m\n\u001b[1;32m    105\u001b[0m \u001b[0;34m\u001b[0m\u001b[0m\n",
      "\u001b[0;31mValueError\u001b[0m: could not convert string to float: [ 0.88933829  0.66860719  0.19337596  0.64082528  0.43655146  0.99010747"
     ]
    }
   ],
   "source": [
    "%reload_ext autoreload\n",
    "%autoreload 2\n",
    "from numpy import random\n",
    "from Kmeans import MRKmeans, stop_criterion\n",
    "mr_job = MRKmeans(args=['topUsers_Apr-Jul_2014_1000-words.txt', '--file=Centroids.txt'])\n",
    "\n",
    "#Initial centroids\n",
    "centroids = []\n",
    "k = 3\n",
    "#uniform\n",
    "for i in range(k):\n",
    "    centroids.append([random.uniform(0,1,1000)])\n",
    "with open('Centroids.txt', 'w+') as f:\n",
    "    f.writelines(','.join(str(j) for j in i) + '\\n' for i in centroids)\n",
    "\n",
    "#check to see if centroids change\n",
    "i = 0\n",
    "while(1):\n",
    "    oldCentroids = centroids[:]\n",
    "    print \"Iteration \"+str(i)+\":\"\n",
    "    with mr_job.make_runner() as runner: \n",
    "        runner.run()\n",
    "        #MRJob bit \n",
    "        for line in runner.stream_output():\n",
    "            key,value =  mr_job.parse_output_line(line)\n",
    "            print key, value\n",
    "            centroids[key] = value\n",
    "            \n",
    "        # Update the centroids\n",
    "        with open('Centroids.txt', 'w') as f:\n",
    "            f.writelines(','.join(str(j) for j in i) + '\\n' for i in centroids)\n",
    "        \n",
    "    print \"\"\n",
    "    i = i + 1\n",
    "    if(stop_criterion(oldCentroids,centroids,0.001)):\n",
    "        break\n",
    "print \"Centroids\"\n",
    "print \"----------\"\n",
    "print centroids"
   ]
  },
  {
   "cell_type": "code",
   "execution_count": null,
   "metadata": {
    "collapsed": true
   },
   "outputs": [],
   "source": []
  },
  {
   "cell_type": "code",
   "execution_count": null,
   "metadata": {
    "collapsed": true
   },
   "outputs": [],
   "source": []
  },
  {
   "cell_type": "code",
   "execution_count": null,
   "metadata": {
    "collapsed": true
   },
   "outputs": [],
   "source": []
  },
  {
   "cell_type": "markdown",
   "metadata": {},
   "source": [
    "<h2>K-Means</h2>\n",
    "K-means is a clustering method that aims to find the positions μi,i=1...k of the clusters that minimize the distance from the data points to the cluster. K-means clustering solves:\n",
    "<br><br>\n",
    "$$\\arg\\min_{c} \\sum_{i=1}^k\\sum_{{x}\\in c_i} d({x},\\mu_i) = \\arg\\min_{c} \\sum_{i=1}^k\\sum_{{x}\\in c_i} \\left\\Vert {x}-\\mu_i \\right\\Vert_2^2$$\n",
    "<br><br>\n",
    "where ${c}_i$ is the set of points that belong to cluster i. The K-means clustering uses the square of the Euclidean distance $d({x},\\mu_i) = \\left\\Vert {x}-\\mu_i \\right\\Vert_2^2$. This problem is not trivial (in fact it is NP-hard), so the K-means algorithm only hopes to find the global minimum, possibly getting stuck in a different solution.\n",
    "\n",
    "<h2>K-means algorithm</h2>\n",
    "\n",
    "The Lloyd's algorithm, mostly known as k-means algorithm, is used to solve the k-means clustering problem and works as follows. First, decide the number of clusters k. Then:\n",
    "\n",
    "<table>\n",
    "<tbody><tr><td>1. Initialize the center of the clusters</td>\n",
    "<td>${\\mu}_i = $ some value $, i=1,...,k$</td>\n",
    "</tr>\n",
    "<tr>\n",
    "<td>2. Attribute the closest cluster to each data point</td>\n",
    "<td>${c}_i = \\{j: d({x}_j, \\mu_i) \\le d({x}_j, \\mu_l),  l \\ne i, j=1,...,n\\}$ </td>\n",
    "</tr>\n",
    "<tr>\n",
    "<td>3. Set the position of each cluster to the mean of all data points belonging to that cluster</td>\n",
    "<td>$\\mu_i = \\frac{1}{|c_i|}\\sum_{j\\in c_i} {x}_j,\\forall i$</td>\n",
    "</tr>\n",
    "<tr><td>4. Repeat steps 2-3 until convergence</td>\n",
    "<td></td>\n",
    "</tr>\n",
    "<tr><td>Notation</td><td>${|c|} = $ number of elements in  ${c}$</td>\n",
    "</tr>\n",
    "</tbody>\n",
    "</table>"
   ]
  },
  {
   "cell_type": "markdown",
   "metadata": {},
   "source": [
    "<h2>Calculating purity</h2>\n",
    "![purity illustration](http://www.candpgeneration.com/images/purity.png)"
   ]
  },
  {
   "cell_type": "code",
   "execution_count": null,
   "metadata": {
    "collapsed": true
   },
   "outputs": [],
   "source": [
    "%%writefile Kmeans.py\n",
    "#!/usr/bin/env python\n",
    "#START STUDENT CODE45\n",
    "\n",
    "\n",
    "\n",
    "#END STUDENT CODE45"
   ]
  },
  {
   "cell_type": "code",
   "execution_count": null,
   "metadata": {
    "collapsed": true
   },
   "outputs": [],
   "source": [
    "%%writefile kmeans_runner.py\n",
    "#!/usr/bin/env python\n",
    "#START STUDENT CODE45_RUNNER\n",
    "\n",
    "\n",
    "\n",
    "#END STUDENT CODE45_RUNNER"
   ]
  },
  {
   "cell_type": "code",
   "execution_count": null,
   "metadata": {
    "collapsed": true
   },
   "outputs": [],
   "source": []
  },
  {
   "cell_type": "code",
   "execution_count": null,
   "metadata": {
    "collapsed": true
   },
   "outputs": [],
   "source": []
  },
  {
   "cell_type": "markdown",
   "metadata": {},
   "source": [
    "## HW4.6  - (OPTIONAL) Scaleable K-MEANS++ \n",
    "\n",
    "Over half a century old and showing no signs of aging,\n",
    "k-means remains one of the most popular data processing\n",
    "algorithms. As is well-known, a proper initialization\n",
    "of k-means is crucial for obtaining a good final solution.\n",
    "The recently proposed k-means++ initialization algorithm\n",
    "achieves this, obtaining an initial set of centers that is provably\n",
    "close to the optimum solution. A major downside of the\n",
    "k-means++ is its inherent sequential nature, which limits its\n",
    "applicability to massive data: one must make k passes over\n",
    "the data to find a good initial set of centers. The paper listed below \n",
    "shows how to drastically reduce the number of passes needed\n",
    "to obtain, in parallel, a good initialization. This is unlike\n",
    "prevailing efforts on parallelizing k-means that have mostly\n",
    "focused on the post-initialization phases of k-means. The \n",
    "proposed initialization algorithm k-means||\n",
    "obtains a nearly optimal solution after a logarithmic number\n",
    "of passes; the paper also shows that in practice a constant\n",
    "number of passes suffices. Experimental evaluation on realworld\n",
    "large-scale data demonstrates that k-means|| outperforms\n",
    "k-means++ in both sequential and parallel settings.\n",
    "\n",
    "Read the following paper entitled \"Scaleable K-MEANS++\" located at:\n",
    "\n",
    "http://theory.stanford.edu/~sergei/papers/vldb12-kmpar.pdf \n",
    "\n",
    "In MrJob, implement K-MEANS|| and compare with a random initializtion when used in \n",
    "conjunction with the kmeans algorithm as an initialization step for the 2D  dataset \n",
    "generated using code in the following notebook:\n",
    "\n",
    "https://www.dropbox.com/s/lbzwmyv0d8rocfq/MrJobKmeans.ipynb?dl=0\n",
    "\n",
    "Plot the initialation centroids and the centroid trajectory as the K-MEANS|| algorithms iterates. \n",
    "Repeat this for a random initalization (i.e., pick a training vector at random for each inital centroid)\n",
    "of the kmeans algorithm. Comment on the trajectories of both algorithms.\n",
    "Report on the number passes over the training data, and time required to run both  clustering algorithms.\n",
    "Also report the rand index score for both algorithms and comment on your findings."
   ]
  },
  {
   "cell_type": "code",
   "execution_count": null,
   "metadata": {
    "collapsed": true
   },
   "outputs": [],
   "source": []
  },
  {
   "cell_type": "markdown",
   "metadata": {},
   "source": [
    "### 4.6.1 (OPTIONAL) Apply K-MEANS||\n",
    "\n",
    "Apply your implementation of K-MEANS|| to the dataset  in HW 4.5 and compare to the a random initalization (i.e., pick a training vector at random for each inital centroid)of the kmeans algorithm.\n",
    "Report on the number passes over the training data, and time required to run all  clustering algorithms. \n",
    "Also report the rand index score for both algorithms and comment on your findings."
   ]
  },
  {
   "cell_type": "code",
   "execution_count": null,
   "metadata": {
    "collapsed": true
   },
   "outputs": [],
   "source": []
  },
  {
   "cell_type": "markdown",
   "metadata": {},
   "source": [
    "## HW4.7 - (OPTIONAL) Canopy Clustering\n",
    "\n",
    "An alternative way to intialize the k-means algorithm is the  canopy clustering. The canopy clustering \n",
    "algorithm is an unsupervised pre-clustering algorithm introduced by Andrew McCallum, Kamal Nigam and \n",
    "Lyle Ungar in 2000. It is often used as preprocessing step for the K-means algorithm or the \n",
    "Hierarchical clustering algorithm. It is intended to speed up clustering operations on large data sets, \n",
    "where using another algorithm directly may be impractical due to the size of the data set.\n",
    "\n",
    "For more details on the Canopy Clustering algorithm see:\n",
    "\n",
    "https://en.wikipedia.org/wiki/Canopy_clustering_algorithm\n",
    "\n",
    "Plot the initialation centroids and the centroid trajectory as the Canopy Clustering based K-MEANS algorithm iterates. \n",
    "Repeat this for a random initalization (i.e., pick a training vector at random for each inital centroid)\n",
    "of the kmeans algorithm. Comment on the trajectories of both algorithms.\n",
    "Report on the number passes over the training data, and time required to run both  clustering algorithms.\n",
    "Also report the rand index score for both algorithms and comment on your findings."
   ]
  },
  {
   "cell_type": "code",
   "execution_count": null,
   "metadata": {
    "collapsed": true
   },
   "outputs": [],
   "source": []
  },
  {
   "cell_type": "markdown",
   "metadata": {},
   "source": [
    "### 4.7.1 (OPTIONAL) Apply Canopy Clustering based K-MEANS\n",
    "\n",
    "Apply your implementation Canopy Clustering based K-MEANS algorithm to the dataset  in HW 4.5 and compare to the a \n",
    "random initalization (i.e., pick a training vector at random for each inital centroid)of the kmeans algorithm.\n",
    "Report on the number passes over the training data, and time required to run both  clustering algorithms. \n",
    "Also report the rand index score for both algorithms and comment on your findings."
   ]
  },
  {
   "cell_type": "code",
   "execution_count": null,
   "metadata": {
    "collapsed": true
   },
   "outputs": [],
   "source": []
  }
 ],
 "metadata": {
  "kernelspec": {
   "display_name": "Python 2",
   "language": "python",
   "name": "python2"
  },
  "language_info": {
   "codemirror_mode": {
    "name": "ipython",
    "version": 2
   },
   "file_extension": ".py",
   "mimetype": "text/x-python",
   "name": "python",
   "nbconvert_exporter": "python",
   "pygments_lexer": "ipython2",
   "version": "2.7.13"
  },
  "toc": {
   "colors": {
    "hover_highlight": "#DAA520",
    "navigate_num": "#000000",
    "navigate_text": "#333333",
    "running_highlight": "#FF0000",
    "selected_highlight": "#FFD700",
    "sidebar_border": "#EEEEEE",
    "wrapper_background": "#FFFFFF"
   },
   "moveMenuLeft": true,
   "nav_menu": {
    "height": "380px",
    "width": "252px"
   },
   "navigate_menu": true,
   "number_sections": false,
   "sideBar": false,
   "threshold": 4,
   "toc_cell": true,
   "toc_position": {
    "height": "410px",
    "left": "458.76361083984375px",
    "right": "20px",
    "top": "120px",
    "width": "397px"
   },
   "toc_section_display": "none",
   "toc_window_display": true,
   "widenNotebook": false
  }
 },
 "nbformat": 4,
 "nbformat_minor": 1
}
