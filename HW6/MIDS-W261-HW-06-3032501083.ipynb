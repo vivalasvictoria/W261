{
 "cells": [
  {
   "cell_type": "markdown",
   "metadata": {
    "toc": "true"
   },
   "source": [
    "# Table of Contents\n",
    " <p><div class=\"lev1 toc-item\"><a href=\"#-MIDS---w261-Machine-Learning-At-Scale-\" data-toc-modified-id=\"-MIDS---w261-Machine-Learning-At-Scale--1\"><span class=\"toc-item-num\">1&nbsp;&nbsp;</span> MIDS - w261 Machine Learning At Scale </a></div><div class=\"lev2 toc-item\"><a href=\"#Assignment---HW6\" data-toc-modified-id=\"Assignment---HW6-11\"><span class=\"toc-item-num\">1.1&nbsp;&nbsp;</span>Assignment - HW6</a></div><div class=\"lev1 toc-item\"><a href=\"#Instructions\" data-toc-modified-id=\"Instructions-2\"><span class=\"toc-item-num\">2&nbsp;&nbsp;</span>Instructions</a></div><div class=\"lev1 toc-item\"><a href=\"#HW6.0.\" data-toc-modified-id=\"HW6.0.-3\"><span class=\"toc-item-num\">3&nbsp;&nbsp;</span>HW6.0.</a></div><div class=\"lev2 toc-item\"><a href=\"#HW6.1--Optimization-theory:\" data-toc-modified-id=\"HW6.1--Optimization-theory:-31\"><span class=\"toc-item-num\">3.1&nbsp;&nbsp;</span>HW6.1  Optimization theory:</a></div><div class=\"lev3 toc-item\"><a href=\"#HW6.1.A\" data-toc-modified-id=\"HW6.1.A-311\"><span class=\"toc-item-num\">3.1.1&nbsp;&nbsp;</span>HW6.1.A</a></div><div class=\"lev3 toc-item\"><a href=\"#HW6.1.B\" data-toc-modified-id=\"HW6.1.B-312\"><span class=\"toc-item-num\">3.1.2&nbsp;&nbsp;</span>HW6.1.B</a></div><div class=\"lev3 toc-item\"><a href=\"#HW6.1.C\" data-toc-modified-id=\"HW6.1.C-313\"><span class=\"toc-item-num\">3.1.3&nbsp;&nbsp;</span>HW6.1.C</a></div><div class=\"lev2 toc-item\"><a href=\"#HW6.2\" data-toc-modified-id=\"HW6.2-32\"><span class=\"toc-item-num\">3.2&nbsp;&nbsp;</span>HW6.2</a></div><div class=\"lev2 toc-item\"><a href=\"#HW6.3-Convex-optimization\" data-toc-modified-id=\"HW6.3-Convex-optimization-33\"><span class=\"toc-item-num\">3.3&nbsp;&nbsp;</span>HW6.3 Convex optimization</a></div><div class=\"lev2 toc-item\"><a href=\"#HW-6.4\" data-toc-modified-id=\"HW-6.4-34\"><span class=\"toc-item-num\">3.4&nbsp;&nbsp;</span>HW 6.4</a></div><div class=\"lev2 toc-item\"><a href=\"#HW-6.5\" data-toc-modified-id=\"HW-6.5-35\"><span class=\"toc-item-num\">3.5&nbsp;&nbsp;</span>HW 6.5</a></div><div class=\"lev3 toc-item\"><a href=\"#HW6.5.1-(OPTIONAL)\" data-toc-modified-id=\"HW6.5.1-(OPTIONAL)-351\"><span class=\"toc-item-num\">3.5.1&nbsp;&nbsp;</span>HW6.5.1 (OPTIONAL)</a></div><div class=\"lev2 toc-item\"><a href=\"#HW6.6-Clean-up-notebook-for-GMM-via-EM-(OPTIONAL)\" data-toc-modified-id=\"HW6.6-Clean-up-notebook-for-GMM-via-EM-(OPTIONAL)-36\"><span class=\"toc-item-num\">3.6&nbsp;&nbsp;</span>HW6.6 Clean up notebook for GMM via EM (OPTIONAL)</a></div><div class=\"lev3 toc-item\"><a href=\"#Submission-Instructions\" data-toc-modified-id=\"Submission-Instructions-361\"><span class=\"toc-item-num\">3.6.1&nbsp;&nbsp;</span>Submission Instructions</a></div><div class=\"lev2 toc-item\"><a href=\"#HW6.7--Implement-Bernoulli-Mixture-Model-via-EM-(OPTIONAL)\" data-toc-modified-id=\"HW6.7--Implement-Bernoulli-Mixture-Model-via-EM-(OPTIONAL)-37\"><span class=\"toc-item-num\">3.7&nbsp;&nbsp;</span>HW6.7  Implement Bernoulli Mixture Model via EM (OPTIONAL)</a></div><div class=\"lev2 toc-item\"><a href=\"#HW6.8-(OPTIONAL)-1-Million-songs\" data-toc-modified-id=\"HW6.8-(OPTIONAL)-1-Million-songs-38\"><span class=\"toc-item-num\">3.8&nbsp;&nbsp;</span>HW6.8 (OPTIONAL) 1 Million songs</a></div>"
   ]
  },
  {
   "cell_type": "markdown",
   "metadata": {},
   "source": [
    "<h1> MIDS - w261 Machine Learning At Scale </h1>\n",
    "__Course Lead:__ Dr James G. Shanahan (__email__ Jimi via  James.Shanahan _AT_ gmail.com)\n",
    "\n",
    "<h2>Assignment - HW6</h2>\n",
    "\n",
    "\n",
    "---\n",
    "__Name:__  Victoria Baker  \n",
    "__Class:__ MIDS w261 (Section 2)     \n",
    "__Email:__  victoria.baker@iSchool.Berkeley.edu     \n",
    "__StudentId__  3032501083    __End of StudentId__     \n",
    "__Week:__   6\n",
    "\n",
    "__NOTE:__ please replace `1234567` with your student id above      \n",
    "__Due Time:__ HW is due the Tuesday of the following week by 8AM (West coast time). \n",
    "\n",
    "# Instructions\n",
    "\n",
    "This homework can be completed locally on your computer \n",
    "\n",
    "Follow the instructions for submissions carefully.\n",
    "\n",
    "Each student has a `HW-<user>` repository for all assignments.   \n",
    "\n",
    "Push the following to your HW github repo into the master branch:\n",
    "* Your local HW6 directory. Your repo file structure should look like this:\n",
    "\n",
    "```\n",
    "HW-<user>\n",
    "    --HW3\n",
    "       |__MIDS-W261-HW-03-<Student_id>.ipynb\n",
    "       |__MIDS-W261-HW-03-<Student_id>.pdf\n",
    "       |__some other hw3 file\n",
    "    --HW4\n",
    "       |__MIDS-W261-HW-04-<Student_id>.ipynb\n",
    "       |__MIDS-W261-HW-04-<Student_id>.pdf\n",
    "       |__some other hw4 file\n",
    "    etc..\n",
    "```    "
   ]
  },
  {
   "cell_type": "markdown",
   "metadata": {},
   "source": [
    "# HW6.0. \n",
    "- In mathematics, computer science, economics, or management science what is mathematical optimization?     \n",
    "- Give an example of a optimization problem that you have worked with directly or that your organization has worked on.    \n",
    "- Please describe the objective function and the decision variables.    \n",
    "- Was the project successful (deployed in the real world)? Describe."
   ]
  },
  {
   "cell_type": "code",
   "execution_count": null,
   "metadata": {
    "collapsed": true
   },
   "outputs": [],
   "source": [
    "# START STUDENT SOLUTION HW6.0"
   ]
  },
  {
   "cell_type": "markdown",
   "metadata": {},
   "source": [
    "Mathematical optimization is the selection of the most optimal element from some set of available alternatives. A basic optimization problem consists of maximizing or minimizing a real function by systematically choosing input values from within an allowed set and computing the value of the function.\n",
    "\n",
    "A problem that my organization has used optimization on is optimizing the shipment and burn times of fuel across all the plants in the fleet. The goal is to find the right balance of quantities such that the plants have all the fuel they need to meet load demands without keeping too much onhand. \n",
    "\n",
    "For example, consider a simplified scenario where we have a fleet of 10 coal plants, each with a coal pile that can contain up to 10 tons of coal. To fuel these plants, we have two different types of fuel with different weights, x and y. X weighs three tons per purchase whereas Y weighs two. This means the objective function = 3x1 + 2x2. We have to constrain this function to be less than or equal to our total capacity of 100 tons. The decision variables here are the fuel types x and y.\n",
    "\n",
    "In reality, there are often far more variables and constraints to take into account such as the constraints of the contract, the availability of dispersement, transportation times, burn rates, the cost, load demand, etc. In this situation the project was very successful in saving the company money. "
   ]
  },
  {
   "cell_type": "code",
   "execution_count": 5,
   "metadata": {
    "collapsed": true
   },
   "outputs": [],
   "source": [
    "# END STUDENT SOLUTION HW6.0"
   ]
  },
  {
   "cell_type": "markdown",
   "metadata": {},
   "source": [
    "## HW6.1  Optimization theory: \n",
    "\n",
    "### HW6.1.A\n",
    "- For unconstrained univariate optimization what are the first order  Necessary Conditions for Optimality (FOC)?  \n",
    "- What are the second order optimality conditions (SOC)? \n",
    "- Give a mathematical defintion. "
   ]
  },
  {
   "cell_type": "code",
   "execution_count": null,
   "metadata": {
    "collapsed": true
   },
   "outputs": [],
   "source": [
    "# START STUDENT SOLUTION HW6.1.A"
   ]
  },
  {
   "cell_type": "markdown",
   "metadata": {},
   "source": [
    "For unconstrained univariate optimization, we have the first-order condition that the first derivative of the objective function will be equal to zero for values of x that represent a maximum or minimum of the objective function:\n",
    "$$\n",
    "f'(x = \\hat{x}) = 0\n",
    "$$\n",
    "\n",
    "We then find a root based on the first-order condition, and then we can invoke the second-order conditions for optimality to determine whether or not the root is a local maximum or local minimum. If the second derivative of the  function we started with is negative, then we've found a local maximum; and, conversely, a local minimum if it is positive:\n",
    "\n",
    "$$\n",
    "\\text{if } f\"(x = \\hat{x}) < 0, \\text{ maximum}\n",
    "$$\n",
    "$$\n",
    "\\text{if } f\"(x = \\hat{x}) > 0, \\text{ minimum}\n",
    "$$\n"
   ]
  },
  {
   "cell_type": "code",
   "execution_count": 6,
   "metadata": {
    "collapsed": true
   },
   "outputs": [],
   "source": [
    "# END STUDENT SOLUTION HW6.1.A"
   ]
  },
  {
   "cell_type": "markdown",
   "metadata": {},
   "source": [
    "### HW6.1.B\n",
    "In python, plot the univartiate function \n",
    "$$x^3 -12x^2-6 \\ defined \\ over \\ [-6, 6]$$ \n",
    "\n",
    "Also plot its corresponding first and second derivative functions. Eyeballing these graphs, identify candidate optimal points and then classify them as local minimums or maximums. Highlight and label these points in your graphs. Justify your responses using the FOC and SOC."
   ]
  },
  {
   "cell_type": "code",
   "execution_count": 4,
   "metadata": {
    "collapsed": true
   },
   "outputs": [],
   "source": [
    "#Render matplotlib charts in notebook\n",
    "%matplotlib inline\n",
    "\n",
    "#Import some modules we know we'll use frequently\n",
    "import numpy as np\n",
    "import pylab as plt"
   ]
  },
  {
   "cell_type": "code",
   "execution_count": 19,
   "metadata": {
    "collapsed": false
   },
   "outputs": [
    {
     "data": {
      "image/png": "[encoded data removed]",
      "text/plain": [
       "<matplotlib.figure.Figure at 0x10b64bb50>"
      ]
     },
     "metadata": {},
     "output_type": "display_data"
    }
   ],
   "source": [
    "# START STUDENT PLOTS HW6.1.B\n",
    "\n",
    "# HW 6.1 - Plotting a visual example\n",
    "\n",
    "def plot_6_1():\n",
    "    \n",
    "    #Create vectors for X, Y, Y', and Y\"\n",
    "    x = np.arange(-6,6,.1)\n",
    "    \n",
    "    #starting function\n",
    "    y0 = x**3-12*x**2-6\n",
    "    \n",
    "    #first derivative\n",
    "    y1 = 3*x**2-24*x\n",
    "    \n",
    "    #second derivative\n",
    "    y2 = 6*x-24\n",
    "\n",
    "    #Plot each vector on the same coordinate plane\n",
    "    fg = plt.figure(figsize=(8,6))\n",
    "    plt.xticks(np.arange(min(x), max(x)+1, 1.0))\n",
    "    plt.plot(x,y0, color=\"blue\", label='$f\\,(x)=x^3-12x^2-6$', linewidth = 2.0)\n",
    "    plt.plot(x,y1, color=\"green\", label='$\\\\frac{df}{dx} = 3x^2-24x$', linewidth = 2.0)\n",
    "    plt.plot(x,y2, color=\"red\", label='$\\\\frac{d^2f}{dx^2} = 6x-24$', linewidth = 2.0)\n",
    "    plt.legend(loc='lower right')\n",
    "    \n",
    "    #Plot dotted lines at each root and where x=0\n",
    "    plt.axhline(0, color =\"red\", ls = '--', )\n",
    "    plt.axvline(0, color =\"saddlebrown\", ls = '--')\n",
    "    plt.axvline(6, color = \"saddlebrown\", ls = '--')\n",
    "    \n",
    "    #Add arrow annotations of critical points\n",
    "    plt.annotate('Approx. local max ($x=0$)', xy=(0, 0), xytext=(2, 200),\n",
    "                arrowprops=dict(facecolor='black', shrink=0.05),\n",
    "                )\n",
    "    plt.annotate('Approx. local min ($x=6$)', xy=(6, -220), xytext=(1, -420),\n",
    "        arrowprops=dict(facecolor='black', shrink=0.05),\n",
    "        )\n",
    "    \n",
    "    #Display results\n",
    "    plt.show()\n",
    "    \n",
    "plot_6_1()\n",
    "\n",
    "# END STUDENT PLOTS HW6.1.B"
   ]
  },
  {
   "cell_type": "markdown",
   "metadata": {},
   "source": [
    "### HW6.1.C\n",
    "- For unconstrained multi-variate optimization what are the first order  Necessary Conditions for Optimality (FOC)?  \n",
    "- What are the second order optimality conditions (SOC)? \n",
    "- Give a mathematical defintion. \n",
    "- What is the Hessian matrix in this context?"
   ]
  },
  {
   "cell_type": "code",
   "execution_count": null,
   "metadata": {
    "collapsed": true
   },
   "outputs": [],
   "source": [
    "# START STUDENT SOLUTION HW6.1.C"
   ]
  },
  {
   "cell_type": "markdown",
   "metadata": {},
   "source": [
    "For unconstrained multivariate optimization, we have similar first and second order conditions, but we must express them in many dimensions instead of just one. Instead of setting the first derivative of the univariate objective function equal to 0 to find its extrema, we set the gradient of the multivariate objective function equal to 0. This gives us the following for the first order condition:\n",
    "\n",
    "$$\n",
    "\\nabla f(X = x') = \\bigg[\\frac{\\partial f}{\\partial x_1},\\frac{\\partial f}{\\partial x_2},...,\\frac{\\partial f}{\\partial x_n}\\bigg]=(0,0,...0)\n",
    "$$\n",
    "\n",
    "To get the second order conditions, we can calculate the Hessian matrix using the matrix of partial second derivatives. If the values in the Hessian matrix for a particular variable are positive, then we've found a local minimum in that dimension; if they are negative, then it's a local maximum. The Hessian matrix would look like this:\n",
    "\n",
    "$$\n",
    "H = \\begin{bmatrix}\n",
    "    \\frac{\\partial^2 f}{\\partial x_1^2} & \\frac{\\partial^2 f}{\\partial x_1x_2} & \\dots  & \\frac{\\partial^2 f}{\\partial x_1x_n}  \\\\\n",
    "    \\frac{\\partial^2 f}{\\partial x_2x_1}  & \\frac{\\partial^2 f}{\\partial x_2^2} & \\dots  & \\frac{\\partial^2 f}{\\partial x_2x_n} \\\\\n",
    "    \\vdots & \\vdots & \\ddots & \\vdots \\\\\n",
    "    \\frac{\\partial^2 f}{\\partial x_nx_1} & \\frac{\\partial^2 f}{\\partial x_nx_2} & \\dots  & \\frac{\\partial^2 f}{\\partial x_n^2}\n",
    "    \\end{bmatrix}\n",
    "$$"
   ]
  },
  {
   "cell_type": "code",
   "execution_count": 8,
   "metadata": {
    "collapsed": true
   },
   "outputs": [],
   "source": [
    "# END STUDENT SOLUTION HW6.1.C"
   ]
  },
  {
   "cell_type": "markdown",
   "metadata": {},
   "source": [
    "## HW6.2\n",
    "Taking $x_1=1$ as the first approximation(xt1) of a root of $x^3 + 2x -4 = 0$, use the Newton-Raphson method to calculate the second approximation (denoted as $x_2$) of this root.     \n",
    "(Hint the solution is $x_2=1.2$)"
   ]
  },
  {
   "cell_type": "code",
   "execution_count": 20,
   "metadata": {
    "collapsed": false
   },
   "outputs": [
    {
     "data": {
      "text/plain": [
       "1.2"
      ]
     },
     "execution_count": 20,
     "metadata": {},
     "output_type": "execute_result"
    }
   ],
   "source": [
    "# START STUDENT SOLUTION HW6.2\n",
    "\n",
    "from __future__ import division\n",
    "\n",
    "def f(x):\n",
    "    #original function\n",
    "    return x**3+2*x-4\n",
    "\n",
    "def dev1f(x):\n",
    "    #first derivative\n",
    "    return 3*x**2+2\n",
    "\n",
    "def iterate_nr_method(xt1):\n",
    "    xt2 = xt1 - (f(xt1)/dev1f(xt1))\n",
    "    return xt2\n",
    "\n",
    "iterate_nr_method(1)\n",
    "\n",
    "\n",
    "# END STUDENT SOLUTION HW6.2"
   ]
  },
  {
   "cell_type": "markdown",
   "metadata": {},
   "source": [
    "## HW6.3 Convex optimization \n",
    "- What makes an optimization problem convex? \n",
    "- What are the first order  Necessary Conditions for Optimality in convex optimization?\n",
    "- What are the second order optimality conditions for convex optimization? \n",
    "- Are both necessary to determine the maximum or minimum of candidate optimal solutions?"
   ]
  },
  {
   "cell_type": "code",
   "execution_count": null,
   "metadata": {
    "collapsed": true
   },
   "outputs": [],
   "source": [
    "# START STUDENT SOLUTION HW6.3"
   ]
  },
  {
   "cell_type": "markdown",
   "metadata": {},
   "source": [
    "An optimization problem is convex if the loss function is convex. It can be assumed that there is a single global solution that minimizes our loss. So, a loss function is convex if the tangent lines at any point on the loss function are always below the loss function.\n",
    "\n",
    "The first-order conditions for convex optimization are similar to those described earlier. Specifically, we must have a loss function that is differentiable. We will find the optimal solution when the first derivative of the loss function is equal to 0. For all x in R:\n",
    "\n",
    "$f'(x)  = 0$\n",
    "\n",
    "The second order conditions for convex optimization are: our function can be differentiated twice, and the second derivative is positive when the first derivative equals 0. The fact that the second derivative is positive indicates that we have found a global minimum. So, for all x in R: \n",
    "\n",
    "$f''(x)  >= 0$\n",
    "\n",
    "Though, both are not really necessary to determine the maximum or minimum of candidate optimal solutions. If we know that the function is convex, we know that our local extremum will be a minimum and that it will be a global minimum. So, since we know that the function is convex, invoking the second order condition doesn't give us any new information."
   ]
  },
  {
   "cell_type": "code",
   "execution_count": 9,
   "metadata": {
    "collapsed": true
   },
   "outputs": [],
   "source": [
    "# END STUDENT SOLUTION HW6.3"
   ]
  },
  {
   "cell_type": "markdown",
   "metadata": {},
   "source": [
    "- Fill in the BLANKS here:   \n",
    "Convex minimization, a subfield of optimization, studies the problem of minimizing **convex** functions over **convex** sets. The **convexity** property can make optimization in some sense \"easier\" than the general case - for example, any local minimum must be a global minimum."
   ]
  },
  {
   "cell_type": "markdown",
   "metadata": {},
   "source": [
    "## HW 6.4\n",
    "\n",
    "The learning objective function for weighted ordinary least squares (WOLS) (aka weight linear regression) is defined as follows:\n",
    "\n",
    "$$0.5* \\sum_{i=1}^n (weight_i * (W * X_i - y_i)^2)$$\n",
    "\n",
    "Where training set consists of input variables X ( in vector form) and a target variable y, and W is the vector of coefficients for the linear regression model.\n",
    "\n",
    "Derive the gradient for this weighted OLS by hand; showing each step and also explaining each step."
   ]
  },
  {
   "cell_type": "code",
   "execution_count": 21,
   "metadata": {
    "collapsed": true
   },
   "outputs": [],
   "source": [
    "# START STUDENT SOLUTION HW6.4"
   ]
  },
  {
   "cell_type": "markdown",
   "metadata": {},
   "source": [
    "The objective function is as described above:\n",
    "\n",
    "$$ f(W) = 0.5* \\sum_{i=1}^n (weight_i * (W * X_i - y_i)^2)$$\n",
    "\n",
    "We have to calculate the partial derivative with respect to W to get the gradient. First, we will apply the square term to simplify the terms for the derivatives:\n",
    "\n",
    "$$ f(W) = 0.5 * \\sum\\limits_{i} w_i ((WX_i)^2 + y_i^2 - 2WX_iy_i) $$\n",
    "\n",
    "This becomes:\n",
    "\n",
    "$$ f(W) = 0.5 * \\sum\\limits_{i} w_i (W^2X_i^2 + y_i^2 - 2WX_iy_i) $$\n",
    "\n",
    "And then we get the gradient:\n",
    "\n",
    "$$ \\frac{\\partial f(W)}{\\partial W} = \\frac{\\partial }{\\partial W} (0.5 * \\sum\\limits_{i} w_i (W^2X_i^2 + y_i^2 - 2WX_iy_i)) $$\n",
    "\n",
    "Then we calculate the partial derivative. We get:\n",
    "\n",
    "$$ \\frac{\\partial f(W)}{\\partial W} = 0.5 * \\sum\\limits_{i} w_i (2WX_i^2 - 2X_iy_i) $$\n",
    "\n",
    "Simplify by bringing the constants out:\n",
    "\n",
    "$$ \\frac{\\partial f(W)}{\\partial W} = 0.5 * 2 * \\sum\\limits_{i} w_i (WX_i^2 - X_iy_i) $$\n",
    "\n",
    "Then, factoring out Xi:\n",
    "\n",
    "$$ \\frac{\\partial f(W)}{\\partial W} =  \\sum\\limits_{i} w_i X_i (WX_i - y_i) $$\n",
    "\n",
    "Finally, we set the gradient to 0 to find the value of W which minimizes f(W):\n",
    "\n",
    "$$ 0 =  \\sum\\limits_{i} w_i X_i (WX_i - y_i)$$"
   ]
  },
  {
   "cell_type": "code",
   "execution_count": null,
   "metadata": {
    "collapsed": true
   },
   "outputs": [],
   "source": [
    "# END STUDENT SOLUTION HW6.4"
   ]
  },
  {
   "cell_type": "markdown",
   "metadata": {},
   "source": [
    "## HW 6.5\n",
    "Write a MapReduce job in MRJob to do the training at scale of a weighted OLS model using gradient descent. <br>\n",
    "Generate one million datapoints just like in the following notebook:  http://nbviewer.ipython.org/urls/dl.dropbox.com/s/kritdm3mo1daolj/MrJobLinearRegressionGD.ipynb\n",
    "\n",
    "Weight each example as follows: \n",
    "\n",
    "$$weight(x)= abs(1/x)$$\n",
    "\n",
    "Sample 1% of the data in MapReduce and use the sampled dataset to train a (weighted if available in SciKit-Learn) linear regression model locally using  SciKit-Learn (http://scikit-learn.org/stable/modules/generated/sklearn.linear_model.LinearRegression.html)\n",
    "\n",
    "Plot the resulting weighted linear regression model versus the original model that you used to generate the data. Comment on your findings."
   ]
  },
  {
   "cell_type": "code",
   "execution_count": 7,
   "metadata": {
    "collapsed": true
   },
   "outputs": [],
   "source": [
    "import pylab \n",
    "size = 1000\n",
    "x = np.random.uniform(-4, 4, size)\n",
    "y = x * 1.0 - 4 + np.random.normal(0,0.5,size)\n",
    "data = zip(y,x)\n",
    "np.savetxt('LinearRegression.csv',data,delimiter = \",\")"
   ]
  },
  {
   "cell_type": "code",
   "execution_count": 8,
   "metadata": {
    "collapsed": false
   },
   "outputs": [
    {
     "name": "stdout",
     "output_type": "stream",
     "text": [
      "Overwriting MrJobBatchGDUpdate_LinearRegression.py\n"
     ]
    }
   ],
   "source": [
    "%%writefile MrJobBatchGDUpdate_LinearRegression.py\n",
    "from __future__ import division\n",
    "\n",
    "import mrjob\n",
    "from mrjob.step import MRStep\n",
    "from mrjob.job import MRJob\n",
    "\n",
    "def weight_point(x):\n",
    "    #Define a simple function to calculate our weight value, given an X value\n",
    "    return abs(1/x)\n",
    "\n",
    "# This MrJob calculates the gradient of the entire training set      \n",
    "class MrJobBatchGDUpdate_LinearRegression(MRJob):\n",
    "    # run before the mapper processes any input\n",
    "    def read_weightsfile(self):\n",
    "        # Read weights file\n",
    "        # NOTE - THIS NOMENCLATURE CAN BE CONFUSING!\n",
    "        # self.weights represents our estimate of the model parameters\n",
    "        # NOT the weights that we are adding to each point based on the \n",
    "        # weighting approach in the problem statement.\n",
    "        with open('weights.txt', 'r') as f:\n",
    "            self.weights = [float(v) for v in f.readline().split(',')]\n",
    "        # Initialize gradient for this iteration\n",
    "        self.partial_Gradient = [0]*len(self.weights)\n",
    "        self.partial_count = 0\n",
    "    \n",
    "    # Calculate partial gradient for each example \n",
    "    def partial_gradient(self, _, line):\n",
    "        D = (map(float,line.split(',')))\n",
    "        # y_hat is the predicted value given current weights\n",
    "        y_hat = self.weights[0]+self.weights[1]*D[1] #Y_hat=beta_0+beta_1*x\n",
    "        \n",
    "        # Update partial gradient vector with gradient from current example\n",
    "        #NOTE THAT THESE NEXT TWO LINES ARE WHERE WE ADD THE WEIGHTS\n",
    "        #THAT MAKE THIS A WOLS MODEL\n",
    "        self.partial_Gradient[0]+=(D[0]-y_hat)*weight_point(D[1]) #Update intercept\n",
    "        self.partial_Gradient[1]+=(D[0]-y_hat)*D[1]*weight_point(D[1]) #Update slope\n",
    "        self.partial_count+=1\n",
    "    \n",
    "    # Finally emit in-memory partial gradient and partial count\n",
    "    def partial_gradient_emit(self):\n",
    "        yield None, (self.partial_Gradient,self.partial_count)\n",
    "        \n",
    "    # Accumulate partial gradient from mapper and emit total gradient \n",
    "    # Output: key = None, Value = gradient vector\n",
    "    def gradient_accumulater(self, _, partial_Gradient_Record): \n",
    "        total_gradient = [0]*2\n",
    "        total_count = 0\n",
    "        for partial_Gradient,partial_count in partial_Gradient_Record:\n",
    "            total_count = total_count + partial_count\n",
    "            total_gradient[0] = total_gradient[0] + partial_Gradient[0]\n",
    "            total_gradient[1] = total_gradient[1] + partial_Gradient[1]\n",
    "        yield None, [v/total_count for v in total_gradient]\n",
    "    \n",
    "    def steps(self):\n",
    "        return [MRStep(mapper_init=self.read_weightsfile,\n",
    "                       mapper=self.partial_gradient,\n",
    "                       mapper_final=self.partial_gradient_emit,\n",
    "                       reducer=self.gradient_accumulater)] \n",
    "    \n",
    "if __name__ == '__main__':\n",
    "    MrJobBatchGDUpdate_LinearRegression.run()"
   ]
  },
  {
   "cell_type": "code",
   "execution_count": 12,
   "metadata": {
    "collapsed": false
   },
   "outputs": [
    {
     "name": "stdout",
     "output_type": "stream",
     "text": [
      "iteration =0  weights = [-1.12347068  0.40034096]\n",
      "iteration =1  weights = [-3.02911104  0.45562641]\n",
      "iteration =2  weights = [-3.8089201   0.50846248]\n",
      "iteration =3  weights = [-4.12807491  0.55729145]\n",
      "iteration =4  weights = [-4.25873988  0.60177481]\n",
      "iteration =5  weights = [-4.31227454  0.64204314]\n",
      "iteration =6  weights = [-4.33424346  0.67839226]\n",
      "iteration =7  weights = [-4.34329052  0.71116144]\n",
      "iteration =8  weights = [-4.34704469  0.74068605]\n",
      "iteration =9  weights = [-4.348628   0.7672803]\n",
      "iteration =10  weights = [-4.34931839  0.79123217]\n",
      "iteration =11  weights = [-4.34963919  0.81280301]\n",
      "iteration =12  weights = [-4.34980497  0.83222905]\n",
      "iteration =13  weights = [-4.34990388  0.84972334]\n",
      "iteration =14  weights = [-4.34997234  0.8654779 ]\n",
      "iteration =15  weights = [-4.35002556  0.8796657 ]\n",
      "iteration =16  weights = [-4.35007004  0.89244255]\n",
      "iteration =17  weights = [-4.35010868  0.90394875]\n",
      "iteration =18  weights = [-4.3501429   0.91431067]\n",
      "iteration =19  weights = [-4.35017348  0.9236421 ]\n",
      "iteration =20  weights = [-4.35020092  0.93204552]\n",
      "iteration =21  weights = [-4.3502256   0.93961323]\n",
      "iteration =22  weights = [-4.3502478   0.94642834]\n",
      "iteration =23  weights = [-4.35026779  0.95256568]\n",
      "iteration =24  weights = [-4.35028579  0.95809267]\n",
      "iteration =25  weights = [-4.350302    0.96307001]\n",
      "iteration =26  weights = [-4.35031659  0.96755235]\n",
      "iteration =27  weights = [-4.35032974  0.97158892]\n",
      "iteration =28  weights = [-4.35034157  0.97522406]\n",
      "iteration =29  weights = [-4.35035223  0.97849769]\n",
      "iteration =30  weights = [-4.35036183  0.98144575]\n",
      "iteration =31  weights = [-4.35037047  0.98410064]\n",
      "iteration =32  weights = [-4.35037826  0.98649149]\n",
      "Final weights\n",
      "\n",
      "[-4.35038527  0.98864458]\n"
     ]
    }
   ],
   "source": [
    "from numpy import random,array\n",
    "from MrJobBatchGDUpdate_LinearRegression import MrJobBatchGDUpdate_LinearRegression\n",
    "\n",
    "learning_rate = 0.05\n",
    "stop_criteria = 0.000005\n",
    "\n",
    "# Generate random values as inital weights\n",
    "weights = array([random.uniform(-3,3),random.uniform(-3,3)])\n",
    "# Write the weights to the files\n",
    "with open('weights.txt', 'w+') as f:\n",
    "    f.writelines(','.join(str(j) for j in weights))\n",
    "    \n",
    "# create a mrjob instance for batch gradient descent update over all data\n",
    "mr_job = MrJobBatchGDUpdate_LinearRegression(args=['LinearRegression.csv','--file',\n",
    "                                                   'weights.txt','--no-strict-protocols'])\n",
    "# Update centroids iteratively\n",
    "i = 0\n",
    "while(1):\n",
    "    print \"iteration =\"+str(i)+\"  weights =\",weights\n",
    "    # Save weights from previous iteration\n",
    "    weights_old = weights\n",
    "    with mr_job.make_runner() as runner: \n",
    "        runner.run()\n",
    "        # stream_output: get access of the output \n",
    "        for line in runner.stream_output():\n",
    "            # value is the gradient value\n",
    "            key,value =  mr_job.parse_output_line(line)\n",
    "            # Update weights\n",
    "            weights = weights + learning_rate*array(value)\n",
    "    i+=1\n",
    "    # Write the updated weights to file \n",
    "    with open('weights.txt', 'w+') as f:\n",
    "        f.writelines(','.join(str(j) for j in weights))\n",
    "    # Stop if weights get converged\n",
    "    if(sum((weights_old-weights)**2)<stop_criteria):\n",
    "        break\n",
    "        \n",
    "print \"Final weights\\n\"\n",
    "print weights"
   ]
  },
  {
   "cell_type": "code",
   "execution_count": 15,
   "metadata": {
    "collapsed": false
   },
   "outputs": [
    {
     "name": "stderr",
     "output_type": "stream",
     "text": [
      "/opt/anaconda/lib/python2.7/site-packages/ipykernel/__main__.py:22: FutureWarning: reshape is deprecated and will raise in a subsequent release. Please use .values.reshape(...) instead\n"
     ]
    },
    {
     "data": {
      "image/png": "[encoded data removed]",
      "text/plain": [
       "<matplotlib.figure.Figure at 0x7f7866a94d90>"
      ]
     },
     "metadata": {},
     "output_type": "display_data"
    }
   ],
   "source": [
    "from sklearn.linear_model import LinearRegression\n",
    "import pandas as pd\n",
    "import random as rand\n",
    "\n",
    "def lineFnx(x,m,b):\n",
    "    return m*x+b\n",
    "\n",
    "#1% of our data\n",
    "n = 1000000\n",
    "s = int(n*0.01)\n",
    "filename = \"LinearRegression.csv\"\n",
    "skip = sorted(rand.sample(xrange(n),n-s))\n",
    "df = pd.read_csv(filename, skiprows=skip, header=None)\n",
    "\n",
    "floor = min(df[1])\n",
    "ceiling = max(df[1])\n",
    "step = (ceiling - floor)/s\n",
    "x = np.arange(floor, ceiling, step)\n",
    "\n",
    "#Build model\n",
    "model = LinearRegression()\n",
    "model.fit(df[1].reshape(-1,1),df[0])\n",
    "slopeSK = model.coef_\n",
    "interceptSK = model.intercept_\n",
    "pred_y_SK = lineFnx(x, slopeSK, interceptSK)\n",
    "\n",
    "interceptMR = weights[0]\n",
    "slopeMR = weights[1]\n",
    "pred_y_MR = lineFnx(x, slopeMR, interceptMR)\n",
    "\n",
    "plt.plot(df[1], df[0],'ro', alpha=0.1, label = \"Points\") \n",
    "\n",
    "#MR line\n",
    "plt.plot(x, pred_y_MR, color=\"green\", label=\"MR result\")\n",
    "\n",
    "#Sklearn line\n",
    "plt.plot(x, pred_y_SK, color=\"blue\", label=\"SK result\")\n",
    "\n",
    "plt.legend(loc=\"lower right\")\n",
    "plt.show()"
   ]
  },
  {
   "cell_type": "markdown",
   "metadata": {},
   "source": [
    "It's kind of hard to see all the individual data points (even after changing the color and opacity), but if we look closely we can see that our Mapreduce and SKlearn results are very similar. SKlearn produced a slightly higher intercept than Mapreduce, but what appears to be a pretty similar slope."
   ]
  },
  {
   "cell_type": "markdown",
   "metadata": {},
   "source": [
    "### HW6.5.1 (OPTIONAL)\n",
    "Using MRJob and in Python, plot the error surface for the weighted linear regression model using a heatmap and contour plot. \n",
    "Also plot the current model in the original domain space.  (Plot them side by side if possible)\n",
    "Plot the path to convergence (during training) for the weighted linear regression model in plot error space and in the original domain space. Make sure to label your plots with iteration numbers, function, model space versus original domain space, etc.\n",
    "Comment on convergence and on the mean squared error using your weighted OLS algorithm on the weighted dataset versus using the weighted OLS algorithm on the uniformly weighted dataset."
   ]
  },
  {
   "cell_type": "code",
   "execution_count": null,
   "metadata": {
    "collapsed": true
   },
   "outputs": [],
   "source": [
    "# START STUDENT SOLUTION HW6.5.1\n",
    "# insert cells as needed\n",
    "\n",
    "\n",
    "# END STUDENT SOLUTION HW6.5.1"
   ]
  },
  {
   "cell_type": "markdown",
   "metadata": {},
   "source": [
    "## HW6.6 Clean up notebook for GMM via EM (OPTIONAL)\n",
    "\n",
    "Using the following notebook as a starting point:\n",
    "\n",
    "http://nbviewer.jupyter.org/urls/dl.dropbox.com/s/0t7985e40fovlkw/EM-GMM-MapReduce%20Design%201.ipynb \n",
    "\n",
    "Improve this notebook as follows:\n",
    "- Add in equations into the notebook (not images of equations) \n",
    "- Number the equations\n",
    "- Make sure the equation notation matches the code and the code and comments refer to the equations numbers\n",
    "- Comment the code\n",
    "- Rename/Reorganize the code to make it more readable\n",
    "- Rerun the examples similar graphics (or possibly better graphics)\n",
    "\n",
    "### Submission Instructions\n",
    "Create a new notebook in your github repo and name it: MIDS-W261-HW-06-GMM-{your student id}.ipynb"
   ]
  },
  {
   "cell_type": "markdown",
   "metadata": {},
   "source": [
    "## HW6.7  Implement Bernoulli Mixture Model via EM (OPTIONAL)\n",
    "Implement the EM clustering algorithm to determine Bernoulli Mixture Model for discrete data in MRJob.\n",
    "\n",
    "As a unit test use the dataset in the following slides:\n",
    "\n",
    "https://www.dropbox.com/s/maoj9jidxj1xf5l/MIDS-Live-Lecture-06-EM-Bernouilli-MM-Systems-Test.pdf?dl=0\n",
    "\n",
    "Cross-check that you get the same cluster assignments and cluster Bernouilli models as presented in the slides after 25 iterations. Dont forget the smoothing.\n",
    "\n",
    "As a full test: use the same dataset from HW 4.5, the Tweet Dataset. \n",
    "Using this data, you will implement a 1000-dimensional EM-based Bernoulli Mixture Model  algorithm in MrJob on the users\n",
    "by their 1000-dimensional word stripes/vectors using K = 4.  Use the same smoothing as in the unit test.\n",
    "\n",
    "Repeat this experiment using your KMeans MRJob implementation fron HW4.\n",
    "Report the rand index score using the class code as ground truth label for both algorithms and comment on your findings.\n",
    "\n",
    "Here is some more information on the Tweet Dataset.\n",
    "\n",
    "Here you will use a different dataset consisting of word-frequency distributions \n",
    "for 1,000 Twitter users. These Twitter users use language in very different ways,\n",
    "and were classified by hand according to the criteria:\n",
    "\n",
    "0: Human, where only basic human-human communication is observed.\n",
    "\n",
    "1: Cyborg, where language is primarily borrowed from other sources\n",
    "(e.g., jobs listings, classifieds postings, advertisements, etc...).\n",
    "\n",
    "2: Robot, where language is formulaically derived from unrelated sources\n",
    "(e.g., weather/seismology, police/fire event logs, etc...).\n",
    "\n",
    "3: Spammer, where language is replicated to high multiplicity\n",
    "(e.g., celebrity obsessions, personal promotion, etc... )\n",
    "\n",
    "Check out the preprints of  recent research,\n",
    "which spawned this dataset:\n",
    "\n",
    "http://arxiv.org/abs/1505.04342\n",
    "http://arxiv.org/abs/1508.01843\n",
    "\n",
    "The main data lie in the accompanying file:\n",
    "\n",
    "[topUsers_Apr-Jul_2014_1000-words.txt](#https://www.dropbox.com/s/6129k2urvbvobkr/topUsers_Apr-Jul_2014_1000-words.txt?dl=0)\n",
    "\n",
    "and are of the form:\n",
    "\n",
    "USERID,CODE,TOTAL,WORD1_COUNT,WORD2_COUNT,...\n",
    ".\n",
    ".\n",
    "\n",
    "where\n",
    "\n",
    "USERID = unique user identifier\n",
    "CODE = 0/1/2/3 class code\n",
    "TOTAL = sum of the word counts\n",
    "\n",
    "Using this data, you will implement a 1000-dimensional K-means algorithm in MrJob on the users\n",
    "by their 1000-dimensional word stripes/vectors using several \n",
    "centroid initializations and values of K."
   ]
  },
  {
   "cell_type": "code",
   "execution_count": null,
   "metadata": {
    "collapsed": true
   },
   "outputs": [],
   "source": [
    "# START STUDENT SOLUTION HW6.7\n",
    "# insert cells as needed\n",
    "\n",
    "\n",
    "# END STUDENT SOLUTION HW6.7"
   ]
  },
  {
   "cell_type": "markdown",
   "metadata": {},
   "source": [
    "## HW6.8 (OPTIONAL) 1 Million songs\n",
    "Predict the year of the song. Ask Jimi"
   ]
  },
  {
   "cell_type": "code",
   "execution_count": null,
   "metadata": {
    "collapsed": true
   },
   "outputs": [],
   "source": []
  },
  {
   "cell_type": "code",
   "execution_count": null,
   "metadata": {
    "collapsed": true
   },
   "outputs": [],
   "source": []
  }
 ],
 "metadata": {
  "kernelspec": {
   "display_name": "Python 2",
   "language": "python",
   "name": "python2"
  },
  "language_info": {
   "codemirror_mode": {
    "name": "ipython",
    "version": 2
   },
   "file_extension": ".py",
   "mimetype": "text/x-python",
   "name": "python",
   "nbconvert_exporter": "python",
   "pygments_lexer": "ipython2",
   "version": "2.7.13"
  },
  "toc": {
   "colors": {
    "hover_highlight": "#DAA520",
    "running_highlight": "#FF0000",
    "selected_highlight": "#FFD700"
   },
   "moveMenuLeft": true,
   "nav_menu": {
    "height": "397px",
    "width": "252px"
   },
   "navigate_menu": true,
   "number_sections": true,
   "sideBar": true,
   "threshold": 4,
   "toc_cell": true,
   "toc_position": {
    "height": "1080px",
    "left": "0px",
    "right": "1804px",
    "top": "107px",
    "width": "245px"
   },
   "toc_section_display": "block",
   "toc_window_display": true
  }
 },
 "nbformat": 4,
 "nbformat_minor": 1
}
