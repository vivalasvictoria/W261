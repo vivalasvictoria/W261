{
 "cells": [
  {
   "cell_type": "markdown",
   "metadata": {
    "toc": "true"
   },
   "source": [
    "# Table of Contents\n",
    " <p><div class=\"lev1 toc-item\"><a href=\"#-MIDS---w261-Machine-Learning-At-Scale-\" data-toc-modified-id=\"-MIDS---w261-Machine-Learning-At-Scale--1\"><span class=\"toc-item-num\">1&nbsp;&nbsp;</span> MIDS - w261 Machine Learning At Scale </a></div><div class=\"lev2 toc-item\"><a href=\"#Assignment---HW9\" data-toc-modified-id=\"Assignment---HW9-11\"><span class=\"toc-item-num\">1.1&nbsp;&nbsp;</span>Assignment - HW9</a></div><div class=\"lev1 toc-item\"><a href=\"#Instructions\" data-toc-modified-id=\"Instructions-2\"><span class=\"toc-item-num\">2&nbsp;&nbsp;</span>Instructions</a></div><div class=\"lev2 toc-item\"><a href=\"#IMPORTANT\" data-toc-modified-id=\"IMPORTANT-21\"><span class=\"toc-item-num\">2.1&nbsp;&nbsp;</span>IMPORTANT</a></div><div class=\"lev3 toc-item\"><a href=\"#===-INSTRUCTIONS-for-SUBMISSIONS-===\" data-toc-modified-id=\"===-INSTRUCTIONS-for-SUBMISSIONS-===-211\"><span class=\"toc-item-num\">2.1.1&nbsp;&nbsp;</span>=== INSTRUCTIONS for SUBMISSIONS ===</a></div><div class=\"lev1 toc-item\"><a href=\"#HW-Problems\" data-toc-modified-id=\"HW-Problems-3\"><span class=\"toc-item-num\">3&nbsp;&nbsp;</span>HW Problems</a></div><div class=\"lev2 toc-item\"><a href=\"#HW-9-Dataset\" data-toc-modified-id=\"HW-9-Dataset-31\"><span class=\"toc-item-num\">3.1&nbsp;&nbsp;</span>HW 9 Dataset</a></div><div class=\"lev2 toc-item\"><a href=\"#3.--HW9.0--Short-answer-questions\" data-toc-modified-id=\"3.--HW9.0--Short-answer-questions-32\"><span class=\"toc-item-num\">3.2&nbsp;&nbsp;</span>3.  HW9.0  Short answer questions</a></div><div class=\"lev2 toc-item\"><a href=\"#HW9.1--MRJob-implementation-of-basic-PageRank\" data-toc-modified-id=\"HW9.1--MRJob-implementation-of-basic-PageRank-33\"><span class=\"toc-item-num\">3.3&nbsp;&nbsp;</span>HW9.1  MRJob implementation of basic PageRank</a></div><div class=\"lev3 toc-item\"><a href=\"#HW-9.1-Implementation\" data-toc-modified-id=\"HW-9.1-Implementation-331\"><span class=\"toc-item-num\">3.3.1&nbsp;&nbsp;</span>HW 9.1 Implementation</a></div><div class=\"lev3 toc-item\"><a href=\"#HW-9.1-Analysis\" data-toc-modified-id=\"HW-9.1-Analysis-332\"><span class=\"toc-item-num\">3.3.2&nbsp;&nbsp;</span>HW 9.1 Analysis</a></div><div class=\"lev2 toc-item\"><a href=\"#HW9.2:-Exploring-PageRank-teleportation-and-network-plots\" data-toc-modified-id=\"HW9.2:-Exploring-PageRank-teleportation-and-network-plots-34\"><span class=\"toc-item-num\">3.4&nbsp;&nbsp;</span>HW9.2: Exploring PageRank teleportation and network plots</a></div><div class=\"lev3 toc-item\"><a href=\"#HW-9.2-Implementation\" data-toc-modified-id=\"HW-9.2-Implementation-341\"><span class=\"toc-item-num\">3.4.1&nbsp;&nbsp;</span>HW 9.2 Implementation</a></div><div class=\"lev3 toc-item\"><a href=\"#HW-9.2-Analysis\" data-toc-modified-id=\"HW-9.2-Analysis-342\"><span class=\"toc-item-num\">3.4.2&nbsp;&nbsp;</span>HW 9.2 Analysis</a></div><div class=\"lev2 toc-item\"><a href=\"#HW9.3:-Applying-PageRank-to-the-Wikipedia-hyperlinks-network\" data-toc-modified-id=\"HW9.3:-Applying-PageRank-to-the-Wikipedia-hyperlinks-network-35\"><span class=\"toc-item-num\">3.5&nbsp;&nbsp;</span>HW9.3: Applying PageRank to the Wikipedia hyperlinks network</a></div><div class=\"lev3 toc-item\"><a href=\"#HW-9.3-Implementation\" data-toc-modified-id=\"HW-9.3-Implementation-351\"><span class=\"toc-item-num\">3.5.1&nbsp;&nbsp;</span>HW 9.3 Implementation</a></div><div class=\"lev3 toc-item\"><a href=\"#HW-9.3-Analysis\" data-toc-modified-id=\"HW-9.3-Analysis-352\"><span class=\"toc-item-num\">3.5.2&nbsp;&nbsp;</span>HW 9.3 Analysis</a></div><div class=\"lev2 toc-item\"><a href=\"#HW9.4:-Topic-specific-PageRank-implementation-using-MRJob-\" data-toc-modified-id=\"HW9.4:-Topic-specific-PageRank-implementation-using-MRJob--36\"><span class=\"toc-item-num\">3.6&nbsp;&nbsp;</span>HW9.4: Topic-specific PageRank implementation using MRJob </a></div><div class=\"lev3 toc-item\"><a href=\"#HW-9.4-Implementation\" data-toc-modified-id=\"HW-9.4-Implementation-361\"><span class=\"toc-item-num\">3.6.1&nbsp;&nbsp;</span>HW 9.4 Implementation</a></div><div class=\"lev3 toc-item\"><a href=\"#HW-9.4-Analysis\" data-toc-modified-id=\"HW-9.4-Analysis-362\"><span class=\"toc-item-num\">3.6.2&nbsp;&nbsp;</span>HW 9.4 Analysis</a></div><div class=\"lev1 toc-item\"><a href=\"#-----------OPTIONAL-QUESTIONS-SECTION---------\" data-toc-modified-id=\"-----------OPTIONAL-QUESTIONS-SECTION----------4\"><span class=\"toc-item-num\">4&nbsp;&nbsp;</span>---------  OPTIONAL QUESTIONS SECTION --------</a></div><div class=\"lev2 toc-item\"><a href=\"#HW9.5:-(OPTIONAL)-Applying-topic-specific-PageRank-to-Wikipedia\" data-toc-modified-id=\"HW9.5:-(OPTIONAL)-Applying-topic-specific-PageRank-to-Wikipedia-41\"><span class=\"toc-item-num\">4.1&nbsp;&nbsp;</span>HW9.5: (OPTIONAL) Applying topic-specific PageRank to Wikipedia</a></div><div class=\"lev3 toc-item\"><a href=\"#HW-9.5-Implementation\" data-toc-modified-id=\"HW-9.5-Implementation-411\"><span class=\"toc-item-num\">4.1.1&nbsp;&nbsp;</span>HW 9.5 Implementation</a></div><div class=\"lev3 toc-item\"><a href=\"#HW-9.5-Analysis\" data-toc-modified-id=\"HW-9.5-Analysis-412\"><span class=\"toc-item-num\">4.1.2&nbsp;&nbsp;</span>HW 9.5 Analysis</a></div><div class=\"lev2 toc-item\"><a href=\"#HW9.6:--(OPTIONAL)-TextRank\" data-toc-modified-id=\"HW9.6:--(OPTIONAL)-TextRank-42\"><span class=\"toc-item-num\">4.2&nbsp;&nbsp;</span>HW9.6:  (OPTIONAL) TextRank</a></div><div class=\"lev3 toc-item\"><a href=\"#HW-9.6-Implementation\" data-toc-modified-id=\"HW-9.6-Implementation-421\"><span class=\"toc-item-num\">4.2.1&nbsp;&nbsp;</span>HW 9.6 Implementation</a></div><div class=\"lev3 toc-item\"><a href=\"#HW-9.6-Analysis\" data-toc-modified-id=\"HW-9.6-Analysis-422\"><span class=\"toc-item-num\">4.2.2&nbsp;&nbsp;</span>HW 9.6 Analysis</a></div>"
   ]
  },
  {
   "cell_type": "code",
   "execution_count": 2,
   "metadata": {
    "collapsed": true
   },
   "outputs": [],
   "source": [
    "%reload_ext autoreload\n",
    "%autoreload 2"
   ]
  },
  {
   "cell_type": "code",
   "execution_count": 3,
   "metadata": {
    "collapsed": false
   },
   "outputs": [
    {
     "name": "stdout",
     "output_type": "stream",
     "text": [
      "Requirement already satisfied: networkx in /opt/anaconda/lib/python2.7/site-packages\r\n",
      "Requirement already satisfied: decorator>=3.4.0 in /opt/anaconda/lib/python2.7/site-packages (from networkx)\r\n"
     ]
    }
   ],
   "source": [
    "!pip install networkx"
   ]
  },
  {
   "cell_type": "code",
   "execution_count": 107,
   "metadata": {
    "collapsed": false
   },
   "outputs": [
    {
     "name": "stdout",
     "output_type": "stream",
     "text": [
      "Requirement already satisfied: tabulate in /opt/anaconda/lib/python2.7/site-packages\r\n"
     ]
    }
   ],
   "source": [
    "!pip install tabulate"
   ]
  },
  {
   "cell_type": "markdown",
   "metadata": {},
   "source": [
    "<h1> MIDS - w261 Machine Learning At Scale </h1>\n",
    "__Course Lead:__ Dr James G. Shanahan (__email__ Jimi via  James.Shanahan _AT_ gmail.com)\n",
    "\n",
    "<h2>Assignment - HW9</h2>\n",
    "\n",
    "\n",
    "---\n",
    "__Name:__  Victoria Baker  \n",
    "__Class:__ MIDS w261 (Section 2)     \n",
    "__Email:__  victoria.baker@iSchool.Berkeley.edu     \n",
    "__StudentId__  3032501083    __End of StudentId__     \n",
    "__Week:__   9\n",
    "\n",
    "__NOTE:__ please replace `1234567` with your student id above      \n",
    "__Due Time:__ HW is due the Tuesday of the following week by 8AM (West coast time). I.e., Tuesday, Mar 21, 2017 in the case of this homework. \n",
    "\n",
    "# Instructions\n",
    "\n",
    "MIDS UC Berkeley, Machine Learning at Scale   \n",
    "DATSCIW261 ASSIGNMENT #9\n",
    "\n",
    "Version 2017-3-16 \n",
    "\n",
    "\n",
    "## IMPORTANT\n",
    "\n",
    "Parts of this homework can be completed locally on your computer. For questions involving the wikipedia dataset, you will need to run your code in the cloud.\n",
    "\n",
    "### === INSTRUCTIONS for SUBMISSIONS ===   \n",
    "Follow the instructions for submissions carefully.\n",
    "\n",
    "Each student has a `HW-<user>` repository for all assignments.   \n",
    "\n",
    "Click this link to enable you to create a github repo within the MIDS261 Classroom:   \n",
    "https://classroom.github.com/assignment-invitations/3b1d6c8e58351209f9dd865537111ff8   \n",
    "and follow the instructions to create a HW repo.\n",
    "\n",
    "Push the following to your HW github repo into the master branch:\n",
    "* Your local HW6 directory. Your repo file structure should look like this:\n",
    "\n",
    "```\n",
    "HW-<user>\n",
    "    --HW3\n",
    "       |__MIDS-W261-HW-03-<Student_id>.ipynb\n",
    "       |__MIDS-W261-HW-03-<Student_id>.pdf\n",
    "       |__some other hw3 file\n",
    "    --HW4\n",
    "       |__MIDS-W261-HW-04-<Student_id>.ipynb\n",
    "       |__MIDS-W261-HW-04-<Student_id>.pdf\n",
    "       |__some other hw4 file\n",
    "    etc..\n",
    "```    "
   ]
  },
  {
   "cell_type": "markdown",
   "metadata": {},
   "source": [
    "\n",
    "# HW Problems\n"
   ]
  },
  {
   "cell_type": "markdown",
   "metadata": {},
   "source": [
    "<h2 style=\"color:darkblue\">HW 9 Dataset</h2>\n",
    "\n",
    "Note that all referenced files life in the enclosing directory. [Checkout the Data subdirectory on Dropbox](https://www.dropbox.com/sh/2c0k5adwz36lkcw/AAAAKsjQfF9uHfv-X9mCqr9wa?dl=0) or the AWS S3 buckets (details contained each question). "
   ]
  },
  {
   "cell_type": "markdown",
   "metadata": {},
   "source": [
    "## 3.  HW9.0  Short answer questions<a name=\"1.0\"></a>\n",
    "[Back to Table of Contents](#TOC)\n",
    "\n",
    "__ What is PageRank and what is it used for in the context of web search?__"
   ]
  },
  {
   "cell_type": "markdown",
   "metadata": {},
   "source": [
    "PageRank is an algorithm that measures the importance of a node in graph relative to the other nodes. The higher the page rank, the more likely it is to be visited because more nodes (and possibly more nodes with high visitation rates) link to it. It was developed by Larry Page and Sergey Brin, the founders of Google as a tool to rank webpages for its search engine. In this context, Google uses PageRank to decide the ranking of websites to show a user as the result of a specific query."
   ]
  },
  {
   "cell_type": "markdown",
   "metadata": {},
   "source": [
    "__ What modifications have to be made to the webgraph in order to leverage the machinery of Markov Chains to compute the Steady State Distibution? __"
   ]
  },
  {
   "cell_type": "markdown",
   "metadata": {},
   "source": [
    "In order to leverage the machinery of Markov Chains to compute steady state distributions, two modifications for stochasticity and primitivity need to be made: In order to compensate for the mass lost during each iteration due to dangling nodes (nodes with no out links), this mass must be redistributed across all other nodes. Additionally, once that dangling node is visited, there is no way to move to another node. Therefore a mechanism must be put in place to allow movement to another node from a dangling node--teleportation. This is accomplished by using a number between 0 and 1 as a teleportation factor which indicates the probability of jumping to any other node in the network from a dangling node."
   ]
  },
  {
   "cell_type": "markdown",
   "metadata": {},
   "source": [
    "__ OPTIONAL: In topic-specific pagerank, how can we ensure that the irreducible property is satifsied? (HINT: see HW9.4) __"
   ]
  },
  {
   "cell_type": "markdown",
   "metadata": {},
   "source": [
    "## HW9.1  MRJob implementation of basic PageRank\n",
    "\n",
    "<hr>\n",
    "\n",
    "$$P(n) = \\alpha\\left(\\frac{1}{|G|}\\right) + (1-\\alpha)\\sum_{m\\in{L(n)}}\\frac{P(m)}{C(m)}$$\n",
    "\n",
    "\n",
    "where $|G|$ is the total number of nodes (pages) in the graph, α is the random jump factor. $L(n)$ is the set of pages that link to $n$, and $C(m)$ is the out degree of the node $m$ (the number of links on page $m$). The random jump factor α is sometimes called the “teleportation” factor; alternatively, (1 – α) is referred to as the “damping” factor\n",
    "\n",
    "<hr>\n",
    "\n",
    "\n",
    "Write a basic MRJob implementation of the iterative PageRank algorithm that takes sparse adjacency lists as input (as explored in HW 7).\n",
    "\n",
    "Make sure that you implementation utilizes teleportation (1-damping/the number of nodes in the network), and further, distributes the mass of dangling nodes with each iteration so that the output of each iteration is correctly normalized (sums to 1).\n",
    "\n",
    "\n",
    "[NOTE: The PageRank algorithm assumes that a random surfer (walker), starting from a random web page, chooses the next page to which it will move by clicking at random, with probability d,one of the hyperlinks in the current page. This probability is represented by a so-called *damping factor* d, where d ∈ (0, 1). Otherwise, with probability (1 − d), the surfer jumps (\"teleports\") to any web page in the network. If a page is a dangling end, meaning it has no outgoing hyperlinks, the random surfer selects an arbitrary web page from a uniform distribution and “teleports” to that page]\n",
    "\n",
    "As you build your code, use the data located here :\n",
    "\n",
    "In the Data Subfolder for HW7 on Dropbox (same dataset as HW7) with the same file name. \n",
    "> Dropbox: https://www.dropbox.com/sh/2c0k5adwz36lkcw/AAAAKsjQfF9uHfv-X9mCqr9wa?dl=0\n",
    "\n",
    "Or on Amazon: \n",
    "\n",
    "> s3://ucb-mids-mls-networks/PageRank-test.txt\n",
    "\n",
    "with teleportation factor alpha set to 0.15 (1-d, where d, the damping factor is set to 0.85), and crosscheck your work with the true result, displayed in the first image in the [Wikipedia article](https://en.wikipedia.org/wiki/PageRank)\n",
    "and here for reference are the corresponding PageRank probabilities:\n",
    "<pre>\n",
    "\n",
    "A, 0.033\n",
    "B, 0.384\n",
    "C, 0.343\n",
    "D, 0.039\n",
    "E, 0.081\n",
    "F, 0.039\n",
    "G, 0.016\n",
    "H, 0.016\n",
    "I, 0.016\n",
    "J, 0.016\n",
    "K, 0.016\n",
    "\n",
    "</pre>\n",
    "\n"
   ]
  },
  {
   "cell_type": "markdown",
   "metadata": {},
   "source": [
    "## HW 9.1 Implementation"
   ]
  },
  {
   "cell_type": "code",
   "execution_count": 1,
   "metadata": {
    "collapsed": false
   },
   "outputs": [
    {
     "name": "stdout",
     "output_type": "stream",
     "text": [
      "--2017-11-21 02:05:17--  https://www.dropbox.com/sh/2c0k5adwz36lkcw/AADxzBgNxNF5Q6-eanjnK64qa/PageRank-test.txt\n",
      "Resolving www.dropbox.com... 162.125.3.1, 2620:100:6018:1::a27d:301\n",
      "Connecting to www.dropbox.com|162.125.3.1|:443... connected.\n",
      "HTTP request sent, awaiting response... 302 Found\n",
      "Location: https://dl.dropboxusercontent.com/content_link/O8kCqtxeWmROW8codhnkVAMRsoloU5IVgvmZa7o1C2hUP61wTM9Nsqk5fxtvsDwB/file [following]\n",
      "--2017-11-21 02:05:18--  https://dl.dropboxusercontent.com/content_link/O8kCqtxeWmROW8codhnkVAMRsoloU5IVgvmZa7o1C2hUP61wTM9Nsqk5fxtvsDwB/file\n",
      "Resolving dl.dropboxusercontent.com... 162.125.3.6, 2620:100:6018:6::a27d:306\n",
      "Connecting to dl.dropboxusercontent.com|162.125.3.6|:443... connected.\n",
      "HTTP request sent, awaiting response... 200 OK\n",
      "Length: 166 [text/plain]\n",
      "Saving to: `PageRank-test.txt'\n",
      "\n",
      "100%[======================================>] 166         --.-K/s   in 0s      \n",
      "\n",
      "2017-11-21 02:05:18 (14.8 MB/s) - `PageRank-test.txt' saved [166/166]\n",
      "\n"
     ]
    }
   ],
   "source": [
    "!wget 'https://www.dropbox.com/sh/2c0k5adwz36lkcw/AADxzBgNxNF5Q6-eanjnK64qa/PageRank-test.txt'"
   ]
  },
  {
   "cell_type": "code",
   "execution_count": 2,
   "metadata": {
    "collapsed": false
   },
   "outputs": [
    {
     "name": "stdout",
     "output_type": "stream",
     "text": [
      "B\t{'C': 1}\r\n",
      "C\t{'B': 1}\r\n",
      "D\t{'A': 1, 'B': 1}\r\n",
      "E\t{'D': 1, 'B': 1, 'F': 1}\r\n",
      "F\t{'B': 1, 'E': 1}\r\n",
      "G\t{'B': 1, 'E': 1}\r\n",
      "H\t{'B': 1, 'E': 1}\r\n",
      "I\t{'B': 1, 'E': 1}\r\n",
      "J\t{'E': 1}\r\n",
      "K\t{'E': 1}\r\n"
     ]
    }
   ],
   "source": [
    "!cat PageRank-test.txt"
   ]
  },
  {
   "cell_type": "markdown",
   "metadata": {},
   "source": [
    "### Initializing PageRank"
   ]
  },
  {
   "cell_type": "code",
   "execution_count": 12,
   "metadata": {
    "collapsed": false
   },
   "outputs": [
    {
     "name": "stdout",
     "output_type": "stream",
     "text": [
      "Overwriting PageRankInit1.py\n"
     ]
    }
   ],
   "source": [
    "%%writefile PageRankInit1.py\n",
    "\n",
    "from __future__ import division\n",
    "import mrjob\n",
    "from mrjob.job import MRJob\n",
    "from mrjob.step import MRStep\n",
    "import json\n",
    "import ast\n",
    "import re\n",
    "\n",
    "class PageRankInit1(MRJob):   \n",
    "\n",
    "    def mapper(self, _, line):   \n",
    "        line = line.strip()\n",
    "        node, data = line.split(\"\\t\")\n",
    "        node = re.findall(\"[A-Z]|\\d+\", node)[0]\n",
    "        \n",
    "        edges = data.replace(\"'\", \"\\\"\")\n",
    "        edges = json.loads(edges)\n",
    "        \n",
    "        for edge in edges.keys():\n",
    "            yield str(edge), None\n",
    "        yield node, None   \n",
    "        \n",
    "    def reducer_init(self):\n",
    "        self.increment_counter('reducer', 'total reducers', 1)\n",
    "        \n",
    "    def reducer(self, key, value):\n",
    "        self.increment_counter('reducer', 'total nodes', 1)\n",
    "    \n",
    "    def steps(self):\n",
    "        return [MRStep(\n",
    "                mapper = self.mapper,\n",
    "                reducer_init = self.reducer_init,\n",
    "                reducer = self.reducer)\n",
    "               ]\n",
    "    \n",
    "if __name__ == '__main__':\n",
    "    PageRankInit1.run()"
   ]
  },
  {
   "cell_type": "code",
   "execution_count": 4,
   "metadata": {
    "collapsed": false
   },
   "outputs": [
    {
     "name": "stdout",
     "output_type": "stream",
     "text": [
      "Writing PageRankInit2.py\n"
     ]
    }
   ],
   "source": [
    "%%writefile PageRankInit2.py\n",
    "from __future__ import division\n",
    "import mrjob\n",
    "from mrjob.job import MRJob\n",
    "from mrjob.step import MRStep\n",
    "import json\n",
    "import ast\n",
    "import re\n",
    "\n",
    "class PageRankInit2(MRJob):\n",
    "    \n",
    "    def configure_options(self):\n",
    "        super(PageRankInit2, self).configure_options()\n",
    "        self.add_passthrough_option(\n",
    "            '--startNode', type='str', default='1', help='must choose the start node')\n",
    "        self.add_passthrough_option(\n",
    "            '--numNodes', type='int', default='1', help='Count of nodes in graph')\n",
    "        \n",
    "    def mapper_init(self):\n",
    "        self.PR = 1/self.options.numNodes\n",
    "\n",
    "    def mapper(self, _, line):\n",
    "        line = line.strip()\n",
    "        node, data = line.split(\"\\t\")\n",
    "        node = re.findall(\"[A-Z]|\\d+\", node)[0]\n",
    "        \n",
    "        edges = data.replace(\"'\", \"\\\"\")\n",
    "        edges = json.loads(edges)\n",
    "\n",
    "        yield node, (self.PR, \"|\", edges)\n",
    "\n",
    "         \n",
    "        def steps(self):\n",
    "            return [MRStep(\n",
    "                    mapper_init = self.mapper_init,\n",
    "                    mapper = self.mapper,\n",
    "                    reducer = None)\n",
    "                   ]\n",
    "    \n",
    "if __name__ == '__main__':\n",
    "    PageRankInit2.run()"
   ]
  },
  {
   "cell_type": "markdown",
   "metadata": {},
   "source": [
    "### Iterating PageRank"
   ]
  },
  {
   "cell_type": "code",
   "execution_count": 5,
   "metadata": {
    "collapsed": false
   },
   "outputs": [
    {
     "name": "stdout",
     "output_type": "stream",
     "text": [
      "Writing PageRankIterate1.py\n"
     ]
    }
   ],
   "source": [
    "%%writefile PageRankIterate1.py\n",
    "from __future__ import division\n",
    "import mrjob\n",
    "from mrjob.job import MRJob\n",
    "from mrjob.step import MRStep\n",
    "import json\n",
    "import ast\n",
    "import re\n",
    "\n",
    "class PageRankIterate1(MRJob):\n",
    "    \n",
    "    def configure_options(self):\n",
    "        super(PageRankIterate1, self).configure_options()\n",
    "        self.add_passthrough_option(\n",
    "            '--startNode', type='str', default='1', help='must choose the start node')\n",
    "\n",
    "    def mapper(self, _, line):\n",
    "        self.increment_counter('mapper', 'test', 1)\n",
    "\n",
    "        line = line.strip()\n",
    "        node, rest = line.split(\"\\t\")\n",
    "        node = re.findall(\"[A-Z]|\\d+\", node)[0]\n",
    "        rest = rest.strip(\"[]\")\n",
    "        rest = rest.split('\"|\"')\n",
    "        \n",
    "        PR = re.findall('\\d+\\.?\\d*', rest[0])[0]\n",
    "        PR = float(PR)\n",
    "\n",
    "        # track dangling node mass\n",
    "        counter = int(PR*1000000)\n",
    "        self.increment_counter('mapper', 'PR_TOTAL', counter)\n",
    "\n",
    "        edges = re.findall('{.*}', rest[1])[0]\n",
    "        edges = edges.replace(\"'\", \"\\\"\")\n",
    "        edges = json.loads(edges)\n",
    "        edgeTotal = len(edges)\n",
    "        \n",
    "        for x in edges.keys():\n",
    "            yield str(x), (PR/edgeTotal, None)        \n",
    "        yield node, (0, edges)\n",
    "    \n",
    "    def reducer(self, key, values):\n",
    "        PR = 0\n",
    "        edges = {}                   \n",
    "            \n",
    "        for value in values:\n",
    "            if value[1] != None:\n",
    "                edges = value[1]\n",
    "            elif value[1] == None:\n",
    "                PR += value[0]\n",
    "            \n",
    "        yield key, (PR, \"|\", edges)\n",
    "        \n",
    "    \n",
    "if __name__ == '__main__':\n",
    "    PageRankIterate1.run()"
   ]
  },
  {
   "cell_type": "code",
   "execution_count": 9,
   "metadata": {
    "collapsed": false
   },
   "outputs": [
    {
     "name": "stdout",
     "output_type": "stream",
     "text": [
      "Overwriting PageRankIterate2.py\n"
     ]
    }
   ],
   "source": [
    "%%writefile PageRankIterate2.py\n",
    "from __future__ import division\n",
    "import mrjob\n",
    "from mrjob.job import MRJob\n",
    "from mrjob.step import MRStep\n",
    "import json\n",
    "import ast\n",
    "import re\n",
    "\n",
    "class PageRankIterate2(MRJob):\n",
    "    \n",
    "    def configure_options(self):\n",
    "        super(PageRankIterate2, self).configure_options()\n",
    "        self.add_passthrough_option(\n",
    "            '--danglingMass', type='float', default='0', help='dangling mass for redistribution')\n",
    "        self.add_passthrough_option(\n",
    "            '--alpha', type='float', default='0', help='correction made with teleportation')\n",
    "        self.add_passthrough_option(\n",
    "            '--TOTAL_NODES', type='int', default='1', help='count of nodes in the graph')\n",
    "        \n",
    "    def mapper_init(self):\n",
    "        self.danglingMass = 1-(self.options.danglingMass/1000000)\n",
    "        if self.danglingMass < 0:\n",
    "            self.increment_counter('mapper', 'dangling mass cannot be negative', 1)\n",
    "\n",
    "    def mapper(self, _, line):\n",
    "        line = line.strip()\n",
    "        node, rest = line.split(\"\\t\")\n",
    "        node = re.findall(\"[A-Z]|\\d+\", node)[0]\n",
    "        \n",
    "        rest = rest.strip(\"[]\")\n",
    "        rest = rest.split('\"|\"')\n",
    "        \n",
    "        PR = re.findall('\\d+\\.?\\d*', rest[0])[0]\n",
    "        PR = float(PR)\n",
    "\n",
    "        redistribution = self.options.alpha*(1/self.options.TOTAL_NODES)+(1-self.options.alpha)*((self.danglingMass/self.options.TOTAL_NODES)+PR)\n",
    "  \n",
    "        edges = re.findall('{.*}', rest[1])[0]\n",
    "        edges = edges.replace(\"'\", \"\\\"\")\n",
    "        edges = json.loads(edges)       \n",
    "\n",
    "        yield node, (redistribution, edges)\n",
    "        \n",
    "    def reducer(self, key, values):\n",
    "        for v in values:\n",
    "            edges = v[1]\n",
    "            PR = v[0]\n",
    "            \n",
    "        yield key, (PR, \"|\", edges)\n",
    "        \n",
    "            \n",
    "if __name__ == '__main__':\n",
    "    PageRankIterate2.run()"
   ]
  },
  {
   "cell_type": "markdown",
   "metadata": {},
   "source": [
    "#### alpha = 0.15"
   ]
  },
  {
   "cell_type": "code",
   "execution_count": 10,
   "metadata": {
    "collapsed": false
   },
   "outputs": [
    {
     "name": "stdout",
     "output_type": "stream",
     "text": [
      "mkdir: `/user/root/output': File exists\n",
      "mkdir: `/user/root/output/PR': File exists\n",
      "mkdir: `/user/root/output/PR/iterations': File exists\n",
      "copyFromLocal: `/user/root/output/PR/PageRank-test.txt': File exists\n"
     ]
    }
   ],
   "source": [
    "!hdfs dfs -mkdir /user/root/output\n",
    "!hdfs dfs -mkdir /user/root/output/PR\n",
    "!hdfs dfs -mkdir /user/root/output/PR/iterations\n",
    "!hdfs dfs -copyFromLocal /media/notebooks/PageRank-test.txt /user/root/output/PR/PageRank-test.txt"
   ]
  },
  {
   "cell_type": "code",
   "execution_count": 13,
   "metadata": {
    "collapsed": false
   },
   "outputs": [],
   "source": [
    "from PageRankInit1 import PageRankInit1\n",
    "from PageRankInit2 import PageRankInit2\n",
    "from PageRankIterate1 import PageRankIterate1\n",
    "from PageRankIterate2 import PageRankIterate2\n",
    "\n",
    "iterations = 6\n",
    "alpha = 0.15\n",
    "count = 0\n",
    "\n",
    "while(count < iterations):\n",
    "    if count == 0:\n",
    "        \n",
    "        #get all nodes in the graph\n",
    "        mr_job1 = PageRankInit1(args=['-r', 'hadoop', 'hdfs:///user/root/output/PR/PageRank-test.txt/'])    \n",
    "        with mr_job1.make_runner() as runner:\n",
    "            runner.run()\n",
    "            num_nodes = (runner.counters()[0]['reducer']['total nodes'])        \n",
    "        count += 1\n",
    "        \n",
    "    elif count == 1:\n",
    "        \n",
    "        #init pagerank on all nodes\n",
    "        mr_job2 = PageRankInit2(args=['-r', 'hadoop', 'hdfs:///user/root/output/PR/PageRank-test.txt', \n",
    "                                      '--output-dir', '/user/root/output/PR/iterations/iteration1/', \n",
    "                                      \"--numNodes={}\".format(num_nodes)])\n",
    "        with mr_job2.make_runner() as runner:\n",
    "            runner.run()     \n",
    "        count += 1\n",
    "    else:\n",
    "        mr_job3 = PageRankIterate1(args=['-r', 'hadoop', 'hdfs:///user/root/output/PR/iterations/iteration{}/part-*'.format(count-1), \n",
    "                              '--output-dir', '/user/root/output/PR/iterations/iteration{}_1'.format(count-1)])\n",
    "        with mr_job3.make_runner() as runner:\n",
    "            runner.run()     \n",
    "            dangling_mass = (runner.counters()[0]['mapper']['PR_TOTAL'])\n",
    "\n",
    "        mr_job4 = PageRankIterate2(args=['-r', 'hadoop', 'hdfs:///user/root/output/PR/iterations/iteration{}_1/part-*'.format(count-1), \n",
    "                      '--output-dir', '/user/root/output/PR/iterations/iteration{}'.format(count), \n",
    "                      \"--danglingMass={}\".format(dangling_mass), \"--TOTAL_NODES={}\".format(num_nodes), \"--alpha={}\".format(alpha)])\n",
    "        with mr_job4.make_runner() as runner:\n",
    "            runner.run()\n",
    "        count += 1"
   ]
  },
  {
   "cell_type": "code",
   "execution_count": 14,
   "metadata": {
    "collapsed": true
   },
   "outputs": [],
   "source": [
    "!hdfs dfs -cat /user/root/output/PR/iterations/iteration5/part-* > pageRank85_output.txt"
   ]
  },
  {
   "cell_type": "code",
   "execution_count": 15,
   "metadata": {
    "collapsed": false
   },
   "outputs": [
    {
     "name": "stdout",
     "output_type": "stream",
     "text": [
      "\"A\"\t[0.034697872551767678, \"|\", {}]\r\n",
      "\"B\"\t[0.30521537835416657, \"|\", {\"C\": 1}]\r\n",
      "\"C\"\t[0.35015459573989893, \"|\", {\"B\": 1}]\r\n",
      "\"D\"\t[0.045182104389835859, \"|\", {\"A\": 1, \"B\": 1}]\r\n",
      "\"E\"\t[0.086853476529040421, \"|\", {\"B\": 1, \"D\": 1, \"F\": 1}]\r\n",
      "\"F\"\t[0.045182104389835859, \"|\", {\"B\": 1, \"E\": 1}]\r\n",
      "\"G\"\t[0.01582774090909091, \"|\", {\"B\": 1, \"E\": 1}]\r\n",
      "\"H\"\t[0.01582774090909091, \"|\", {\"B\": 1, \"E\": 1}]\r\n",
      "\"I\"\t[0.01582774090909091, \"|\", {\"B\": 1, \"E\": 1}]\r\n",
      "\"J\"\t[0.01582774090909091, \"|\", {\"E\": 1}]\r\n"
     ]
    }
   ],
   "source": [
    "!head pageRank85_output.txt"
   ]
  },
  {
   "cell_type": "code",
   "execution_count": 31,
   "metadata": {
    "collapsed": false
   },
   "outputs": [
    {
     "name": "stdout",
     "output_type": "stream",
     "text": [
      "\"C\"\t[0.35015459573989893, \"|\", {\"B\": 1}]\r\n",
      "\"B\"\t[0.30521537835416657, \"|\", {\"C\": 1}]\r\n",
      "\"E\"\t[0.086853476529040421, \"|\", {\"B\": 1, \"D\": 1, \"F\": 1}]\r\n",
      "\"F\"\t[0.045182104389835859, \"|\", {\"B\": 1, \"E\": 1}]\r\n",
      "\"D\"\t[0.045182104389835859, \"|\", {\"A\": 1, \"B\": 1}]\r\n",
      "\"A\"\t[0.034697872551767678, \"|\", {}]\r\n",
      "\"K\"\t[0.01582774090909091, \"|\", {\"E\": 1}]\r\n",
      "\"J\"\t[0.01582774090909091, \"|\", {\"E\": 1}]\r\n",
      "\"I\"\t[0.01582774090909091, \"|\", {\"B\": 1, \"E\": 1}]\r\n",
      "\"H\"\t[0.01582774090909091, \"|\", {\"B\": 1, \"E\": 1}]\r\n"
     ]
    }
   ],
   "source": [
    "!hdfs dfs -cat /user/root/output/PR/iterations/iteration5/part-* | sort -r -k 2,2 | head -10"
   ]
  },
  {
   "cell_type": "markdown",
   "metadata": {},
   "source": [
    "#### alpha = 0.25"
   ]
  },
  {
   "cell_type": "code",
   "execution_count": 16,
   "metadata": {
    "collapsed": false
   },
   "outputs": [
    {
     "name": "stdout",
     "output_type": "stream",
     "text": [
      "rmr: DEPRECATED: Please use 'rm -r' instead.\n",
      "Deleted /user/root/output/PR/iterations\n"
     ]
    }
   ],
   "source": [
    "!hdfs dfs -rmr /user/root/output/PR/iterations\n",
    "!hdfs dfs -mkdir /user/root/output/PR/iterations"
   ]
  },
  {
   "cell_type": "code",
   "execution_count": 36,
   "metadata": {
    "collapsed": true
   },
   "outputs": [],
   "source": [
    "from PageRankInit1 import PageRankInit1\n",
    "from PageRankInit2 import PageRankInit2\n",
    "from PageRankIterate1 import PageRankIterate1\n",
    "from PageRankIterate2 import PageRankIterate2\n",
    "\n",
    "iterations = 6\n",
    "alpha = 0.25\n",
    "count = 0\n",
    "\n",
    "while(count < iterations):\n",
    "    if count == 0:\n",
    "        \n",
    "        #get all nodes in the graph\n",
    "        mr_job1 = PageRankInit1(args=['-r', 'hadoop', 'hdfs:///user/root/output/PR/PageRank-test.txt/'])    \n",
    "        with mr_job1.make_runner() as runner:\n",
    "            runner.run()\n",
    "            num_nodes = (runner.counters()[0]['reducer']['total nodes'])        \n",
    "        count += 1\n",
    "        \n",
    "    elif count == 1:\n",
    "        \n",
    "        #init pagerank on all nodes\n",
    "        mr_job2 = PageRankInit2(args=['-r', 'hadoop', 'hdfs:///user/root/output/PR/PageRank-test.txt', \n",
    "                                      '--output-dir', '/user/root/output/PR/iterations/iteration1/', \n",
    "                                      \"--numNodes={}\".format(num_nodes)])\n",
    "        with mr_job2.make_runner() as runner:\n",
    "            runner.run()     \n",
    "        count += 1\n",
    "    else:\n",
    "        mr_job3 = PageRankIterate1(args=['-r', 'hadoop', 'hdfs:///user/root/output/PR/iterations/iteration{}/part-*'.format(count-1), \n",
    "                              '--output-dir', '/user/root/output/PR/iterations/iteration{}_1'.format(count-1)])\n",
    "        with mr_job3.make_runner() as runner:\n",
    "            runner.run()     \n",
    "            dangling_mass = (runner.counters()[0]['mapper']['PR_TOTAL'])\n",
    "\n",
    "        mr_job4 = PageRankIterate2(args=['-r', 'hadoop', 'hdfs:///user/root/output/PR/iterations/iteration{}_1/part-*'.format(count-1), \n",
    "                      '--output-dir', '/user/root/output/PR/iterations/iteration{}'.format(count), \n",
    "                      \"--danglingMass={}\".format(dangling_mass), \"--TOTAL_NODES={}\".format(num_nodes), \"--alpha={}\".format(alpha)])\n",
    "        with mr_job4.make_runner() as runner:\n",
    "            runner.run()\n",
    "        count += 1"
   ]
  },
  {
   "cell_type": "code",
   "execution_count": 37,
   "metadata": {
    "collapsed": true
   },
   "outputs": [],
   "source": [
    "!hdfs dfs -cat /user/root/output/PR/iterations/iteration5/part-* > pageRank75_output.txt"
   ]
  },
  {
   "cell_type": "code",
   "execution_count": 38,
   "metadata": {
    "collapsed": false
   },
   "outputs": [
    {
     "name": "stdout",
     "output_type": "stream",
     "text": [
      "\"A\"\t[0.045676401278409093, \"|\", {}]\r\n",
      "\"B\"\t[0.28199915696022726, \"|\", {\"C\": 1}]\r\n",
      "\"C\"\t[0.27610369957386366, \"|\", {\"B\": 1}]\r\n",
      "\"D\"\t[0.055483388849431818, \"|\", {\"A\": 1, \"B\": 1}]\r\n",
      "\"E\"\t[0.11379485298295455, \"|\", {\"B\": 1, \"D\": 1, \"F\": 1}]\r\n",
      "\"F\"\t[0.055483388849431818, \"|\", {\"B\": 1, \"E\": 1}]\r\n",
      "\"G\"\t[0.024880113636363638, \"|\", {\"B\": 1, \"E\": 1}]\r\n",
      "\"H\"\t[0.024880113636363638, \"|\", {\"B\": 1, \"E\": 1}]\r\n",
      "\"I\"\t[0.024880113636363638, \"|\", {\"B\": 1, \"E\": 1}]\r\n",
      "\"J\"\t[0.024880113636363638, \"|\", {\"E\": 1}]\r\n"
     ]
    }
   ],
   "source": [
    "!head pageRank75_output.txt"
   ]
  },
  {
   "cell_type": "markdown",
   "metadata": {},
   "source": [
    "#### alpha = 0.5"
   ]
  },
  {
   "cell_type": "code",
   "execution_count": 17,
   "metadata": {
    "collapsed": false
   },
   "outputs": [
    {
     "name": "stdout",
     "output_type": "stream",
     "text": [
      "rmr: DEPRECATED: Please use 'rm -r' instead.\n",
      "Deleted /user/root/output/PR/iterations\n"
     ]
    }
   ],
   "source": [
    "!hdfs dfs -rmr /user/root/output/PR/iterations\n",
    "!hdfs dfs -mkdir /user/root/output/PR/iterations"
   ]
  },
  {
   "cell_type": "code",
   "execution_count": 40,
   "metadata": {
    "collapsed": true
   },
   "outputs": [],
   "source": [
    "from PageRankInit1 import PageRankInit1\n",
    "from PageRankInit2 import PageRankInit2\n",
    "from PageRankIterate1 import PageRankIterate1\n",
    "from PageRankIterate2 import PageRankIterate2\n",
    "\n",
    "iterations = 6\n",
    "alpha = 0.5\n",
    "count = 0\n",
    "\n",
    "while(count < iterations):\n",
    "    if count == 0:\n",
    "        \n",
    "        #get all nodes in the graph\n",
    "        mr_job1 = PageRankInit1(args=['-r', 'hadoop', 'hdfs:///user/root/output/PR/PageRank-test.txt/'])    \n",
    "        with mr_job1.make_runner() as runner:\n",
    "            runner.run()\n",
    "            num_nodes = (runner.counters()[0]['reducer']['total nodes'])        \n",
    "        count += 1\n",
    "        \n",
    "    elif count == 1:\n",
    "        \n",
    "        #init pagerank on all nodes\n",
    "        mr_job2 = PageRankInit2(args=['-r', 'hadoop', 'hdfs:///user/root/output/PR/PageRank-test.txt', \n",
    "                                      '--output-dir', '/user/root/output/PR/iterations/iteration1/', \n",
    "                                      \"--numNodes={}\".format(num_nodes)])\n",
    "        with mr_job2.make_runner() as runner:\n",
    "            runner.run()     \n",
    "        count += 1\n",
    "    else:\n",
    "        mr_job3 = PageRankIterate1(args=['-r', 'hadoop', 'hdfs:///user/root/output/PR/iterations/iteration{}/part-*'.format(count-1), \n",
    "                              '--output-dir', '/user/root/output/PR/iterations/iteration{}_1'.format(count-1)])\n",
    "        with mr_job3.make_runner() as runner:\n",
    "            runner.run()     \n",
    "            dangling_mass = (runner.counters()[0]['mapper']['PR_TOTAL'])\n",
    "\n",
    "        mr_job4 = PageRankIterate2(args=['-r', 'hadoop', 'hdfs:///user/root/output/PR/iterations/iteration{}_1/part-*'.format(count-1), \n",
    "                      '--output-dir', '/user/root/output/PR/iterations/iteration{}'.format(count), \n",
    "                      \"--danglingMass={}\".format(dangling_mass), \"--TOTAL_NODES={}\".format(num_nodes), \"--alpha={}\".format(alpha)])\n",
    "        with mr_job4.make_runner() as runner:\n",
    "            runner.run()\n",
    "        count += 1"
   ]
  },
  {
   "cell_type": "code",
   "execution_count": 41,
   "metadata": {
    "collapsed": true
   },
   "outputs": [],
   "source": [
    "!hdfs dfs -cat /user/root/output/PR/iterations/iteration5/part-* > pageRank5_output.txt"
   ]
  },
  {
   "cell_type": "code",
   "execution_count": 42,
   "metadata": {
    "collapsed": false
   },
   "outputs": [
    {
     "name": "stdout",
     "output_type": "stream",
     "text": [
      "\"A\"\t[0.064814011994949489, \"|\", {}]\r\n",
      "\"B\"\t[0.21652912247474748, \"|\", {\"C\": 1}]\r\n",
      "\"C\"\t[0.16016602588383838, \"|\", {\"B\": 1}]\r\n",
      "\"D\"\t[0.071463721590909093, \"|\", {\"A\": 1, \"B\": 1}]\r\n",
      "\"E\"\t[0.14723583017676767, \"|\", {\"B\": 1, \"D\": 1, \"F\": 1}]\r\n",
      "\"F\"\t[0.071463721590909093, \"|\", {\"B\": 1, \"E\": 1}]\r\n",
      "\"G\"\t[0.046855454545454547, \"|\", {\"B\": 1, \"E\": 1}]\r\n",
      "\"H\"\t[0.046855454545454547, \"|\", {\"B\": 1, \"E\": 1}]\r\n",
      "\"I\"\t[0.046855454545454547, \"|\", {\"B\": 1, \"E\": 1}]\r\n",
      "\"J\"\t[0.046855454545454547, \"|\", {\"E\": 1}]\r\n"
     ]
    }
   ],
   "source": [
    "!head pageRank5_output.txt"
   ]
  },
  {
   "cell_type": "markdown",
   "metadata": {},
   "source": [
    "#### alpha = 0.75"
   ]
  },
  {
   "cell_type": "code",
   "execution_count": 18,
   "metadata": {
    "collapsed": false
   },
   "outputs": [
    {
     "name": "stdout",
     "output_type": "stream",
     "text": [
      "rmr: DEPRECATED: Please use 'rm -r' instead.\n",
      "Deleted /user/root/output/PR/iterations\n"
     ]
    }
   ],
   "source": [
    "!hdfs dfs -rmr /user/root/output/PR/iterations\n",
    "!hdfs dfs -mkdir /user/root/output/PR/iterations"
   ]
  },
  {
   "cell_type": "code",
   "execution_count": 44,
   "metadata": {
    "collapsed": true
   },
   "outputs": [],
   "source": [
    "from PageRankInit1 import PageRankInit1\n",
    "from PageRankInit2 import PageRankInit2\n",
    "from PageRankIterate1 import PageRankIterate1\n",
    "from PageRankIterate2 import PageRankIterate2\n",
    "\n",
    "iterations = 6\n",
    "alpha = 0.75\n",
    "count = 0\n",
    "\n",
    "while(count < iterations):\n",
    "    if count == 0:\n",
    "        \n",
    "        #get all nodes in the graph\n",
    "        mr_job1 = PageRankInit1(args=['-r', 'hadoop', 'hdfs:///user/root/output/PR/PageRank-test.txt/'])    \n",
    "        with mr_job1.make_runner() as runner:\n",
    "            runner.run()\n",
    "            num_nodes = (runner.counters()[0]['reducer']['total nodes'])        \n",
    "        count += 1\n",
    "        \n",
    "    elif count == 1:\n",
    "        \n",
    "        #init pagerank on all nodes\n",
    "        mr_job2 = PageRankInit2(args=['-r', 'hadoop', 'hdfs:///user/root/output/PR/PageRank-test.txt', \n",
    "                                      '--output-dir', '/user/root/output/PR/iterations/iteration1/', \n",
    "                                      \"--numNodes={}\".format(num_nodes)])\n",
    "        with mr_job2.make_runner() as runner:\n",
    "            runner.run()     \n",
    "        count += 1\n",
    "    else:\n",
    "        mr_job3 = PageRankIterate1(args=['-r', 'hadoop', 'hdfs:///user/root/output/PR/iterations/iteration{}/part-*'.format(count-1), \n",
    "                              '--output-dir', '/user/root/output/PR/iterations/iteration{}_1'.format(count-1)])\n",
    "        with mr_job3.make_runner() as runner:\n",
    "            runner.run()     \n",
    "            dangling_mass = (runner.counters()[0]['mapper']['PR_TOTAL'])\n",
    "\n",
    "        mr_job4 = PageRankIterate2(args=['-r', 'hadoop', 'hdfs:///user/root/output/PR/iterations/iteration{}_1/part-*'.format(count-1), \n",
    "                      '--output-dir', '/user/root/output/PR/iterations/iteration{}'.format(count), \n",
    "                      \"--danglingMass={}\".format(dangling_mass), \"--TOTAL_NODES={}\".format(num_nodes), \"--alpha={}\".format(alpha)])\n",
    "        with mr_job4.make_runner() as runner:\n",
    "            runner.run()\n",
    "        count += 1"
   ]
  },
  {
   "cell_type": "code",
   "execution_count": 45,
   "metadata": {
    "collapsed": true
   },
   "outputs": [],
   "source": [
    "!hdfs dfs -cat /user/root/output/PR/iterations/iteration5/part-* > pageRank25_output.txt"
   ]
  },
  {
   "cell_type": "code",
   "execution_count": 46,
   "metadata": {
    "collapsed": false
   },
   "outputs": [
    {
     "name": "stdout",
     "output_type": "stream",
     "text": [
      "\"A\"\t[0.078657121133207067, \"|\", {}]\r\n",
      "\"B\"\t[0.15255132646780301, \"|\", {\"C\": 1}]\r\n",
      "\"C\"\t[0.10690273445391413, \"|\", {\"B\": 1}]\r\n",
      "\"D\"\t[0.08016676637468434, \"|\", {\"A\": 1, \"B\": 1}]\r\n",
      "\"E\"\t[0.13872209272411617, \"|\", {\"B\": 1, \"D\": 1, \"F\": 1}]\r\n",
      "\"F\"\t[0.08016676637468434, \"|\", {\"B\": 1, \"E\": 1}]\r\n",
      "\"G\"\t[0.068624568181818182, \"|\", {\"B\": 1, \"E\": 1}]\r\n",
      "\"H\"\t[0.068624568181818182, \"|\", {\"B\": 1, \"E\": 1}]\r\n",
      "\"I\"\t[0.068624568181818182, \"|\", {\"B\": 1, \"E\": 1}]\r\n",
      "\"J\"\t[0.068624568181818182, \"|\", {\"E\": 1}]\r\n"
     ]
    }
   ],
   "source": [
    "!head pageRank25_output.txt"
   ]
  },
  {
   "cell_type": "markdown",
   "metadata": {},
   "source": [
    "#### alpha = 0"
   ]
  },
  {
   "cell_type": "code",
   "execution_count": 19,
   "metadata": {
    "collapsed": false
   },
   "outputs": [
    {
     "name": "stdout",
     "output_type": "stream",
     "text": [
      "rmr: DEPRECATED: Please use 'rm -r' instead.\n",
      "Deleted /user/root/output/PR/iterations\n"
     ]
    }
   ],
   "source": [
    "!hdfs dfs -rmr /user/root/output/PR/iterations\n",
    "!hdfs dfs -mkdir /user/root/output/PR/iterations"
   ]
  },
  {
   "cell_type": "code",
   "execution_count": 48,
   "metadata": {
    "collapsed": true
   },
   "outputs": [],
   "source": [
    "from PageRankInit1 import PageRankInit1\n",
    "from PageRankInit2 import PageRankInit2\n",
    "from PageRankIterate1 import PageRankIterate1\n",
    "from PageRankIterate2 import PageRankIterate2\n",
    "\n",
    "iterations = 6\n",
    "alpha = 0\n",
    "count = 0\n",
    "\n",
    "while(count < iterations):\n",
    "    if count == 0:\n",
    "        \n",
    "        #get all nodes in the graph\n",
    "        mr_job1 = PageRankInit1(args=['-r', 'hadoop', 'hdfs:///user/root/output/PR/PageRank-test.txt/'])    \n",
    "        with mr_job1.make_runner() as runner:\n",
    "            runner.run()\n",
    "            num_nodes = (runner.counters()[0]['reducer']['total nodes'])        \n",
    "        count += 1\n",
    "        \n",
    "    elif count == 1:\n",
    "        \n",
    "        #init pagerank on all nodes\n",
    "        mr_job2 = PageRankInit2(args=['-r', 'hadoop', 'hdfs:///user/root/output/PR/PageRank-test.txt', \n",
    "                                      '--output-dir', '/user/root/output/PR/iterations/iteration1/', \n",
    "                                      \"--numNodes={}\".format(num_nodes)])\n",
    "        with mr_job2.make_runner() as runner:\n",
    "            runner.run()     \n",
    "        count += 1\n",
    "    else:\n",
    "        mr_job3 = PageRankIterate1(args=['-r', 'hadoop', 'hdfs:///user/root/output/PR/iterations/iteration{}/part-*'.format(count-1), \n",
    "                              '--output-dir', '/user/root/output/PR/iterations/iteration{}_1'.format(count-1)])\n",
    "        with mr_job3.make_runner() as runner:\n",
    "            runner.run()     \n",
    "            dangling_mass = (runner.counters()[0]['mapper']['PR_TOTAL'])\n",
    "\n",
    "        mr_job4 = PageRankIterate2(args=['-r', 'hadoop', 'hdfs:///user/root/output/PR/iterations/iteration{}_1/part-*'.format(count-1), \n",
    "                      '--output-dir', '/user/root/output/PR/iterations/iteration{}'.format(count), \n",
    "                      \"--danglingMass={}\".format(dangling_mass), \"--TOTAL_NODES={}\".format(num_nodes), \"--alpha={}\".format(alpha)])\n",
    "        with mr_job4.make_runner() as runner:\n",
    "            runner.run()\n",
    "        count += 1"
   ]
  },
  {
   "cell_type": "code",
   "execution_count": 49,
   "metadata": {
    "collapsed": true
   },
   "outputs": [],
   "source": [
    "!hdfs dfs -cat /user/root/output/PR/iterations/iteration5/part-* > pageRank1_output.txt"
   ]
  },
  {
   "cell_type": "code",
   "execution_count": 50,
   "metadata": {
    "collapsed": false
   },
   "outputs": [
    {
     "name": "stdout",
     "output_type": "stream",
     "text": [
      "\"A\"\t[-2.281640388888889, \"|\", {}]\r\n",
      "\"B\"\t[8.2565293384185807, \"|\", {\"C\": 1}]\r\n",
      "\"C\"\t[1.9495157778224463, \"|\", {\"B\": 1}]\r\n",
      "\"D\"\t[1.3323928434690844, \"|\", {\"A\": 1, \"B\": 1}]\r\n",
      "\"E\"\t[4.9326716111111111, \"|\", {\"B\": 1, \"D\": 1, \"F\": 1}]\r\n",
      "\"F\"\t[1.3323928434690844, \"|\", {\"B\": 1, \"E\": 1}]\r\n",
      "\"G\"\t[-3.3042213636363638, \"|\", {\"B\": 1, \"E\": 1}]\r\n",
      "\"H\"\t[-3.3042213636363638, \"|\", {\"B\": 1, \"E\": 1}]\r\n",
      "\"I\"\t[-3.3042213636363638, \"|\", {\"B\": 1, \"E\": 1}]\r\n",
      "\"J\"\t[-3.3042213636363638, \"|\", {\"E\": 1}]\r\n"
     ]
    }
   ],
   "source": [
    "!head pageRank1_output.txt"
   ]
  },
  {
   "cell_type": "markdown",
   "metadata": {},
   "source": [
    "#### alpha = 1"
   ]
  },
  {
   "cell_type": "code",
   "execution_count": 20,
   "metadata": {
    "collapsed": false
   },
   "outputs": [
    {
     "name": "stdout",
     "output_type": "stream",
     "text": [
      "rmr: DEPRECATED: Please use 'rm -r' instead.\n",
      "Deleted /user/root/output/PR/iterations\n"
     ]
    }
   ],
   "source": [
    "!hdfs dfs -rmr /user/root/output/PR/iterations\n",
    "!hdfs dfs -mkdir /user/root/output/PR/iterations"
   ]
  },
  {
   "cell_type": "code",
   "execution_count": 52,
   "metadata": {
    "collapsed": true
   },
   "outputs": [],
   "source": [
    "from PageRankInit1 import PageRankInit1\n",
    "from PageRankInit2 import PageRankInit2\n",
    "from PageRankIterate1 import PageRankIterate1\n",
    "from PageRankIterate2 import PageRankIterate2\n",
    "\n",
    "iterations = 6\n",
    "alpha = 1\n",
    "count = 0\n",
    "\n",
    "while(count < iterations):\n",
    "    if count == 0:\n",
    "        \n",
    "        #get all nodes in the graph\n",
    "        mr_job1 = PageRankInit1(args=['-r', 'hadoop', 'hdfs:///user/root/output/PR/PageRank-test.txt/'])    \n",
    "        with mr_job1.make_runner() as runner:\n",
    "            runner.run()\n",
    "            num_nodes = (runner.counters()[0]['reducer']['total nodes'])        \n",
    "        count += 1\n",
    "        \n",
    "    elif count == 1:\n",
    "        \n",
    "        #init pagerank on all nodes\n",
    "        mr_job2 = PageRankInit2(args=['-r', 'hadoop', 'hdfs:///user/root/output/PR/PageRank-test.txt', \n",
    "                                      '--output-dir', '/user/root/output/PR/iterations/iteration1/', \n",
    "                                      \"--numNodes={}\".format(num_nodes)])\n",
    "        with mr_job2.make_runner() as runner:\n",
    "            runner.run()     \n",
    "        count += 1\n",
    "    else:\n",
    "        mr_job3 = PageRankIterate1(args=['-r', 'hadoop', 'hdfs:///user/root/output/PR/iterations/iteration{}/part-*'.format(count-1), \n",
    "                              '--output-dir', '/user/root/output/PR/iterations/iteration{}_1'.format(count-1)])\n",
    "        with mr_job3.make_runner() as runner:\n",
    "            runner.run()     \n",
    "            dangling_mass = (runner.counters()[0]['mapper']['PR_TOTAL'])\n",
    "\n",
    "        mr_job4 = PageRankIterate2(args=['-r', 'hadoop', 'hdfs:///user/root/output/PR/iterations/iteration{}_1/part-*'.format(count-1), \n",
    "                      '--output-dir', '/user/root/output/PR/iterations/iteration{}'.format(count), \n",
    "                      \"--danglingMass={}\".format(dangling_mass), \"--TOTAL_NODES={}\".format(num_nodes), \"--alpha={}\".format(alpha)])\n",
    "        with mr_job4.make_runner() as runner:\n",
    "            runner.run()\n",
    "        count += 1"
   ]
  },
  {
   "cell_type": "code",
   "execution_count": 53,
   "metadata": {
    "collapsed": true
   },
   "outputs": [],
   "source": [
    "!hdfs dfs -cat /user/root/output/PR/iterations/iteration5/part-* > pageRank0_output.txt"
   ]
  },
  {
   "cell_type": "code",
   "execution_count": 54,
   "metadata": {
    "collapsed": false
   },
   "outputs": [
    {
     "name": "stdout",
     "output_type": "stream",
     "text": [
      "\"A\"\t[0.090909090909090912, \"|\", {}]\r\n",
      "\"B\"\t[0.090909090909090912, \"|\", {\"C\": 1}]\r\n",
      "\"C\"\t[0.090909090909090912, \"|\", {\"B\": 1}]\r\n",
      "\"D\"\t[0.090909090909090912, \"|\", {\"A\": 1, \"B\": 1}]\r\n",
      "\"E\"\t[0.090909090909090912, \"|\", {\"B\": 1, \"D\": 1, \"F\": 1}]\r\n",
      "\"F\"\t[0.090909090909090912, \"|\", {\"B\": 1, \"E\": 1}]\r\n",
      "\"G\"\t[0.090909090909090912, \"|\", {\"B\": 1, \"E\": 1}]\r\n",
      "\"H\"\t[0.090909090909090912, \"|\", {\"B\": 1, \"E\": 1}]\r\n",
      "\"I\"\t[0.090909090909090912, \"|\", {\"B\": 1, \"E\": 1}]\r\n",
      "\"J\"\t[0.090909090909090912, \"|\", {\"E\": 1}]\r\n"
     ]
    }
   ],
   "source": [
    "!head pageRank0_output.txt"
   ]
  },
  {
   "cell_type": "markdown",
   "metadata": {},
   "source": [
    "### 9.1 Analysis"
   ]
  },
  {
   "cell_type": "markdown",
   "metadata": {},
   "source": [
    "Comparing our output where alpha = 0.15 to the actual values, we can see that it's pretty close. We got this result with 5 iterations of the PageRank algorithm where alpha = 0.15. When looking at all the other values for the teleportation factor, we see that this value got us the closest to the expected values."
   ]
  },
  {
   "cell_type": "markdown",
   "metadata": {},
   "source": [
    "## HW9.2: Exploring PageRank teleportation and network plots\n",
    "\n",
    "\n",
    "* In order to overcome  problems such as disconnected components, the damping factor (a typical value for d is 0.85) can be varied. \n",
    "* Using the graph in HW9.1, plot the test graph (using networkx, https://networkx.github.io/) for several values of the damping factor, so that each nodes radius is proportional to its PageRank score. \n",
    "* In particular you should do this for the following damping factors: [0,0.25,0.5,0.75, 0.85, 1]. \n",
    "* Note your plots should look like the following: https://en.wikipedia.org/wiki/PageRank#/media/File:PageRanks-Example.svg"
   ]
  },
  {
   "cell_type": "markdown",
   "metadata": {},
   "source": [
    "### 9.2 Implementation"
   ]
  },
  {
   "cell_type": "markdown",
   "metadata": {},
   "source": [
    "#### Damping factor = 0"
   ]
  },
  {
   "cell_type": "code",
   "execution_count": 115,
   "metadata": {
    "collapsed": false
   },
   "outputs": [
    {
     "data": {
      "image/png": "[encoded data removed]",
      "text/plain": [
       "<matplotlib.figure.Figure at 0x7f6cdf88d9d0>"
      ]
     },
     "metadata": {},
     "output_type": "display_data"
    },
    {
     "data": {
      "text/plain": [
       "<matplotlib.figure.Figure at 0x7f6ccc4ed850>"
      ]
     },
     "metadata": {},
     "output_type": "display_data"
    }
   ],
   "source": [
    "import networkx as nx\n",
    "import re\n",
    "import json\n",
    "import matplotlib.pyplot as plt\n",
    "\n",
    "DG = nx.DiGraph()\n",
    "\n",
    "nodes = [\"A\",\"B\",\"C\",\"D\",\"E\",\"F\",\"G\",\"H\",\"I\",\"J\",\"K\"]\n",
    "nodeWeights = []\n",
    "\n",
    "for node in nodes:\n",
    "    DG.add_node(node)\n",
    "\n",
    "with open(\"pageRank0_output.txt\", \"r\") as file:\n",
    "    for line in file:\n",
    "        line = line.strip()\n",
    "        node, rest = line.split(\"\\t\")\n",
    "        node = re.findall(\"[A-Z]\", node)[0]\n",
    "        \n",
    "        rest = rest.strip(\"[]\")\n",
    "        rest = rest.split('\"|\"')\n",
    "        \n",
    "        PR = re.findall('\\d+\\.?\\d*', rest[0])[0]\n",
    "        PR = float(PR)\n",
    "        nodeWeights.append((PR*20000))\n",
    "        edges = re.findall('{.*}', rest[1])[0]\n",
    "        edges = edges.replace(\"'\", \"\\\"\")\n",
    "        edges = json.loads(edges)\n",
    "        if edges != {}:\n",
    "            for edge in edges.keys():      \n",
    "                DG.add_edge(node,str(edge))\n",
    "                \n",
    "pos = nx.fruchterman_reingold_layout(DG)   \n",
    "nx.draw_networkx(DG, pos, node_size = nodeWeights, node_color = range(11))\n",
    "plt.figure(figsize=(2000,2000))\n",
    "plt.show()\n",
    "        \n",
    "fig = plt.gcf()\n",
    "fig.set_size_inches(12, 8)\n",
    "fig.savefig('pageRank0.png', dpi=100)"
   ]
  },
  {
   "cell_type": "markdown",
   "metadata": {},
   "source": [
    "#### Damping factor = 0.25"
   ]
  },
  {
   "cell_type": "code",
   "execution_count": 57,
   "metadata": {
    "collapsed": false
   },
   "outputs": [
    {
     "data": {
      "image/png": "[encoded data removed]",
      "text/plain": [
       "<matplotlib.figure.Figure at 0x7f6ccc4d7350>"
      ]
     },
     "metadata": {},
     "output_type": "display_data"
    },
    {
     "data": {
      "text/plain": [
       "<matplotlib.figure.Figure at 0x7f6cf5075190>"
      ]
     },
     "metadata": {},
     "output_type": "display_data"
    }
   ],
   "source": [
    "import networkx as nx\n",
    "import re\n",
    "import json\n",
    "import matplotlib.pyplot as plt\n",
    "\n",
    "\n",
    "DG=nx.DiGraph()\n",
    "\n",
    "nodes = [\"A\",\"B\",\"C\",\"D\",\"E\",\"F\",\"G\",\"H\",\"I\",\"J\",\"K\"]\n",
    "nodeWeights = []\n",
    "\n",
    "for node in nodes:\n",
    "    DG.add_node(node)\n",
    "\n",
    "with open(\"pageRank25_output.txt\", \"r\") as file:\n",
    "    for line in file:\n",
    "        line = line.strip()\n",
    "        node, rest = line.split(\"\\t\")\n",
    "        node = re.findall(\"[A-Z]\", node)[0]\n",
    "        \n",
    "        rest = rest.strip(\"[]\")\n",
    "        rest = rest.split('\"|\"')\n",
    "        \n",
    "        PR = re.findall('\\d+\\.?\\d*', rest[0])[0]\n",
    "        PR = float(PR)\n",
    "        nodeWeights.append((PR*20000))\n",
    "        edges = re.findall('{.*}', rest[1])[0]\n",
    "        edges = edges.replace(\"'\", \"\\\"\")\n",
    "        edges = json.loads(edges)\n",
    "        if edges != {}:\n",
    "            for edge in edges.keys():      \n",
    "                DG.add_edge(node,str(edge))\n",
    "\n",
    "pos = nx.fruchterman_reingold_layout(DG)   \n",
    "nx.draw_networkx(DG, pos, node_size = nodeWeights, node_color = range(11))\n",
    "plt.figure(figsize=(2000,2000))\n",
    "plt.show()\n",
    "        \n",
    "fig = plt.gcf()\n",
    "fig.set_size_inches(12, 8)\n",
    "fig.savefig('pageRank25.png', dpi=100)"
   ]
  },
  {
   "cell_type": "markdown",
   "metadata": {},
   "source": [
    "#### Damping factor = 0.5"
   ]
  },
  {
   "cell_type": "code",
   "execution_count": 58,
   "metadata": {
    "collapsed": false
   },
   "outputs": [
    {
     "data": {
      "image/png": "[encoded data removed]",
      "text/plain": [
       "<matplotlib.figure.Figure at 0x7f6ccc4c2e10>"
      ]
     },
     "metadata": {},
     "output_type": "display_data"
    },
    {
     "data": {
      "text/plain": [
       "<matplotlib.figure.Figure at 0x7f6ccc43b610>"
      ]
     },
     "metadata": {},
     "output_type": "display_data"
    }
   ],
   "source": [
    "import networkx as nx\n",
    "import re\n",
    "import json\n",
    "import matplotlib.pyplot as plt\n",
    "\n",
    "\n",
    "DG=nx.DiGraph()\n",
    "\n",
    "nodes = [\"A\",\"B\",\"C\",\"D\",\"E\",\"F\",\"G\",\"H\",\"I\",\"J\",\"K\"]\n",
    "nodeWeights = []\n",
    "\n",
    "for node in nodes:\n",
    "    DG.add_node(node)\n",
    "\n",
    "with open(\"pageRank5_output.txt\", \"r\") as file:\n",
    "    for line in file:\n",
    "        line = line.strip()\n",
    "        node, rest = line.split(\"\\t\")\n",
    "        node = re.findall(\"[A-Z]\", node)[0]\n",
    "        \n",
    "        rest = rest.strip(\"[]\")\n",
    "        rest = rest.split('\"|\"')\n",
    "        \n",
    "        PR = re.findall('\\d+\\.?\\d*', rest[0])[0]\n",
    "        PR = float(PR)\n",
    "        nodeWeights.append((PR*20000))\n",
    "        edges = re.findall('{.*}', rest[1])[0]\n",
    "        edges = edges.replace(\"'\", \"\\\"\")\n",
    "        edges = json.loads(edges)\n",
    "        if edges != {}:\n",
    "            for edge in edges.keys():      \n",
    "                DG.add_edge(node,str(edge))\n",
    "\n",
    "pos = nx.fruchterman_reingold_layout(DG)   \n",
    "nx.draw_networkx(DG, pos, node_size = nodeWeights, node_color = range(11))\n",
    "plt.figure(figsize=(2000,2000))\n",
    "plt.show()\n",
    "        \n",
    "fig = plt.gcf()\n",
    "fig.set_size_inches(12, 8)\n",
    "fig.savefig('pageRank5.png', dpi=100)"
   ]
  },
  {
   "cell_type": "markdown",
   "metadata": {},
   "source": [
    "#### Damping factor = 0.75"
   ]
  },
  {
   "cell_type": "code",
   "execution_count": 59,
   "metadata": {
    "collapsed": false
   },
   "outputs": [
    {
     "data": {
      "image/png": "[encoded data removed]",
      "text/plain": [
       "<matplotlib.figure.Figure at 0x7f6ccc338890>"
      ]
     },
     "metadata": {},
     "output_type": "display_data"
    },
    {
     "data": {
      "text/plain": [
       "<matplotlib.figure.Figure at 0x7f6ccc4d7190>"
      ]
     },
     "metadata": {},
     "output_type": "display_data"
    }
   ],
   "source": [
    "import networkx as nx\n",
    "import re\n",
    "import json\n",
    "import matplotlib.pyplot as plt\n",
    "\n",
    "\n",
    "DG=nx.DiGraph()\n",
    "\n",
    "nodes = [\"A\",\"B\",\"C\",\"D\",\"E\",\"F\",\"G\",\"H\",\"I\",\"J\",\"K\"]\n",
    "nodeWeights = []\n",
    "\n",
    "for node in nodes:\n",
    "    DG.add_node(node)\n",
    "\n",
    "with open(\"pageRank75_output.txt\", \"r\") as file:\n",
    "    for line in file:\n",
    "        line = line.strip()\n",
    "        node, rest = line.split(\"\\t\")\n",
    "        node = re.findall(\"[A-Z]\", node)[0]\n",
    "        \n",
    "        rest = rest.strip(\"[]\")\n",
    "        rest = rest.split('\"|\"')\n",
    "        \n",
    "        PR = re.findall('\\d+\\.?\\d*', rest[0])[0]\n",
    "        PR = float(PR)\n",
    "        nodeWeights.append((PR*20000))\n",
    "        edges = re.findall('{.*}', rest[1])[0]\n",
    "        edges = edges.replace(\"'\", \"\\\"\")\n",
    "        edges = json.loads(edges)\n",
    "        if edges != {}:\n",
    "            for edge in edges.keys():      \n",
    "                DG.add_edge(node,str(edge))\n",
    "\n",
    "pos = nx.fruchterman_reingold_layout(DG)   \n",
    "nx.draw_networkx(DG, pos, node_size = nodeWeights, node_color = range(11))\n",
    "plt.figure(figsize=(2000,2000))\n",
    "plt.show()\n",
    "        \n",
    "fig = plt.gcf()\n",
    "fig.set_size_inches(12, 8)\n",
    "fig.savefig('pageRank75.png', dpi=100)"
   ]
  },
  {
   "cell_type": "markdown",
   "metadata": {},
   "source": [
    "#### Damping factor = 0.85"
   ]
  },
  {
   "cell_type": "code",
   "execution_count": 60,
   "metadata": {
    "collapsed": false
   },
   "outputs": [
    {
     "data": {
      "image/png": "[encoded data removed]",
      "text/plain": [
       "<matplotlib.figure.Figure at 0x7f6cc4c6c950>"
      ]
     },
     "metadata": {},
     "output_type": "display_data"
    },
    {
     "data": {
      "text/plain": [
       "<matplotlib.figure.Figure at 0x7f6ccc201c50>"
      ]
     },
     "metadata": {},
     "output_type": "display_data"
    }
   ],
   "source": [
    "import networkx as nx\n",
    "import re\n",
    "import json\n",
    "import matplotlib.pyplot as plt\n",
    "\n",
    "\n",
    "DG=nx.DiGraph()\n",
    "\n",
    "nodes = [\"A\",\"B\",\"C\",\"D\",\"E\",\"F\",\"G\",\"H\",\"I\",\"J\",\"K\"]\n",
    "nodeWeights = []\n",
    "\n",
    "for node in nodes:\n",
    "    DG.add_node(node)\n",
    "\n",
    "with open(\"pageRank85_output.txt\", \"r\") as file:\n",
    "    for line in file:\n",
    "        line = line.strip()\n",
    "        node, rest = line.split(\"\\t\")\n",
    "        node = re.findall(\"[A-Z]\", node)[0]\n",
    "        \n",
    "        rest = rest.strip(\"[]\")\n",
    "        rest = rest.split('\"|\"')\n",
    "        \n",
    "        PR = re.findall('\\d+\\.?\\d*', rest[0])[0]\n",
    "        PR = float(PR)\n",
    "        nodeWeights.append((PR*20000))\n",
    "        edges = re.findall('{.*}', rest[1])[0]\n",
    "        edges = edges.replace(\"'\", \"\\\"\")\n",
    "        edges = json.loads(edges)\n",
    "        if edges != {}:\n",
    "            for edge in edges.keys():      \n",
    "                DG.add_edge(node,str(edge))\n",
    "\n",
    "pos = nx.fruchterman_reingold_layout(DG)   \n",
    "nx.draw_networkx(DG, pos, node_size = nodeWeights, node_color = range(11))\n",
    "plt.figure(figsize=(2000,2000))\n",
    "plt.show()\n",
    "        \n",
    "fig = plt.gcf()\n",
    "fig.set_size_inches(12, 8)\n",
    "fig.savefig('pageRank85.png', dpi=100)"
   ]
  },
  {
   "cell_type": "markdown",
   "metadata": {},
   "source": [
    "#### Damping factor = 1"
   ]
  },
  {
   "cell_type": "code",
   "execution_count": 61,
   "metadata": {
    "collapsed": false
   },
   "outputs": [
    {
     "data": {
      "image/png": "[encoded data removed]",
      "text/plain": [
       "<matplotlib.figure.Figure at 0x7f6ccc142850>"
      ]
     },
     "metadata": {},
     "output_type": "display_data"
    },
    {
     "data": {
      "text/plain": [
       "<matplotlib.figure.Figure at 0x7f6ccc15c510>"
      ]
     },
     "metadata": {},
     "output_type": "display_data"
    }
   ],
   "source": [
    "import networkx as nx\n",
    "import re\n",
    "import json\n",
    "import matplotlib.pyplot as plt\n",
    "\n",
    "\n",
    "DG=nx.DiGraph()\n",
    "\n",
    "nodes = [\"A\",\"B\",\"C\",\"D\",\"E\",\"F\",\"G\",\"H\",\"I\",\"J\",\"K\"]\n",
    "nodeWeights = []\n",
    "\n",
    "for node in nodes:\n",
    "    DG.add_node(node)\n",
    "\n",
    "with open(\"pageRank1_output.txt\", \"r\") as file:\n",
    "    for line in file:\n",
    "        line = line.strip()\n",
    "        node, rest = line.split(\"\\t\")\n",
    "        node = re.findall(\"[A-Z]\", node)[0]\n",
    "        \n",
    "        rest = rest.strip(\"[]\")\n",
    "        rest = rest.split('\"|\"')\n",
    "        \n",
    "        PR = re.findall('\\d+\\.?\\d*', rest[0])[0]\n",
    "        PR = float(PR)\n",
    "        nodeWeights.append((PR*20000))\n",
    "        edges = re.findall('{.*}', rest[1])[0]\n",
    "        edges = edges.replace(\"'\", \"\\\"\")\n",
    "        edges = json.loads(edges)\n",
    "        if edges != {}:\n",
    "            for edge in edges.keys():      \n",
    "                DG.add_edge(node,str(edge))\n",
    "\n",
    "pos = nx.fruchterman_reingold_layout(DG)   \n",
    "nx.draw_networkx(DG, pos, node_size = nodeWeights, node_color = range(11))\n",
    "plt.figure(figsize=(2000,2000))\n",
    "plt.show()\n",
    "        \n",
    "fig = plt.gcf()\n",
    "fig.set_size_inches(12, 8)\n",
    "fig.savefig('pageRank1.png', dpi=100)"
   ]
  },
  {
   "cell_type": "markdown",
   "metadata": {},
   "source": [
    "## HW9.3: Applying PageRank to the Wikipedia hyperlinks network\n",
    "\n",
    "* Run your PageRank implementation on the Wikipedia dataset for 5 iterations, and display the top 100 ranked nodes (with damping factor = 0.85).\n",
    "* Run your PageRank implementation on the Wikipedia dataset for 10 iterations, and display the top 100 ranked nodes (with teleportation (random jump) factor alpha of 0.15).\n",
    "* Have the top 100 ranked pages changed? Comment on your findings. \n",
    "* Plot the pagerank values for the top 100 pages resulting from the 5 iterations run. Then plot the pagerank values for the same 100 pages that resulted from the 10 iterations run.  \n"
   ]
  },
  {
   "cell_type": "markdown",
   "metadata": {},
   "source": [
    "### 9.3 Implementation"
   ]
  },
  {
   "cell_type": "code",
   "execution_count": 62,
   "metadata": {
    "collapsed": false
   },
   "outputs": [
    {
     "name": "stdout",
     "output_type": "stream",
     "text": [
      "--2017-11-19 05:16:18--  https://www.dropbox.com/sh/2c0k5adwz36lkcw/AAAD7I_6kQlJtDpXZPhCfVH-a/wikipedia/all-pages-indexed-out.txt\n",
      "Resolving www.dropbox.com... 162.125.3.1, 2620:100:6018:1::a27d:301\n",
      "Connecting to www.dropbox.com|162.125.3.1|:443... connected.\n",
      "HTTP request sent, awaiting response... 302 Found\n",
      "Location: https://dl.dropboxusercontent.com/content_link/NXe5pW3ZArToJTpftlejmrjRJTNpWOp0BKkm8oF19Hpa4uCPHi0GmBdIzVVGIFgj/file [following]\n",
      "--2017-11-19 05:16:19--  https://dl.dropboxusercontent.com/content_link/NXe5pW3ZArToJTpftlejmrjRJTNpWOp0BKkm8oF19Hpa4uCPHi0GmBdIzVVGIFgj/file\n",
      "Resolving dl.dropboxusercontent.com... 162.125.3.6, 2620:100:6018:6::a27d:306\n",
      "Connecting to dl.dropboxusercontent.com|162.125.3.6|:443... connected.\n",
      "HTTP request sent, awaiting response... 200 OK\n",
      "Length: 2090459616 (1.9G) [text/plain]\n",
      "Saving to: `all-pages-indexed-out.txt'\n",
      "\n",
      "100%[====================================>] 2,090,459,616 10.4M/s   in 3m 7s   \n",
      "\n",
      "2017-11-19 05:19:27 (10.6 MB/s) - `all-pages-indexed-out.txt' saved [2090459616/2090459616]\n",
      "\n"
     ]
    }
   ],
   "source": [
    "!wget 'https://www.dropbox.com/sh/2c0k5adwz36lkcw/AAAD7I_6kQlJtDpXZPhCfVH-a/wikipedia/all-pages-indexed-out.txt'"
   ]
  },
  {
   "cell_type": "code",
   "execution_count": 21,
   "metadata": {
    "collapsed": false
   },
   "outputs": [
    {
     "name": "stdout",
     "output_type": "stream",
     "text": [
      "copyFromLocal: `/media/notebooks/all-pages-indexed-out.txt': No such file or directory\r\n"
     ]
    }
   ],
   "source": [
    "!hdfs dfs -mkdir /user/root/graph_output/wikipedia_PR\n",
    "!hdfs dfs -mkdir /user/root/graph_output/wikipedia_PR/iterations\n",
    "!hdfs dfs -copyFromLocal /media/notebooks/all-pages-indexed-out.txt /user/root/graph_output/wikipedia_PR/all-pages-indexed-out.txt"
   ]
  },
  {
   "cell_type": "code",
   "execution_count": 64,
   "metadata": {
    "collapsed": false
   },
   "outputs": [
    {
     "ename": "KeyboardInterrupt",
     "evalue": "",
     "output_type": "error",
     "traceback": [
      "\u001b[0;31m\u001b[0m",
      "\u001b[0;31mKeyboardInterrupt\u001b[0mTraceback (most recent call last)",
      "\u001b[0;32m<ipython-input-64-28578104ab5a>\u001b[0m in \u001b[0;36m<module>\u001b[0;34m()\u001b[0m\n\u001b[1;32m     38\u001b[0m                               '--output-dir', '/user/root/graph_output/wikipedia_PR/iterations/iteration{}_1'.format(count-1)])\n\u001b[1;32m     39\u001b[0m         \u001b[0;32mwith\u001b[0m \u001b[0mmr_job3\u001b[0m\u001b[0;34m.\u001b[0m\u001b[0mmake_runner\u001b[0m\u001b[0;34m(\u001b[0m\u001b[0;34m)\u001b[0m \u001b[0;32mas\u001b[0m \u001b[0mrunner\u001b[0m\u001b[0;34m:\u001b[0m\u001b[0;34m\u001b[0m\u001b[0m\n\u001b[0;32m---> 40\u001b[0;31m             \u001b[0mrunner\u001b[0m\u001b[0;34m.\u001b[0m\u001b[0mrun\u001b[0m\u001b[0;34m(\u001b[0m\u001b[0;34m)\u001b[0m\u001b[0;34m\u001b[0m\u001b[0m\n\u001b[0m\u001b[1;32m     41\u001b[0m             \u001b[0mdangling_mass\u001b[0m \u001b[0;34m=\u001b[0m \u001b[0;34m(\u001b[0m\u001b[0mrunner\u001b[0m\u001b[0;34m.\u001b[0m\u001b[0mcounters\u001b[0m\u001b[0;34m(\u001b[0m\u001b[0;34m)\u001b[0m\u001b[0;34m[\u001b[0m\u001b[0;36m0\u001b[0m\u001b[0;34m]\u001b[0m\u001b[0;34m[\u001b[0m\u001b[0;34m'mapper'\u001b[0m\u001b[0;34m]\u001b[0m\u001b[0;34m[\u001b[0m\u001b[0;34m'PR_TOTAL'\u001b[0m\u001b[0;34m]\u001b[0m\u001b[0;34m)\u001b[0m\u001b[0;34m\u001b[0m\u001b[0m\n\u001b[1;32m     42\u001b[0m \u001b[0;34m\u001b[0m\u001b[0m\n",
      "\u001b[0;32m/opt/anaconda/lib/python2.7/site-packages/mrjob/runner.pyc\u001b[0m in \u001b[0;36mrun\u001b[0;34m(self)\u001b[0m\n\u001b[1;32m    414\u001b[0m                         ' encoding issues\\n')\n\u001b[1;32m    415\u001b[0m \u001b[0;34m\u001b[0m\u001b[0m\n\u001b[0;32m--> 416\u001b[0;31m         \u001b[0mself\u001b[0m\u001b[0;34m.\u001b[0m\u001b[0m_run\u001b[0m\u001b[0;34m(\u001b[0m\u001b[0;34m)\u001b[0m\u001b[0;34m\u001b[0m\u001b[0m\n\u001b[0m\u001b[1;32m    417\u001b[0m         \u001b[0mself\u001b[0m\u001b[0;34m.\u001b[0m\u001b[0m_ran_job\u001b[0m \u001b[0;34m=\u001b[0m \u001b[0mTrue\u001b[0m\u001b[0;34m\u001b[0m\u001b[0m\n\u001b[1;32m    418\u001b[0m \u001b[0;34m\u001b[0m\u001b[0m\n",
      "\u001b[0;32m/opt/anaconda/lib/python2.7/site-packages/mrjob/hadoop.pyc\u001b[0m in \u001b[0;36m_run\u001b[0;34m(self)\u001b[0m\n\u001b[1;32m    354\u001b[0m         \u001b[0mself\u001b[0m\u001b[0;34m.\u001b[0m\u001b[0m_add_job_files_for_upload\u001b[0m\u001b[0;34m(\u001b[0m\u001b[0;34m)\u001b[0m\u001b[0;34m\u001b[0m\u001b[0m\n\u001b[1;32m    355\u001b[0m         \u001b[0mself\u001b[0m\u001b[0;34m.\u001b[0m\u001b[0m_upload_local_files_to_hdfs\u001b[0m\u001b[0;34m(\u001b[0m\u001b[0;34m)\u001b[0m\u001b[0;34m\u001b[0m\u001b[0m\n\u001b[0;32m--> 356\u001b[0;31m         \u001b[0mself\u001b[0m\u001b[0;34m.\u001b[0m\u001b[0m_run_job_in_hadoop\u001b[0m\u001b[0;34m(\u001b[0m\u001b[0;34m)\u001b[0m\u001b[0;34m\u001b[0m\u001b[0m\n\u001b[0m\u001b[1;32m    357\u001b[0m \u001b[0;34m\u001b[0m\u001b[0m\n\u001b[1;32m    358\u001b[0m     \u001b[0;32mdef\u001b[0m \u001b[0m_find_binaries_and_jars\u001b[0m\u001b[0;34m(\u001b[0m\u001b[0mself\u001b[0m\u001b[0;34m)\u001b[0m\u001b[0;34m:\u001b[0m\u001b[0;34m\u001b[0m\u001b[0m\n",
      "\u001b[0;32m/opt/anaconda/lib/python2.7/site-packages/mrjob/hadoop.pyc\u001b[0m in \u001b[0;36m_run_job_in_hadoop\u001b[0;34m(self)\u001b[0m\n\u001b[1;32m    473\u001b[0m                             _interpret_hadoop_jar_command_stderr(\n\u001b[1;32m    474\u001b[0m                                 \u001b[0mmaster\u001b[0m\u001b[0;34m,\u001b[0m\u001b[0;34m\u001b[0m\u001b[0m\n\u001b[0;32m--> 475\u001b[0;31m                                 record_callback=_log_record_from_hadoop))\n\u001b[0m\u001b[1;32m    476\u001b[0m                         \u001b[0m_\u001b[0m\u001b[0;34m,\u001b[0m \u001b[0mreturncode\u001b[0m \u001b[0;34m=\u001b[0m \u001b[0mos\u001b[0m\u001b[0;34m.\u001b[0m\u001b[0mwaitpid\u001b[0m\u001b[0;34m(\u001b[0m\u001b[0mpid\u001b[0m\u001b[0;34m,\u001b[0m \u001b[0;36m0\u001b[0m\u001b[0;34m)\u001b[0m\u001b[0;34m\u001b[0m\u001b[0m\n\u001b[1;32m    477\u001b[0m \u001b[0;34m\u001b[0m\u001b[0m\n",
      "\u001b[0;32m/opt/anaconda/lib/python2.7/site-packages/mrjob/logs/step.pyc\u001b[0m in \u001b[0;36m_interpret_hadoop_jar_command_stderr\u001b[0;34m(stderr, record_callback)\u001b[0m\n\u001b[1;32m    222\u001b[0m             \u001b[0;32myield\u001b[0m \u001b[0mrecord\u001b[0m\u001b[0;34m\u001b[0m\u001b[0m\n\u001b[1;32m    223\u001b[0m \u001b[0;34m\u001b[0m\u001b[0m\n\u001b[0;32m--> 224\u001b[0;31m     \u001b[0mresult\u001b[0m \u001b[0;34m=\u001b[0m \u001b[0m_parse_step_syslog_from_log4j_records\u001b[0m\u001b[0;34m(\u001b[0m\u001b[0myield_records\u001b[0m\u001b[0;34m(\u001b[0m\u001b[0;34m)\u001b[0m\u001b[0;34m)\u001b[0m\u001b[0;34m\u001b[0m\u001b[0m\n\u001b[0m\u001b[1;32m    225\u001b[0m \u001b[0;34m\u001b[0m\u001b[0m\n\u001b[1;32m    226\u001b[0m     \u001b[0m_add_implied_job_id\u001b[0m\u001b[0;34m(\u001b[0m\u001b[0mresult\u001b[0m\u001b[0;34m)\u001b[0m\u001b[0;34m\u001b[0m\u001b[0m\n",
      "\u001b[0;32m/opt/anaconda/lib/python2.7/site-packages/mrjob/logs/step.pyc\u001b[0m in \u001b[0;36m_parse_step_syslog_from_log4j_records\u001b[0;34m(records)\u001b[0m\n\u001b[1;32m    263\u001b[0m     \u001b[0mresult\u001b[0m \u001b[0;34m=\u001b[0m \u001b[0;34m{\u001b[0m\u001b[0;34m}\u001b[0m\u001b[0;34m\u001b[0m\u001b[0m\n\u001b[1;32m    264\u001b[0m \u001b[0;34m\u001b[0m\u001b[0m\n\u001b[0;32m--> 265\u001b[0;31m     \u001b[0;32mfor\u001b[0m \u001b[0mrecord\u001b[0m \u001b[0;32min\u001b[0m \u001b[0mrecords\u001b[0m\u001b[0;34m:\u001b[0m\u001b[0;34m\u001b[0m\u001b[0m\n\u001b[0m\u001b[1;32m    266\u001b[0m         \u001b[0mmessage\u001b[0m \u001b[0;34m=\u001b[0m \u001b[0mrecord\u001b[0m\u001b[0;34m[\u001b[0m\u001b[0;34m'message'\u001b[0m\u001b[0;34m]\u001b[0m\u001b[0;34m\u001b[0m\u001b[0m\n\u001b[1;32m    267\u001b[0m \u001b[0;34m\u001b[0m\u001b[0m\n",
      "\u001b[0;32m/opt/anaconda/lib/python2.7/site-packages/mrjob/logs/step.pyc\u001b[0m in \u001b[0;36myield_records\u001b[0;34m()\u001b[0m\n\u001b[1;32m    217\u001b[0m     \u001b[0;32mdef\u001b[0m \u001b[0myield_records\u001b[0m\u001b[0;34m(\u001b[0m\u001b[0;34m)\u001b[0m\u001b[0;34m:\u001b[0m\u001b[0;34m\u001b[0m\u001b[0m\n\u001b[1;32m    218\u001b[0m         for record in _parse_hadoop_log4j_records(yield_lines(),\n\u001b[0;32m--> 219\u001b[0;31m                                                   pre_filter=pre_filter):\n\u001b[0m\u001b[1;32m    220\u001b[0m             \u001b[0;32mif\u001b[0m \u001b[0mrecord_callback\u001b[0m\u001b[0;34m:\u001b[0m\u001b[0;34m\u001b[0m\u001b[0m\n\u001b[1;32m    221\u001b[0m                 \u001b[0mrecord_callback\u001b[0m\u001b[0;34m(\u001b[0m\u001b[0mrecord\u001b[0m\u001b[0;34m)\u001b[0m\u001b[0;34m\u001b[0m\u001b[0m\n",
      "\u001b[0;32m/opt/anaconda/lib/python2.7/site-packages/mrjob/logs/log4j.pyc\u001b[0m in \u001b[0;36m_parse_hadoop_log4j_records\u001b[0;34m(lines, pre_filter)\u001b[0m\n\u001b[1;32m     65\u001b[0m     \u001b[0mlast_record\u001b[0m \u001b[0;34m=\u001b[0m \u001b[0mNone\u001b[0m\u001b[0;34m\u001b[0m\u001b[0m\n\u001b[1;32m     66\u001b[0m \u001b[0;34m\u001b[0m\u001b[0m\n\u001b[0;32m---> 67\u001b[0;31m     \u001b[0;32mfor\u001b[0m \u001b[0mline_num\u001b[0m\u001b[0;34m,\u001b[0m \u001b[0mline\u001b[0m \u001b[0;32min\u001b[0m \u001b[0menumerate\u001b[0m\u001b[0;34m(\u001b[0m\u001b[0mlines\u001b[0m\u001b[0;34m)\u001b[0m\u001b[0;34m:\u001b[0m\u001b[0;34m\u001b[0m\u001b[0m\n\u001b[0m\u001b[1;32m     68\u001b[0m         \u001b[0mline\u001b[0m \u001b[0;34m=\u001b[0m \u001b[0mline\u001b[0m\u001b[0;34m.\u001b[0m\u001b[0mrstrip\u001b[0m\u001b[0;34m(\u001b[0m\u001b[0;34m'\\r\\n'\u001b[0m\u001b[0;34m)\u001b[0m\u001b[0;34m\u001b[0m\u001b[0m\n\u001b[1;32m     69\u001b[0m \u001b[0;34m\u001b[0m\u001b[0m\n",
      "\u001b[0;32m/opt/anaconda/lib/python2.7/site-packages/mrjob/logs/step.pyc\u001b[0m in \u001b[0;36myield_lines\u001b[0;34m()\u001b[0m\n\u001b[1;32m    203\u001b[0m     \u001b[0;32mdef\u001b[0m \u001b[0myield_lines\u001b[0m\u001b[0;34m(\u001b[0m\u001b[0;34m)\u001b[0m\u001b[0;34m:\u001b[0m\u001b[0;34m\u001b[0m\u001b[0m\n\u001b[1;32m    204\u001b[0m         \u001b[0;32mtry\u001b[0m\u001b[0;34m:\u001b[0m\u001b[0;34m\u001b[0m\u001b[0m\n\u001b[0;32m--> 205\u001b[0;31m             \u001b[0;32mfor\u001b[0m \u001b[0mline\u001b[0m \u001b[0;32min\u001b[0m \u001b[0mstderr\u001b[0m\u001b[0;34m:\u001b[0m\u001b[0;34m\u001b[0m\u001b[0m\n\u001b[0m\u001b[1;32m    206\u001b[0m                 \u001b[0;32myield\u001b[0m \u001b[0mto_string\u001b[0m\u001b[0;34m(\u001b[0m\u001b[0mline\u001b[0m\u001b[0;34m)\u001b[0m\u001b[0;34m\u001b[0m\u001b[0m\n\u001b[1;32m    207\u001b[0m         \u001b[0;32mexcept\u001b[0m \u001b[0mIOError\u001b[0m \u001b[0;32mas\u001b[0m \u001b[0me\u001b[0m\u001b[0;34m:\u001b[0m\u001b[0;34m\u001b[0m\u001b[0m\n",
      "\u001b[0;31mKeyboardInterrupt\u001b[0m: "
     ]
    }
   ],
   "source": [
    "from PageRankInit1 import PageRankInit1\n",
    "from PageRankInit2 import PageRankInit2\n",
    "from PageRankIterate1 import PageRankIterate1\n",
    "from PageRankIterate2 import PageRankIterate2\n",
    "  \n",
    "iterations = 11\n",
    "alpha = 0.15\n",
    "count = 0\n",
    "        \n",
    "while(count < iterations):\n",
    "    if count == 0:\n",
    "        \n",
    "        #get all nodes in the graph\n",
    "        mr_job1 = PageRankInit1(args=['-r', 'hadoop', 'hdfs:///user/root/graph_output/wikipedia_PR/all-pages-indexed-out.txt/'])    \n",
    "        with mr_job1.make_runner() as runner:\n",
    "            runner.run()\n",
    "            num_nodes = (runner.counters()[0]['reducer']['total nodes'])        \n",
    "        count += 1\n",
    "        \n",
    "    elif count == 1:\n",
    "        \n",
    "        #init pagerank on all nodes\n",
    "        mr_job2 = PageRankInit2(args=['-r', 'hadoop', 'hdfs:///user/root/graph_output/wikipedia_PR/all-pages-indexed-out.txt', \n",
    "                                      '--output-dir', '/user/root/graph_output/wikipedia_PR/iterations/iteration1/', \n",
    "                                      \"--numNodes={}\".format(num_nodes)])\n",
    "        with mr_job2.make_runner() as runner:\n",
    "            runner.run()     \n",
    "        count += 1\n",
    "    else:\n",
    "        mr_job3 = PageRankIterate1(args=['-r', 'hadoop', 'hdfs:///user/root/graph_output/wikipedia_PR/iterations/iteration{}/part-*'.format(count-1), \n",
    "                              '--output-dir', '/user/root/graph_output/wikipedia_PR/iterations/iteration{}_1'.format(count-1)])\n",
    "        with mr_job3.make_runner() as runner:\n",
    "            runner.run()     \n",
    "            dangling_mass = (runner.counters()[0]['mapper']['PR_TOTAL'])\n",
    "\n",
    "        mr_job4 = PageRankIterate2(args=['-r', 'hadoop', 'hdfs:///user/root/graph_output/wikipedia_PR/iterations/iteration{}_1/part-*'.format(count-1), \n",
    "                      '--output-dir', '/user/root/graph_output/wikipedia_PR/iterations/iteration{}'.format(count), \n",
    "                      \"--danglingMass={}\".format(dangling_mass), \"--TOTAL_NODES={}\".format(num_nodes), \"--alpha={}\".format(alpha)])\n",
    "        with mr_job4.make_runner() as runner:\n",
    "            runner.run()\n",
    "        count += 1"
   ]
  },
  {
   "cell_type": "code",
   "execution_count": 67,
   "metadata": {
    "collapsed": false
   },
   "outputs": [
    {
     "name": "stdout",
     "output_type": "stream",
     "text": [
      "Found 10 items\r\n",
      "drwxr-xr-x   - root supergroup          0 2017-11-19 06:11 /user/root/graph_output/wikipedia_PR/iterations/iteration1\r\n",
      "drwxr-xr-x   - root supergroup          0 2017-11-19 07:33 /user/root/graph_output/wikipedia_PR/iterations/iteration1_1\r\n",
      "drwxr-xr-x   - root supergroup          0 2017-11-19 08:12 /user/root/graph_output/wikipedia_PR/iterations/iteration2\r\n",
      "drwxr-xr-x   - root supergroup          0 2017-11-19 09:39 /user/root/graph_output/wikipedia_PR/iterations/iteration2_1\r\n",
      "drwxr-xr-x   - root supergroup          0 2017-11-19 10:18 /user/root/graph_output/wikipedia_PR/iterations/iteration3\r\n",
      "drwxr-xr-x   - root supergroup          0 2017-11-19 11:45 /user/root/graph_output/wikipedia_PR/iterations/iteration3_1\r\n",
      "drwxr-xr-x   - root supergroup          0 2017-11-19 12:24 /user/root/graph_output/wikipedia_PR/iterations/iteration4\r\n",
      "drwxr-xr-x   - root supergroup          0 2017-11-19 13:51 /user/root/graph_output/wikipedia_PR/iterations/iteration4_1\r\n",
      "drwxr-xr-x   - root supergroup          0 2017-11-19 14:29 /user/root/graph_output/wikipedia_PR/iterations/iteration5\r\n",
      "drwxr-xr-x   - root supergroup          0 2017-11-19 14:30 /user/root/graph_output/wikipedia_PR/iterations/iteration5_1\r\n"
     ]
    }
   ],
   "source": [
    "!hdfs dfs -ls /user/root/graph_output/wikipedia_PR/iterations"
   ]
  },
  {
   "cell_type": "code",
   "execution_count": 68,
   "metadata": {
    "collapsed": true
   },
   "outputs": [],
   "source": [
    "!hdfs dfs -cat /user/root/graph_output/wikipedia_PR/iterations/iteration5/part-* > wiki5.txt"
   ]
  },
  {
   "cell_type": "code",
   "execution_count": 69,
   "metadata": {
    "collapsed": false
   },
   "outputs": [
    {
     "name": "stdout",
     "output_type": "stream",
     "text": [
      "\"1\"\t[-2.4498923720621093, \"|\", {}]\r\n",
      "\"10\"\t[-2.1598846871576511, \"|\", {\"12\": 3, \"14478968\": 1, \"14965909\": 1, \"5172381\": 2, \"3403886\": 1, \"8031052\": 1, \"6857278\": 2, \"9416257\": 1, \"14481011\": 1, \"12336458\": 1, \"994890\": 1}]\r\n",
      "\"100\"\t[-2.4475827896142186, \"|\", {}]\r\n",
      "\"1000\"\t[-2.4998181055252422, \"|\", {}]\r\n",
      "\"10000\"\t[-2.4988041440135409, \"|\", {}]\r\n",
      "\"100000\"\t[-2.5037592105033757, \"|\", {\"100001\": 1}]\r\n",
      "\"1000000\"\t[-2.5044130540641505, \"|\", {\"1000001\": 1}]\r\n",
      "\"10000000\"\t[-2.3724049300364962, \"|\", {}]\r\n",
      "\"10000001\"\t[-2.5014570233576894, \"|\", {}]\r\n",
      "\"10000002\"\t[-2.4280877557246763, \"|\", {}]\r\n"
     ]
    }
   ],
   "source": [
    "!head wiki5.txt"
   ]
  },
  {
   "cell_type": "code",
   "execution_count": 70,
   "metadata": {
    "collapsed": false
   },
   "outputs": [
    {
     "name": "stdout",
     "output_type": "stream",
     "text": [
      "\"4739291\"\t[999.86548808485747, \"|\", {\"9546332\": 1, \"2170643\": 1, \"8310099\": 1, \"12309210\": 1, \"5530896\": 2, \"2718247\": 1, \"14769789\": 1, \"8376464\": 1, \"11995127\": 1, \"1485978\": 1, \"2925097\": 1, \"5891137\": 2, \"9391646\": 1, \"9391645\": 1, \"6133281\": 1, \"3046124\": 2, \"4731621\": 2, \"14589424\": 1, \"13997581\": 1, \"14007341\": 1, \"5572514\": 1, \"14600266\": 1, \"8482574\": 1, \"5031714\": 1, \"6651456\": 2, \"14540683\": 1, \"4156038\": 1, \"1551322\": 2, \"7738688\": 1, \"13443501\": 1, \"1607504\": 2, \"5553046\": 3, \"13451200\": 1, \"5337228\": 1, \"987356\": 1, \"9757720\": 1, \"7775601\": 3, \"6080114\": 1, \"3796132\": 1, \"8132035\": 1, \"14027728\": 1, \"724519\": 1, \"5315347\": 1, \"11501323\": 2, \"6958001\": 1, \"5312063\": 2, \"14006531\": 1, \"12380991\": 1, \"4739352\": 1, \"10098466\": 1, \"12787725\": 1, \"4739354\": 2, \"14981418\": 1, \"12395575\": 3, \"5676874\": 4, \"9754937\": 1, \"5676877\": 1, \"9370436\": 2, \"14112408\": 3, \"7510844\": 1, \"13645969\": 1, \"4135101\": 2, \"4135452\": 2, \"4667170\": 1, \"2924803\": 2, \"3110700\": 1, \"1892112\": 1, \"854460\": 1, \"14566963\": 1, \"14918817\": 1, \"9401360\": 1, \"9391762\": 1, \"4739285\": 1, \"4892194\": 1, \"4696326\": 1, \"3100015\": 2, \"1050222\": 1, \"5810588\": 1, \"10526242\": 1, \"14514362\": 1, \"5508752\": 1, \"9285085\": 1, \"9254294\": 1, \"2703710\": 1, \"7513371\": 1, \"4450007\": 2, \"7147428\": 1, \"3833212\": 1, \"1755050\": 1, \"1195898\": 1, \"4406125\": 1, \"4502249\": 2, \"8084162\": 1, \"1489699\": 1, \"13320773\": 1, \"550589\": 1, \"15148058\": 1, \"11620741\": 2, \"4127182\": 1, \"12914509\": 1, \"13737389\": 4, \"13805892\": 1, \"5329396\": 1, \"12977587\": 1, \"14872809\": 1, \"12962602\": 1, \"82274\": 1, \"14112583\": 2, \"1057632\": 1, \"2719711\": 1, \"7987831\": 1, \"6772624\": 4, \"10246542\": 1, \"7554718\": 1, \"11971398\": 1, \"7450486\": 1, \"7554710\": 1, \"13293614\": 1, \"9362128\": 1, \"3051522\": 1, \"4384441\": 1, \"9265758\": 1, \"9272245\": 1, \"3626635\": 1, \"13450152\": 1, \"13450150\": 1, \"11875526\": 1, \"1239442\": 1, \"11622824\": 1, \"2142365\": 1, \"7839463\": 1, \"7839466\": 1, \"13630779\": 1, \"2547491\": 2, \"5884050\": 1, \"13453417\": 3, \"13458724\": 1, \"5649739\": 6, \"5546448\": 7, \"9756512\": 1, \"1865893\": 1, \"10916204\": 1, \"4577824\": 1, \"2313885\": 2, \"6658450\": 1, \"6481281\": 1, \"1477962\": 1, \"9391659\": 2, \"12382228\": 1, \"14756435\": 1, \"13013564\": 1, \"13444954\": 1, \"13444953\": 1, \"10851914\": 2, \"5114857\": 1, \"9267198\": 1, \"3067347\": 1, \"13357331\": 1, \"13992031\": 1, \"10834301\": 1, \"12557356\": 2, \"14636714\": 1, \"12351492\": 1, \"7735085\": 1, \"10567411\": 1, \"7936805\": 2, \"13444797\": 1, \"6416695\": 2, \"14492072\": 1, \"7809735\": 2, \"13395915\": 1, \"9390661\": 4, \"719421\": 1, \"4821704\": 1, \"13715855\": 1, \"11621924\": 1, \"13896377\": 1, \"1986745\": 1, \"4770603\": 2, \"5808850\": 4, \"14607853\": 1, \"3973116\": 1, \"11166403\": 2, \"6811595\": 1, \"1841643\": 1, \"6347914\": 1, \"1055179\": 1, \"4780037\": 1, \"3111089\": 1, \"11047719\": 2, \"5015689\": 1, \"3913772\": 1, \"6686478\": 1, \"7554722\": 1, \"10505960\": 1, \"9370429\": 3, \"13840508\": 1, \"9705097\": 1, \"15071403\": 1, \"5543310\": 4, \"81827\": 1, \"14105554\": 1, \"12930080\": 1, \"1376813\": 2, \"3204625\": 1, \"13466780\": 1, \"13840484\": 1, \"1796032\": 2, \"4775773\": 1, \"12905382\": 1, \"5859327\": 1, \"4703204\": 1, \"10400334\": 1, \"7263397\": 1, \"5049640\": 1, \"4040465\": 1, \"13444917\": 1, \"9752308\": 1, \"13223548\": 1, \"13751374\": 1, \"11061478\": 2, \"2720479\": 2, \"14590290\": 1, \"12528452\": 1, \"779711\": 1, \"7775604\": 1, \"12865008\": 1, \"7540862\": 1, \"11166207\": 1, \"6357900\": 2, \"2380414\": 2, \"10913525\": 1, \"84932\": 1, \"1055001\": 1, \"1761407\": 1, \"10506207\": 1, \"12623651\": 2, \"7803295\": 2, \"14893199\": 1, \"4187329\": 1, \"6358724\": 2, \"5266654\": 1, \"10764240\": 1, \"15115538\": 1, \"12836211\": 1, \"14025964\": 1, \"7155418\": 1, \"14013584\": 1, \"1198803\": 2, \"9398846\": 1, \"5644451\": 1, \"8609568\": 1, \"10495214\": 1, \"6381747\": 1, \"3917672\": 1, \"8974618\": 1, \"2281195\": 1, \"7155387\": 1, \"3244604\": 1, \"9264981\": 1, \"13853369\": 1, \"15088926\": 2, \"14001777\": 1, \"7634863\": 1, \"4892210\": 1, \"13840545\": 4, \"1988163\": 1, \"8964031\": 1, \"4457043\": 1, \"14521412\": 1, \"6359798\": 1, \"5543218\": 1, \"11166389\": 1, \"8084257\": 1, \"4766545\": 1, \"1057647\": 1, \"4997299\": 1, \"7775588\": 1, \"13444665\": 1, \"5450549\": 1, \"2542944\": 1, \"15062178\": 1, \"5264638\": 1, \"5263454\": 2, \"4739274\": 1, \"11820551\": 1, \"9386580\": 3, \"5191514\": 1, \"14062985\": 5, \"13293524\": 1, \"14504617\": 1, \"4739337\": 1, \"13315252\": 1, \"12153434\": 1, \"5264631\": 2, \"12056015\": 1, \"9401457\": 1, \"6369454\": 2, \"9754608\": 1, \"13623551\": 1, \"14700775\": 1, \"5544104\": 1, \"9391660\": 2, \"3410708\": 1, \"13791744\": 1, \"13444942\": 1, \"7631837\": 1, \"11058264\": 2, \"13444948\": 1, \"6663590\": 3, \"1499802\": 1, \"13245483\": 1, \"5006248\": 2, \"5999883\": 1, \"13805843\": 1, \"14181836\": 1, \"5203683\": 2, \"14488055\": 1, \"6983025\": 1, \"14908126\": 1, \"13453422\": 2, \"13453420\": 1, \"13453421\": 2, \"13453426\": 2, \"13453424\": 2, \"14966062\": 1, \"14098054\": 3, \"992273\": 2, \"5905271\": 1, \"12018514\": 1, \"11166187\": 1, \"2929184\": 1, \"14795540\": 1, \"4504016\": 1, \"8371130\": 1, \"81355\": 1, \"2410242\": 2, \"11971354\": 2, \"6850051\": 2, \"4989737\": 1, \"1176636\": 1, \"1195305\": 1, \"12647578\": 1, \"13632873\": 1, \"6376934\": 2, \"6514192\": 1, \"6376931\": 2, \"4729502\": 2, \"3563571\": 2, \"5676607\": 3, \"3577363\": 5, \"10399693\": 1, \"6630255\": 1, \"5760491\": 2, \"5524678\": 1, \"2699600\": 1, \"15033646\": 1, \"2774052\": 3, \"4697126\": 1, \"13365679\": 2, \"5925528\": 4, \"14611977\": 1, \"578234\": 1, \"14505548\": 2, \"839915\": 5, \"4551505\": 2, \"5662022\": 2, \"4739305\": 1, \"6776954\": 1, \"8251502\": 1, \"8911509\": 2, \"3281878\": 1, \"12870748\": 1, \"1836954\": 1, \"4502362\": 1, \"14820722\": 1, \"2945440\": 1, \"15181788\": 1, \"4482774\": 1, \"4515118\": 1, \"14959557\": 1, \"14946726\": 1, \"9084872\": 1, \"4725130\": 1, \"8354268\": 2, \"13411154\": 1, \"4678934\": 2, \"14008207\": 1, \"14022355\": 1, \"14931247\": 1, \"5715907\": 1, \"3150581\": 4, \"14743235\": 1, \"15000112\": 1, \"12221187\": 1, \"5893528\": 1, \"3911936\": 1, \"12221183\": 2, \"11166304\": 1, \"8037668\": 1, \"8817392\": 1, \"10661545\": 1, \"5004019\": 1, \"6702885\": 1, \"13447150\": 1, \"13443575\": 1, \"13843423\": 1, \"13974774\": 1, \"13843549\": 1, \"5665757\": 1, \"4266815\": 1, \"1007313\": 1, \"1249641\": 1, \"6095107\": 2, \"91760\": 1, \"14973623\": 1, \"13060179\": 1, \"11166010\": 1, \"14004633\": 1, \"13359468\": 1, \"12197302\": 1, \"14959969\": 1, \"13433814\": 1, \"2708612\": 1, \"10545349\": 2, \"4228749\": 1, \"14937955\": 1, \"4585029\": 1, \"4739347\": 2, \"7839803\": 1, \"14913584\": 3, \"9370409\": 1, \"2034206\": 1, \"14975440\": 1, \"922641\": 1, \"10549652\": 1, \"7952315\": 1, \"9758322\": 1, \"7493319\": 1, \"7132093\": 1, \"9001665\": 1, \"6359103\": 2, \"951837\": 1, \"944122\": 1, \"13326914\": 1, \"5660854\": 1, \"4410504\": 1, \"4177289\": 1, \"14844635\": 1, \"2431370\": 3, \"4308466\": 1, \"8447074\": 1, \"6453369\": 1, \"3691722\": 1, \"2270500\": 1, \"9302154\": 3, \"11629363\": 1, \"5222209\": 1, \"10334688\": 1, \"9752196\": 1, \"8850174\": 1, \"4384452\": 1, \"4384454\": 2, \"9656668\": 1, \"3332240\": 1, \"13444651\": 1, \"8325580\": 1, \"4419073\": 1, \"6236087\": 1, \"13612833\": 1, \"6606948\": 2, \"7554685\": 2, \"10609871\": 1, \"4739263\": 1, \"15071709\": 1, \"10602558\": 1, \"938824\": 1, \"6769837\": 1, \"6769830\": 1, \"6376927\": 1, \"14959565\": 1, \"6368959\": 2, \"14978903\": 1, \"9877983\": 1, \"12075436\": 1, \"15104795\": 1, \"1529782\": 1, \"13429704\": 3, \"12930066\": 2, \"3244246\": 1, \"4846024\": 1, \"5547360\": 1, \"3725679\": 1, \"1951543\": 1, \"5660149\": 2, \"7466124\": 1, \"12530354\": 1, \"14800445\": 1, \"6073362\": 1, \"11318461\": 1, \"6416710\": 1, \"2943217\": 1, \"10517405\": 1, \"1438684\": 4, \"942635\": 1, \"4094105\": 3, \"10902173\": 1, \"4094101\": 1}]\n",
      "\"12636623\"\t[997.9513895231546, \"|\", {\"12636564\": 1, \"6526564\": 1, \"7328452\": 1, \"2437837\": 1, \"13413688\": 1, \"9648846\": 2, \"5744189\": 1, \"1408846\": 1, \"2416260\": 1, \"12364349\": 1, \"4351575\": 1, \"7878735\": 1, \"11363874\": 2, \"3853072\": 1, \"13264619\": 1, \"2316752\": 1, \"1114542\": 1, \"10903448\": 1, \"12567861\": 1, \"14555021\": 1, \"7373938\": 1, \"8314454\": 1, \"14111511\": 1, \"12790611\": 1, \"5173512\": 1, \"1118843\": 1, \"14493605\": 1, \"1516699\": 1, \"12556458\": 3, \"14639087\": 1, \"15028559\": 1, \"9394907\": 1, \"3597675\": 1, \"5183775\": 1, \"13054531\": 1, \"5354096\": 1, \"2202270\": 1, \"9116459\": 1, \"13180345\": 1, \"12636618\": 1, \"12131520\": 1, \"13020463\": 1, \"1907180\": 1, \"10606990\": 2, \"7745478\": 1, \"5355975\": 1, \"5925854\": 3, \"13702216\": 2, \"11480711\": 1, \"2993177\": 2, \"6950713\": 2, \"14465224\": 1, \"13218022\": 2, \"9897280\": 3, \"10929283\": 1, \"1119005\": 4, \"15108510\": 1, \"2141280\": 1, \"2183072\": 1, \"12627489\": 7, \"14186720\": 1, \"4429155\": 1, \"6929616\": 1, \"1839234\": 3, \"7858573\": 1, \"9417358\": 1, \"3639007\": 1, \"6903387\": 1, \"12133506\": 1, \"5357586\": 1, \"7617441\": 1, \"12636622\": 1, \"14216652\": 1, \"12636621\": 1, \"4790461\": 1, \"14636120\": 1, \"6989130\": 3, \"11788647\": 1, \"1629653\": 1, \"14698628\": 1, \"14186722\": 3, \"5180958\": 1, \"4198751\": 1, \"10831132\": 3, \"6132302\": 1, \"10825597\": 1, \"13300725\": 1, \"10165552\": 1, \"14581468\": 2, \"14854931\": 1, \"13054319\": 1, \"13220614\": 1, \"13593996\": 1, \"12636641\": 1, \"9990038\": 1, \"8219116\": 1, \"12636635\": 2, \"14913302\": 1, \"7792424\": 1, \"1291019\": 1, \"13037690\": 1, \"8220519\": 1, \"12038331\": 1, \"9219907\": 2, \"2712719\": 1, \"2615653\": 1, \"13788538\": 1, \"2772234\": 2, \"15165685\": 1, \"9962877\": 1, \"13492300\": 1, \"7104597\": 1, \"15167025\": 1, \"7218040\": 1, \"3854870\": 1, \"14565992\": 1, \"8551184\": 1, \"11522484\": 1, \"8236876\": 2, \"6076759\": 1, \"7205098\": 1, \"4554675\": 1, \"6337990\": 1, \"8211404\": 1, \"5239299\": 1, \"9376362\": 1, \"13906065\": 1, \"10785907\": 1, \"13423193\": 1, \"12636495\": 1, \"12636494\": 1, \"6082698\": 1, \"14828922\": 1, \"12222317\": 1, \"9066038\": 1, \"12636551\": 1, \"14502707\": 1, \"1300106\": 1, \"6557812\": 3, \"10368151\": 1, \"14055853\": 1, \"6176135\": 1, \"14810980\": 1, \"10459914\": 1, \"6078154\": 1, \"3543825\": 1, \"15169817\": 1, \"12556679\": 1, \"14913299\": 1, \"7684392\": 1, \"12133922\": 1, \"5355735\": 2, \"10476572\": 1, \"13425865\": 1, \"12397539\": 1, \"5742763\": 3, \"8239364\": 2, \"13418746\": 1, \"1934150\": 1, \"8273081\": 1, \"14746368\": 1, \"12133875\": 1, \"11875526\": 1, \"12222380\": 1, \"14186708\": 1, \"14958077\": 1, \"12222386\": 1, \"4600970\": 1, \"4877639\": 1, \"7265461\": 2, \"2712763\": 1, \"13655534\": 1, \"5743586\": 1, \"1118858\": 1, \"13630141\": 1, \"10149159\": 1, \"14641850\": 1, \"10831193\": 1, \"14817924\": 1, \"6955376\": 1, \"9234737\": 1, \"2754200\": 1, \"609351\": 1, \"1202326\": 1, \"14543976\": 1}]\n",
      "\"9210727\"\t[995.04569743425986, \"|\", {\"14672725\": 1, \"14972198\": 1, \"14843000\": 1, \"9837821\": 1, \"7019341\": 1, \"7019340\": 1, \"7635563\": 1, \"9210853\": 1, \"5447012\": 1, \"2368256\": 1, \"13047551\": 1, \"14849102\": 1, \"13429536\": 1, \"13859887\": 1, \"9794523\": 1, \"9326611\": 1, \"14264\": 1, \"3067407\": 1, \"13433104\": 1, \"9208101\": 5, \"11341140\": 1, \"9815954\": 3, \"13974058\": 1, \"11739997\": 1, \"1176619\": 1, \"1479358\": 1, \"15057266\": 1, \"5172736\": 1, \"5044509\": 2, \"2802553\": 1, \"9210628\": 1, \"12038331\": 3, \"14053984\": 1, \"14112769\": 1, \"13258043\": 1, \"11142409\": 1, \"9210856\": 1, \"3300846\": 1, \"7309612\": 1, \"305859\": 1, \"15087808\": 1, \"34159\": 1, \"2755509\": 1, \"263738\": 1, \"6098419\": 1, \"11851651\": 1, \"6139236\": 1, \"10448850\": 1, \"1571642\": 1, \"15154608\": 1, \"455435\": 1, \"9210820\": 1, \"15137598\": 1, \"13905126\": 1, \"11906306\": 1, \"8202769\": 1, \"13630694\": 1, \"3118782\": 2, \"758388\": 1, \"13470016\": 1, \"15145340\": 1, \"14609402\": 1, \"7901924\": 1, \"360401\": 1, \"4095435\": 1, \"9078485\": 1, \"13944873\": 1, \"13426476\": 1, \"2296742\": 2, \"4185021\": 1, \"7786776\": 1, \"14850446\": 1, \"14664753\": 1, \"9671877\": 1, \"1917352\": 1, \"3234450\": 1, \"2476455\": 5, \"1840110\": 1, \"8119014\": 1, \"5045890\": 1, \"15089429\": 1, \"10448930\": 1, \"8598475\": 1, \"12339019\": 2, \"7644508\": 1, \"5982191\": 1, \"10125152\": 2, \"5043018\": 2, \"9830298\": 1, \"13428734\": 1, \"14743233\": 1, \"14884825\": 1, \"9079847\": 1, \"14053963\": 1, \"9210700\": 1, \"10760029\": 1, \"9210706\": 2, \"5682641\": 5, \"8686633\": 1, \"2297083\": 1, \"4198751\": 1, \"9208095\": 1, \"7775161\": 1, \"14590951\": 1, \"7225241\": 1, \"9210812\": 2, \"990150\": 1, \"12039547\": 1, \"10506002\": 1, \"15191118\": 1, \"9253880\": 1, \"13247732\": 1, \"15107970\": 1, \"1681525\": 1, \"7346251\": 1, \"1273598\": 1, \"9259175\": 1, \"3043698\": 1, \"756427\": 1, \"1178124\": 3, \"14820094\": 1, \"6098438\": 1, \"5160818\": 1, \"8834754\": 1, \"4978459\": 1, \"13840687\": 1, \"10946669\": 1, \"9770865\": 2, \"4737956\": 1, \"3704956\": 1, \"12053600\": 2, \"3775153\": 1, \"7110702\": 1, \"14894389\": 1, \"14053976\": 3, \"11919073\": 3, \"5264907\": 2, \"4587145\": 1, \"431544\": 1, \"6051292\": 1, \"3577865\": 1, \"13973874\": 1, \"3388664\": 4, \"9210571\": 2, \"758312\": 5, \"997780\": 1, \"14503460\": 1, \"9729925\": 1, \"9210818\": 1, \"6075342\": 1, \"9001665\": 1, \"9210774\": 1, \"9210773\": 1, \"3069946\": 1, \"14785954\": 1, \"2111606\": 2, \"3578030\": 1, \"3067557\": 1, \"14750404\": 1, \"6108453\": 1, \"3674007\": 1, \"299983\": 1, \"10139623\": 2, \"7510844\": 2, \"3992434\": 1, \"6128631\": 1, \"11459582\": 4, \"2019450\": 1, \"9849313\": 1, \"9210566\": 1, \"14296775\": 1, \"11698731\": 1, \"12599963\": 1, \"1178369\": 1, \"6086440\": 1, \"13149454\": 1, \"3735184\": 1, \"9428662\": 1, \"459146\": 1, \"4186419\": 1, \"14852215\": 1, \"5043761\": 1, \"14842755\": 1, \"9258934\": 1, \"9112434\": 1, \"12346151\": 1, \"13422670\": 1, \"2467486\": 1, \"7874311\": 1, \"14975955\": 1, \"14934138\": 1, \"1736945\": 1, \"9210763\": 1, \"8954228\": 1, \"10341147\": 1, \"11848161\": 1, \"9210807\": 1, \"9210806\": 1, \"756404\": 1, \"13430794\": 1, \"10483908\": 1, \"5741047\": 1, \"15154195\": 1, \"265988\": 1, \"9210512\": 1, \"14296962\": 3, \"7834830\": 1, \"10497217\": 1, \"9210698\": 1, \"15154579\": 1, \"13236578\": 1, \"6072202\": 1, \"14514652\": 1, \"15090186\": 1, \"14516589\": 1, \"13699772\": 1, \"9371948\": 6, \"13947633\": 2, \"10413310\": 1, \"5682639\": 1, \"6811770\": 1, \"10494390\": 1, \"6809143\": 1, \"4312382\": 1, \"13489302\": 1, \"2197494\": 1, \"6901432\": 1, \"5045896\": 2, \"3388685\": 1, \"9210616\": 1, \"11233085\": 1, \"12057162\": 4, \"13341703\": 1, \"14850783\": 1, \"6926008\": 3, \"13824159\": 6, \"59943\": 1, \"8471265\": 1, \"3577042\": 1, \"13429530\": 1, \"10005648\": 2, \"4013927\": 1, \"15009038\": 1, \"15028508\": 1, \"12912450\": 1, \"9210504\": 6, \"17778\": 1, \"9815956\": 1, \"14495686\": 1, \"9254028\": 2, \"13340096\": 1, \"7827702\": 1, \"6114787\": 1, \"6960039\": 1, \"11325862\": 4, \"947819\": 1, \"5719328\": 1, \"14815357\": 1, \"3519307\": 1, \"14663950\": 1, \"12038299\": 1, \"3067302\": 2, \"11419175\": 2, \"13420578\": 1, \"14495859\": 1, \"15041895\": 1, \"7893228\": 1, \"14707394\": 1, \"9302916\": 1, \"644562\": 1, \"15128368\": 1, \"756919\": 2, \"1681487\": 2, \"14106392\": 1, \"14112408\": 2, \"14606432\": 1, \"7834966\": 1, \"10505711\": 1, \"12425630\": 1, \"6137445\": 1, \"1721759\": 1, \"14339329\": 1, \"3274139\": 1, \"9210731\": 1, \"13256428\": 1, \"4422498\": 1, \"14777346\": 1, \"8999903\": 1, \"1478749\": 1, \"12425643\": 3, \"12425640\": 1, \"4423267\": 1, \"5519168\": 1, \"12832733\": 5, \"15115538\": 1, \"14985610\": 1, \"9856815\": 1, \"14517677\": 1, \"7764020\": 1, \"9852052\": 1, \"14750418\": 1, \"14972443\": 2, \"7110603\": 1, \"10448403\": 1, \"4309659\": 1, \"7437038\": 1, \"5682635\": 1, \"10914665\": 1, \"11325909\": 1, \"11695320\": 1, \"230395\": 1, \"7913921\": 1, \"14734088\": 1, \"14754394\": 1, \"13905123\": 1, \"3817056\": 1, \"11008949\": 1, \"14710601\": 1, \"3912713\": 1, \"13695172\": 1, \"12030657\": 1, \"1681499\": 3, \"14602218\": 1, \"1860559\": 1}]\n",
      "\"13601986\"\t[994.1165339556436, \"|\", {\"9838916\": 1, \"1019348\": 1, \"6234329\": 1, \"7639662\": 6, \"1987485\": 1, \"2510636\": 1, \"2311452\": 1, \"1754654\": 1, \"2416260\": 1, \"5213630\": 1, \"3187018\": 1, \"12939221\": 1, \"6351341\": 1, \"10325081\": 1, \"14982276\": 1, \"15076947\": 1, \"10653192\": 1, \"8433013\": 1, \"9934354\": 1, \"11142409\": 1, \"7984582\": 1, \"14650536\": 1, \"4666153\": 1, \"3263629\": 1, \"1488889\": 1, \"8086808\": 1, \"5098025\": 1, \"13601780\": 1, \"15071956\": 1, \"13173918\": 2, \"7653371\": 1, \"4463429\": 1, \"9849194\": 1, \"13600679\": 1, \"14479275\": 1, \"10960537\": 1, \"14986261\": 1, \"4460035\": 1, \"3190026\": 1, \"6206653\": 1, \"11143398\": 1, \"10445265\": 1, \"6700124\": 1, \"3116459\": 5, \"1670967\": 1, \"8360421\": 1, \"5242495\": 3, \"7814699\": 1, \"11457596\": 1, \"11457597\": 1, \"15013019\": 1, \"8803981\": 2, \"1379021\": 1, \"4698837\": 1, \"9965405\": 1, \"13295604\": 1, \"11616082\": 1, \"3058906\": 1, \"4120544\": 1, \"11147327\": 1, \"1105602\": 1, \"15182127\": 1, \"14075727\": 1, \"14952968\": 1, \"2311639\": 1, \"5173907\": 1, \"8039881\": 1, \"12894401\": 2, \"11285111\": 1, \"9599802\": 1, \"13057503\": 2, \"13600445\": 2, \"7878858\": 1, \"7534504\": 1, \"865311\": 1, \"13615401\": 1, \"15089379\": 1, \"5908910\": 1, \"4381243\": 1, \"3705081\": 1, \"10373315\": 1, \"11259637\": 1, \"15043704\": 1, \"12973420\": 2, \"10143705\": 1, \"14851725\": 1, \"2168212\": 1, \"4164107\": 1, \"6061302\": 1, \"1262087\": 3, \"14515869\": 3, \"9838482\": 1, \"5071227\": 3, \"13602006\": 1, \"14765626\": 1, \"14975108\": 1, \"10327716\": 2, \"11943115\": 1, \"13600362\": 2, \"12363488\": 1, \"14686784\": 1, \"8761627\": 3, \"14497311\": 1, \"5722128\": 1, \"7352977\": 2, \"13594401\": 1, \"12960551\": 1, \"13615706\": 1, \"11205459\": 1, \"9752669\": 1, \"14878635\": 1, \"12883561\": 1, \"7653939\": 1, \"12888276\": 1, \"6234018\": 2, \"11085544\": 1, \"5768909\": 1, \"3321765\": 1, \"4699110\": 1, \"10940150\": 1, \"12142213\": 2, \"7844951\": 1, \"13563287\": 1, \"12142216\": 1, \"14086103\": 1, \"13192429\": 1, \"9932690\": 1, \"1012476\": 1, \"11454501\": 1, \"8401840\": 1, \"13129505\": 1, \"14807528\": 1, \"4511546\": 1, \"7443868\": 1, \"6215173\": 1, \"14112583\": 1, \"1673753\": 1, \"13600528\": 1, \"2373907\": 1, \"5743586\": 1, \"2311185\": 4, \"6229625\": 1, \"10246542\": 1, \"9802312\": 1, \"5747604\": 1, \"6235707\": 1, \"6235702\": 1, \"3158151\": 1, \"13896806\": 1, \"2527061\": 3, \"774198\": 1, \"9915082\": 1, \"9436085\": 1, \"14659134\": 2, \"4201891\": 1, \"7883274\": 1, \"5327401\": 1, \"15077226\": 1, \"14774862\": 1, \"6352368\": 1, \"9832432\": 1, \"12973258\": 1, \"15111452\": 1, \"547430\": 1, \"10420076\": 1, \"12162530\": 1, \"13464222\": 1, \"11807912\": 1, \"8359430\": 4, \"8692293\": 2, \"6237129\": 2, \"8374057\": 4, \"14980766\": 1, \"4401233\": 1, \"2509765\": 2, \"6169400\": 1, \"7560271\": 1, \"3883575\": 2, \"5101687\": 2, \"15158587\": 1, \"13600255\": 1, \"4494446\": 1, \"2804438\": 1, \"9116454\": 1, \"2234554\": 1, \"13600311\": 1, \"2548028\": 1, \"14108626\": 1, \"8092172\": 1, \"14752408\": 1, \"5903038\": 1, \"683227\": 2, \"13601976\": 1, \"732793\": 1, \"8415634\": 1, \"8415635\": 1, \"5107737\": 1, \"7401892\": 1, \"14581997\": 1, \"5114827\": 1, \"5031135\": 1, \"14988724\": 1, \"13601803\": 2, \"10118532\": 1, \"12416626\": 1, \"12711562\": 1, \"1671796\": 1, \"7257862\": 1, \"3991429\": 1, \"11148584\": 1, \"1112100\": 1, \"14500823\": 1, \"14495686\": 1, \"10278721\": 3, \"8014033\": 1, \"11454558\": 1, \"2279970\": 4, \"4804440\": 1, \"3884390\": 2, \"14580001\": 1, \"11695724\": 1, \"10298924\": 1, \"8678270\": 6, \"9669091\": 1, \"3386446\": 2, \"13600457\": 1, \"13600452\": 4, \"5110320\": 4, \"11657997\": 1, \"13600686\": 2, \"5097683\": 1, \"3762178\": 3, \"13600682\": 1, \"4517074\": 1, \"4381258\": 1, \"5264472\": 1, \"12147531\": 1, \"13201771\": 1, \"462297\": 1, \"10426835\": 1, \"5060530\": 1, \"14680335\": 1, \"1172383\": 1, \"11450342\": 1, \"14770254\": 1, \"8075431\": 1, \"9966084\": 1, \"1644242\": 1, \"11814671\": 1, \"1345199\": 1, \"7534568\": 1, \"14962823\": 1, \"2578611\": 1, \"2365374\": 2, \"14216199\": 1, \"11724685\": 2, \"1562229\": 1, \"14574582\": 1, \"13047780\": 2, \"1296746\": 1, \"932266\": 1, \"10426416\": 1, \"734341\": 2, \"734347\": 3, \"13733230\": 1, \"4764952\": 1, \"15117674\": 1, \"4615690\": 2, \"15159874\": 1, \"10420081\": 1, \"10420083\": 3, \"7155410\": 1, \"11884259\": 1, \"12836211\": 1, \"4673942\": 1, \"2060526\": 1, \"11454548\": 1, \"15049475\": 1, \"4600660\": 1, \"12939295\": 1, \"2586824\": 1, \"6083779\": 1, \"12548933\": 1, \"14888004\": 1, \"6226762\": 1, \"13097966\": 1, \"1031522\": 1, \"14081582\": 1, \"9966875\": 1, \"11481870\": 2, \"10298553\": 1, \"10903448\": 6, \"7466496\": 1, \"9226281\": 1, \"10298361\": 1, \"13383446\": 1, \"707777\": 1, \"14884057\": 1, \"14648697\": 1, \"4539878\": 1, \"6901573\": 1, \"5100532\": 1, \"13201791\": 1, \"13201790\": 2, \"817553\": 1, \"3534513\": 1, \"9828353\": 2, \"5939831\": 1, \"1424030\": 1, \"5247186\": 1, \"10915658\": 1, \"11458711\": 1, \"13864794\": 1, \"14551610\": 1, \"5833122\": 2, \"4107137\": 1, \"12549591\": 1, \"3120934\": 1, \"11942885\": 1, \"1436005\": 1, \"12947069\": 1, \"2252975\": 1, \"4263976\": 1, \"5102868\": 1, \"13601889\": 1, \"3424386\": 1, \"15171656\": 1, \"1084323\": 1, \"1285330\": 1, \"10135416\": 1, \"3550530\": 1, \"14714283\": 1, \"10278325\": 1, \"12343910\": 1, \"15177186\": 1, \"15091849\": 1, \"2797855\": 1, \"15151392\": 1, \"8983966\": 1, \"13701274\": 1, \"14987554\": 1, \"13685910\": 1, \"15126902\": 1, \"2365365\": 1, \"2509756\": 2, \"13215136\": 1, \"2552456\": 1, \"15028449\": 1, \"9306476\": 1, \"13279704\": 1, \"4579639\": 1, \"12925229\": 1, \"14733634\": 1, \"14497408\": 1, \"6234079\": 1, \"2415849\": 1, \"9226907\": 2, \"14796576\": 1, \"9091328\": 5, \"13380363\": 1, \"14531852\": 1, \"9914573\": 1, \"8659532\": 1, \"9091327\": 4, \"11148262\": 1, \"8093138\": 1, \"8985625\": 1, \"12910085\": 2, \"8973503\": 1, \"742036\": 1, \"15173346\": 1, \"14951445\": 1, \"14734799\": 2, \"15028599\": 1, \"6234673\": 1, \"2183253\": 1, \"7809317\": 1, \"10657093\": 1, \"12781922\": 1, \"12661890\": 1, \"10960471\": 2, \"3762184\": 2, \"15018600\": 1, \"12363489\": 1, \"12179591\": 1, \"2949058\": 1, \"4204874\": 1, \"5100443\": 2, \"14657630\": 1, \"9933463\": 1, \"3262404\": 1, \"11506914\": 1, \"14695912\": 1, \"12893452\": 1, \"13632479\": 1, \"14658232\": 1, \"6234954\": 1, \"13732755\": 1, \"3974444\": 1, \"1206348\": 1, \"10278498\": 4, \"8448791\": 1, \"4498850\": 1, \"5114546\": 1, \"5839569\": 2, \"14954196\": 1, \"8359412\": 1, \"3974052\": 1, \"2586734\": 1, \"2558570\": 1, \"2444657\": 3, \"13600338\": 1, \"10880159\": 1, \"10151380\": 1, \"6226803\": 1, \"13600335\": 3, \"9453203\": 1, \"8357167\": 1, \"7879438\": 1, \"11099720\": 1, \"4970770\": 3, \"14809275\": 1, \"4061482\": 1, \"8352011\": 1, \"14730019\": 1, \"7155544\": 1, \"13699306\": 1, \"14512235\": 1, \"3546826\": 1, \"11784484\": 1, \"890682\": 4, \"9647510\": 1, \"3410186\": 1, \"12337654\": 1, \"14788295\": 1, \"2311281\": 1, \"5803677\": 1, \"10917074\": 4, \"5209033\": 1, \"14568982\": 1, \"15090914\": 1, \"8938734\": 1, \"3232776\": 1, \"8269559\": 1, \"13650392\": 1, \"13600476\": 1, \"10916748\": 1, \"13600579\": 4, \"7645166\": 1, \"6394841\": 1, \"11618047\": 1, \"1710685\": 3, \"10420115\": 2, \"11457688\": 1, \"13676434\": 1, \"10420054\": 1, \"14598174\": 1, \"9015992\": 1, \"3817063\": 1, \"11450413\": 2, \"13235024\": 1, \"3536241\": 1, \"3536242\": 1, \"3536243\": 2, \"10054935\": 1, \"8572368\": 1, \"11854235\": 1, \"14914839\": 1, \"2365384\": 1, \"2448606\": 1, \"12368827\": 1, \"10083019\": 1, \"5050305\": 1, \"1753979\": 1, \"889297\": 1, \"6215242\": 1, \"13191428\": 1, \"13601916\": 1, \"12825095\": 2, \"13600408\": 2, \"13601857\": 2, \"3789185\": 1, \"4410288\": 1, \"6648748\": 1, \"13615391\": 1, \"8349930\": 1, \"14294567\": 1, \"8218199\": 1, \"2691122\": 2, \"1437553\": 1, \"12142206\": 1, \"8013696\": 1, \"2464243\": 1, \"13099276\": 1, \"9838325\": 1, \"11349387\": 1, \"10751426\": 1, \"10243753\": 2, \"4681625\": 3, \"2377451\": 1, \"1253084\": 1, \"1858777\": 1, \"8163986\": 1, \"1130328\": 2, \"10444915\": 1, \"6225829\": 1, \"14846829\": 1, \"1831148\": 1, \"3885512\": 1, \"14517174\": 1, \"8092029\": 1, \"2451987\": 1, \"9915071\": 1, \"9915077\": 1, \"14959203\": 1, \"13286017\": 1, \"11846793\": 1, \"12892504\": 1, \"7005984\": 1, \"6523454\": 2, \"679753\": 1, \"11170833\": 1, \"14550156\": 1, \"10118695\": 2, \"9226622\": 1, \"4367906\": 1, \"6674786\": 1, \"7563802\": 1, \"13600409\": 1, \"2365372\": 1, \"1528531\": 1, \"13018769\": 1, \"14670980\": 1, \"7534540\": 1, \"4699813\": 1, \"14650540\": 1, \"14497188\": 1, \"942633\": 1, \"1132711\": 1, \"10915664\": 1, \"3577223\": 1, \"1868176\": 1}]\n",
      "\"11253108\"\t[9935.4997287211136, \"|\", {\"9010652\": 1, \"7185509\": 1, \"15029776\": 1, \"3027591\": 1, \"3027592\": 1, \"11391533\": 1, \"10037703\": 1, \"6945012\": 1, \"12154651\": 1, \"12290877\": 2, \"12154657\": 1, \"13420591\": 1, \"6809071\": 1, \"4638905\": 1, \"14581345\": 1, \"15097487\": 1, \"3577647\": 1, \"7834576\": 1, \"3974598\": 1, \"6044856\": 1, \"11246294\": 2, \"3027663\": 1, \"8384491\": 1, \"12358160\": 3, \"4185021\": 1, \"897783\": 1, \"12067886\": 1, \"6248979\": 1, \"6248978\": 1, \"14711023\": 1, \"12067559\": 1, \"14903324\": 1, \"15190799\": 1, \"9421766\": 1, \"8794917\": 1, \"12590315\": 5, \"9590709\": 1, \"10561364\": 1, \"11680523\": 1, \"14870874\": 1, \"1925648\": 1, \"4846972\": 1, \"13582267\": 1, \"3587861\": 1, \"10464982\": 1, \"11256054\": 1, \"14107006\": 1, \"10331766\": 1, \"14923780\": 1, \"14489289\": 1, \"9521481\": 1, \"15157421\": 1, \"6208499\": 1, \"3547642\": 1, \"12904323\": 1, \"1761897\": 1, \"13835337\": 1, \"14491469\": 1, \"5345422\": 1, \"3235970\": 2, \"11254978\": 1, \"8299482\": 1, \"14295324\": 1, \"8110637\": 1, \"8373173\": 1, \"13430335\": 1, \"3176577\": 2, \"8437183\": 1, \"1357378\": 2, \"13414672\": 1, \"1809158\": 3, \"10587874\": 1, \"4549806\": 1, \"13835596\": 1, \"2311185\": 2, \"12479355\": 1, \"2311348\": 1, \"9461535\": 1, \"13721276\": 1, \"7555907\": 1, \"5243453\": 2, \"12058607\": 1, \"14602218\": 1, \"11253010\": 1, \"11253545\": 1, \"8498072\": 1, \"414588\": 1, \"11256047\": 1, \"14930066\": 1, \"11679083\": 1, \"14629105\": 1, \"14629106\": 1, \"14617774\": 1, \"8795329\": 2, \"416366\": 1, \"10392118\": 1, \"3118870\": 2, \"9581836\": 1, \"13949151\": 1, \"2343078\": 2, \"14927959\": 1, \"13488640\": 2, \"13420584\": 1, \"14882477\": 1, \"11604758\": 2, \"3750139\": 1, \"11253383\": 1, \"12067722\": 1, \"13716429\": 1, \"11253388\": 1, \"4579273\": 1, \"13222056\": 1, \"6134918\": 1, \"13719619\": 1, \"12067898\": 1, \"3177759\": 1, \"14929018\": 1, \"12068391\": 1, \"12067544\": 1, \"6248968\": 2, \"14908421\": 1, \"5028269\": 1, \"13713951\": 1, \"11882397\": 1, \"2681910\": 1, \"9334013\": 1, \"14180435\": 1, \"11220382\": 1, \"14180438\": 2, \"9562547\": 1, \"12108289\": 1, \"14630091\": 1, \"11377090\": 1, \"5223100\": 1, \"8605965\": 1, \"14196581\": 1, \"7333344\": 1, \"9096127\": 1, \"13191363\": 1, \"14542671\": 1, \"9579876\": 2, \"6044887\": 1, \"8954228\": 1, \"3016656\": 1, \"9458100\": 1, \"14935669\": 1, \"7026138\": 1, \"14874960\": 1, \"14985873\": 1, \"11677279\": 1, \"15102576\": 1, \"2666712\": 1, \"1524012\": 1, \"1153206\": 1, \"2252975\": 1, \"9877771\": 1, \"11254290\": 1, \"1761711\": 1, \"10390714\": 1, \"7163413\": 1, \"14691604\": 1, \"15015217\": 1, \"4501503\": 1, \"4661358\": 1, \"14714492\": 1, \"14112682\": 1, \"14112685\": 2, \"6979685\": 1, \"9112673\": 1, \"13717050\": 4, \"4272915\": 1, \"7026234\": 3, \"13275222\": 1, \"14810881\": 1, \"4934171\": 1, \"10520135\": 1, \"11256298\": 1, \"8726500\": 1, \"375023\": 1, \"7952964\": 1, \"9302916\": 1, \"14603642\": 1, \"920084\": 1, \"7634863\": 2, \"6149280\": 1, \"14694028\": 1, \"12785678\": 1, \"12067398\": 1, \"1728412\": 1, \"12067401\": 1, \"2741666\": 2, \"3119511\": 1, \"11253626\": 2, \"11256455\": 1, \"11256456\": 1, \"11256452\": 1, \"11934335\": 1, \"4571353\": 2, \"14118467\": 1, \"11253441\": 1, \"13573298\": 2, \"9381842\": 1, \"13573294\": 1, \"14061418\": 1, \"10156454\": 1, \"1348440\": 1, \"1649073\": 1, \"303804\": 1, \"14609275\": 1, \"14609277\": 1, \"14261191\": 1, \"7437012\": 1, \"7819218\": 1, \"4667807\": 1, \"3071257\": 1, \"15164428\": 1, \"410111\": 1, \"9579849\": 3, \"2765181\": 1, \"588577\": 1, \"7110019\": 1, \"13252081\": 1, \"8561718\": 1, \"14530353\": 1, \"14601125\": 1, \"1073885\": 1, \"4302432\": 1, \"6104151\": 1, \"13177256\": 1, \"9362843\": 1, \"2882704\": 1, \"7608540\": 1, \"1631707\": 1, \"2882708\": 1, \"13714943\": 1, \"14972711\": 1, \"3100146\": 1, \"2893493\": 2, \"4341594\": 1, \"2311214\": 1, \"3968590\": 1, \"4342253\": 1, \"6909115\": 1, \"6076759\": 1, \"14715995\": 1, \"13948777\": 1, \"9460739\": 1, \"13948773\": 2, \"11255712\": 1, \"14730547\": 1, \"11255716\": 1, \"14816648\": 1, \"8314166\": 1, \"9029656\": 2, \"7161369\": 1, \"2882803\": 2, \"4349750\": 1, \"14589137\": 1, \"3749004\": 1, \"899479\": 1, \"1728390\": 4, \"4554120\": 1, \"14694254\": 1, \"11377173\": 2, \"4273162\": 1, \"10739215\": 1, \"13422907\": 1, \"12067384\": 2, \"7399286\": 2, \"7295833\": 1, \"14937351\": 1, \"9485695\": 1, \"13748162\": 1, \"4963379\": 1, \"14871408\": 1, \"7218731\": 1, \"2297370\": 1, \"11256661\": 1, \"9849436\": 1, \"1425580\": 1, \"11849369\": 1, \"923868\": 1, \"14908208\": 1, \"8795767\": 1, \"11257004\": 1, \"4177289\": 1, \"11253036\": 1, \"11677196\": 1, \"13716376\": 1, \"6025769\": 1, \"8953987\": 2, \"921604\": 1, \"13252043\": 1, \"8795294\": 1, \"4341575\": 1, \"1348455\": 1, \"15022167\": 1, \"14550722\": 1, \"14768201\": 1, \"4174854\": 1, \"11246483\": 1, \"2264668\": 1, \"13718650\": 1, \"4346387\": 1, \"14540225\": 1, \"3748737\": 1, \"11703929\": 1, \"8910606\": 1, \"6044958\": 1, \"1885262\": 1, \"6141595\": 4, \"11828906\": 1, \"11972995\": 1, \"14708487\": 1, \"14734674\": 1, \"947716\": 1, \"2578099\": 2, \"14752022\": 1, \"3781262\": 1, \"7297150\": 2, \"13719816\": 3, \"9536068\": 1, \"13220892\": 1, \"11423182\": 1, \"9385116\": 1, \"14903318\": 1, \"14941840\": 1, \"10634231\": 2, \"1753592\": 1, \"2891659\": 1, \"15135871\": 1, \"3706140\": 1, \"2184932\": 1, \"13032978\": 2, \"6221545\": 1, \"12716072\": 1, \"6242767\": 1, \"7569886\": 1, \"7163432\": 1, \"10504830\": 1, \"1991928\": 5, \"2070874\": 1, \"8801421\": 1, \"11254923\": 1, \"5175308\": 3, \"14108657\": 1, \"1137764\": 1, \"54329\": 1, \"6245316\": 1, \"10494456\": 4, \"9002219\": 1, \"10088690\": 1, \"6246689\": 2, \"11256272\": 1, \"11256273\": 2, \"7634843\": 1, \"11818072\": 2, \"14104569\": 1, \"14715186\": 1, \"15018600\": 1, \"13923972\": 1, \"10844258\": 1, \"946858\": 1, \"546294\": 1, \"15125432\": 1, \"3969415\": 3, \"7123850\": 3, \"11255893\": 1, \"11255898\": 1, \"3705374\": 1, \"12640070\": 1, \"9010439\": 3, \"4107339\": 1, \"11678525\": 1, \"11256387\": 1, \"5267667\": 1, \"7227160\": 1, \"5908910\": 1, \"1748184\": 1, \"8817157\": 1, \"9057927\": 1, \"10895080\": 1, \"15098150\": 1, \"7952830\": 1, \"3969409\": 1, \"9588782\": 1, \"13611283\": 1, \"916369\": 1, \"4500181\": 1, \"8561304\": 1, \"14859116\": 1, \"11256491\": 1, \"3236099\": 1, \"10643453\": 1, \"7123806\": 4, \"14896818\": 1, \"11934958\": 1, \"5885273\": 1, \"7564335\": 1, \"1755227\": 1, \"7464057\": 1, \"14220280\": 1, \"11257639\": 1, \"4341566\": 1, \"15008360\": 1, \"14581379\": 1, \"14585480\": 1, \"3142439\": 1, \"3236081\": 1, \"8659519\": 1, \"9555933\": 1, \"8672921\": 1, \"1523975\": 1, \"6146913\": 1, \"11159878\": 1, \"12932017\": 1, \"13548942\": 1, \"14928448\": 1, \"2854033\": 3, \"10093854\": 1, \"14669412\": 1, \"10855635\": 1, \"12830161\": 1, \"1753555\": 2, \"12169864\": 1, \"3746878\": 1, \"6523231\": 1, \"14822403\": 1, \"980993\": 1, \"3554821\": 1, \"12069764\": 1, \"9881937\": 1, \"11685022\": 1, \"7228668\": 2, \"9838457\": 1, \"13384393\": 1, \"11655635\": 1, \"14183560\": 1, \"12458852\": 1, \"10918192\": 1, \"6428850\": 1, \"7569966\": 1, \"9771926\": 1, \"11254932\": 1, \"10861119\": 2, \"7405324\": 1, \"11818206\": 1, \"15062497\": 2, \"15040421\": 2, \"4422440\": 1, \"14220298\": 1, \"6963858\": 1, \"14750418\": 1, \"12124654\": 1, \"8262228\": 1, \"1251570\": 1, \"7026201\": 1, \"11254642\": 1, \"12169880\": 1, \"11033978\": 1, \"9436729\": 1, \"7565440\": 1, \"6244693\": 1, \"7227371\": 1, \"15040225\": 1, \"11255600\": 1, \"14952975\": 1, \"8399054\": 1, \"7123849\": 1, \"14474164\": 1, \"2019450\": 1, \"11256006\": 1, \"11256004\": 2, \"11253299\": 1, \"9422970\": 1, \"7246100\": 1, \"12526526\": 1, \"3244094\": 1, \"5973739\": 3, \"8982971\": 1, \"4554004\": 1, \"14664061\": 1, \"12479241\": 1, \"9265091\": 1, \"15068648\": 1, \"15068649\": 1, \"14715240\": 1, \"12947482\": 2, \"14502910\": 1, \"11256644\": 1, \"1015286\": 2, \"15092972\": 1, \"9457771\": 1, \"10318131\": 1, \"15183893\": 1, \"14744379\": 1, \"10151125\": 1, \"13716173\": 1, \"11679868\": 1, \"14963745\": 1, \"14913797\": 1, \"8944063\": 1, \"7025905\": 4, \"6971265\": 2, \"13727961\": 2, \"8429232\": 1, \"14670083\": 1, \"1198391\": 1, \"2553926\": 1, \"11968960\": 3, \"1755433\": 1, \"14301319\": 1, \"7107155\": 1, \"13224221\": 1, \"10527795\": 1, \"11255575\": 1, \"14778033\": 1, \"15029275\": 1, \"6044976\": 1, \"862916\": 1, \"14269852\": 2, \"13489918\": 1, \"9553000\": 1, \"8862100\": 2, \"11700090\": 3, \"8954061\": 1, \"10903448\": 1, \"1357791\": 1, \"5343894\": 1, \"9010009\": 2, \"7857492\": 1, \"13383446\": 4, \"5022407\": 2, \"3274468\": 1, \"14744978\": 1, \"9457903\": 1, \"11254093\": 1, \"12665879\": 1, \"7403507\": 1, \"13035310\": 1, \"13035312\": 1, \"13718740\": 1, \"15135858\": 1, \"1563943\": 1, \"13727742\": 2, \"9078485\": 1, \"9643377\": 1, \"13251846\": 1, \"14106386\": 1, \"14529994\": 1, \"1423461\": 1, \"14064279\": 1, \"9027483\": 1, \"923080\": 1, \"1668371\": 1, \"7569975\": 1, \"10384173\": 1, \"11248176\": 1, \"13547868\": 1, \"7027870\": 1, \"15092111\": 1, \"5690920\": 1, \"14546040\": 1, \"14693997\": 1, \"1379437\": 1, \"14930940\": 1, \"14693998\": 1, \"14112080\": 1, \"14930782\": 1, \"11254077\": 2, \"11818175\": 1, \"11184589\": 1, \"14777421\": 1, \"6208234\": 1, \"9226907\": 1, \"6147125\": 1, \"4438065\": 1, \"10916410\": 2, \"4745126\": 1, \"13328060\": 1, \"11255611\": 1, \"14952582\": 1, \"14183601\": 1, \"13846272\": 1, \"2175604\": 1, \"13882973\": 1, \"992085\": 1, \"13701271\": 1, \"12367618\": 1, \"15068650\": 1, \"14921449\": 1, \"14840653\": 1, \"14840651\": 1, \"1696641\": 1, \"10200504\": 1, \"525614\": 1, \"8954722\": 1, \"14750404\": 1, \"1198126\": 1, \"4945791\": 1, \"14512605\": 1, \"11604782\": 2, \"13553752\": 1, \"15155273\": 1, \"14549459\": 1, \"4235729\": 2, \"1224839\": 1, \"9543384\": 1, \"12745924\": 1, \"6964872\": 1, \"13659878\": 1, \"1345161\": 1, \"192276\": 2, \"13949075\": 1, \"13312665\": 1, \"14769702\": 1, \"5839560\": 1, \"14817016\": 1, \"14809058\": 1, \"4773698\": 1, \"4375269\": 1, \"1040182\": 1, \"11257292\": 1, \"7608982\": 1, \"11246306\": 2, \"740429\": 1, \"3186319\": 4, \"8980475\": 1, \"3748529\": 1, \"14810588\": 1, \"1586338\": 3, \"12590371\": 3, \"2095048\": 2, \"11257501\": 1, \"11257508\": 1, \"588540\": 1, \"1450339\": 1, \"11148772\": 1, \"5898389\": 1, \"14802353\": 1, \"2279918\": 1, \"14558419\": 1, \"14860532\": 1, \"11148396\": 1, \"14893495\": 1, \"3972403\": 1, \"15184049\": 1, \"14196646\": 1, \"10916175\": 1, \"14629739\": 1, \"11769469\": 1, \"3948895\": 1, \"14216415\": 1, \"16784\": 1, \"12148551\": 1, \"4505244\": 1, \"14714917\": 1, \"15099012\": 1, \"3974014\": 3, \"14530733\": 1, \"14530732\": 1, \"2060251\": 1, \"9158005\": 1, \"11172671\": 1, \"11942606\": 1, \"14853383\": 1, \"7191501\": 1, \"14913305\": 1, \"15099700\": 1, \"14777545\": 1, \"9969338\": 1, \"14596424\": 1, \"4652993\": 1, \"15152630\": 1, \"14394706\": 1, \"10209367\": 1, \"11254065\": 4, \"9460791\": 1, \"9881193\": 1, \"2019460\": 1, \"9959379\": 1, \"826525\": 1, \"3783020\": 1, \"6004411\": 1, \"11913140\": 1, \"4980449\": 1, \"9158035\": 1, \"15061653\": 1, \"9158037\": 1, \"15171492\": 1, \"11677351\": 1, \"10391566\": 1, \"15094370\": 1, \"4643168\": 1, \"13748214\": 1, \"12500843\": 1, \"934800\": 1, \"15065893\": 1, \"7834615\": 2, \"18032\": 1, \"11549172\": 1, \"12067104\": 1, \"7834618\": 2, \"14834295\": 1, \"14816998\": 2, \"14214522\": 1, \"5266385\": 1, \"5267250\": 1, \"14546984\": 1, \"8795145\": 1, \"8795494\": 1, \"14103890\": 1, \"9693244\": 1, \"9242064\": 1, \"14694168\": 1, \"4350909\": 1, \"12348750\": 1, \"13659805\": 1, \"12067030\": 3, \"12067741\": 1, \"12358277\": 1, \"14496219\": 1, \"2741835\": 1, \"6931641\": 1, \"13037005\": 1, \"11256025\": 1, \"11391615\": 2, \"14602762\": 2, \"9485723\": 1, \"14618658\": 1, \"14817007\": 1, \"14301158\": 1, \"14817003\": 1, \"14965584\": 1, \"8795033\": 1, \"1194127\": 1, \"417076\": 4, \"13384691\": 2, \"14540596\": 1, \"7834877\": 1, \"9096367\": 1, \"6248175\": 1, \"3969234\": 1, \"12590140\": 1, \"8496439\": 1, \"9712652\": 1, \"14719187\": 1, \"15098863\": 1, \"10400147\": 1, \"9588646\": 1, \"1249656\": 1, \"11934982\": 1, \"14765925\": 1, \"1220028\": 1, \"10202055\": 2, \"10213319\": 1, \"5173493\": 1, \"13718765\": 2, \"15024447\": 2, \"13201361\": 1, \"14913932\": 1, \"10086324\": 1, \"7296800\": 1, \"15150141\": 1, \"9468888\": 1, \"3772691\": 1, \"2070836\": 1, \"11253405\": 1, \"14739446\": 2, \"13656895\": 1, \"923334\": 1, \"10856830\": 1, \"12185443\": 1, \"14475556\": 1, \"11681883\": 2, \"6245424\": 1, \"15009324\": 1, \"15009326\": 1, \"12800257\": 1, \"13291300\": 1, \"3576267\": 1, \"4834417\": 1, \"11254988\": 3, \"14750421\": 1, \"11254699\": 1, \"13739257\": 1, \"13032798\": 1, \"15030150\": 1, \"15009038\": 1, \"3235906\": 1, \"8399065\": 1, \"12561161\": 1, \"11252849\": 2, \"11149257\": 1, \"2617312\": 1, \"5046091\": 1, \"14914235\": 1, \"2252597\": 1, \"5506393\": 1, \"920017\": 2, \"9803970\": 1, \"1699002\": 1, \"13553592\": 1, \"13193107\": 1, \"11256169\": 1, \"9253335\": 2, \"9916190\": 1, \"4841830\": 2, \"4128186\": 1, \"12067009\": 1, \"15018061\": 1, \"14694088\": 1, \"11256588\": 1, \"6931672\": 1, \"11301095\": 1, \"11354768\": 1, \"14774346\": 1, \"13549724\": 1, \"9681225\": 1, \"15132839\": 1, \"13727930\": 1, \"14910498\": 1, \"6075433\": 1, \"14908651\": 2, \"1350483\": 1, \"4568647\": 1, \"10200523\": 1, \"3027759\": 1, \"15019539\": 1, \"14716020\": 1, \"7927781\": 1, \"10208346\": 1, \"3497176\": 1, \"915886\": 1, \"14495859\": 1, \"7290560\": 1, \"11260403\": 1, \"13281085\": 2, \"13281084\": 1, \"13704913\": 1, \"7932718\": 1, \"1884852\": 1, \"13715855\": 2, \"10202056\": 1, \"14875760\": 1, \"6934465\": 1, \"8524419\": 2, \"11677167\": 1, \"3973116\": 2, \"9420386\": 1, \"8954051\": 1, \"12069547\": 1, \"9804172\": 1, \"8857844\": 1, \"11423175\": 1, \"11263287\": 1, \"13429438\": 2, \"13727796\": 3, \"13727793\": 1, \"1860972\": 1, \"7608347\": 1, \"3328327\": 1, \"4504662\": 1, \"4050878\": 1, \"12394816\": 1, \"5766266\": 1, \"4834252\": 1, \"4508380\": 1, \"14967579\": 1, \"3245866\": 1, \"10327314\": 1, \"15132289\": 1, \"1678576\": 1, \"321985\": 1, \"14885164\": 1, \"4783864\": 1, \"14508784\": 1, \"5302798\": 1, \"10855469\": 2, \"5874412\": 1, \"7469054\": 2, \"12759593\": 1, \"7570139\": 1, \"14602565\": 1, \"9685245\": 1, \"15142652\": 1, \"10916420\": 1, \"13835354\": 1, \"15062505\": 2, \"14508258\": 1, \"14647425\": 3, \"14508253\": 1, \"11678066\": 1, \"2907332\": 1, \"13853369\": 1, \"6979637\": 1, \"7446028\": 1, \"9332261\": 1, \"12838891\": 1, \"9803960\": 1, \"12631307\": 1, \"8795831\": 1, \"14737733\": 1, \"2553899\": 3, \"6206562\": 1, \"14840754\": 1, \"9627330\": 1, \"11256596\": 1, \"11256591\": 1, \"14675097\": 1, \"14675098\": 1, \"6025261\": 1, \"11253326\": 1, \"10201336\": 1, \"441789\": 1, \"15108442\": 1, \"13645540\": 2, \"7780773\": 1, \"14654953\": 1, \"14908628\": 1, \"11254295\": 1, \"935718\": 1, \"15046559\": 1, \"923910\": 3, \"11256688\": 1, \"1153823\": 1, \"9461777\": 1, \"14854562\": 1, \"3027748\": 1, \"9096341\": 1, \"11370182\": 3, \"1450343\": 1, \"10634452\": 1, \"10421130\": 1, \"5248263\": 1, \"65916\": 1, \"3554234\": 1, \"14968342\": 1, \"15067353\": 1, \"12148288\": 1, \"15029839\": 2, \"13581488\": 1, \"7216086\": 1, \"11604691\": 1, \"9010044\": 3, \"12068339\": 1, \"5697531\": 1, \"8113233\": 1, \"13718410\": 1, \"13854815\": 1, \"13854810\": 1, \"12163432\": 1, \"309132\": 1, \"4214542\": 1, \"6825584\": 1, \"7180222\": 1, \"14671962\": 1, \"1668330\": 1, \"15132290\": 1, \"2285250\": 1, \"4835595\": 1, \"14696378\": 1, \"7554130\": 1, \"3974444\": 1, \"478558\": 1, \"2615513\": 1, \"14954196\": 1, \"4422498\": 1, \"14515604\": 2, \"7226788\": 1, \"899561\": 1, \"15121047\": 1, \"14810803\": 1, \"5125191\": 1, \"10855457\": 1, \"3544484\": 1, \"14526765\": 1, \"11950866\": 1, \"6077007\": 1, \"14272606\": 1, \"9670690\": 1, \"15132345\": 1, \"251924\": 1, \"15048508\": 1, \"14701091\": 1, \"4340306\": 1, \"4340301\": 1, \"11763838\": 1, \"12592390\": 1, \"662265\": 1, \"11255817\": 1, \"12479232\": 1, \"2311281\": 1, \"157090\": 1, \"10761613\": 1, \"9291682\": 1, \"13640106\": 1, \"12424142\": 1, \"14468425\": 1, \"11252790\": 1, \"14987956\": 2, \"10100783\": 1, \"11256214\": 1, \"14894128\": 1, \"4805153\": 1, \"9460741\": 1, \"11678499\": 1, \"12379452\": 1, \"12166093\": 1, \"14112684\": 1, \"15045961\": 1, \"9963424\": 1, \"7237474\": 1, \"14999070\": 1, \"4888527\": 1, \"5220848\": 1, \"11727331\": 1, \"14836136\": 1, \"11253352\": 1, \"3116265\": 1, \"2741880\": 1, \"14545006\": 1, \"486395\": 1, \"14317155\": 1, \"11246431\": 1, \"11246437\": 1, \"898889\": 1, \"11252881\": 3, \"6169652\": 1, \"7457388\": 1, \"10894446\": 1, \"11620983\": 1, \"14697785\": 1, \"6145888\": 1, \"14811810\": 1, \"410942\": 1, \"11282800\": 1, \"7442579\": 1, \"6025327\": 1, \"10662560\": 1, \"1350596\": 1, \"11252949\": 1, \"11701828\": 1, \"12071716\": 1, \"13704440\": 1, \"224860\": 1, \"4472097\": 1, \"1721649\": 1, \"4774203\": 1, \"14651067\": 1, \"14774430\": 1, \"5080256\": 1, \"9461899\": 1, \"12315079\": 1, \"14810071\": 1, \"9282913\": 1, \"4396260\": 1, \"14767670\": 1, \"14913909\": 2, \"4834180\": 1, \"12069856\": 1, \"15088110\": 1, \"15101070\": 2, \"14747250\": 1, \"14722775\": 1, \"11254714\": 1, \"2294506\": 1, \"13727688\": 1, \"14853102\": 1, \"6105268\": 1, \"13380789\": 1, \"8448156\": 1, \"12431073\": 1, \"14821843\": 1, \"13290071\": 1, \"3607631\": 1, \"12120774\": 1, \"2311452\": 1, \"8816992\": 1, \"14690681\": 1, \"14948377\": 1, \"13717689\": 1, \"4344023\": 1, \"14503918\": 1, \"15051442\": 1, \"12826361\": 1, \"14208256\": 1, \"4374914\": 1, \"13657008\": 1, \"14064007\": 1, \"14112380\": 1, \"11256971\": 1, \"11680965\": 1, \"6188342\": 1, \"5789809\": 1, \"2780015\": 1, \"4574970\": 1, \"4159153\": 1, \"2584063\": 1, \"15090104\": 1, \"14893654\": 1, \"14628274\": 1, \"14219791\": 1, \"1110417\": 1, \"1137798\": 1, \"15004750\": 1, \"5220303\": 1, \"14894155\": 2, \"8726848\": 1, \"724519\": 1, \"11861793\": 1, \"11255771\": 1, \"14647356\": 1, \"14727222\": 1, \"2311639\": 1, \"14941138\": 1, \"2307851\": 1, \"1809537\": 1, \"11253698\": 2, \"283583\": 1, \"12553363\": 1, \"12358232\": 1, \"12358231\": 1, \"5027677\": 1, \"10916617\": 1, \"1110810\": 1, \"3067271\": 3, \"3748824\": 1, \"5262806\": 1, \"5267182\": 1, \"6144438\": 3, \"14916434\": 1, \"13222096\": 1, \"11184971\": 10, \"6247559\": 2, \"11256557\": 1, \"12345767\": 1, \"15127872\": 1, \"1152996\": 1, \"15082371\": 1, \"6206430\": 1, \"13426811\": 1, \"11255565\": 1, \"4092107\": 1, \"11483487\": 1, \"6144724\": 1, \"11226473\": 1, \"12067699\": 1, \"11185759\": 1, \"1758838\": 1, \"14833025\": 1, \"9010668\": 1, \"9578589\": 1, \"1450369\": 1, \"10219610\": 1, \"9552751\": 2, \"903294\": 1, \"14668862\": 1, \"13718238\": 1, \"3965352\": 1, \"9581506\": 1, \"13176191\": 3, \"13176193\": 1, \"14575449\": 1, \"12175511\": 1, \"6934459\": 1, \"11681510\": 1, \"900034\": 1, \"10937033\": 1, \"14767665\": 1, \"6772624\": 1, \"12416376\": 1, \"14903406\": 1, \"12213043\": 1, \"12213048\": 2, \"14910901\": 1, \"5693079\": 1, \"9018626\": 1, \"15068824\": 2, \"6939849\": 1, \"11415495\": 1, \"2096172\": 3, \"14220308\": 1, \"2070749\": 1, \"13426620\": 1, \"14535175\": 1, \"14514663\": 2, \"14903665\": 1, \"14767204\": 1, \"6416278\": 1, \"12395403\": 1, \"7163903\": 1, \"6105277\": 1, \"8448144\": 1, \"969131\": 1, \"14826800\": 1, \"10691200\": 1, \"14490929\": 1, \"7533984\": 1, \"11254947\": 1, \"3964747\": 1, \"11255787\": 1, \"11699319\": 1, \"13333720\": 1, \"4489160\": 1, \"15148860\": 1, \"14945056\": 1, \"10399853\": 1, \"12066245\": 1, \"14939645\": 1, \"899343\": 1, \"11040443\": 1, \"7569808\": 1, \"12067159\": 1, \"11254780\": 4, \"14571740\": 1, \"13717651\": 1, \"6193480\": 1, \"2265416\": 1, \"6811720\": 1, \"6035928\": 1, \"1657050\": 2, \"13701260\": 1, \"13605082\": 1, \"11255301\": 1, \"9366666\": 1, \"3120642\": 1, \"10015497\": 1, \"14683242\": 1, \"14806186\": 1, \"13177275\": 1, \"12066113\": 1, \"7107125\": 1, \"1650595\": 1, \"920052\": 2, \"2758734\": 1, \"9581885\": 1, \"8796641\": 1, \"12424122\": 1, \"14894146\": 2, \"15155988\": 1, \"14893262\": 1, \"14894148\": 1, \"924807\": 1, \"6168234\": 1, \"12071952\": 1, \"18119\": 1, \"15046665\": 1, \"11254239\": 1, \"7281928\": 1, \"4888509\": 1, \"13949523\": 1, \"8102429\": 1, \"916573\": 1, \"1683378\": 1, \"11253207\": 1, \"7155747\": 1, \"9461384\": 1, \"4501508\": 1, \"9234507\": 1, \"11160197\": 1, \"6248609\": 1, \"5267407\": 1, \"7226907\": 1, \"6025149\": 1, \"14113754\": 1, \"14896940\": 1, \"3748345\": 2, \"13334611\": 1, \"9461038\": 1, \"12022789\": 1, \"1338561\": 1, \"11185741\": 1, \"14751993\": 1, \"1295765\": 1, \"10613447\": 1, \"12067226\": 1, \"14668672\": 1, \"10421148\": 1, \"11253379\": 2, \"11934266\": 1, \"11253372\": 1, \"3236033\": 1, \"1424105\": 2, \"8953867\": 1, \"10201057\": 1, \"10201051\": 3, \"10221903\": 1, \"15084205\": 1, \"11257451\": 1, \"14958838\": 1, \"14315937\": 1, \"14961654\": 2, \"10634001\": 1, \"3168051\": 1, \"7317306\": 1, \"14769159\": 1, \"15068834\": 2, \"1478854\": 1, \"10882869\": 1, \"11253439\": 1, \"5173512\": 1, \"9838325\": 1, \"15184112\": 1, \"9462136\": 1, \"8671178\": 1, \"8847173\": 1, \"12070776\": 1, \"7258727\": 1, \"14513225\": 1, \"12124656\": 3, \"15132176\": 1, \"4505150\": 1, \"2658186\": 1, \"13582402\": 1, \"4340246\": 2, \"13727735\": 2, \"10464655\": 1, \"11257223\": 5, \"14701511\": 1, \"12244937\": 1, \"11256950\": 1, \"2797855\": 2, \"7306995\": 1, \"14876938\": 1, \"7306999\": 1, \"4077665\": 1, \"9707460\": 1, \"3927512\": 1, \"992270\": 1, \"992273\": 1, \"5262079\": 1, \"11255199\": 3, \"1561395\": 2, \"12294417\": 1, \"8567609\": 1, \"6039371\": 1, \"14653240\": 2, \"2019164\": 1, \"11545753\": 1, \"3341534\": 1, \"14724817\": 1, \"14704672\": 1, \"7559050\": 1, \"3285447\": 1, \"12052478\": 1, \"11256536\": 1, \"15081277\": 2, \"11256531\": 1, \"9010460\": 1, \"5267410\": 2, \"13600024\": 1, \"11652665\": 1, \"8344632\": 1, \"5987273\": 1, \"15183708\": 1, \"9454080\": 2, \"9787913\": 2, \"14755354\": 1, \"1575228\": 1, \"4887515\": 1, \"9538912\": 2, \"14908285\": 1, \"12067230\": 1, \"15129879\": 1, \"3748487\": 1, \"7608863\": 1, \"11934278\": 1, \"15145250\": 2, \"14718617\": 1, \"11257466\": 1, \"1085219\": 2, \"14785414\": 1, \"11934298\": 1, \"9010083\": 1, \"5137132\": 1, \"11145423\": 1, \"3177776\": 1, \"7859141\": 1, \"10398048\": 2, \"7113541\": 1, \"9861483\": 1, \"10404806\": 1, \"8637096\": 1, \"8637097\": 1, \"13582873\": 1, \"1860987\": 3, \"13606512\": 1, \"12591253\": 1, \"6939823\": 1, \"15013955\": 1, \"1923227\": 1, \"6243271\": 1, \"1209916\": 2, \"8797008\": 1, \"14964746\": 1, \"9589987\": 1, \"15076330\": 1, \"981251\": 1, \"9227072\": 1, \"2584105\": 1, \"9784777\": 1, \"13251914\": 2, \"10861215\": 1, \"9657829\": 1, \"9018990\": 1, \"9682672\": 1, \"4505140\": 3, \"1286701\": 1, \"15068680\": 1, \"11255561\": 1, \"767205\": 1, \"13384908\": 2, \"14708504\": 1, \"11377213\": 4, \"12066263\": 1, \"794443\": 1, \"3920758\": 1, \"14571612\": 1, \"11732018\": 3, \"4508047\": 1, \"12309083\": 1, \"9756827\": 1, \"1993534\": 1, \"11818145\": 1, \"7561551\": 2, \"9549700\": 1, \"11810487\": 1, \"9927106\": 1, \"6142060\": 1, \"9302154\": 2, \"11424714\": 1, \"10159877\": 1, \"14208240\": 1, \"13457498\": 1, \"14954777\": 1, \"6168247\": 1, \"10861432\": 1, \"15109128\": 1, \"5487879\": 1, \"14556975\": 1, \"11255749\": 1, \"14675335\": 1, \"13949984\": 1, \"14109092\": 2, \"10506043\": 3, \"11255988\": 1, \"11255983\": 1, \"3748818\": 4, \"4981166\": 1, \"2574176\": 1, \"2741927\": 2, \"5176050\": 1, \"7102881\": 1, \"11256982\": 1, \"6088333\": 1, \"9512923\": 1, \"234365\": 1, \"11372846\": 1, \"15069033\": 1, \"11256056\": 1, \"7835053\": 1, \"14976608\": 1, \"11246471\": 1, \"14809987\": 1, \"2375960\": 1, \"2237066\": 1, \"8701472\": 1, \"3370626\": 1, \"11256181\": 1, \"8795862\": 3}]\n",
      "\"5804055\"\t[992.74745684597463, \"|\", {\"9835657\": 3, \"15068351\": 1, \"13836175\": 1, \"1423631\": 1, \"3097153\": 1, \"4705918\": 1, \"4937216\": 1, \"7745135\": 1, \"3435809\": 2, \"14859652\": 1, \"7151969\": 2, \"10240401\": 1, \"3163423\": 1, \"7467127\": 1, \"3892043\": 1, \"7737525\": 2, \"12075551\": 1, \"15037298\": 1, \"13836013\": 1, \"10569762\": 3, \"4770712\": 1, \"10426473\": 1, \"2980582\": 1, \"5786471\": 1, \"3958781\": 1, \"10880086\": 1, \"8011708\": 1, \"7734999\": 1, \"8467492\": 1, \"2717814\": 4, \"13922227\": 2, \"9835624\": 1, \"6055394\": 2, \"14974491\": 3, \"14974493\": 1, \"7155144\": 1, \"3186826\": 1, \"13180080\": 1, \"2985368\": 1, \"8027283\": 1, \"13920374\": 1, \"3885150\": 1, \"14974448\": 1, \"14696349\": 1, \"5918628\": 1, \"3885409\": 1, \"14657764\": 1, \"5438479\": 2, \"3328567\": 2, \"1499199\": 2, \"14115833\": 1, \"5658466\": 2, \"11150209\": 1, \"5856786\": 1, \"1507046\": 1, \"5173906\": 1, \"2709870\": 1, \"14491781\": 1, \"13650392\": 5, \"5668390\": 1, \"11225857\": 2, \"5438503\": 1, \"14963375\": 1, \"14930934\": 1, \"13914347\": 1, \"1313181\": 1, \"8119014\": 1, \"14974480\": 1, \"4762914\": 3, \"1524012\": 1, \"4777360\": 1, \"6055131\": 1, \"8040109\": 1, \"13192429\": 1, \"6055134\": 1, \"5666853\": 1, \"1766239\": 1, \"8225675\": 3, \"3035791\": 1, \"4763102\": 2, \"10426132\": 1, \"1857107\": 2, \"12225525\": 1, \"15077723\": 1, \"2720935\": 1, \"4763027\": 2, \"11845291\": 1, \"14807565\": 1, \"9838193\": 1, \"9226622\": 1, \"6054727\": 4, \"4780838\": 1, \"10560491\": 1, \"9835764\": 1, \"7152927\": 2, \"3186281\": 1, \"1094359\": 1, \"10980061\": 1, \"3186203\": 1, \"7906384\": 2, \"10886242\": 1, \"11227349\": 1, \"5173901\": 3, \"6159695\": 2, \"9227072\": 2, \"9226704\": 1, \"10474525\": 6, \"4705926\": 3, \"12336797\": 1, \"11022023\": 1, \"7152220\": 1, \"9599802\": 4, \"6054470\": 1, \"5763517\": 1, \"5804040\": 5, \"6235374\": 2, \"5788411\": 1, \"7187178\": 1, \"767205\": 1, \"2705806\": 4, \"9835785\": 1, \"10414806\": 1, \"1094349\": 1, \"15029801\": 1, \"8667371\": 1, \"10875809\": 5, \"11225886\": 1, \"711436\": 1, \"5043018\": 1, \"5045938\": 1, \"8135102\": 1, \"3108244\": 1, \"8224654\": 1, \"14491602\": 1, \"14643945\": 1, \"8017239\": 1, \"14463929\": 2, \"13803891\": 1, \"5045501\": 1, \"11540099\": 1, \"3035815\": 5, \"3090972\": 1, \"3095442\": 1, \"6054777\": 1, \"7346123\": 4, \"8562636\": 1, \"2533301\": 1, \"5858144\": 1, \"4737566\": 1, \"2533282\": 1, \"4174802\": 1, \"12679845\": 1, \"4799436\": 1, \"14493098\": 1, \"11142409\": 1, \"6054503\": 2, \"6054502\": 1, \"4095868\": 1, \"13388479\": 2, \"3108729\": 1, \"4503535\": 1, \"5666751\": 1, \"9226907\": 1, \"11553468\": 1, \"10427130\": 2, \"14968096\": 1, \"14531852\": 2, \"9967251\": 1, \"11400630\": 1, \"14473012\": 1, \"14123846\": 2, \"12932049\": 1, \"13836231\": 1, \"5856755\": 1, \"13615391\": 1, \"12093451\": 1, \"8761627\": 2, \"6150133\": 1, \"13215040\": 2, \"12947482\": 1, \"9835818\": 1, \"5722128\": 1, \"3958065\": 1, \"5050530\": 1, \"10143711\": 1, \"15081013\": 1, \"1363380\": 2, \"4695850\": 1, \"14974453\": 1, \"9824820\": 1, \"10096145\": 7, \"4098816\": 2, \"10095951\": 3, \"1524315\": 1, \"6054841\": 1, \"7617486\": 2, \"14663363\": 1, \"13920226\": 1, \"4695698\": 1, \"8463726\": 1, \"7431453\": 2, \"6568175\": 1, \"1313134\": 1, \"10426421\": 1, \"11942885\": 1, \"10426423\": 1, \"12947435\": 1, \"14611577\": 1, \"9966875\": 1, \"15136921\": 2, \"1753935\": 1, \"2311171\": 1, \"7466997\": 1, \"11913786\": 1, \"9838325\": 1, \"4737536\": 1, \"10993421\": 1, \"12445363\": 1, \"6645569\": 1, \"609948\": 3, \"1244931\": 1, \"4802307\": 1, \"14489297\": 1, \"10033424\": 1, \"5045896\": 3, \"5669109\": 1, \"14074359\": 1, \"8040801\": 1, \"4525197\": 1, \"10426622\": 1, \"1760173\": 1, \"14565846\": 1, \"3885435\": 1, \"3108222\": 1, \"8036314\": 1, \"6921488\": 1, \"3913367\": 1, \"14974812\": 1, \"3973088\": 1, \"10560292\": 1, \"9687213\": 1, \"5666814\": 1, \"10947835\": 1, \"10922097\": 1, \"7225910\": 1, \"1747643\": 3, \"9835738\": 1, \"10426834\": 1, \"2691122\": 2, \"12026508\": 1, \"10236964\": 1, \"8950229\": 1, \"4722021\": 1, \"10426694\": 1, \"3231333\": 2, \"10886423\": 1, \"6054360\": 1, \"5213653\": 1, \"7463652\": 1, \"2720927\": 1, \"1359491\": 1, \"2843817\": 1, \"11836440\": 1, \"5473138\": 2, \"12949012\": 5, \"12946755\": 1, \"4772117\": 1, \"4783981\": 1, \"13733230\": 1, \"2410941\": 2, \"14696378\": 1, \"1525096\": 1, \"7155407\": 1, \"15023192\": 1, \"10560165\": 1, \"8252384\": 2, \"7154910\": 3, \"10947841\": 1, \"2578813\": 1, \"5050727\": 1, \"1523975\": 1, \"14363593\": 1, \"3188296\": 1, \"12308454\": 4, \"4615690\": 1, \"10569748\": 1, \"14610369\": 1, \"4305664\": 1, \"2533298\": 1, \"8562642\": 1, \"9839018\": 1, \"3892852\": 1, \"5042817\": 1, \"8026869\": 1, \"9542018\": 1, \"7429147\": 1, \"3165731\": 1, \"9599684\": 1, \"9554934\": 1, \"4780860\": 1, \"14541489\": 1, \"3679728\": 1, \"3885026\": 1, \"8236092\": 2, \"9085129\": 4, \"14514574\": 1, \"1757495\": 1, \"3188475\": 1, \"10426688\": 1, \"4741419\": 1, \"8375850\": 1, \"3108207\": 2, \"12425107\": 2, \"14893695\": 1, \"10674638\": 1, \"7155203\": 1, \"6054671\": 1, \"7157865\": 1, \"10515303\": 1, \"5669121\": 1, \"9685911\": 1, \"10397639\": 1, \"6352179\": 1, \"942117\": 1, \"14658232\": 1, \"7154968\": 2, \"11400627\": 1, \"5658663\": 1, \"8803981\": 1, \"4525213\": 1}]\n",
      "\"273337\"\t[990.13961342743653, \"|\", {\"9084730\": 1, \"13829141\": 1, \"1463779\": 1, \"8726500\": 1, \"1119461\": 1, \"14852180\": 1, \"7495860\": 1, \"9712984\": 1, \"9159127\": 2, \"6222591\": 1, \"10078575\": 1, \"1804124\": 1, \"5112489\": 1, \"10713228\": 1, \"12629131\": 1, \"1214052\": 2, \"10007816\": 1, \"3972999\": 1, \"5626749\": 1, \"5626740\": 1, \"5626747\": 1, \"7165874\": 1, \"11672903\": 1, \"5274248\": 1, \"10037487\": 1, \"10758919\": 1, \"5274241\": 1, \"7424508\": 1, \"5042913\": 1, \"311890\": 1, \"10865226\": 1, \"11701122\": 1, \"12489619\": 1, \"10609833\": 1, \"753047\": 1, \"12447593\": 1, \"3246450\": 1, \"15135279\": 1, \"5673703\": 1, \"9615746\": 1, \"130425\": 1, \"13346813\": 1, \"5215738\": 1, \"8690956\": 1, \"2256918\": 2, \"7940451\": 1, \"9946641\": 2, \"13292520\": 1, \"1966037\": 1, \"9253481\": 1, \"10494838\": 1, \"13291040\": 1, \"9949722\": 1, \"7268612\": 1, \"11667337\": 1, \"10324894\": 1, \"5625868\": 1, \"1545735\": 1, \"9712510\": 1, \"13907436\": 1, \"4519828\": 1, \"583240\": 1, \"3777703\": 1, \"5979913\": 2, \"14348219\": 1, \"11515673\": 1, \"3626248\": 1, \"9638117\": 1, \"13712142\": 1, \"2678859\": 1, \"1809158\": 1, \"3694788\": 1, \"1462186\": 1, \"15175076\": 1, \"14266933\": 1, \"13039656\": 1, \"14621520\": 1, \"12633388\": 1, \"7557505\": 1, \"13371023\": 1, \"1665658\": 1, \"5713405\": 1, \"9712909\": 1, \"1888966\": 1, \"9951271\": 1, \"524045\": 1, \"9256345\": 1, \"12453082\": 1, \"7233874\": 1, \"15146870\": 1, \"3085004\": 1, \"4309987\": 1, \"1451271\": 2, \"13426430\": 1, \"4104643\": 1, \"11557214\": 2, \"12287264\": 1, \"12501598\": 1, \"9713144\": 1, \"11150209\": 2, \"14701488\": 1, \"4568647\": 1, \"10012551\": 1, \"12629284\": 1, \"2678889\": 1, \"12339019\": 1, \"5626053\": 1, \"4134341\": 1, \"6174376\": 1, \"13133054\": 1, \"4468614\": 1, \"1468983\": 1, \"5783093\": 1, \"7657525\": 1, \"10157532\": 2, \"13604870\": 1, \"2439045\": 1, \"4881873\": 1, \"11453452\": 1, \"8599876\": 1, \"1462656\": 1, \"10254976\": 1, \"1462719\": 1, \"5626750\": 1, \"1462715\": 1, \"1462712\": 2, \"9900259\": 1, \"8235954\": 1, \"9459881\": 2, \"5274313\": 1, \"10741998\": 1, \"11490345\": 1, \"1584740\": 1, \"8599901\": 1, \"1804244\": 1, \"5295765\": 1, \"13471052\": 1, \"14747275\": 1, \"6171706\": 1, \"12181311\": 1, \"7249247\": 1, \"6921951\": 1, \"14271594\": 1, \"2155286\": 1, \"2801085\": 1, \"10741481\": 1, \"1263158\": 1, \"7228026\": 1, \"9453651\": 1, \"11915048\": 1, \"9711935\": 1, \"9958104\": 1, \"7482724\": 1, \"9354973\": 1, \"3943010\": 1, \"597912\": 1, \"6005316\": 1, \"10865252\": 1, \"12632327\": 1, \"1332714\": 1, \"583237\": 2, \"10700870\": 1, \"9692684\": 1, \"272685\": 2, \"10494854\": 1, \"11294075\": 1, \"12939295\": 1, \"9982457\": 1, \"5934756\": 1, \"5523571\": 1, \"12501849\": 1, \"1462724\": 3, \"1462723\": 3, \"1462721\": 1, \"5626729\": 1, \"10007818\": 1, \"13175655\": 1, \"6248147\": 1, \"8900267\": 1, \"13333092\": 1, \"13383446\": 1, \"8342649\": 1, \"3947292\": 1, \"10293850\": 2, \"11019974\": 1, \"4458709\": 3, \"4458704\": 1, \"9951245\": 6, \"1296086\": 1, \"6237022\": 1, \"8907278\": 1, \"1982043\": 1, \"3808221\": 1, \"9712539\": 1, \"87992\": 1, \"9613663\": 2, \"12632365\": 1, \"2469764\": 2, \"4883867\": 3, \"9452730\": 2, \"7046173\": 1, \"2797263\": 1, \"13740057\": 2, \"7361067\": 1, \"12530179\": 1, \"8735923\": 1, \"6670374\": 1, \"9243150\": 1, \"5275544\": 1, \"11704721\": 2, \"214438\": 3, \"1754678\": 1, \"3023687\": 1, \"8571432\": 1, \"8599860\": 1, \"8599861\": 1, \"8599862\": 1, \"13279704\": 1, \"6324130\": 2, \"3159488\": 1, \"13501305\": 1, \"30272\": 1, \"10095780\": 2, \"8405647\": 1, \"10531841\": 1, \"15043139\": 1, \"9270083\": 3, \"291233\": 1, \"14646302\": 1, \"9256339\": 1, \"13281848\": 1, \"1488364\": 1, \"10698243\": 1, \"7990491\": 1, \"12384292\": 1, \"772343\": 2, \"1265685\": 1, \"8437057\": 2, \"1477521\": 1, \"8437058\": 2, \"11291491\": 1, \"6090723\": 1, \"13567798\": 1, \"10741479\": 1, \"9958891\": 2, \"6965878\": 1, \"9543384\": 1, \"6965873\": 2, \"11253108\": 2, \"3401344\": 1, \"259968\": 1, \"5137492\": 1, \"12632522\": 1, \"6795822\": 1, \"571271\": 1, \"1199806\": 1, \"7700539\": 1, \"4242455\": 1, \"9713009\": 1, \"14884896\": 1, \"12545970\": 1, \"11392255\": 1, \"1462866\": 8, \"9962179\": 2, \"14326629\": 1, \"3706386\": 1, \"13450881\": 1, \"9712716\": 2, \"5626738\": 1, \"2795088\": 1, \"9168774\": 1, \"11119366\": 1, \"14301399\": 1, \"14487306\": 1, \"1462690\": 2, \"14281073\": 1, \"12112101\": 1, \"8571468\": 1, \"5626739\": 1, \"5626735\": 1, \"5626732\": 1, \"5626731\": 2, \"220063\": 1, \"5215739\": 1, \"13039731\": 1, \"245930\": 1, \"12291105\": 1, \"5074369\": 2, \"14919273\": 1, \"7234095\": 1, \"9951255\": 1, \"8162929\": 1, \"13732569\": 1, \"4104561\": 1, \"2521396\": 1, \"14624307\": 1, \"2521392\": 1, \"12235907\": 1, \"15049632\": 1, \"4433898\": 1, \"14953713\": 1, \"1462813\": 2, \"4501915\": 1, \"12632357\": 1, \"4695405\": 1, \"11377213\": 1, \"9712187\": 1, \"5443107\": 1, \"753123\": 2, \"484470\": 2, \"245880\": 2, \"5275654\": 1, \"3970037\": 1, \"2790203\": 1, \"498153\": 1, \"12648430\": 1, \"8854085\": 1, \"4274934\": 1, \"9981841\": 1, \"980754\": 1, \"6142060\": 1, \"1282660\": 1, \"10215209\": 1, \"8354374\": 1, \"13414368\": 1, \"5276129\": 1, \"6180137\": 1, \"4898395\": 1, \"13007900\": 1, \"12500260\": 1, \"12423217\": 1, \"14114028\": 1, \"1575979\": 2, \"10713260\": 1, \"12489507\": 1, \"3807278\": 1, \"4435062\": 1, \"273344\": 1, \"4992041\": 1, \"13176321\": 1, \"6225829\": 1, \"15175642\": 1, \"4458710\": 3, \"9711952\": 1, \"7165930\": 2, \"6915291\": 2, \"70031\": 1, \"13567825\": 1, \"4342007\": 1, \"4341964\": 2, \"8903392\": 1, \"9711875\": 1, \"14804277\": 1, \"1423928\": 1, \"9711873\": 2, \"46859\": 2, \"9712380\": 3, \"14565530\": 1, \"11313952\": 1, \"10741466\": 1, \"9085129\": 1, \"9712936\": 1, \"291235\": 1, \"5276060\": 1, \"8608771\": 1}]\n",
      "\"1372829\"\t[99.995454946182733, \"|\", {\"4868831\": 1, \"8562631\": 1, \"5213630\": 1, \"1911659\": 1, \"3892128\": 1, \"14523508\": 2, \"14801087\": 1, \"3017187\": 1, \"4937216\": 1, \"5472581\": 1, \"13240960\": 1, \"11384745\": 1, \"572671\": 1, \"14499983\": 2, \"9390959\": 1, \"9044431\": 1, \"14911904\": 1, \"1398796\": 4, \"12076073\": 2, \"4604070\": 1, \"11084418\": 1, \"15083148\": 1, \"14563141\": 1, \"1760235\": 1, \"9393848\": 1, \"9840675\": 1, \"1084323\": 1, \"15183011\": 1, \"10236964\": 1, \"8249925\": 1, \"8957200\": 1, \"2661760\": 1, \"2383971\": 2, \"14937351\": 1, \"6901573\": 1, \"9573242\": 1, \"13191232\": 1, \"11372829\": 1, \"8178975\": 1, \"2537757\": 1, \"13657008\": 1, \"14681252\": 1, \"10630049\": 1, \"12332004\": 1, \"13589389\": 2, \"9521182\": 1, \"6457777\": 1, \"14496405\": 1, \"14108626\": 3, \"10888044\": 1, \"1813179\": 2, \"4878229\": 1, \"8309069\": 1, \"5327937\": 1, \"11084045\": 1, \"9531757\": 1, \"3200430\": 1, \"9521608\": 2, \"6169962\": 3, \"2720931\": 1, \"13295604\": 1, \"6566666\": 1, \"7463514\": 1, \"4780838\": 2, \"9101092\": 1, \"6185438\": 2, \"4435255\": 1, \"7657525\": 2, \"11385496\": 1, \"14581997\": 1, \"2913254\": 1, \"14708183\": 1, \"2231070\": 1, \"8040079\": 1, \"13381153\": 1, \"704352\": 2, \"4584598\": 1, \"12006509\": 1, \"1372806\": 3, \"4321356\": 1, \"13682646\": 1, \"10887347\": 1, \"7686018\": 1, \"1747525\": 2, \"1747524\": 1, \"14896472\": 2, \"8241731\": 1, \"5505338\": 1, \"4540943\": 1, \"10019551\": 4, \"15143278\": 3, \"11549566\": 3, \"13585645\": 2, \"3957983\": 1, \"12736274\": 1, \"5338454\": 1, \"2216004\": 1, \"14797926\": 1, \"4780820\": 2, \"6047823\": 1, \"9536111\": 1, \"3389752\": 1, \"14568556\": 2, \"1863156\": 1, \"13419815\": 1, \"3389759\": 1, \"14643945\": 1, \"645194\": 1, \"6462604\": 1, \"11555028\": 1, \"8563404\": 3, \"5905405\": 1, \"1483709\": 3, \"7609053\": 1, \"5438503\": 1, \"14562742\": 1, \"1494763\": 1, \"4670861\": 2, \"1811668\": 1, \"1837515\": 1, \"14895647\": 1, \"4196675\": 2, \"1849820\": 1, \"11379172\": 1, \"6485093\": 1, \"4741419\": 1, \"2859179\": 1, \"12159894\": 1, \"6485079\": 1, \"2579928\": 1, \"2980582\": 1, \"8539627\": 1, \"11139343\": 3, \"1248439\": 1, \"3485421\": 1, \"12722610\": 1, \"13341315\": 3, \"14767273\": 1, \"8057780\": 2, \"13671344\": 1, \"1785028\": 1, \"2198766\": 1, \"13671348\": 1, \"5856185\": 1, \"2489917\": 1, \"14482365\": 1, \"14873246\": 2, \"8349028\": 1, \"623377\": 3, \"1110810\": 1, \"264108\": 1, \"2975462\": 1, \"9934744\": 1, \"9839023\": 1, \"14254420\": 1, \"7333831\": 1, \"12295108\": 1, \"3237729\": 1, \"1154683\": 1, \"1747499\": 1, \"2237480\": 1, \"5263990\": 1, \"12171307\": 1, \"6422509\": 1, \"4352000\": 1, \"2115400\": 1, \"11139612\": 2, \"8078310\": 1, \"3603527\": 2, \"4937386\": 1, \"13023844\": 1, \"3099939\": 1, \"2533314\": 1, \"1751159\": 1, \"13420663\": 1, \"1817323\": 1, \"6767002\": 1, \"14937140\": 1, \"14540738\": 1, \"6451523\": 1, \"12490244\": 2, \"11400627\": 1, \"2720752\": 1, \"10243643\": 1, \"10881976\": 2, \"571374\": 1, \"3820600\": 2, \"3068658\": 1, \"4911969\": 1, \"14970746\": 1, \"14968829\": 1, \"15103010\": 2, \"9005912\": 1, \"14579379\": 1, \"14064478\": 1, \"1492204\": 1, \"6485181\": 1}]\n",
      "\"9711949\"\t[99.991393377038065, \"|\", {\"11117659\": 1, \"2155392\": 1, \"12179561\": 1, \"5826177\": 1, \"13581443\": 1, \"9463834\": 3, \"8977678\": 1, \"13333710\": 4, \"5625852\": 2, \"13583469\": 3, \"7244745\": 1, \"8360339\": 1, \"11704577\": 2, \"5626020\": 1, \"6414146\": 1, \"7913204\": 1, \"90051\": 1, \"11987310\": 4, \"10753036\": 1, \"6165288\": 1, \"8103572\": 1, \"331754\": 8, \"1480709\": 1, \"11284041\": 11, \"567252\": 2, \"276694\": 3, \"2868878\": 1, \"10861164\": 4, \"9956946\": 1, \"220919\": 2, \"9894717\": 1, \"5275448\": 1, \"14345000\": 1, \"14528184\": 1, \"8328148\": 1, \"4499905\": 1, \"4412273\": 1, \"9255382\": 1, \"14557512\": 5, \"2102099\": 1, \"2378125\": 4, \"8822081\": 1, \"5073822\": 1, \"6466345\": 1, \"8825220\": 2, \"4675526\": 1, \"13115332\": 1, \"7778179\": 1, \"9996811\": 3, \"11614589\": 1, \"139256\": 5, \"9464193\": 1, \"1007393\": 1, \"1007397\": 1, \"12478151\": 1, \"1007395\": 2, \"13722343\": 1, \"13398421\": 3, \"1476393\": 8, \"5274789\": 2, \"9709439\": 3, \"130824\": 2, \"5274786\": 2, \"3705075\": 1, \"135446\": 1, \"7567952\": 1, \"3321765\": 1, \"8777737\": 1, \"12237003\": 1, \"7534117\": 1, \"5473384\": 1, \"106323\": 1, \"273337\": 1, \"7910832\": 1, \"9170750\": 1, \"4415614\": 1, \"10871620\": 1, \"2747890\": 6, \"4659348\": 1, \"8681654\": 1, \"1770155\": 4, \"9170998\": 1, \"113075\": 1, \"8317219\": 1, \"9615745\": 1, \"1133746\": 1, \"15160471\": 1, \"5691943\": 1, \"12539954\": 2, \"1134832\": 4, \"175469\": 1, \"304688\": 1, \"10324877\": 2, \"232462\": 2, \"1007433\": 1, \"895095\": 2, \"141052\": 2, \"772291\": 1, \"366754\": 1, \"163506\": 1, \"3609403\": 1, \"11158984\": 1, \"10324894\": 21, \"10842702\": 1, \"10485283\": 2, \"14202685\": 1, \"936935\": 1, \"7398016\": 1, \"7227904\": 3, \"13334285\": 2, \"10615632\": 4, \"8436451\": 1, \"858606\": 1, \"4269977\": 3, \"155212\": 1, \"5274814\": 1, \"102989\": 1, \"137010\": 2, \"1851409\": 1, \"8725559\": 1, \"420569\": 2, \"5274817\": 2, \"1172655\": 2, \"2090500\": 1, \"8464666\": 1, \"4675870\": 1, \"9881187\": 1, \"383608\": 2, \"1551381\": 1, \"8735950\": 1, \"331761\": 1, \"368319\": 2, \"13450938\": 1, \"3922432\": 1, \"4195884\": 1, \"5063188\": 1, \"94934\": 1, \"8527463\": 1, \"14382464\": 1, \"9466548\": 1, \"12186273\": 3, \"7411757\": 1, \"116867\": 2, \"1332806\": 2, \"1675208\": 1, \"14566351\": 1, \"6037030\": 2, \"14221964\": 4, \"2913894\": 1, \"6726842\": 1, \"283279\": 1, \"6456244\": 1, \"1391515\": 1, \"3820749\": 11, \"1007379\": 3, \"7570725\": 2, \"13333524\": 1, \"11924284\": 1, \"11924287\": 1, \"3694653\": 1, \"10693073\": 12, \"2835673\": 1, \"257294\": 1, \"9922367\": 1, \"9463697\": 4, \"6016143\": 1, \"5027071\": 1, \"262215\": 2, \"10193870\": 1, \"3694533\": 1, \"189744\": 1, \"228831\": 1, \"932670\": 1, \"1427122\": 1, \"6290150\": 1, \"1545163\": 1, \"247514\": 2, \"9951271\": 4, \"607200\": 1, \"9239165\": 1, \"11253108\": 1, \"4114984\": 3, \"5275915\": 1, \"143427\": 6, \"4309987\": 2, \"13332932\": 1, \"13581322\": 2, \"5075183\": 1, \"1110264\": 1, \"9693346\": 3, \"932598\": 1, \"6237129\": 1, \"9692745\": 1, \"9618310\": 1, \"166408\": 4, \"5026927\": 1, \"3694731\": 3, \"221744\": 2, \"9876960\": 2, \"11831616\": 1, \"1007400\": 1, \"15183619\": 3, \"3877720\": 2, \"1110662\": 3, \"95737\": 1, \"1007408\": 1, \"269218\": 2, \"4415086\": 2, \"5098315\": 2, \"2638976\": 1, \"110947\": 1, \"9949604\": 1, \"1165692\": 1, \"9464112\": 1, \"13909497\": 1, \"14289917\": 1, \"972863\": 1, \"4437688\": 1, \"5274919\": 1, \"9902181\": 1, \"6029497\": 1, \"4422498\": 1, \"13334793\": 6, \"7949693\": 5, \"7317455\": 1, \"3409742\": 1, \"13333012\": 1, \"201989\": 1, \"10842695\": 7, \"13145351\": 5, \"137045\": 2, \"227356\": 1, \"11978353\": 1, \"5103252\": 4, \"233453\": 1, \"7027286\": 1, \"14336451\": 1, \"10119522\": 1, \"6290999\": 1, \"3901315\": 2, \"2102102\": 4, \"7697042\": 4, \"261116\": 5, \"12955323\": 1, \"13335360\": 1, \"4848702\": 1, \"11683297\": 2, \"9562547\": 1, \"583929\": 7, \"5274861\": 2, \"942566\": 1, \"9459880\": 1, \"422332\": 4, \"5274313\": 5, \"1007381\": 4, \"11339401\": 1, \"8135102\": 1, \"7847912\": 2, \"10286962\": 2, \"600217\": 8, \"742006\": 1, \"5275404\": 1, \"10481239\": 1, \"2914381\": 1, \"12189987\": 3, \"331653\": 1, \"331656\": 1, \"4411988\": 2, \"3694587\": 1, \"11424901\": 1, \"9711938\": 2, \"8831547\": 1, \"4416644\": 2, \"1285394\": 1, \"6139641\": 1, \"2237480\": 3, \"8977624\": 2, \"5098617\": 4, \"14251423\": 1, \"4425883\": 1, \"197447\": 3, \"7244719\": 1, \"5274723\": 1, \"9987907\": 1, \"9716071\": 1, \"374697\": 1, \"1007445\": 3, \"9958106\": 2, \"3241124\": 1, \"7512765\": 2, \"185971\": 1, \"13713248\": 1, \"12113567\": 1, \"10390714\": 3, \"12390650\": 16, \"12390651\": 2, \"579260\": 1, \"403346\": 2, \"4104674\": 1, \"248540\": 2, \"1534628\": 1, \"5027094\": 1, \"304964\": 12, \"160492\": 1, \"6831814\": 1, \"5303026\": 3, \"4643369\": 1, \"4643368\": 3, \"4364801\": 5, \"9876953\": 1, \"8359798\": 2, \"5908060\": 1, \"8735969\": 2, \"12201132\": 1, \"403008\": 3, \"5274829\": 1, \"2155467\": 1, \"2268616\": 1, \"3086104\": 1, \"5274820\": 2, \"1462614\": 1, \"9713253\": 6, \"7026234\": 1, \"403403\": 2, \"12179868\": 1, \"12939295\": 1, \"1282705\": 1, \"5697110\": 3, \"8740347\": 1, \"1592131\": 1, \"9713310\": 2, \"284540\": 1, \"1551430\": 1, \"6987829\": 1, \"9712716\": 1, \"316765\": 1, \"4298814\": 1, \"8519380\": 1, \"6751756\": 1, \"385593\": 3, \"4591711\": 1, \"385596\": 1, \"8299134\": 1, \"587971\": 1, \"12116095\": 1, \"8179413\": 2, \"13159691\": 1, \"13333092\": 6, \"9711972\": 1, \"6799750\": 1, \"1581150\": 1, \"197443\": 8, \"13383446\": 3, \"1084323\": 2, \"3887991\": 1, \"193756\": 1, \"9430992\": 1, \"8317155\": 1, \"5027047\": 2, \"101969\": 1, \"11831750\": 1, \"125689\": 2, \"10550985\": 1, \"13332797\": 1, \"5276287\": 1, \"2848282\": 4, \"6427089\": 1, \"4412978\": 6, \"13579856\": 1, \"13335421\": 5, \"4513880\": 1, \"4204617\": 2, \"13581461\": 1, \"13315827\": 1, \"10209787\": 2, \"2480276\": 1, \"90144\": 1, \"349294\": 2, \"1133246\": 1, \"13235190\": 1, \"11087553\": 2, \"5274788\": 2, \"6245877\": 1, \"12939328\": 1, \"304922\": 1, \"1134913\": 2, \"211570\": 1, \"12930868\": 1, \"14283649\": 1, \"4405888\": 6, \"4414659\": 2, \"131482\": 1, \"3241113\": 1, \"13335426\": 2, \"8176304\": 2, \"10209876\": 2, \"253789\": 2, \"11037636\": 1, \"4883549\": 2, \"4883548\": 2, \"5274782\": 2, \"5098539\": 4, \"5275541\": 6, \"8196503\": 1, \"136813\": 1, \"13335391\": 1, \"4415956\": 1, \"7245000\": 2, \"8436972\": 1, \"2603854\": 4, \"3694117\": 3, \"583228\": 5, \"11210149\": 1, \"215749\": 4, \"13279704\": 4, \"5274877\": 1, \"133439\": 1, \"106464\": 1, \"138923\": 3, \"8298928\": 7, \"1376673\": 1, \"9919096\": 1, \"11028457\": 2, \"275488\": 1, \"1813967\": 1, \"676473\": 1, \"7173875\": 1, \"7155425\": 1, \"3694857\": 1, \"9349934\": 2, \"9877281\": 1, \"893374\": 2, \"11490297\": 1, \"124304\": 1, \"6037423\": 1, \"6037422\": 1, \"8028641\": 1, \"3820763\": 1, \"8688258\": 1, \"14733526\": 1, \"121266\": 1, \"7990491\": 1, \"14290711\": 1, \"118314\": 1, \"113154\": 1, \"874273\": 1, \"5274882\": 1, \"2349395\": 1, \"385097\": 2, \"5075097\": 1, \"14716998\": 1, \"1648049\": 4, \"9693525\": 1, \"1218001\": 4, \"122665\": 3, \"14541982\": 1, \"6162604\": 1, \"11284938\": 3, \"6965878\": 11, \"5274795\": 2, \"3306774\": 1, \"10445145\": 1, \"6965877\": 2, \"3483682\": 2, \"4417336\": 1, \"6547274\": 1, \"14344645\": 1, \"2477511\": 1, \"8707456\": 1, \"9957963\": 1, \"127340\": 2, \"5073122\": 2, \"6585144\": 2, \"12390649\": 4, \"11137223\": 1, \"4422552\": 1, \"14782484\": 1, \"369335\": 3, \"3743696\": 1, \"4269442\": 1, \"9398124\": 1, \"9874404\": 1, \"8248244\": 2, \"1376206\": 2, \"11537696\": 1, \"9687783\": 2, \"3947567\": 1, \"8317237\": 1, \"4091768\": 1, \"7090602\": 2, \"1462866\": 8, \"155606\": 1, \"4412440\": 1, \"1441065\": 1, \"4345986\": 2, \"163416\": 1, \"4970770\": 1, \"3901369\": 1, \"3262992\": 1, \"11220137\": 1, \"12240625\": 1, \"13217781\": 1, \"5275614\": 1, \"115767\": 2, \"14278127\": 1, \"132810\": 2, \"10447338\": 1, \"6441599\": 1, \"386151\": 1, \"9881231\": 2, \"8772360\": 2, \"368786\": 6, \"4416338\": 2, \"7655966\": 1, \"12385446\": 3, \"5098089\": 1, \"5274790\": 2, \"10193126\": 2, \"12177983\": 2, \"12385440\": 1, \"13341505\": 1, \"7422123\": 1, \"125764\": 1, \"12116276\": 1, \"2603968\": 2, \"13546893\": 3, \"141144\": 2, \"2102121\": 1, \"13631638\": 2, \"4692156\": 1, \"6795259\": 1, \"87636\": 1, \"5274849\": 2, \"6254072\": 1, \"5274845\": 2, \"5001706\": 2, \"7165809\": 1, \"5274875\": 1, \"1433330\": 1, \"9332107\": 2, \"2378148\": 2, \"893328\": 2, \"1343133\": 1, \"14960189\": 1, \"13101156\": 1, \"5274799\": 2, \"5274797\": 2, \"5274796\": 2, \"12179758\": 1, \"5274794\": 2, \"5908108\": 1, \"143328\": 2, \"5625937\": 1, \"128066\": 1, \"6726200\": 1, \"4416561\": 1, \"9397928\": 2, \"4458713\": 1, \"13732569\": 1, \"1343037\": 1, \"118550\": 1, \"878446\": 1, \"8435962\": 1, \"3573280\": 1, \"4426199\": 2, \"4216481\": 1, \"1103629\": 1, \"9464187\": 2, \"8093381\": 2, \"157837\": 1, \"13583509\": 2, \"14270703\": 1, \"13417540\": 2, \"13217771\": 1, \"973019\": 1, \"4104629\": 1, \"1096377\": 1, \"6732547\": 2, \"4468747\": 1, \"175579\": 3, \"5026825\": 3, \"304934\": 1, \"232373\": 1, \"1446087\": 2, \"1340787\": 1, \"5098337\": 2, \"4544738\": 1, \"2223114\": 1, \"11878979\": 3, \"9464171\": 1, \"221748\": 1, \"163516\": 1, \"350270\": 2, \"9712750\": 1, \"7569213\": 1, \"14635379\": 2, \"1648019\": 2, \"11325264\": 7, \"5027236\": 1, \"12240540\": 2, \"6162557\": 1, \"2868944\": 1, \"8736065\": 1, \"1158153\": 1, \"13631510\": 1, \"8219619\": 3, \"717160\": 3, \"9302154\": 1, \"10723483\": 2, \"276672\": 3, \"5364944\": 1, \"5275015\": 2, \"5275014\": 3, \"422842\": 5, \"422843\": 1, \"403533\": 12, \"11285108\": 1, \"6898721\": 2, \"5274248\": 1, \"1376660\": 7, \"6860093\": 11, \"9463763\": 1, \"583230\": 1, \"7105299\": 1, \"5274802\": 1, \"5274805\": 1, \"5274809\": 1, \"12588669\": 3, \"601944\": 2, \"141348\": 2, \"112024\": 1, \"7411740\": 1, \"226486\": 2, \"4733175\": 1, \"115736\": 3, \"109723\": 3, \"114325\": 1, \"227346\": 7, \"6171687\": 1, \"6225829\": 2, \"3604762\": 3, \"2603832\": 2, \"8076906\": 2, \"1103661\": 1, \"6037027\": 1, \"5473138\": 1, \"5642146\": 1, \"7064328\": 2, \"1884058\": 2, \"8283717\": 3, \"70031\": 1, \"7983695\": 1, \"4342007\": 1, \"600433\": 1, \"5274891\": 1, \"13903419\": 1, \"3446864\": 2, \"5027069\": 5, \"4642362\": 1, \"317240\": 5, \"4411717\": 2, \"4441925\": 2, \"12539966\": 1, \"9951266\": 6, \"294188\": 1, \"4416497\": 1, \"12074312\": 1, \"8735936\": 1, \"2614940\": 1, \"12588622\": 1, \"3328279\": 1, \"14566359\": 1, \"1262918\": 2}]\n",
      "\"10186931\"\t[99.973939292965923, \"|\", {}]\n",
      "sort: write failed: standard output: Broken pipe\n",
      "sort: write error\n"
     ]
    }
   ],
   "source": [
    "!hdfs dfs -cat /user/root/graph_output/wikipedia_PR/iterations/iteration5/part-* | sort -r -k 2,2 | head -10"
   ]
  },
  {
   "cell_type": "code",
   "execution_count": 86,
   "metadata": {
    "collapsed": false
   },
   "outputs": [
    {
     "name": "stdout",
     "output_type": "stream",
     "text": [
      "\"9999999\"\t[-2.4936096781125063, \"|\", {}]\r\n",
      "\"9999998\"\t[-2.4649902084862219, \"|\", {}]\r\n",
      "\"9999997\"\t[-2.3340536880776215, \"|\", {\"10000027\": 1}]\r\n",
      "\"9999996\"\t[-2.3597412610784705, \"|\", {}]\r\n",
      "\"9999995\"\t[-2.4979698971737663, \"|\", {}]\r\n",
      "\"9999994\"\t[-2.2589270668953723, \"|\", {}]\r\n",
      "\"9999993\"\t[-2.5044130540641505, \"|\", {\"10000021\": 1}]\r\n",
      "\"9999992\"\t[-2.4075099221775624, \"|\", {\"10000018\": 1}]\r\n",
      "\"9999991\"\t[-2.4381315158484904, \"|\", {}]\r\n",
      "\"9999990\"\t[-2.3545559788100707, \"|\", {}]\r\n",
      "sort: write failed: standard output: Broken pipe\r\n",
      "sort: write error\r\n"
     ]
    }
   ],
   "source": [
    "!hdfs dfs -cat /user/root/graph_output/wikipedia_PR/iterations/iteration5/part-* | sort -r -k 2,2 | head -10"
   ]
  },
  {
   "cell_type": "markdown",
   "metadata": {},
   "source": [
    "This is difficult to read, but the top ten are: \n",
    "4239291,\n",
    "12636623,\n",
    "9210727,\n",
    "13601986,\n",
    "11253108,\n",
    "5804055,\n",
    "273337,\n",
    "1372829,\n",
    "9711949,\n",
    "10186931"
   ]
  },
  {
   "cell_type": "markdown",
   "metadata": {},
   "source": [
    "#### Note:"
   ]
  },
  {
   "cell_type": "markdown",
   "metadata": {},
   "source": [
    "I kept running into issues when I would run this on more than 5 iterations. It took a very very long time to complete even with just 5 iterations. Often my kernel would die after it completed, so I couldn't access or save my results even though it finished successfully. I also had a couple of instances where it seemed to keep spinning in jupyter notebook, but I had to manually stop it to get the results. I could not get it to complete with 10 iterations, and I am already late on turning this assignment in, so I can't take the time to try to let it run again. This has been an issue for me on the last two assignments, so I'm not sure if it's me or the tools I'm using."
   ]
  },
  {
   "cell_type": "markdown",
   "metadata": {},
   "source": [
    "## HW9.4: Topic-specific PageRank implementation using MRJob <a name=\"1.4\"></a>\n",
    "[Back to Table of Contents](#TOC)\n",
    "\n",
    "Modify your PageRank implementation to produce a topic specific PageRank implementation, as described in:\n",
    "\n",
    "http://www-cs-students.stanford.edu/~taherh/papers/topic-sensitive-pagerank.pdf\n",
    "\n",
    "Note in this article that there is a special caveat to ensure that the transition matrix is irreducible.   \n",
    "This caveat lies in footnote 3 on page 3:\n",
    "```\n",
    "\tA minor caveat: to ensure that M is irreducible when p\n",
    "\tcontains any 0 entries, nodes not reachable from nonzero\n",
    "\tnodes in p should be removed. In practice this is not problematic.\n",
    "```\n",
    "and must be adhered to for convergence to be guaranteed.   \n",
    "\n",
    "Run topic specific PageRank on the following randomly generated network of 100 nodes:\n",
    "\n",
    "> s3://ucb-mids-mls-networks/randNet.txt (also available on Dropbox)   \n",
    "> `wget http://ucb-mids-mls-networks.s3.amazonaws.com/randNet.txt`\n",
    "\n",
    "which are organized into ten topics, as described in the file:\n",
    "\n",
    "> s3://ucb-mids-mls-networks/randNet_topics.txt  (also available on Dropbox)   \n",
    "> `wget http://ucb-mids-mls-networks.s3.amazonaws.com/randNet_topics.txt`\n",
    "\n",
    "Since there are 10 topics, your result should be 11 PageRank vectors (one for the vanilla PageRank implementation in 9.1, and one for each topic with the topic specific implementation). Print out the top ten ranking nodes and their topics for each of the 11 versions, and comment on your result. Assume a teleportation factor of 0.15 in all your analyses.\n",
    "\n",
    "One final and important comment here:  please consider the requirements for irreducibility with topic-specific PageRank. In particular, the literature ensures irreducibility by requiring that nodes not reachable from in-topic nodes be removed from the network.\n",
    "\n",
    "This is not a small task, especially as it it must be performed separately for each of the (10) topics.\n",
    "\n",
    "So, instead of using this method for irreducibility, please comment on why the literature's method is difficult to implement, and what what extra computation it will require.   \n",
    "\n",
    "Then for your code, please use the alternative, non-uniform damping vector:\n",
    "\n",
    "```\n",
    "vji = beta*(1/|Tj|); if node i lies in topic Tj\n",
    "\n",
    "vji = (1-beta)*(1/(N - |Tj|)); if node i lies outside of topic Tj\n",
    "```\n",
    "for beta in (0,1) close to 1. \n",
    "\n",
    "With this approach, you will not have to delete any nodes. If beta > 0.5, PageRank is topic-sensitive, and if beta < 0.5, the PageRank is anti-topic-sensitive. For any value of beta irreducibility should hold, so please try beta=0.99, and perhaps some other values locally, on the smaller networks."
   ]
  },
  {
   "cell_type": "markdown",
   "metadata": {},
   "source": [
    "### 9.4 Implementation"
   ]
  },
  {
   "cell_type": "code",
   "execution_count": 92,
   "metadata": {
    "collapsed": false
   },
   "outputs": [
    {
     "name": "stdout",
     "output_type": "stream",
     "text": [
      "--2017-11-19 18:00:44--  https://www.dropbox.com/sh/2c0k5adwz36lkcw/AACEBW8MKuzl2L-tH_FmuG9ba/randNet.txt\n",
      "Resolving www.dropbox.com... 162.125.3.1, 2620:100:6018:1:ffff:ffff:a27d:301\n",
      "Connecting to www.dropbox.com|162.125.3.1|:443... connected.\n",
      "HTTP request sent, awaiting response... 302 Found\n",
      "Location: https://dl.dropboxusercontent.com/content_link/QrOi852P6IFoO60bVQH1t8nvlL77Ssbw5wJDkpWmYqH9LcF3ZP0MIefp0CKJtW4g/file [following]\n",
      "--2017-11-19 18:00:45--  https://dl.dropboxusercontent.com/content_link/QrOi852P6IFoO60bVQH1t8nvlL77Ssbw5wJDkpWmYqH9LcF3ZP0MIefp0CKJtW4g/file\n",
      "Resolving dl.dropboxusercontent.com... 162.125.3.6, 2620:100:6018:6:ffff:ffff:a27d:306\n",
      "Connecting to dl.dropboxusercontent.com|162.125.3.6|:443... connected.\n",
      "HTTP request sent, awaiting response... 200 OK\n",
      "Length: 8691 (8.5K) [text/plain]\n",
      "Saving to: `randNet.txt'\n",
      "\n",
      "100%[======================================>] 8,691       --.-K/s   in 0s      \n",
      "\n",
      "2017-11-19 18:00:46 (350 MB/s) - `randNet.txt' saved [8691/8691]\n",
      "\n"
     ]
    }
   ],
   "source": [
    "!wget 'https://www.dropbox.com/sh/2c0k5adwz36lkcw/AACEBW8MKuzl2L-tH_FmuG9ba/randNet.txt'"
   ]
  },
  {
   "cell_type": "code",
   "execution_count": 97,
   "metadata": {
    "collapsed": false
   },
   "outputs": [
    {
     "name": "stdout",
     "output_type": "stream",
     "text": [
      "--2017-11-19 18:03:45--  https://www.dropbox.com/sh/2c0k5adwz36lkcw/AACTOoH1Oi03JxjOaW-Cy4N8a/randNet_topics.txt\n",
      "Resolving www.dropbox.com... 162.125.3.1, 2620:100:6018:1::a27d:301\n",
      "Connecting to www.dropbox.com|162.125.3.1|:443... connected.\n",
      "HTTP request sent, awaiting response... 302 Found\n",
      "Location: https://dl.dropboxusercontent.com/content_link/8TysqT1nuMlyn12PYBrwxP2yttf9wYy6vEPFMHtQ9Igz626VreJyoa0VeeoLvNlp/file [following]\n",
      "--2017-11-19 18:03:45--  https://dl.dropboxusercontent.com/content_link/8TysqT1nuMlyn12PYBrwxP2yttf9wYy6vEPFMHtQ9Igz626VreJyoa0VeeoLvNlp/file\n",
      "Resolving dl.dropboxusercontent.com... 162.125.3.6, 2620:100:6018:6::a27d:306\n",
      "Connecting to dl.dropboxusercontent.com|162.125.3.6|:443... connected.\n",
      "HTTP request sent, awaiting response... 200 OK\n",
      "Length: 504 [text/plain]\n",
      "Saving to: `randNet_topics.txt'\n",
      "\n",
      "100%[======================================>] 504         --.-K/s   in 0s      \n",
      "\n",
      "2017-11-19 18:03:46 (137 MB/s) - `randNet_topics.txt' saved [504/504]\n",
      "\n"
     ]
    }
   ],
   "source": [
    "!wget 'https://www.dropbox.com/sh/2c0k5adwz36lkcw/AACTOoH1Oi03JxjOaW-Cy4N8a/randNet_topics.txt'"
   ]
  },
  {
   "cell_type": "code",
   "execution_count": 93,
   "metadata": {
    "collapsed": false
   },
   "outputs": [
    {
     "name": "stdout",
     "output_type": "stream",
     "text": [
      "1\t{'11': 1, '27': 1, '46': 1, '47': 1, '35': 1, '89': 1, '63': 1, '5': 1}\r\n",
      "2\t{'26': 1, '32': 1, '67': 1, '37': 1, '29': 1, '5': 1, '8': 1, '6': 1, '69': 1, '95': 1, '94': 1, '72': 1}\r\n",
      "3\t{'39': 1, '22': 1, '28': 1, '61': 1, '73': 1, '90': 1}\r\n",
      "4\t{'15': 1, '16': 1, '37': 1, '88': 1, '35': 1, '75': 1, '74': 1, '73': 1, '83': 1, '100': 1}\r\n",
      "5\t{'38': 1, '54': 1, '29': 1, '35': 1, '41': 1, '62': 1, '73': 1, '83': 1, '100': 1, '95': 1, '84': 1}\r\n",
      "6\t{'21': 1, '19': 1, '30': 1, '76': 1, '2': 1, '100': 1, '81': 1}\r\n",
      "7\t{'12': 1, '16': 1, '44': 1, '53': 1, '98': 1, '63': 1, '8': 1}\r\n",
      "8\t{'27': 1, '56': 1, '30': 1, '93': 1, '99': 1, '64': 1, '9': 1, '90': 1, '100': 1, '92': 1, '86': 1, '87': 1}\r\n",
      "9\t{'25': 1, '14': 1, '23': 1, '55': 1, '43': 1, '40': 1, '62': 1, '66': 1, '70': 1, '80': 1}\r\n",
      "10\t{'38': 1, '49': 1, '46': 1, '47': 1, '28': 1, '53': 1, '61': 1, '89': 1, '64': 1, '80': 1}\r\n"
     ]
    }
   ],
   "source": [
    "!head randNet.txt"
   ]
  },
  {
   "cell_type": "code",
   "execution_count": 98,
   "metadata": {
    "collapsed": false
   },
   "outputs": [
    {
     "name": "stdout",
     "output_type": "stream",
     "text": [
      "1\t10\r\n",
      "2\t3\r\n",
      "3\t10\r\n",
      "4\t5\r\n",
      "5\t5\r\n",
      "6\t8\r\n",
      "7\t10\r\n",
      "8\t8\r\n",
      "9\t2\r\n",
      "10\t1\r\n"
     ]
    }
   ],
   "source": [
    "!head randNet_topics.txt"
   ]
  },
  {
   "cell_type": "markdown",
   "metadata": {},
   "source": [
    "### New PageRank Iteration Classes for  Topic Specific PageRank"
   ]
  },
  {
   "cell_type": "code",
   "execution_count": 132,
   "metadata": {
    "collapsed": false
   },
   "outputs": [
    {
     "name": "stdout",
     "output_type": "stream",
     "text": [
      "Overwriting PageRankTopicInit.py\n"
     ]
    }
   ],
   "source": [
    "%%writefile PageRankTopicInit.py\n",
    "from mrjob.job import MRJob\n",
    "from mrjob.step import MRStep\n",
    "import ast\n",
    "import json\n",
    "\n",
    "#takes an adjacency list and outputs a file with format:\n",
    "#node_number \\t [adjacency_list, pageRank]\n",
    "#N = total of nodes in the network (order inversion)\n",
    "class MRPageRankTopicInit(MRJob):\n",
    "    def configure_options(self):\n",
    "        super(MRPageRankTopicInit, self).configure_options()\n",
    "        self.add_passthrough_option('--platform', type='str', default='hadoop')\n",
    "\n",
    "    def __init__(self, *args, **kwargs):\n",
    "        super(MRPageRankTopicInit, self).__init__(*args, **kwargs)\n",
    "        self.total_nodes_calculated = False\n",
    "        self.total_nodes = 0\n",
    "\n",
    "    #print '*' + node name for each node and linked node\n",
    "    def mapper(self, _, line):\n",
    "        nodeId, adjDict = line.strip().split('\\t')\n",
    "        adjDict = ast.literal_eval(adjDict)\n",
    "        self.total_nodes += 1\n",
    "        yield nodeId, tuple((adjDict, 1.0))\n",
    "        yield '*' + nodeId, 1\n",
    "\n",
    "        for node in adjDict:\n",
    "            yield node, tuple(({}, 1.0))\n",
    "            yield '*' + node, 1\n",
    "\n",
    "    #print node count total & page rank for each node\n",
    "    def reducer(self, nodeId, data):\n",
    "        if nodeId[0] == '*':\n",
    "            self.total_nodes += 1\n",
    "        else:\n",
    "            if self.total_nodes_calculated == False:\n",
    "                yield '*total_nodes', self.total_nodes\n",
    "                self.total_nodes_calculated = True\n",
    "            tempAdjDict = {}\n",
    "            for adjDict, value in data:\n",
    "                if adjDict != {} and tempAdjDict == {}:\n",
    "                    tempAdjDict = adjDict\n",
    "            yield nodeId, tuple((tempAdjDict, 1.0/self.total_nodes))\n",
    "    \n",
    "    def steps(self):\n",
    "            return [MRStep(\n",
    "                    mapper_init = self.mapper_init,\n",
    "                    mapper = self.mapper,\n",
    "                    reducer = None)\n",
    "                   ]\n",
    "    \n",
    "    def steps(self):\n",
    "        jobconfStep = {\n",
    "            'mapreduce.job.reduces': '1'\n",
    "        }\n",
    "        return [\n",
    "            MRStep(jobconf = jobconfStep,\n",
    "                   mapper = self.mapper,\n",
    "                   reducer = self.reducer)\n",
    "               ]\n",
    "            \n",
    "if __name__ == '__main__':\n",
    "    MRPageRankTopicInit.run()"
   ]
  },
  {
   "cell_type": "code",
   "execution_count": 135,
   "metadata": {
    "collapsed": false
   },
   "outputs": [
    {
     "name": "stdout",
     "output_type": "stream",
     "text": [
      "Overwriting PageRankTopicStep1.py\n"
     ]
    }
   ],
   "source": [
    "%%writefile PageRankTopicStep1.py\n",
    "from mrjob.job import MRJob\n",
    "from mrjob.step import MRStep\n",
    "import json\n",
    "\n",
    "#accumulates page rank for each node\n",
    "#also outputs the mass accumulated from any dangling nodes through a Counter.\n",
    "class MRPageRankTopicStep1(MRJob):\n",
    "    def configure_options(self):\n",
    "        super(MRPageRankTopicStep1, self).configure_options()\n",
    "        self.add_passthrough_option('--num_converter', type='int', default=1)\n",
    "\n",
    "    def __init__(self, *args, **kwargs):\n",
    "        super(MRPageRankTopicStep1, self).__init__(*args, **kwargs)\n",
    "        self.total_page_rank_dangling = 0.0\n",
    "    \n",
    "    def mapper(self, key, line):\n",
    "        nodeId, data = line.strip().split('\\t')\n",
    "        nodeId = nodeId.strip('\"')\n",
    "\n",
    "        if nodeId != '*total_nodes':\n",
    "            data = json.loads(data)\n",
    "            adjDict = data[0]\n",
    "            degree = float(len(adjDict))\n",
    "            page_rank = data[1]\n",
    "            #if dangling node, then add its page rank to the dangling mass count\n",
    "            if adjDict == {}:\n",
    "                self.total_page_rank_dangling += page_rank\n",
    "            yield nodeId, tuple((adjDict, 0.0))\n",
    "            for node, value in adjDict.iteritems():\n",
    "                yield node, tuple(({}, page_rank/degree))\n",
    "    \n",
    "    #when all the nodes have been processed, yield the total_page_rank from the dangling nodes\n",
    "    def mapper_final(self):\n",
    "        yield '*total_dangling', tuple(({}, self.total_page_rank_dangling))\n",
    "    \n",
    "    def reducer(self, node, data):\n",
    "        if node == '*total_dangling':\n",
    "            for adjDict, value in data:\n",
    "                self.total_page_rank_dangling += float(value)\n",
    "            #counters don't accept floats -- multiply pagerank by num_converter\n",
    "            self.increment_counter('PageRank_Counters', 'Dangling_Mass', \n",
    "                                   int(self.options.num_converter*self.total_page_rank_dangling))\n",
    "        else:\n",
    "            tempadjDict = {}\n",
    "            tempPageRank = 0.0\n",
    "            for adjDict, pageRank in data:\n",
    "                if adjDict != {} and tempadjDict == {}:\n",
    "                    tempadjDict = adjDict\n",
    "                tempPageRank += float(pageRank)\n",
    "            yield node, tuple((tempadjDict, tempPageRank))\n",
    "\n",
    "    # Create the steps for the MRJob.  Force the system to use 10 reducers.\n",
    "    def steps(self):\n",
    "        jobconfStep = {        \n",
    "            'mapreduce.job.reduces': '10'\n",
    "        }\n",
    "        return [\n",
    "            MRStep(jobconf = jobconfStep,\n",
    "                   mapper = self.mapper, \n",
    "                   mapper_final = self.mapper_final,\n",
    "                   reducer = self.reducer)\n",
    "               ]\n",
    "            \n",
    "if __name__ == '__main__':\n",
    "    MRPageRankTopicStep1.run()"
   ]
  },
  {
   "cell_type": "code",
   "execution_count": 126,
   "metadata": {
    "collapsed": false
   },
   "outputs": [
    {
     "name": "stdout",
     "output_type": "stream",
     "text": [
      "Overwriting PageRankTopicStep2.py\n"
     ]
    }
   ],
   "source": [
    "%%writefile PageRankTopicStep2.py\n",
    "from mrjob.job import MRJob\n",
    "from mrjob.step import MRStep\n",
    "import json\n",
    "\n",
    "# where d=damping_factor, N=total_nodes, m=dangling mass, pr=current page rank,\n",
    "# b=beta and T=number of nodes in the topic\n",
    "class MRPageRankTopicStep2(MRJob):\n",
    "    def configure_options(self):\n",
    "        super(MRPageRankTopicStep2, self).configure_options()\n",
    "        self.add_passthrough_option('--damping_factor', type='float', default=0.15)\n",
    "        self.add_passthrough_option('--total_nodes', type='float', default=1.0)\n",
    "        self.add_passthrough_option('--dangling_mass', type='float', default=0.0)\n",
    "        self.add_passthrough_option('--beta', type='float', default=0.99)\n",
    "        self.add_passthrough_option('--topic', type='str', default='')\n",
    "        self.add_passthrough_option('--topic_size', type='int', default=1)\n",
    "\n",
    "    def __init__(self, *args, **kwargs):\n",
    "        super(MRPageRankTopicStep2, self).__init__(*args, **kwargs)\n",
    "        self.topic_list = {}\n",
    "        with open('randNet_topics.txt', 'r') as f:\n",
    "            for line in f.readlines():\n",
    "                node, topic = line.strip().split('\\t')\n",
    "                self.topic_list[node] = topic\n",
    "\n",
    "    #process each node and calculate its final page rank \n",
    "    def mapper(self, key, line):\n",
    "        nodeId, data = line.strip().split('\\t')\n",
    "        nodeId = nodeId.strip('\"')\n",
    "\n",
    "        if nodeId != '*total_nodes':\n",
    "            data = json.loads(data)\n",
    "            adjDict = data[0]\n",
    "            page_rank = data[1]\n",
    "            \n",
    "            #there is no topic\n",
    "            #use first page rank calculation:\n",
    "            #no topic selected (Vanilla):  pagerank = (1-d)*(1/N) + d*(m/N + pr)\n",
    "            if self.options.topic == 'Vanilla':\n",
    "                tempPageRank = (1-self.options.damping_factor)*(1.0/self.options.total_nodes)+ \\\n",
    "                    self.options.damping_factor*((self.options.dangling_mass/self.options.total_nodes)+page_rank)\n",
    "            \n",
    "            #node is in the topic being calculated, use calculation:\n",
    "            #in the topic:  pagerank = (1-d)*(b/T) + d*(m/N + pr)\n",
    "            elif self.topic_list[nodeId] == self.options.topic:\n",
    "                teleportation = (self.options.beta/self.options.topic_size)\n",
    "                tempPageRank = (1-self.options.damping_factor)*teleportation+ \\\n",
    "                    self.options.damping_factor*((self.options.dangling_mass/self.options.total_nodes)+page_rank)\n",
    "            \n",
    "            #node is not in the topic being calculated, use calculation: \n",
    "            #not in the topic:  pagerank = (1-d)*(1-b)(1/(N-T)) + d*(m/N + pr)\n",
    "            else:\n",
    "                teleportation = (1-self.options.beta)*(1/(self.options.total_nodes-self.options.topic_size))\n",
    "                tempPageRank = (1-self.options.damping_factor)*teleportation+ \\\n",
    "                    self.options.damping_factor*((self.options.dangling_mass/self.options.total_nodes)+page_rank)                   \n",
    "            yield nodeId, tuple((adjDict, tempPageRank))\n",
    "    \n",
    "    def steps(self):\n",
    "        return [\n",
    "            MRStep(mapper=self.mapper)\n",
    "               ]\n",
    "            \n",
    "if __name__ == '__main__':\n",
    "    MRPageRankTopicStep2.run()"
   ]
  },
  {
   "cell_type": "code",
   "execution_count": 127,
   "metadata": {
    "collapsed": false
   },
   "outputs": [
    {
     "name": "stdout",
     "output_type": "stream",
     "text": [
      "Overwriting PageRankIterateTopic2.py\n"
     ]
    }
   ],
   "source": [
    "%%writefile PageRankIterateTopic2.py\n",
    "from __future__ import division\n",
    "import mrjob\n",
    "from mrjob.job import MRJob\n",
    "from mrjob.step import MRStep\n",
    "import json\n",
    "import ast\n",
    "import re\n",
    "\n",
    "class PageRankIterateTopic2(MRJob):\n",
    "    \n",
    "    def configure_options(self):\n",
    "        super(PageRankIterateTopic2, self).configure_options()\n",
    "        self.add_passthrough_option(\n",
    "            '--danglingMass', type='str', default='0', help='dangling mass for redistribution')\n",
    "        self.add_passthrough_option(\n",
    "            '--alpha', type='float', default='.15', help='teleporation correction')\n",
    "        self.add_passthrough_option(\n",
    "            '--beta', type='float', default='.99', help='0 node correction.')\n",
    "        self.add_passthrough_option(\n",
    "            '--category_of_interest', type='str', default='1', help='The category of interest.')\n",
    "        self.add_passthrough_option(\n",
    "            '--TOTAL_NODES', type='int', default='1', help='total nodes in the graph')\n",
    "        self.add_passthrough_option(\n",
    "            '--nodes_in_category', type='str', default='1', help='names of nodes in each topic')\n",
    "        self.add_passthrough_option(\n",
    "            '--category_total', type='str', default='1', help='total nodes in each topic')\n",
    "        \n",
    "    def mapper_init(self):\n",
    "        self.dangling_mass = self.options.danglingMass\n",
    "        self.dangling_mass = re.findall(\"[.*]\", self.dangling_mass)[0]\n",
    "        self.dangling_mass = self.dangling_mass.replace(\"'\",\"\\\"\")\n",
    "        self.dangling_mass = json.loads(self.dangling_mass)\n",
    "        \n",
    "        for key in self.dangling_mass.keys():\n",
    "            self.dangling_mass[key] = 1-(float(self.dangling_mass[key]/10000))\n",
    "\n",
    "        self.category_total = self.options.category_total\n",
    "        self.category_total = re.findall(\"{.*}\", self.category_total)[0]\n",
    "        self.category_total = self.category_total.replace(\"'\", \"\\\"\")\n",
    "        self.category_total = json.loads(self.category_total)\n",
    "        \n",
    "        self.nodes_in_category = self.options.nodes_in_category\n",
    "        self.nodes_in_category = re.findall(\"{.*}\", self.nodes_in_category)[0]\n",
    "        self.nodes_in_category = self.nodes_in_category.replace(\"'\", \"\\\"\")\n",
    "        self.nodes_in_category = json.loads(self.nodes_in_category)\n",
    "        \n",
    "    def mapper(self, _, line):\n",
    "        line = line.strip()\n",
    "        node, data = line.split(\"\\t\")\n",
    "        node = re.findall(\"[A-Z]|[\\d+]\", node)[0]\n",
    "        \n",
    "        for key in self.nodes_in_category.keys():\n",
    "            if node in self.nodes_in_category[key]:\n",
    "                category_of_node = key\n",
    "        \n",
    "        category_total = self.category_total[category_of_node]\n",
    "        \n",
    "        data = data.strip(\"[]\")\n",
    "        data = data.split('\"|\"')\n",
    "        \n",
    "        PR = re.findall('\\d+\\.?\\d*', data[0])[0]\n",
    "        PR = float(PR)\n",
    "\n",
    "        if category_of_node == self.options.category_of_interest:\n",
    "            redist_PR = self.options.beta*self.options.alpha*(1/category_total)+(1-self.options.alpha)*((self.dangling_mass[category_of_node]/self.options.TOTAL_NODES)+PR)\n",
    "        else:\n",
    "            redist_PR = (1-self.options.beta)*(self.options.alpha)*(1/(self.options.TOTAL_NODES-category_total))+(1-self.options.alpha)*((self.dangling_mass[category_of_node]/self.options.TOTAL_NODES)+PR)\n",
    "\n",
    "        edges = re.findall('{.*}', data[1])[0]\n",
    "        edges = edges.replace(\"'\", \"\\\"\")\n",
    "        edges = json.loads(edges)       \n",
    "\n",
    "        yield node, (redist_PR, edges)\n",
    "        \n",
    "    \n",
    "    def reducer(self, key, values):\n",
    "\n",
    "        for value in values:\n",
    "            edges = value[1]\n",
    "            PR = value[0]\n",
    "            \n",
    "        yield key, (PR, \"|\", edges)\n",
    "        \n",
    "            \n",
    "if __name__ == '__main__':\n",
    "    PageRankIterateTopic2.run()"
   ]
  },
  {
   "cell_type": "code",
   "execution_count": 139,
   "metadata": {
    "collapsed": true
   },
   "outputs": [],
   "source": [
    "def printResults(filename, topicName):\n",
    "    from tabulate import tabulate\n",
    "    from operator import itemgetter\n",
    "\n",
    "    headers = ['Node Id', 'Topic Id', 'Rank']\n",
    "    data = []\n",
    "    \n",
    "    with open(filename, 'r') as f:\n",
    "        for line in f.readlines():\n",
    "            nodeId, topic, data_list = line.strip().split('\\t')\n",
    "            data_list = json.loads(data_list)\n",
    "            pr = data_list[1]\n",
    "            nodeId = nodeId.strip('\"')\n",
    "            data.append([nodeId, topic, str(pr)])\n",
    "    \n",
    "    data = sorted(data, key = itemgetter(2), reverse = True)\n",
    "\n",
    "    print('Top 10 Page Ranks - Topic %s' % (topicName))\n",
    "    print('-------------------------------------------')\n",
    "    #print top 10 results\n",
    "    print(tabulate(data[:10], headers=headers))\n",
    "    print('')"
   ]
  },
  {
   "cell_type": "code",
   "execution_count": 140,
   "metadata": {
    "collapsed": false
   },
   "outputs": [
    {
     "name": "stdout",
     "output_type": "stream",
     "text": [
      "Top 10 Page Ranks - Topic Vanilla\n",
      "-------------------------------------------\n",
      "  Node Id    Topic Id       Rank\n",
      "---------  ----------  ---------\n",
      "       15           3  0.0163563\n",
      "       74          10  0.0159692\n",
      "       63           4  0.0157709\n",
      "      100           8  0.0153765\n",
      "       85           7  0.0151785\n",
      "        9           2  0.0150325\n",
      "       58           2  0.0148282\n",
      "       71           2  0.0144909\n",
      "       61           8  0.014407\n",
      "       52           1  0.014311\n",
      "\n",
      "Top 10 Page Ranks - Topic 1\n",
      "-------------------------------------------\n",
      "  Node Id    Topic Id       Rank\n",
      "---------  ----------  ---------\n",
      "       32           1  0.0206459\n",
      "       77           1  0.0205476\n",
      "       52           1  0.0197543\n",
      "       92           1  0.0195292\n",
      "       10           1  0.0185655\n",
      "       27           1  0.0185225\n",
      "       85           7  0.0178405\n",
      "       98           1  0.0176924\n",
      "       46           1  0.0175141\n",
      "       74          10  0.0160281\n",
      "\n",
      "Top 10 Page Ranks - Topic 2\n",
      "-------------------------------------------\n",
      "  Node Id    Topic Id       Rank\n",
      "---------  ----------  ---------\n",
      "       58           2  0.0308475\n",
      "       71           2  0.0296652\n",
      "        9           2  0.0292968\n",
      "       73           2  0.0289148\n",
      "       12           2  0.0268889\n",
      "       59           2  0.0257997\n",
      "       75           2  0.0248496\n",
      "       82           2  0.0228582\n",
      "       52           1  0.0163221\n",
      "       17          10  0.0151587\n",
      "\n",
      "Top 10 Page Ranks - Topic 3\n",
      "-------------------------------------------\n",
      "  Node Id    Topic Id       Rank\n",
      "---------  ----------  ---------\n",
      "       15           3  0.0315291\n",
      "       70           3  0.0270766\n",
      "       86           3  0.026528\n",
      "       91           3  0.0244633\n",
      "       66           3  0.0241485\n",
      "        2           3  0.0237051\n",
      "       31           3  0.0227671\n",
      "       40           3  0.0221785\n",
      "       20           3  0.0197451\n",
      "       74          10  0.0159\n",
      "\n",
      "Top 10 Page Ranks - Topic 4\n",
      "-------------------------------------------\n",
      "  Node Id    Topic Id       Rank\n",
      "---------  ----------  ---------\n",
      "       63           4  0.026202\n",
      "       83           4  0.0217601\n",
      "       65           4  0.0206238\n",
      "       78           4  0.0202101\n",
      "       41           4  0.0199085\n",
      "       84           4  0.0195199\n",
      "       79           4  0.0184287\n",
      "       38           4  0.0175154\n",
      "       15           3  0.0167522\n",
      "       72           4  0.0166947\n",
      "\n",
      "Top 10 Page Ranks - Topic 5\n",
      "-------------------------------------------\n",
      "  Node Id    Topic Id       Rank\n",
      "---------  ----------  ---------\n",
      "       99           5  0.0289633\n",
      "       90           5  0.028345\n",
      "       88           5  0.0271687\n",
      "       51           5  0.0268308\n",
      "       45           5  0.0255533\n",
      "        5           5  0.02392\n",
      "       34           5  0.0239097\n",
      "        4           5  0.0233633\n",
      "       80           5  0.0228396\n",
      "      100           8  0.0167415\n",
      "\n",
      "Top 10 Page Ranks - Topic 6\n",
      "-------------------------------------------\n",
      "  Node Id    Topic Id       Rank\n",
      "---------  ----------  ---------\n",
      "       13           6  0.0345716\n",
      "       56           6  0.0328539\n",
      "       37           6  0.0317772\n",
      "       11           6  0.0313396\n",
      "       69           6  0.0301208\n",
      "       23           6  0.0283489\n",
      "       15           3  0.0172426\n",
      "       85           7  0.0169894\n",
      "       52           1  0.0166022\n",
      "       74          10  0.0154611\n",
      "\n",
      "Top 10 Page Ranks - Topic 7\n",
      "-------------------------------------------\n",
      "  Node Id    Topic Id       Rank\n",
      "---------  ----------  ---------\n",
      "       85           7  0.0267942\n",
      "       25           7  0.0266088\n",
      "       28           7  0.0248272\n",
      "       53           7  0.0247677\n",
      "       35           7  0.0242008\n",
      "       97           7  0.023395\n",
      "       47           7  0.022865\n",
      "       55           7  0.0225609\n",
      "       30           7  0.0221348\n",
      "       50           7  0.0200891\n",
      "\n",
      "Top 10 Page Ranks - Topic 8\n",
      "-------------------------------------------\n",
      "  Node Id    Topic Id       Rank\n",
      "---------  ----------  ---------\n",
      "      100           8  0.032866\n",
      "       61           8  0.0278586\n",
      "       39           8  0.0271955\n",
      "        8           8  0.0271531\n",
      "       62           8  0.0253468\n",
      "       87           8  0.0252984\n",
      "        6           8  0.0235069\n",
      "       54           8  0.0228917\n",
      "       18           8  0.0206227\n",
      "        9           2  0.0153798\n",
      "\n",
      "Top 10 Page Ranks - Topic 9\n",
      "-------------------------------------------\n",
      "  Node Id    Topic Id       Rank\n",
      "---------  ----------  ---------\n",
      "       94           9  0.0301989\n",
      "       14           9  0.0294952\n",
      "       42           9  0.0291979\n",
      "       21           9  0.0283996\n",
      "       57           9  0.0274618\n",
      "       96           9  0.0262609\n",
      "       24           9  0.0257731\n",
      "       63           4  0.0171615\n",
      "       61           8  0.0163773\n",
      "       74          10  0.0142777\n",
      "\n",
      "Top 10 Page Ranks - Topic 10\n",
      "-------------------------------------------\n",
      "  Node Id    Topic Id       Rank\n",
      "---------  ----------  ---------\n",
      "       74          10  0.0263318\n",
      "       17          10  0.0235905\n",
      "       49          10  0.0235743\n",
      "       95          10  0.0206293\n",
      "        7          10  0.0199138\n",
      "       43          10  0.0193642\n",
      "       68          10  0.0190383\n",
      "       48          10  0.019005\n",
      "        1          10  0.0189981\n",
      "        3          10  0.0186396\n",
      "\n"
     ]
    }
   ],
   "source": [
    "import PageRankTopicStep1\n",
    "import PageRankTopicStep2\n",
    "import PageRankTopicInit\n",
    "reload(PageRankTopicStep1)\n",
    "reload(PageRankTopicStep2)\n",
    "reload(PageRankTopicInit)\n",
    "import json\n",
    "\n",
    "iterations = 10\n",
    "beta = 0.99\n",
    "damping_factor = 0.85\n",
    "num_converter = 10000000000\n",
    "\n",
    "workfile = 'work.txt'\n",
    "workfileInit = 'workInit.txt'\n",
    "workfile1 = 'work1.txt'\n",
    "workfile2 = 'work2.txt'\n",
    "\n",
    "#PageRankTopicInit\n",
    "mr_job = PageRankTopicInit.MRPageRankTopicInit(args=['randNet.txt', '--platform', 'local'])\n",
    "with mr_job.make_runner() as runner, open(workfileInit, 'w') as f: \n",
    "    runner.run()\n",
    " \n",
    "    for line in runner.stream_output():\n",
    "        key, value =  mr_job.parse_output_line(line)\n",
    "        if key == '*total_nodes':\n",
    "            total_nodes = float(value)\n",
    "        f.write(key+'\\t'+json.dumps(value)+'\\n')\n",
    "\n",
    "#list of topic names and their sizes (number of nodes in the topic)\n",
    "topics = [['Vanilla',100], ['1',17], ['2',8], ['3',9], ['4',13], ['5',9], ['6',6], ['7',10], ['8',9], ['9',7], ['10',12]]\n",
    "\n",
    "for [topic, topic_size] in topics:\n",
    "    !cp $workfileInit $workfile\n",
    "    i = 0\n",
    "    while(i < iterations):\n",
    "        #PageRankTopicStep1 MRJob\n",
    "        mr_job = PageRankTopicStep1.MRPageRankTopicStep1(args=[workfile, '--num_converter', str(num_converter)])\n",
    "        with mr_job.make_runner() as runner, open(workfile1, 'w') as f: \n",
    "            runner.run()\n",
    "\n",
    "            for line in runner.stream_output():\n",
    "                key, value =  mr_job.parse_output_line(line)\n",
    "                f.write(key+'\\t'+json.dumps(value)+'\\n')\n",
    "        dangling_mass = runner.counters()[0]['PageRank_Counters']['Dangling_Mass']/float(num_converter)\n",
    "\n",
    "        #PageRankTopicStep2 MRJob\n",
    "        mr_job = PageRankTopicStep2.MRPageRankTopicStep2(args=[workfile1, '--file=randNet_topics.txt', \n",
    "                                                               '--damping_factor', damping_factor, '--total_nodes', \n",
    "                                                               total_nodes, '--dangling_mass', dangling_mass, \n",
    "                                                               '--beta', beta, '--topic', topic, '--topic_size', \n",
    "                                                               str(topic_size)])\n",
    "        with mr_job.make_runner() as runner, open(workfile2, 'w') as f: \n",
    "            runner.run()\n",
    "\n",
    "            for line in runner.stream_output():\n",
    "                key, value =  mr_job.parse_output_line(line)\n",
    "                f.write(key+'\\t'+json.dumps(value)+'\\n')\n",
    "\n",
    "        !mv $workfile2 $workfile\n",
    "        i += 1\n",
    "        \n",
    "    !cp $workfile $topic'.txt'\n",
    "    !sort -k1,1n $topic'.txt' > $topic'2.txt' \n",
    "    #perform the join\n",
    "    !cut -f2 $topic'2.txt' | paste randNet_topics.txt - > 'pageranktopic_'$topic'.txt'\n",
    "    #print results\n",
    "    printResults('pageranktopic_'+topic+'.txt', topic)"
   ]
  },
  {
   "cell_type": "markdown",
   "metadata": {},
   "source": [
    "### HW 9.4 Analysis"
   ]
  },
  {
   "cell_type": "markdown",
   "metadata": {},
   "source": []
  },
  {
   "cell_type": "markdown",
   "metadata": {},
   "source": [
    "# ---------  OPTIONAL QUESTIONS SECTION --------"
   ]
  },
  {
   "cell_type": "markdown",
   "metadata": {},
   "source": [
    "## HW9.5: (OPTIONAL) Applying topic-specific PageRank to Wikipedia\n",
    "\n",
    "Here you will apply your topic-specific PageRank implementation to Wikipedia, defining topics (very arbitrarily) for each page by the length (number of characters) of the name of the article mod 10, so that there are 10 topics. \n",
    "\n",
    "* Once again, print out the top ten ranking nodes and their topics for each of the 11 versions, and comment on your result. Assume a teleportation factor of 0.15 in all your analyses. Run for 10 iterations.\n",
    "* Plot the pagerank values for the top 100 pages resulting from the 5 iterations run in HW 9.3. \n",
    "* Then plot the pagerank values for the same 100 pages that result from the topic specific pagerank after 10 iterations run. \n",
    "* Comment on your findings. "
   ]
  },
  {
   "cell_type": "markdown",
   "metadata": {},
   "source": [
    "### HW 9.5 Implementation"
   ]
  },
  {
   "cell_type": "code",
   "execution_count": 5,
   "metadata": {
    "collapsed": true
   },
   "outputs": [],
   "source": [
    "# START STUDENT CODE 9.5\n",
    "# (ADD CELLS AS NEEDED)\n",
    "\n",
    "# END STUDENT CODE 9.5"
   ]
  },
  {
   "cell_type": "markdown",
   "metadata": {},
   "source": [
    "### HW 9.5 Analysis"
   ]
  },
  {
   "cell_type": "markdown",
   "metadata": {},
   "source": []
  },
  {
   "cell_type": "markdown",
   "metadata": {},
   "source": [
    "## HW9.6:  (OPTIONAL) TextRank\n",
    "\n",
    "* What is TextRank? Describe the main steps in the algorithm. Why does TextRank work?\n",
    "* Implement TextRank in MrJob for keyword phrases (not just unigrams) extraction using co-occurrence based similarity measure with with sizes of N = 2 and 3. And evaluate your code using the following example using precision, recall, and FBeta (Beta=1):\n",
    "```\n",
    "\"Compatibility of systems of linear constraints over the set of natural numbers\n",
    "Criteria of compatibility of a system of linear Diophantine equations, strict \n",
    "inequations, and nonstrict inequations are considered. Upper bounds for\n",
    "components of a minimal set of solutions and algorithms of construction of \n",
    "minimal generating sets of solutions for all types of systems are given. \n",
    "These criteria and the corresponding algorithms for constructing a minimal \n",
    "supporting set of solutions can be used in solving all the considered types of \n",
    "systems and systems of mixed types.\" \n",
    "```\n",
    "* The extracted keywords should be in the following set:\n",
    "```\n",
    "linear constraints, linear diophantine equations, natural numbers, non-strict inequations, strict inequations, upper bounds\n",
    "```"
   ]
  },
  {
   "cell_type": "markdown",
   "metadata": {},
   "source": [
    "### HW 9.6 Implementation"
   ]
  },
  {
   "cell_type": "code",
   "execution_count": 7,
   "metadata": {
    "collapsed": true
   },
   "outputs": [],
   "source": [
    "# START STUDENT CODE 9.6\n",
    "# (ADD CELLS AS NEEDED)\n",
    "\n",
    "# END STUDENT CODE 9.6"
   ]
  },
  {
   "cell_type": "markdown",
   "metadata": {},
   "source": [
    "### HW 9.6 Analysis"
   ]
  },
  {
   "cell_type": "markdown",
   "metadata": {},
   "source": []
  },
  {
   "cell_type": "markdown",
   "metadata": {},
   "source": [
    "<center><div class='jumbotron'>-------  END OF HWK 9 --------</div></center>"
   ]
  }
 ],
 "metadata": {
  "anaconda-cloud": {},
  "kernelspec": {
   "display_name": "Python 2",
   "language": "python",
   "name": "python2"
  },
  "language_info": {
   "codemirror_mode": {
    "name": "ipython",
    "version": 2
   },
   "file_extension": ".py",
   "mimetype": "text/x-python",
   "name": "python",
   "nbconvert_exporter": "python",
   "pygments_lexer": "ipython2",
   "version": "2.7.13"
  },
  "toc": {
   "colors": {
    "hover_highlight": "#DAA520",
    "running_highlight": "#FF0000",
    "selected_highlight": "#FFD700"
   },
   "moveMenuLeft": true,
   "nav_menu": {
    "height": "512px",
    "width": "252px"
   },
   "navigate_menu": true,
   "number_sections": true,
   "sideBar": false,
   "threshold": 4,
   "toc_cell": true,
   "toc_section_display": "block",
   "toc_window_display": true
  }
 },
 "nbformat": 4,
 "nbformat_minor": 1
}
